{
 "cells": [
  {
   "cell_type": "code",
   "execution_count": 1,
   "metadata": {
    "collapsed": true
   },
   "outputs": [],
   "source": [
    "%matplotlib inline\n",
    "from eden_wrapper import EdenWrapper"
   ]
  },
  {
   "cell_type": "code",
   "execution_count": 2,
   "metadata": {
    "collapsed": true
   },
   "outputs": [],
   "source": [
    "train = [\n",
    "    ('ce1cg', \n",
    "     'TAATGTTTGTGCTGGTTTTTGTGGCATCGGGCGAGAATAGCGCGTGGTGTGAAAGACTGTTTTTTTGATCGTTTTCACAAAAATGGAAGTCCACAGTCTTGACAG'),\n",
    "    ('ara', \n",
    "     'GACAAAAACGCGTAACAAAAGTGTCTATAATCACGGCAGAAAAGTCCACATTGATTATTTGCACGGCGTCACACTTTGCTATGCCATAGCATTTTTATCCATAAG'),\n",
    "    ('bglr1', \n",
    "     'ACAAATCCCAATAACTTAATTATTGGGATTTGTTATATATAACTTTATAAATTCCTAAAATTACACAAAGTTAATAACTGTGAGCATGGTCATATTTTTATCAAT'),\n",
    "    ('crp', \n",
    "     'CACAAAGCGAAAGCTATGCTAAAACAGTCAGGATGCTACAGTAATACATTGATGTACTGCATGTATGCAAAGGACGTCACATTACCGTGCAGTACAGTTGATAGC'),\n",
    "    ('cya', \n",
    "     'ACGGTGCTACACTTGTATGTAGCGCATCTTTCTTTACGGTCAATCAGCAAGGTGTTAAATTGATCACGTTTTAGACCATTTTTTCGTCGTGAAACTAAAAAAACC'),\n",
    "    ('deop2', \n",
    "     'AGTGAATTATTTGAACCAGATCGCATTACAGTGATGCAAACTTGTAAGTAGATTTCCTTAATTGTGATGTGTATCGAAGTGTGTTGCGGAGTAGATGTTAGAATA'),\n",
    "    ('gale', \n",
    "     'GCGCATAAAAAACGGCTAAATTCTTGTGTAAACGATTCCACTAATTTATTCCATGTCACACTTTTCGCATCTTTGTTATGCTATGGTTATTTCATACCATAAGCC'),\n",
    "    ('ilv', \n",
    "     'GCTCCGGCGGGGTTTTTTGTTATCTGCAATTCAGTACAAAACGTGATCAACCCCTCAATTTTCCCTTTGCTGAAAAATTTTCCATTGTCTCCCCTGTAAAGCTGT'),\n",
    "    ('lac', \n",
    "     'AACGCAATTAATGTGAGTTAGCTCACTCATTAGGCACCCCAGGCTTTACACTTTATGCTTCCGGCTCGTATGTTGTGTGGAATTGTGAGCGGATAACAATTTCAC'),\n",
    "    ('male', \n",
    "     'ACATTACCGCCAATTCTGTAACAGAGATCACACAAAGCGACGGTGGGGCGTAGGGGCAAGGAGGATGGAAAGAGGTTGCCGTATAAAGAAACTAGAGTCCGTTTA'),\n",
    "    ('malk', \n",
    "     'GGAGGAGGCGGGAGGATGAGAACACGGCTTCTGTGAACTAAACCGAGGTCATGTAAGGAATTTCGTGATGTTGCTTGCAAAAATCGTGGCGATTTTATGTGCGCA'),\n",
    "    ('malt', \n",
    "     'GATCAGCGTCGTTTTAGGTGAGTTGTTAATAAAGATTTGGAATTGTGACACAGTGCAAATTCAGACACATAAAAAAACGTCATCGCTTGCATTAGAAAGGTTTCT'),\n",
    "    ('ompa', \n",
    "     'GCTGACAAAAAAGATTAAACATACCTTATACAAGACTTTTTTTTCATATGCCTGACGGAGTTCACACTTGTAAGTTTTCAACTACGTTGTAGACTTTACATCGCC'),\n",
    "    ('tnaa', \n",
    "     'TTTTTTAAACATTAAAATTCTTACGTAATTTATAATCTTTAAAAAAAGCATTTAATATTGCTCCCCGAACGATTGTGATTCGATTCACATTTAAACAATTTCAGA'),\n",
    "    ('uxu1', \n",
    "     'CCCATGAGAGTGAAATTGTTGTGATGTGGTTAACCCAATTAGAATTCGGGATTGACATGTCTTACCAAAAGGTAGAACTTATACGCCATCTCATCCGATGCAAGC'),\n",
    "    ('pbr322', \n",
    "     'CTGGCTTAACTATGCGGCATCAGAGCAGATTGTACTGAGAGTGCACCATATGCGGTGTGAAATACCGCACAGATGCGTAAGGAGAAAATACCGCATCAGGCGCTC'),\n",
    "    ('trn9cat', \n",
    "     'CTGTGACGGAAGATCACTTCGCAGAATAAATAAATCCTGGTGTCCCTGTTGATACCGGGAAGCCCTGGGCCAACTTTTGGCGAAAATGAGACGTTGATCGGCACG'),\n",
    "    ('tdc', \n",
    "     'GATTTTTATACTTTAACTTGTTGATATTTAAAGGTATTTAATTGTAATAACGATACTCTGGAAAGTATTGAAAGTTAATTTGTGAGTGGTCGCACATATCCTGTT'),\n",
    "    ]\n",
    "\n",
    "# test data consists of first 9 sequences of training data\n",
    "test = train[:9]"
   ]
  },
  {
   "cell_type": "code",
   "execution_count": 4,
   "metadata": {
    "collapsed": false
   },
   "outputs": [],
   "source": [
    "from sklearn.cluster import KMeans\n",
    "km = KMeans(n_clusters=3)\n",
    "\n",
    "ew = EdenWrapper(alphabet='dna',\n",
    "                # distance=10, \n",
    "                # radius=5, \n",
    "                clustering_algorithm=km,\n",
    "                threshold=0,\n",
    "                wl_resolution = 200)\n",
    "ew.fit(seqs=train)"
   ]
  },
  {
   "cell_type": "code",
   "execution_count": 4,
   "metadata": {
    "collapsed": false
   },
   "outputs": [
    {
     "name": "stdout",
     "output_type": "stream",
     "text": [
      "(1, 'TGCGGTGTGA')\n",
      "(1, 'CGTGATGTT')\n",
      "(1, 'TGTTGTGTG')\n",
      "\n",
      "(1, 'CACACAAAGC')\n",
      "(1, 'GCATAAAAAA')\n",
      "(1, 'AAAGAGGTTG')\n",
      "\n",
      "(1, 'TTTACACTTT')\n",
      "(1, 'TCACACTTTT')\n",
      "\n"
     ]
    }
   ],
   "source": [
    "for i in ew.original_motives_list:\n",
    "    for j in i:\n",
    "        print j\n",
    "    print"
   ]
  },
  {
   "cell_type": "code",
   "execution_count": 5,
   "metadata": {
    "collapsed": false
   },
   "outputs": [
    {
     "name": "stdout",
     "output_type": "stream",
     "text": [
      "[-230.25850929940458, -230.25850929940458, -230.25850929940458, -230.25850929940458, -230.25850929940458, -230.25850929940458, -230.25850929940458, -230.25850929940458, -230.25850929940458, -230.25850929940458, -230.25850929940458, -230.25850929940458, -230.25850929940458, -230.25850929940458, -230.25850929940458, -230.25850929940458, -230.25850929940458, -230.25850929940458, -230.25850929940458, -230.25850929940458, -230.25850929940458, -230.25850929940458, -230.25850929940458, -230.25850929940458, -230.25850929940458, -230.25850929940458, -230.25850929940458, -230.25850929940458, -230.25850929940458, -230.25850929940458, -230.25850929940458, -230.25850929940458, 0, 0, 0, 0, 0, 0, 0, 0]\n"
     ]
    }
   ],
   "source": [
    "print ew.score_mm(motif_num=1, seq='CACACAAAGC' * 4, zero_padding=True)"
   ]
  },
  {
   "cell_type": "code",
   "execution_count": 6,
   "metadata": {
    "collapsed": false
   },
   "outputs": [
    {
     "name": "stdout",
     "output_type": "stream",
     "text": [
      "(1, 'TGCGGTGTGA')\n",
      "(1, 'CGTGATGTT-')\n",
      "(1, 'TGTTGTGTG-')\n",
      "\n",
      "(1, '-CACACAAAGC---')\n",
      "(1, 'GCATAAAAAA----')\n",
      "(1, '----AAAGAGGTTG')\n",
      "\n",
      "(1, 'TTTACACTTT-')\n",
      "(1, '-TCACACTTTT')\n",
      "\n"
     ]
    }
   ],
   "source": [
    "for i in ew.aligned_motives_list:\n",
    "    for j in i:\n",
    "        print j\n",
    "    print "
   ]
  },
  {
   "cell_type": "code",
   "execution_count": 7,
   "metadata": {
    "collapsed": false
   },
   "outputs": [
    {
     "name": "stdout",
     "output_type": "stream",
     "text": [
      "(1, 'TGCGGTGTG')\n",
      "(1, 'CGTGATGTT')\n",
      "(1, 'TGTTGTGTG')\n",
      "\n",
      "(1, 'CACACAAAGC')\n",
      "(1, 'CATAAAAAAG')\n",
      "(1, 'C-TAAAGAGG')\n",
      "\n",
      "(1, 'TTACACTTT')\n",
      "(1, 'TCACACTTT')\n",
      "\n"
     ]
    }
   ],
   "source": [
    "for i in ew.motives_list:\n",
    "    for j in i:\n",
    "        print j\n",
    "    print"
   ]
  },
  {
   "cell_type": "code",
   "execution_count": 8,
   "metadata": {
    "collapsed": false
   },
   "outputs": [
    {
     "name": "stdout",
     "output_type": "stream",
     "text": [
      "[0]\n",
      "[]\n",
      "[]\n",
      "[]\n",
      "[]\n",
      "[]\n",
      "[]\n",
      "[]\n",
      "[]\n"
     ]
    }
   ],
   "source": [
    "predictions = ew.predict(input_seqs=test, return_list=True)\n",
    "for p in predictions: print p"
   ]
  },
  {
   "cell_type": "code",
   "execution_count": 9,
   "metadata": {
    "collapsed": false
   },
   "outputs": [
    {
     "name": "stdout",
     "output_type": "stream",
     "text": [
      "1\n",
      "0\n",
      "0\n",
      "0\n",
      "0\n",
      "0\n",
      "0\n",
      "0\n",
      "0\n"
     ]
    }
   ],
   "source": [
    "predictions = ew.predict(input_seqs=test, return_list=False)\n",
    "for p in predictions: print p"
   ]
  },
  {
   "cell_type": "code",
   "execution_count": 10,
   "metadata": {
    "collapsed": false
   },
   "outputs": [
    {
     "name": "stdout",
     "output_type": "stream",
     "text": [
      "[[(43, 53, 0.021947873799725647)], [], []]\n",
      "[[], [], []]\n",
      "[[], [], []]\n",
      "[[], [], []]\n",
      "[[], [], []]\n",
      "[[], [], []]\n",
      "[[], [], []]\n",
      "[[], [], []]\n",
      "[[], [], []]\n"
     ]
    }
   ],
   "source": [
    "match = ew.transform(input_seqs=test, return_match=True)\n",
    "for m in match: print m"
   ]
  },
  {
   "cell_type": "code",
   "execution_count": 11,
   "metadata": {
    "collapsed": false
   },
   "outputs": [
    {
     "name": "stdout",
     "output_type": "stream",
     "text": [
      "[1, 0, 0]\n",
      "[0, 0, 0]\n",
      "[0, 0, 0]\n",
      "[0, 0, 0]\n",
      "[0, 0, 0]\n",
      "[0, 0, 0]\n",
      "[0, 0, 0]\n",
      "[0, 0, 0]\n",
      "[0, 0, 0]\n"
     ]
    }
   ],
   "source": [
    "match = ew.transform(input_seqs=test, return_match=False)\n",
    "for m in match: print m"
   ]
  },
  {
   "cell_type": "code",
   "execution_count": 12,
   "metadata": {
    "collapsed": false
   },
   "outputs": [
    {
     "name": "stdout",
     "output_type": "stream",
     "text": [
      "1\n",
      "1\n",
      "0\n",
      "0\n",
      "0\n",
      "0\n",
      "2\n",
      "0\n",
      "0\n",
      "1\n",
      "0\n",
      "0\n",
      "0\n",
      "0\n",
      "0\n",
      "1\n",
      "0\n",
      "0\n"
     ]
    }
   ],
   "source": [
    "ew2= EdenWrapper(alphabet='dna',\n",
    "                   # distance=10, \n",
    "                   # radius=5, \n",
    "                   clustering_algorithm=km)\n",
    "predictions = ew2.fit_predict(seqs=train)\n",
    "for p in predictions: print p"
   ]
  },
  {
   "cell_type": "code",
   "execution_count": 13,
   "metadata": {
    "collapsed": false
   },
   "outputs": [
    {
     "name": "stdout",
     "output_type": "stream",
     "text": [
      "[0, 0, 0]\n",
      "[0, 0, 0]\n",
      "[0, 0, 0]\n",
      "[0, 0, 1]\n",
      "[0, 0, 0]\n",
      "[0, 1, 0]\n",
      "[0, 0, 1]\n",
      "[0, 0, 0]\n",
      "[0, 0, 0]\n",
      "[0, 0, 1]\n",
      "[0, 0, 0]\n",
      "[0, 0, 0]\n",
      "[1, 0, 0]\n",
      "[0, 0, 0]\n",
      "[0, 0, 0]\n",
      "[0, 0, 0]\n",
      "[0, 0, 0]\n",
      "[0, 0, 0]\n"
     ]
    }
   ],
   "source": [
    "matches = ew2.fit_transform(seqs=train)\n",
    "for m in matches: print m"
   ]
  },
  {
   "cell_type": "code",
   "execution_count": 14,
   "metadata": {
    "collapsed": false
   },
   "outputs": [
    {
     "name": "stdout",
     "output_type": "stream",
     "text": [
      "(1, 'TGCGGTGTG')\n",
      "(1, 'CGTGATGTT')\n",
      "(1, 'TGTTGTGTG')\n",
      "\n",
      "(1, 'CACACAAAGC')\n",
      "(1, 'CATAAAAAAG')\n",
      "(1, 'C-TAAAGAGG')\n",
      "\n",
      "(1, 'TTACACTTT')\n",
      "(1, 'TCACACTTT')\n",
      "\n"
     ]
    }
   ],
   "source": [
    "#printing motives as lists\n",
    "for motif in ew.motives_list:\n",
    "    for m in motif:\n",
    "        print m\n",
    "    print"
   ]
  },
  {
   "cell_type": "code",
   "execution_count": 15,
   "metadata": {
    "collapsed": false
   },
   "outputs": [
    {
     "data": {
      "image/png": "[encoded data removed]",
      "text/plain": [
       "<IPython.core.display.Image object>"
      ]
     },
     "metadata": {},
     "output_type": "display_data"
    },
    {
     "data": {
      "image/png": "[encoded data removed]",
      "text/plain": [
       "<IPython.core.display.Image object>"
      ]
     },
     "metadata": {},
     "output_type": "display_data"
    },
    {
     "data": {
      "image/png": "[encoded data removed]",
      "text/plain": [
       "<IPython.core.display.Image object>"
      ]
     },
     "metadata": {},
     "output_type": "display_data"
    }
   ],
   "source": [
    "ew.display_logo(do_alignment=False)"
   ]
  },
  {
   "cell_type": "code",
   "execution_count": 16,
   "metadata": {
    "collapsed": false
   },
   "outputs": [
    {
     "data": {
      "image/png": "[encoded data removed]",
      "text/plain": [
       "<IPython.core.display.Image object>"
      ]
     },
     "metadata": {},
     "output_type": "display_data"
    }
   ],
   "source": [
    "ew.display_logo(motif_num=1)"
   ]
  },
  {
   "cell_type": "code",
   "execution_count": 17,
   "metadata": {
    "collapsed": false
   },
   "outputs": [
    {
     "name": "stdout",
     "output_type": "stream",
     "text": [
      "(1, 'TGCGGTGTG')\n",
      "(1, 'CGTGATGTT')\n",
      "(1, 'TGTTGTGTG')\n",
      "\n",
      "(1, 'CACACAAAGC')\n",
      "(1, 'CATAAAAAAG')\n",
      "(1, 'C-TAAAGAGG')\n",
      "\n",
      "(1, 'TTACACTTT')\n",
      "(1, 'TCACACTTT')\n",
      "\n"
     ]
    }
   ],
   "source": [
    "ew.align_motives()    #MSA with Muscle\n",
    "motives1=ew.aligned_motives_list\n",
    "for m in motives1:\n",
    "    for i in m:\n",
    "        print i\n",
    "    print"
   ]
  },
  {
   "cell_type": "code",
   "execution_count": 18,
   "metadata": {
    "collapsed": true
   },
   "outputs": [],
   "source": [
    "from utilities import MotifWrapper\n",
    "pwm1 = MotifWrapper(alphabet='dna', pseudocounts=0)\n",
    "\n",
    "motives=ew.motives_list\n",
    "pwm1.fit(motives)"
   ]
  },
  {
   "cell_type": "code",
   "execution_count": 19,
   "metadata": {
    "collapsed": false
   },
   "outputs": [
    {
     "name": "stdout",
     "output_type": "stream",
     "text": [
      "        0      1      2      3      4      5      6      7      8      9\n",
      "-:   0.00   0.00   0.00   0.00   0.00   0.00   0.00   0.00   0.00   0.67\n",
      "A:   0.00   0.00   0.00   0.00   0.33   0.00   0.00   0.00   0.00   0.33\n",
      "C:   0.33   0.00   0.33   0.00   0.00   0.00   0.00   0.00   0.00   0.00\n",
      "G:   0.00   1.00   0.00   0.67   0.67   0.00   1.00   0.00   0.67   0.00\n",
      "T:   0.67   0.00   0.67   0.33   0.00   1.00   0.00   1.00   0.33   0.00\n",
      "\n",
      "        0      1      2      3      4      5      6      7      8      9     10     11     12     13\n",
      "-:   0.67   0.33   0.33   0.33   0.00   0.00   0.00   0.00   0.00   0.00   0.33   0.67   0.67   0.67\n",
      "A:   0.00   0.00   0.67   0.00   1.00   0.67   1.00   0.67   1.00   0.33   0.00   0.00   0.00   0.00\n",
      "C:   0.00   0.67   0.00   0.33   0.00   0.33   0.00   0.00   0.00   0.00   0.33   0.00   0.00   0.00\n",
      "G:   0.33   0.00   0.00   0.00   0.00   0.00   0.00   0.33   0.00   0.67   0.33   0.00   0.00   0.33\n",
      "T:   0.00   0.00   0.00   0.33   0.00   0.00   0.00   0.00   0.00   0.00   0.00   0.33   0.33   0.00\n",
      "\n",
      "        0      1      2      3      4      5      6      7      8      9     10\n",
      "-:   0.50   0.00   0.00   0.00   0.00   0.00   0.00   0.00   0.00   0.00   0.50\n",
      "A:   0.00   0.00   0.00   1.00   0.00   1.00   0.00   0.00   0.00   0.00   0.00\n",
      "C:   0.00   0.00   0.50   0.00   1.00   0.00   1.00   0.00   0.00   0.00   0.00\n",
      "G:   0.00   0.00   0.00   0.00   0.00   0.00   0.00   0.00   0.00   0.00   0.00\n",
      "T:   0.50   1.00   0.50   0.00   0.00   0.00   0.00   1.00   1.00   1.00   0.50\n",
      "\n"
     ]
    }
   ],
   "source": [
    "ew.display()"
   ]
  },
  {
   "cell_type": "code",
   "execution_count": 20,
   "metadata": {
    "collapsed": false
   },
   "outputs": [
    {
     "name": "stdout",
     "output_type": "stream",
     "text": [
      "        0      1      2      3      4      5      6      7      8      9     10\n",
      "-:   0.50   0.00   0.00   0.00   0.00   0.00   0.00   0.00   0.00   0.00   0.50\n",
      "A:   0.00   0.00   0.00   1.00   0.00   1.00   0.00   0.00   0.00   0.00   0.00\n",
      "C:   0.00   0.00   0.50   0.00   1.00   0.00   1.00   0.00   0.00   0.00   0.00\n",
      "G:   0.00   0.00   0.00   0.00   0.00   0.00   0.00   0.00   0.00   0.00   0.00\n",
      "T:   0.50   1.00   0.50   0.00   0.00   0.00   0.00   1.00   1.00   1.00   0.50\n",
      "\n"
     ]
    }
   ],
   "source": [
    "ew.display(motif_num=3)"
   ]
  },
  {
   "cell_type": "code",
   "execution_count": 22,
   "metadata": {
    "collapsed": false
   },
   "outputs": [
    {
     "name": "stdout",
     "output_type": "stream",
     "text": [
      "[0.0, 0.0, 0.0, 0.0, 0.0, 0.0, 0.0, 0.0, 0.0, 0.0, 0.0, 0.0, 0.0, 0.0, 0.0, 0.0, 0.0, 0.0, 0.0, 0.0, 0.0, 0.0, 0.0, 0.0, 0.0, 0.0, 0.0, 0.0, 0.0, 0.0, 0.0, 0.0, 0.0, 0.0, 0.0, 0.0, 0.0, 0.0, 0.0, 0.0, 0.0, 0.0, 0.0, 0.0, 0.0, 0.0, 0.0, 0.0, 0.0, 0.0, 0.0, 0.0, 0.0, 0.0, 0.0, 0.0, 0.0, 0.0, 0.0, 0.0, 0.0, 0.0, 0.0, 0.0, 0.0, 0.0, 0.0, 0.0, 0.0, 0.0, 0.0, 0.0, 0.0, 0.0, 0.0, 0.0, 0.0, 0.0, 0.0, 0.0, 0.0, 0.0, 0.0, 0.0, 0.0, 0.0, 0.0, 0.0, 0.0, 0.0, 0.0, 0.0, 0.0, 0.0, 0.0, 0.0, 0.0, 0.0, 0.0, 0.0, 0.0, 0.0, 0.0, 0.0, 0.0, 0.0, 0.0, 0, 0, 0, 0, 0, 0, 0, 0, 0, 0, 0, 0, 0]\n"
     ]
    }
   ],
   "source": [
    "# Score a test sequence using probability score\n",
    "test_seq = 'AAAAAAAAAAAA' * 10\n",
    "seq_score = ew.score_pwm(motif_num=2, seq=test_seq)\n",
    "print seq_score"
   ]
  },
  {
   "cell_type": "code",
   "execution_count": 23,
   "metadata": {
    "collapsed": false
   },
   "outputs": [
    {
     "name": "stdout",
     "output_type": "stream",
     "text": [
      "Motif instances used for scoring:\n",
      "TGCGGTGTGA\n",
      "CGTGATGTT\n",
      "TGTTGTGTG\n",
      "\n",
      "Score:\n",
      "[-230.25850929940458, -230.25850929940458, -230.25850929940458, -230.25850929940458, -230.25850929940458, -230.25850929940458, -230.25850929940458, -230.25850929940458, -230.25850929940458, -230.25850929940458, -230.25850929940458, -230.25850929940458, -230.25850929940458, -230.25850929940458, -230.25850929940458, -230.25850929940458, -230.25850929940458, -230.25850929940458, -230.25850929940458, -230.25850929940458, -230.25850929940458, -230.25850929940458, -230.25850929940458, -230.25850929940458, -230.25850929940458, -230.25850929940458, -230.25850929940458, -230.25850929940458, -230.25850929940458, -230.25850929940458, -230.25850929940458, -230.25850929940458, -230.25850929940458, -230.25850929940458, -230.25850929940458, -230.25850929940458, -230.25850929940458, -230.25850929940458, -230.25850929940458, -230.25850929940458, -230.25850929940458, -230.25850929940458, -230.25850929940458, -230.25850929940458, -230.25850929940458, -230.25850929940458, -230.25850929940458, -230.25850929940458, -230.25850929940458, -230.25850929940458, -230.25850929940458, -230.25850929940458, -230.25850929940458, -230.25850929940458, -230.25850929940458, -230.25850929940458, -230.25850929940458, -230.25850929940458, -230.25850929940458, -230.25850929940458, -230.25850929940458, -230.25850929940458, -230.25850929940458, -230.25850929940458, -230.25850929940458, -230.25850929940458, -230.25850929940458, -230.25850929940458, -230.25850929940458, -230.25850929940458, -230.25850929940458, -230.25850929940458, -230.25850929940458, -230.25850929940458, -230.25850929940458, -230.25850929940458, -230.25850929940458, -230.25850929940458, -230.25850929940458, -230.25850929940458, -230.25850929940458, -230.25850929940458, -230.25850929940458, -230.25850929940458, -230.25850929940458, -230.25850929940458, -230.25850929940458, -230.25850929940458, -230.25850929940458, -230.25850929940458, -230.25850929940458, -230.25850929940458, -230.25850929940458, -230.25850929940458, -230.25850929940458, -230.25850929940458, -230.25850929940458, -230.25850929940458, -230.25850929940458, -230.25850929940458, -230.25850929940458, -230.25850929940458, -230.25850929940458, -230.25850929940458, -230.25850929940458, -230.25850929940458, -230.25850929940458, -230.25850929940458, -230.25850929940458, -230.25850929940458, -230.25850929940458, -230.25850929940458, 0, 0, 0, 0, 0, 0, 0, 0]\n",
      "CPU times: user 300 ms, sys: 32 ms, total: 332 ms\n",
      "Wall time: 314 ms\n"
     ]
    }
   ],
   "source": [
    "%%time\n",
    "# Score a test sequence using Hidden Markov Model score\n",
    "mm_score = ew.score_mm(motif_num=1, seq=test_seq)\n",
    "print 'Motif instances used for scoring:'\n",
    "for m in ew.original_motives_list[0]:\n",
    "    print m[1]\n",
    "print\n",
    "print 'Score:'\n",
    "print mm_score"
   ]
  },
  {
   "cell_type": "code",
   "execution_count": 4,
   "metadata": {
    "collapsed": true
   },
   "outputs": [],
   "source": [
    "from eden.motif import SequenceMotif"
   ]
  },
  {
   "cell_type": "code",
   "execution_count": 5,
   "metadata": {
    "collapsed": false
   },
   "outputs": [
    {
     "name": "stdout",
     "output_type": "stream",
     "text": [
      "Help on class SequenceMotif in module eden.motif:\n",
      "\n",
      "class SequenceMotif(__builtin__.object)\n",
      " |  Methods defined here:\n",
      " |  \n",
      " |  __init__(self, min_subarray_size=7, max_subarray_size=10, min_motif_count=1, min_cluster_size=1, training_size=None, negative_ratio=2, shuffle_order=2, n_iter_search=1, complexity=4, nbits=20, clustering_algorithm=None, n_jobs=4, n_blocks=8, block_size=None, pre_processor_n_jobs=4, pre_processor_n_blocks=8, pre_processor_block_size=None, random_state=1)\n",
      " |  \n",
      " |  fit(self, seqs, neg_seqs=None)\n",
      " |      Builds a discriminative estimator.\n",
      " |      Identifies the maximal subarrays in the data.\n",
      " |      Clusters them with the clustering algorithm provided in the initialization phase.\n",
      " |      For each cluster builds a fast sequence search model (Aho Corasick data structure).\n",
      " |  \n",
      " |  fit_predict(self, seqs, return_list=False)\n",
      " |  \n",
      " |  fit_transform(self, seqs, return_match=False)\n",
      " |  \n",
      " |  info(self)\n",
      " |  \n",
      " |  load(self, obj)\n",
      " |  \n",
      " |  predict(self, seqs, return_list=False)\n",
      " |      Returns for each instance a list with the cluster ids that have a hit\n",
      " |      if  return_list=False then just return 1 if there is at least one hit from one cluster.\n",
      " |  \n",
      " |  save(self, model_name)\n",
      " |  \n",
      " |  transform(self, seqs, return_match=False)\n",
      " |      Transform an instance to a dense vector with features as cluster ID and entries 0/1 if a motif is found,\n",
      " |      if 'return_match' argument is True, then write a pair with (start position,end position)  in the entry\n",
      " |      instead of 0/1\n",
      " |  \n",
      " |  ----------------------------------------------------------------------\n",
      " |  Data descriptors defined here:\n",
      " |  \n",
      " |  __dict__\n",
      " |      dictionary for instance variables (if defined)\n",
      " |  \n",
      " |  __weakref__\n",
      " |      list of weak references to the object (if defined)\n",
      "\n"
     ]
    }
   ],
   "source": [
    "help (SequenceMotif)"
   ]
  },
  {
   "cell_type": "code",
   "execution_count": null,
   "metadata": {
    "collapsed": true
   },
   "outputs": [],
   "source": []
  }
 ],
 "metadata": {
  "kernelspec": {
   "display_name": "Python 2",
   "language": "python",
   "name": "python2"
  },
  "language_info": {
   "codemirror_mode": {
    "name": "ipython",
    "version": 2
   },
   "file_extension": ".py",
   "mimetype": "text/x-python",
   "name": "python",
   "nbconvert_exporter": "python",
   "pygments_lexer": "ipython2",
   "version": "2.7.11"
  }
 },
 "nbformat": 4,
 "nbformat_minor": 0
}
