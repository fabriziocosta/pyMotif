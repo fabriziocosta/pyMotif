{
 "cells": [
  {
   "cell_type": "code",
   "execution_count": 1,
   "metadata": {
    "collapsed": true
   },
   "outputs": [],
   "source": [
    "%matplotlib inline\n",
    "from eden_wrapper import EdenWrapper"
   ]
  },
  {
   "cell_type": "code",
   "execution_count": 2,
   "metadata": {
    "collapsed": true
   },
   "outputs": [],
   "source": [
    "train = [\n",
    "    ('ce1cg', \n",
    "     'TAATGTTTGTGCTGGTTTTTGTGGCATCGGGCGAGAATAGCGCGTGGTGTGAAAGACTGTTTTTTTGATCGTTTTCACAAAAATGGAAGTCCACAGTCTTGACAG'),\n",
    "    ('ara', \n",
    "     'GACAAAAACGCGTAACAAAAGTGTCTATAATCACGGCAGAAAAGTCCACATTGATTATTTGCACGGCGTCACACTTTGCTATGCCATAGCATTTTTATCCATAAG'),\n",
    "    ('bglr1', \n",
    "     'ACAAATCCCAATAACTTAATTATTGGGATTTGTTATATATAACTTTATAAATTCCTAAAATTACACAAAGTTAATAACTGTGAGCATGGTCATATTTTTATCAAT'),\n",
    "    ('crp', \n",
    "     'CACAAAGCGAAAGCTATGCTAAAACAGTCAGGATGCTACAGTAATACATTGATGTACTGCATGTATGCAAAGGACGTCACATTACCGTGCAGTACAGTTGATAGC'),\n",
    "    ('cya', \n",
    "     'ACGGTGCTACACTTGTATGTAGCGCATCTTTCTTTACGGTCAATCAGCAAGGTGTTAAATTGATCACGTTTTAGACCATTTTTTCGTCGTGAAACTAAAAAAACC'),\n",
    "    ('deop2', \n",
    "     'AGTGAATTATTTGAACCAGATCGCATTACAGTGATGCAAACTTGTAAGTAGATTTCCTTAATTGTGATGTGTATCGAAGTGTGTTGCGGAGTAGATGTTAGAATA'),\n",
    "    ('gale', \n",
    "     'GCGCATAAAAAACGGCTAAATTCTTGTGTAAACGATTCCACTAATTTATTCCATGTCACACTTTTCGCATCTTTGTTATGCTATGGTTATTTCATACCATAAGCC'),\n",
    "    ('ilv', \n",
    "     'GCTCCGGCGGGGTTTTTTGTTATCTGCAATTCAGTACAAAACGTGATCAACCCCTCAATTTTCCCTTTGCTGAAAAATTTTCCATTGTCTCCCCTGTAAAGCTGT'),\n",
    "    ('lac', \n",
    "     'AACGCAATTAATGTGAGTTAGCTCACTCATTAGGCACCCCAGGCTTTACACTTTATGCTTCCGGCTCGTATGTTGTGTGGAATTGTGAGCGGATAACAATTTCAC'),\n",
    "    ('male', \n",
    "     'ACATTACCGCCAATTCTGTAACAGAGATCACACAAAGCGACGGTGGGGCGTAGGGGCAAGGAGGATGGAAAGAGGTTGCCGTATAAAGAAACTAGAGTCCGTTTA'),\n",
    "    ('malk', \n",
    "     'GGAGGAGGCGGGAGGATGAGAACACGGCTTCTGTGAACTAAACCGAGGTCATGTAAGGAATTTCGTGATGTTGCTTGCAAAAATCGTGGCGATTTTATGTGCGCA'),\n",
    "    ('malt', \n",
    "     'GATCAGCGTCGTTTTAGGTGAGTTGTTAATAAAGATTTGGAATTGTGACACAGTGCAAATTCAGACACATAAAAAAACGTCATCGCTTGCATTAGAAAGGTTTCT'),\n",
    "    ('ompa', \n",
    "     'GCTGACAAAAAAGATTAAACATACCTTATACAAGACTTTTTTTTCATATGCCTGACGGAGTTCACACTTGTAAGTTTTCAACTACGTTGTAGACTTTACATCGCC'),\n",
    "    ('tnaa', \n",
    "     'TTTTTTAAACATTAAAATTCTTACGTAATTTATAATCTTTAAAAAAAGCATTTAATATTGCTCCCCGAACGATTGTGATTCGATTCACATTTAAACAATTTCAGA'),\n",
    "    ('uxu1', \n",
    "     'CCCATGAGAGTGAAATTGTTGTGATGTGGTTAACCCAATTAGAATTCGGGATTGACATGTCTTACCAAAAGGTAGAACTTATACGCCATCTCATCCGATGCAAGC'),\n",
    "    ('pbr322', \n",
    "     'CTGGCTTAACTATGCGGCATCAGAGCAGATTGTACTGAGAGTGCACCATATGCGGTGTGAAATACCGCACAGATGCGTAAGGAGAAAATACCGCATCAGGCGCTC'),\n",
    "    ('trn9cat', \n",
    "     'CTGTGACGGAAGATCACTTCGCAGAATAAATAAATCCTGGTGTCCCTGTTGATACCGGGAAGCCCTGGGCCAACTTTTGGCGAAAATGAGACGTTGATCGGCACG'),\n",
    "    ('tdc', \n",
    "     'GATTTTTATACTTTAACTTGTTGATATTTAAAGGTATTTAATTGTAATAACGATACTCTGGAAAGTATTGAAAGTTAATTTGTGAGTGGTCGCACATATCCTGTT'),\n",
    "    ]\n",
    "\n",
    "# test data consists of first 9 sequences of training data\n",
    "test = train[:9]"
   ]
  },
  {
   "cell_type": "code",
   "execution_count": 3,
   "metadata": {
    "collapsed": false
   },
   "outputs": [],
   "source": [
    "from sklearn.cluster import KMeans\n",
    "km = KMeans(n_clusters=3)\n",
    "\n",
    "ew = EdenWrapper(alphabet='dna',\n",
    "                # distance=10, \n",
    "                # radius=5, \n",
    "                clustering_algorithm=km,\n",
    "                threshold=0,\n",
    "                wl_resolution = 200)\n",
    "ew.fit(seqs=train)"
   ]
  },
  {
   "cell_type": "code",
   "execution_count": 4,
   "metadata": {
    "collapsed": false
   },
   "outputs": [
    {
     "name": "stdout",
     "output_type": "stream",
     "text": [
      "(2, 'TCACACTTT')\n",
      "(1, 'TTTACACTTT')\n",
      "(1, 'TCACACTTTT')\n",
      "(1, 'TCACACAAAG')\n",
      "(1, 'ATTTCATAC')\n",
      "(1, 'TCACATTACC')\n",
      "\n",
      "(1, 'AAAAATTTT')\n",
      "(1, 'GCATTACAG')\n",
      "(1, 'AAAATTACAC')\n",
      "(1, 'GCATAAAAAA')\n",
      "\n",
      "(1, 'GTTTTTTGTT')\n",
      "(1, 'TTGTTGTGA')\n",
      "\n"
     ]
    }
   ],
   "source": [
    "for i in ew.original_motives_list:\n",
    "    for j in i:\n",
    "        print j\n",
    "    print"
   ]
  },
  {
   "cell_type": "code",
   "execution_count": 5,
   "metadata": {
    "collapsed": false
   },
   "outputs": [
    {
     "name": "stdout",
     "output_type": "stream",
     "text": [
      "[2.2191162685182994e-305, 4.7657862358462302e-306, 5.1550942899623959e-306, 4.1174189558911987e-307, 3.2253467559475329e-306, 7.1597123443042812e-306, 3.1203217681539977e-305, 3.9346173727495115e-304, 4.9861246165086568e-305, 2.3387697493792541e-06, 2.2191162685182994e-305, 4.7657862358462302e-306, 5.1550942899623959e-306, 4.1174189558911987e-307, 3.2253467559475329e-306, 7.1597123443042812e-306, 3.1203217681539977e-305, 3.9346173727495115e-304, 4.9861246165086568e-305, 2.3387697493792541e-06, 2.2191162685182994e-305, 4.7657862358462302e-306, 5.1550942899623959e-306, 4.1174189558911987e-307, 3.2253467559475329e-306, 7.1597123443042812e-306, 3.1203217681539977e-305, 3.9346173727495115e-304, 4.9861246165086568e-305, 2.3387697493792541e-06, 2.2191162685182994e-305, 0, 0, 0, 0, 0, 0, 0, 0, 0]\n"
     ]
    }
   ],
   "source": [
    "print ew.score_mm(motif_num=1, seq='CACACAAAGC' * 4, zero_padding=True)"
   ]
  },
  {
   "cell_type": "code",
   "execution_count": 6,
   "metadata": {
    "collapsed": false
   },
   "outputs": [
    {
     "name": "stdout",
     "output_type": "stream",
     "text": [
      "(2, '---TCACACTTT-')\n",
      "(1, '--TTTACACTTT-')\n",
      "(1, '---TCACACTTTT')\n",
      "(1, '---TCACACAAAG')\n",
      "(1, 'ATTTCATAC----')\n",
      "(1, '---TCACATTACC')\n",
      "\n",
      "(1, '-----AAAAATTTT--')\n",
      "(1, 'GCATTACAG-------')\n",
      "(1, '------AAAATTACAC')\n",
      "(1, 'GCATAAAAAA------')\n",
      "\n",
      "(1, 'GTTTTTTGTT-')\n",
      "(1, '--TTGTTGTGA')\n",
      "\n"
     ]
    }
   ],
   "source": [
    "for i in ew.aligned_motives_list:\n",
    "    for j in i:\n",
    "        print j\n",
    "    print "
   ]
  },
  {
   "cell_type": "code",
   "execution_count": 7,
   "metadata": {
    "collapsed": false
   },
   "outputs": [
    {
     "name": "stdout",
     "output_type": "stream",
     "text": [
      "(2, 'TCACACTTT')\n",
      "(1, 'TTACACTTT')\n",
      "(1, 'TCACACTTT')\n",
      "(1, 'TCACACAAA')\n",
      "(1, 'TCATACTT-')\n",
      "(1, 'TCACATTAC')\n",
      "\n",
      "(1, '-AAAAAA')\n",
      "(1, 'CAACAG-')\n",
      "(1, '--AAAAA')\n",
      "(1, 'CAAAAAA')\n",
      "\n",
      "(1, 'TTTTTGTT-')\n",
      "(1, 'TTGTTGTGA')\n",
      "\n"
     ]
    }
   ],
   "source": [
    "for i in ew.motives_list:\n",
    "    for j in i:\n",
    "        print j\n",
    "    print"
   ]
  },
  {
   "cell_type": "code",
   "execution_count": 8,
   "metadata": {
    "collapsed": false
   },
   "outputs": [
    {
     "name": "stdout",
     "output_type": "stream",
     "text": [
      "[]\n",
      "[]\n",
      "[]\n",
      "[]\n",
      "[]\n",
      "[]\n",
      "[]\n",
      "[2]\n",
      "[]\n"
     ]
    }
   ],
   "source": [
    "predictions = ew.predict(input_seqs=test, return_list=True)\n",
    "for p in predictions: print p"
   ]
  },
  {
   "cell_type": "code",
   "execution_count": 9,
   "metadata": {
    "collapsed": false
   },
   "outputs": [
    {
     "name": "stdout",
     "output_type": "stream",
     "text": [
      "0\n",
      "0\n",
      "0\n",
      "0\n",
      "0\n",
      "0\n",
      "0\n",
      "1\n",
      "0\n"
     ]
    }
   ],
   "source": [
    "predictions = ew.predict(input_seqs=test, return_list=False)\n",
    "for p in predictions: print p"
   ]
  },
  {
   "cell_type": "code",
   "execution_count": 10,
   "metadata": {
    "collapsed": false
   },
   "outputs": [
    {
     "name": "stdout",
     "output_type": "stream",
     "text": [
      "[[], [], []]\n",
      "[[], [], []]\n",
      "[[], [], []]\n",
      "[[], [], []]\n",
      "[[], [], []]\n",
      "[[], [], []]\n",
      "[[], [], []]\n",
      "[[], [], [(12, 23, 0.03125)]]\n",
      "[[], [], []]\n"
     ]
    }
   ],
   "source": [
    "match = ew.transform(input_seqs=test, return_match=True)\n",
    "for m in match: print m"
   ]
  },
  {
   "cell_type": "code",
   "execution_count": 11,
   "metadata": {
    "collapsed": false
   },
   "outputs": [
    {
     "name": "stdout",
     "output_type": "stream",
     "text": [
      "[0, 0, 0]\n",
      "[0, 0, 0]\n",
      "[0, 0, 0]\n",
      "[0, 0, 0]\n",
      "[0, 0, 0]\n",
      "[0, 0, 0]\n",
      "[0, 0, 0]\n",
      "[0, 0, 1]\n",
      "[0, 0, 0]\n"
     ]
    }
   ],
   "source": [
    "match = ew.transform(input_seqs=test, return_match=False)\n",
    "for m in match: print m"
   ]
  },
  {
   "cell_type": "code",
   "execution_count": 12,
   "metadata": {
    "collapsed": false
   },
   "outputs": [
    {
     "name": "stdout",
     "output_type": "stream",
     "text": [
      "0\n",
      "0\n",
      "0\n",
      "1\n",
      "0\n",
      "1\n",
      "1\n",
      "0\n",
      "0\n",
      "1\n",
      "0\n",
      "0\n",
      "0\n",
      "0\n",
      "0\n",
      "0\n",
      "0\n",
      "0\n"
     ]
    }
   ],
   "source": [
    "ew2= EdenWrapper(alphabet='dna',\n",
    "                   # distance=10, \n",
    "                   # radius=5, \n",
    "                   clustering_algorithm=km)\n",
    "predictions = ew2.fit_predict(seqs=train)\n",
    "for p in predictions: print p"
   ]
  },
  {
   "cell_type": "code",
   "execution_count": 13,
   "metadata": {
    "collapsed": false
   },
   "outputs": [
    {
     "name": "stdout",
     "output_type": "stream",
     "text": [
      "[0, 0, 0]\n",
      "[0, 0, 0]\n",
      "[0, 0, 0]\n",
      "[0, 0, 0]\n",
      "[0, 0, 0]\n",
      "[0, 0, 0]\n",
      "[1, 0, 0]\n",
      "[0, 0, 0]\n",
      "[0, 0, 0]\n",
      "[0, 0, 0]\n",
      "[0, 0, 0]\n",
      "[0, 0, 0]\n",
      "[0, 0, 0]\n",
      "[0, 0, 0]\n",
      "[0, 0, 0]\n",
      "[0, 0, 1]\n",
      "[0, 0, 0]\n",
      "[0, 0, 0]\n"
     ]
    }
   ],
   "source": [
    "matches = ew2.fit_transform(seqs=train)\n",
    "for m in matches: print m"
   ]
  },
  {
   "cell_type": "code",
   "execution_count": 14,
   "metadata": {
    "collapsed": false
   },
   "outputs": [
    {
     "name": "stdout",
     "output_type": "stream",
     "text": [
      "(2, 'TCACACTTT')\n",
      "(1, 'TTACACTTT')\n",
      "(1, 'TCACACTTT')\n",
      "(1, 'TCACACAAA')\n",
      "(1, 'TCATACTT-')\n",
      "(1, 'TCACATTAC')\n",
      "\n",
      "(1, '-AAAAAA')\n",
      "(1, 'CAACAG-')\n",
      "(1, '--AAAAA')\n",
      "(1, 'CAAAAAA')\n",
      "\n",
      "(1, 'TTTTTGTT-')\n",
      "(1, 'TTGTTGTGA')\n",
      "\n"
     ]
    }
   ],
   "source": [
    "#printing motives as lists\n",
    "for motif in ew.motives_list:\n",
    "    for m in motif:\n",
    "        print m\n",
    "    print"
   ]
  },
  {
   "cell_type": "code",
   "execution_count": 15,
   "metadata": {
    "collapsed": false
   },
   "outputs": [
    {
     "data": {
      "image/png": "[encoded data removed]",
      "text/plain": [
       "<IPython.core.display.Image object>"
      ]
     },
     "metadata": {},
     "output_type": "display_data"
    },
    {
     "data": {
      "image/png": "[encoded data removed]",
      "text/plain": [
       "<IPython.core.display.Image object>"
      ]
     },
     "metadata": {},
     "output_type": "display_data"
    },
    {
     "data": {
      "image/png": "[encoded data removed]",
      "text/plain": [
       "<IPython.core.display.Image object>"
      ]
     },
     "metadata": {},
     "output_type": "display_data"
    }
   ],
   "source": [
    "ew.display_logo(do_alignment=False)"
   ]
  },
  {
   "cell_type": "code",
   "execution_count": 16,
   "metadata": {
    "collapsed": false
   },
   "outputs": [
    {
     "data": {
      "image/png": "[encoded data removed]",
      "text/plain": [
       "<IPython.core.display.Image object>"
      ]
     },
     "metadata": {},
     "output_type": "display_data"
    }
   ],
   "source": [
    "ew.display_logo(motif_num=1)"
   ]
  },
  {
   "cell_type": "code",
   "execution_count": 17,
   "metadata": {
    "collapsed": false
   },
   "outputs": [
    {
     "name": "stdout",
     "output_type": "stream",
     "text": [
      "(2, 'TCACACTTT')\n",
      "(1, 'TTACACTTT')\n",
      "(1, 'TCACACTTT')\n",
      "(1, 'TCACACAAA')\n",
      "(1, 'TCATACTT-')\n",
      "(1, 'TCACATTAC')\n",
      "\n",
      "(1, '-AAAAAA')\n",
      "(1, '-CAACAG')\n",
      "(1, '--AAAAA')\n",
      "(1, 'CAAAAAA')\n",
      "\n",
      "(1, 'TTTTTGTT-')\n",
      "(1, 'TTGTTGTGA')\n",
      "\n"
     ]
    }
   ],
   "source": [
    "ew.align_motives()    #MSA with Muscle\n",
    "motives1=ew.aligned_motives_list\n",
    "for m in motives1:\n",
    "    for i in m:\n",
    "        print i\n",
    "    print"
   ]
  },
  {
   "cell_type": "code",
   "execution_count": 18,
   "metadata": {
    "collapsed": true
   },
   "outputs": [],
   "source": [
    "from utilities import MotifWrapper\n",
    "pwm1 = MotifWrapper(alphabet='dna', pseudocounts=0)\n",
    "\n",
    "motives=ew.motives_list\n",
    "pwm1.fit(motives)"
   ]
  },
  {
   "cell_type": "code",
   "execution_count": 19,
   "metadata": {
    "collapsed": false
   },
   "outputs": [
    {
     "name": "stdout",
     "output_type": "stream",
     "text": [
      "        0      1      2      3      4      5      6      7      8      9     10     11     12\n",
      "-:   0.83   0.83   0.67   0.00   0.00   0.00   0.00   0.00   0.00   0.17   0.17   0.17   0.50\n",
      "A:   0.17   0.00   0.00   0.00   0.00   1.00   0.00   1.00   0.00   0.17   0.33   0.17   0.00\n",
      "C:   0.00   0.00   0.00   0.00   0.83   0.00   0.83   0.00   0.83   0.00   0.00   0.17   0.17\n",
      "G:   0.00   0.00   0.00   0.00   0.00   0.00   0.00   0.00   0.00   0.00   0.00   0.00   0.17\n",
      "T:   0.00   0.17   0.33   1.00   0.17   0.00   0.17   0.00   0.17   0.67   0.50   0.50   0.17\n",
      "\n",
      "        0      1      2      3      4      5      6      7      8      9     10     11     12     13     14     15\n",
      "-:   0.50   0.50   0.50   0.50   0.50   0.25   0.00   0.00   0.00   0.25   0.50   0.50   0.50   0.50   0.75   0.75\n",
      "A:   0.00   0.00   0.50   0.00   0.25   0.75   0.75   1.00   0.75   0.75   0.00   0.00   0.25   0.00   0.25   0.00\n",
      "C:   0.00   0.50   0.00   0.00   0.00   0.00   0.25   0.00   0.00   0.00   0.00   0.00   0.00   0.25   0.00   0.25\n",
      "G:   0.50   0.00   0.00   0.00   0.00   0.00   0.00   0.00   0.25   0.00   0.00   0.00   0.00   0.00   0.00   0.00\n",
      "T:   0.00   0.00   0.00   0.50   0.25   0.00   0.00   0.00   0.00   0.00   0.50   0.50   0.25   0.25   0.00   0.00\n",
      "\n",
      "        0      1      2      3      4      5      6      7      8      9     10\n",
      "-:   0.50   0.50   0.00   0.00   0.00   0.00   0.00   0.00   0.00   0.00   0.50\n",
      "A:   0.00   0.00   0.00   0.00   0.00   0.00   0.00   0.00   0.00   0.00   0.50\n",
      "C:   0.00   0.00   0.00   0.00   0.00   0.00   0.00   0.00   0.00   0.00   0.00\n",
      "G:   0.50   0.00   0.00   0.00   0.50   0.00   0.00   1.00   0.00   0.50   0.00\n",
      "T:   0.00   0.50   1.00   1.00   0.50   1.00   1.00   0.00   1.00   0.50   0.00\n",
      "\n"
     ]
    }
   ],
   "source": [
    "ew.display()"
   ]
  },
  {
   "cell_type": "code",
   "execution_count": 20,
   "metadata": {
    "collapsed": false
   },
   "outputs": [
    {
     "name": "stdout",
     "output_type": "stream",
     "text": [
      "        0      1      2      3      4      5      6      7      8      9     10\n",
      "-:   0.50   0.50   0.00   0.00   0.00   0.00   0.00   0.00   0.00   0.00   0.50\n",
      "A:   0.00   0.00   0.00   0.00   0.00   0.00   0.00   0.00   0.00   0.00   0.50\n",
      "C:   0.00   0.00   0.00   0.00   0.00   0.00   0.00   0.00   0.00   0.00   0.00\n",
      "G:   0.50   0.00   0.00   0.00   0.50   0.00   0.00   1.00   0.00   0.50   0.00\n",
      "T:   0.00   0.50   1.00   1.00   0.50   1.00   1.00   0.00   1.00   0.50   0.00\n",
      "\n"
     ]
    }
   ],
   "source": [
    "ew.display(motif_num=3)"
   ]
  },
  {
   "cell_type": "code",
   "execution_count": 21,
   "metadata": {
    "collapsed": false
   },
   "outputs": [
    {
     "name": "stdout",
     "output_type": "stream",
     "text": [
      "[0.0, 0.0, 0.0, 0.0, 0.0, 0.0, 0.0, 0.0, 0.0, 0.0, 0.0, 0.0, 0.0, 0.0, 0.0, 0.0, 0.0, 0.0, 0.0, 0.0, 0.0, 0.0, 0.0, 0.0, 0.0, 0.0, 0.0, 0.0, 0.0, 0.0, 0.0, 0.0, 0.0, 0.0, 0.0, 0.0, 0.0, 0.0, 0.0, 0.0, 0.0, 0.0, 0.0, 0.0, 0.0, 0.0, 0.0, 0.0, 0.0, 0.0, 0.0, 0.0, 0.0, 0.0, 0.0, 0.0, 0.0, 0.0, 0.0, 0.0, 0.0, 0.0, 0.0, 0.0, 0.0, 0.0, 0.0, 0.0, 0.0, 0.0, 0.0, 0.0, 0.0, 0.0, 0.0, 0.0, 0.0, 0.0, 0.0, 0.0, 0.0, 0.0, 0.0, 0.0, 0.0, 0.0, 0.0, 0.0, 0.0, 0.0, 0.0, 0.0, 0.0, 0.0, 0.0, 0.0, 0.0, 0.0, 0.0, 0.0, 0.0, 0.0, 0.0, 0.0, 0.0]\n"
     ]
    }
   ],
   "source": [
    "# Score a test sequence using probability score\n",
    "test_seq = 'AAAAAAAAAAAA' * 10\n",
    "seq_score = ew.score(motif_num=2, seq=test_seq)\n",
    "print seq_score"
   ]
  },
  {
   "cell_type": "code",
   "execution_count": 23,
   "metadata": {
    "collapsed": false
   },
   "outputs": [
    {
     "name": "stdout",
     "output_type": "stream",
     "text": [
      "Motif instances used for scoring:\n",
      "TCACACTTT\n",
      "TTTACACTTT\n",
      "TCACACTTTT\n",
      "TCACACAAAG\n",
      "ATTTCATAC\n",
      "TCACATTACC\n",
      "\n",
      "Score:\n",
      "[1.8241570833838304e-220, 1.8241570833838304e-220, 1.8241570833838304e-220, 1.8241570833838304e-220, 1.8241570833838304e-220, 1.8241570833838304e-220, 1.8241570833838304e-220, 1.8241570833838304e-220, 1.8241570833838304e-220, 1.8241570833838304e-220, 1.8241570833838304e-220, 1.8241570833838304e-220, 1.8241570833838304e-220, 1.8241570833838304e-220, 1.8241570833838304e-220, 1.8241570833838304e-220, 1.8241570833838304e-220, 1.8241570833838304e-220, 1.8241570833838304e-220, 1.8241570833838304e-220, 1.8241570833838304e-220, 1.8241570833838304e-220, 1.8241570833838304e-220, 1.8241570833838304e-220, 1.8241570833838304e-220, 1.8241570833838304e-220, 1.8241570833838304e-220, 1.8241570833838304e-220, 1.8241570833838304e-220, 1.8241570833838304e-220, 1.8241570833838304e-220, 1.8241570833838304e-220, 1.8241570833838304e-220, 1.8241570833838304e-220, 1.8241570833838304e-220, 1.8241570833838304e-220, 1.8241570833838304e-220, 1.8241570833838304e-220, 1.8241570833838304e-220, 1.8241570833838304e-220, 1.8241570833838304e-220, 1.8241570833838304e-220, 1.8241570833838304e-220, 1.8241570833838304e-220, 1.8241570833838304e-220, 1.8241570833838304e-220, 1.8241570833838304e-220, 1.8241570833838304e-220, 1.8241570833838304e-220, 1.8241570833838304e-220, 1.8241570833838304e-220, 1.8241570833838304e-220, 1.8241570833838304e-220, 1.8241570833838304e-220, 1.8241570833838304e-220, 1.8241570833838304e-220, 1.8241570833838304e-220, 1.8241570833838304e-220, 1.8241570833838304e-220, 1.8241570833838304e-220, 1.8241570833838304e-220, 1.8241570833838304e-220, 1.8241570833838304e-220, 1.8241570833838304e-220, 1.8241570833838304e-220, 1.8241570833838304e-220, 1.8241570833838304e-220, 1.8241570833838304e-220, 1.8241570833838304e-220, 1.8241570833838304e-220, 1.8241570833838304e-220, 1.8241570833838304e-220, 1.8241570833838304e-220, 1.8241570833838304e-220, 1.8241570833838304e-220, 1.8241570833838304e-220, 1.8241570833838304e-220, 1.8241570833838304e-220, 1.8241570833838304e-220, 1.8241570833838304e-220, 1.8241570833838304e-220, 1.8241570833838304e-220, 1.8241570833838304e-220, 1.8241570833838304e-220, 1.8241570833838304e-220, 1.8241570833838304e-220, 1.8241570833838304e-220, 1.8241570833838304e-220, 1.8241570833838304e-220, 1.8241570833838304e-220, 1.8241570833838304e-220, 1.8241570833838304e-220, 1.8241570833838304e-220, 1.8241570833838304e-220, 1.8241570833838304e-220, 1.8241570833838304e-220, 1.8241570833838304e-220, 1.8241570833838304e-220, 1.8241570833838304e-220, 1.8241570833838304e-220, 1.8241570833838304e-220, 1.8241570833838304e-220, 1.8241570833838304e-220, 1.8241570833838304e-220, 1.8241570833838304e-220, 1.8241570833838304e-220, 1.8241570833838304e-220, 1.8241570833838304e-220, 1.8241570833838304e-220, 1.8241570833838304e-220, 1.8241570833838304e-220]\n",
      "CPU times: user 3.66 s, sys: 224 ms, total: 3.88 s\n",
      "Wall time: 3.66 s\n"
     ]
    }
   ],
   "source": [
    "%%time\n",
    "# Score a test sequence using Hidden Markov Model score\n",
    "mm_score = ew.score_mm(motif_num=1, seq=test_seq)\n",
    "print 'Motif instances used for scoring:'\n",
    "for m in ew.original_motives_list[0]:\n",
    "    print m[1]\n",
    "print\n",
    "print 'Score:'\n",
    "print mm_score"
   ]
  },
  {
   "cell_type": "code",
   "execution_count": null,
   "metadata": {
    "collapsed": true
   },
   "outputs": [],
   "source": []
  }
 ],
 "metadata": {
  "kernelspec": {
   "display_name": "Python 2",
   "language": "python",
   "name": "python2"
  },
  "language_info": {
   "codemirror_mode": {
    "name": "ipython",
    "version": 2
   },
   "file_extension": ".py",
   "mimetype": "text/x-python",
   "name": "python",
   "nbconvert_exporter": "python",
   "pygments_lexer": "ipython2",
   "version": "2.7.11"
  }
 },
 "nbformat": 4,
 "nbformat_minor": 0
}
