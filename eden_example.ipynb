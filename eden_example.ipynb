{
 "cells": [
  {
   "cell_type": "markdown",
   "metadata": {},
   "source": [
    "<h1>Usage example for EDeN wrapper</h1>"
   ]
  },
  {
   "cell_type": "code",
   "execution_count": 12,
   "metadata": {
    "collapsed": true
   },
   "outputs": [],
   "source": [
    "%matplotlib inline\n",
    "from eden_wrapper import EdenWrapper\n",
    "from utilities import Weblogo"
   ]
  },
  {
   "cell_type": "code",
   "execution_count": 13,
   "metadata": {
    "collapsed": true
   },
   "outputs": [],
   "source": [
    "train = [\n",
    "    ('ce1cg', \n",
    "     'TAATGTTTGTGCTGGTTTTTGTGGCATCGGGCGAGAATAGCGCGTGGTGTGAAAGACTGTTTTTTTGATCGTTTTCACAAAAATGGAAGTCCACAGTCTTGACAG'),\n",
    "    ('ara', \n",
    "     'GACAAAAACGCGTAACAAAAGTGTCTATAATCACGGCAGAAAAGTCCACATTGATTATTTGCACGGCGTCACACTTTGCTATGCCATAGCATTTTTATCCATAAG'),\n",
    "    ('bglr1', \n",
    "     'ACAAATCCCAATAACTTAATTATTGGGATTTGTTATATATAACTTTATAAATTCCTAAAATTACACAAAGTTAATAACTGTGAGCATGGTCATATTTTTATCAAT'),\n",
    "    ('crp', \n",
    "     'CACAAAGCGAAAGCTATGCTAAAACAGTCAGGATGCTACAGTAATACATTGATGTACTGCATGTATGCAAAGGACGTCACATTACCGTGCAGTACAGTTGATAGC'),\n",
    "    ('cya', \n",
    "     'ACGGTGCTACACTTGTATGTAGCGCATCTTTCTTTACGGTCAATCAGCAAGGTGTTAAATTGATCACGTTTTAGACCATTTTTTCGTCGTGAAACTAAAAAAACC'),\n",
    "    ('deop2', \n",
    "     'AGTGAATTATTTGAACCAGATCGCATTACAGTGATGCAAACTTGTAAGTAGATTTCCTTAATTGTGATGTGTATCGAAGTGTGTTGCGGAGTAGATGTTAGAATA'),\n",
    "    ('gale', \n",
    "     'GCGCATAAAAAACGGCTAAATTCTTGTGTAAACGATTCCACTAATTTATTCCATGTCACACTTTTCGCATCTTTGTTATGCTATGGTTATTTCATACCATAAGCC'),\n",
    "    ('ilv', \n",
    "     'GCTCCGGCGGGGTTTTTTGTTATCTGCAATTCAGTACAAAACGTGATCAACCCCTCAATTTTCCCTTTGCTGAAAAATTTTCCATTGTCTCCCCTGTAAAGCTGT'),\n",
    "    ('lac', \n",
    "     'AACGCAATTAATGTGAGTTAGCTCACTCATTAGGCACCCCAGGCTTTACACTTTATGCTTCCGGCTCGTATGTTGTGTGGAATTGTGAGCGGATAACAATTTCAC'),\n",
    "    ('male', \n",
    "     'ACATTACCGCCAATTCTGTAACAGAGATCACACAAAGCGACGGTGGGGCGTAGGGGCAAGGAGGATGGAAAGAGGTTGCCGTATAAAGAAACTAGAGTCCGTTTA'),\n",
    "    ('malk', \n",
    "     'GGAGGAGGCGGGAGGATGAGAACACGGCTTCTGTGAACTAAACCGAGGTCATGTAAGGAATTTCGTGATGTTGCTTGCAAAAATCGTGGCGATTTTATGTGCGCA'),\n",
    "    ('malt', \n",
    "     'GATCAGCGTCGTTTTAGGTGAGTTGTTAATAAAGATTTGGAATTGTGACACAGTGCAAATTCAGACACATAAAAAAACGTCATCGCTTGCATTAGAAAGGTTTCT'),\n",
    "    ('ompa', \n",
    "     'GCTGACAAAAAAGATTAAACATACCTTATACAAGACTTTTTTTTCATATGCCTGACGGAGTTCACACTTGTAAGTTTTCAACTACGTTGTAGACTTTACATCGCC'),\n",
    "    ('tnaa', \n",
    "     'TTTTTTAAACATTAAAATTCTTACGTAATTTATAATCTTTAAAAAAAGCATTTAATATTGCTCCCCGAACGATTGTGATTCGATTCACATTTAAACAATTTCAGA'),\n",
    "    ('uxu1', \n",
    "     'CCCATGAGAGTGAAATTGTTGTGATGTGGTTAACCCAATTAGAATTCGGGATTGACATGTCTTACCAAAAGGTAGAACTTATACGCCATCTCATCCGATGCAAGC'),\n",
    "    ('pbr322', \n",
    "     'CTGGCTTAACTATGCGGCATCAGAGCAGATTGTACTGAGAGTGCACCATATGCGGTGTGAAATACCGCACAGATGCGTAAGGAGAAAATACCGCATCAGGCGCTC'),\n",
    "    ('trn9cat', \n",
    "     'CTGTGACGGAAGATCACTTCGCAGAATAAATAAATCCTGGTGTCCCTGTTGATACCGGGAAGCCCTGGGCCAACTTTTGGCGAAAATGAGACGTTGATCGGCACG'),\n",
    "    ('tdc', \n",
    "     'GATTTTTATACTTTAACTTGTTGATATTTAAAGGTATTTAATTGTAATAACGATACTCTGGAAAGTATTGAAAGTTAATTTGTGAGTGGTCGCACATATCCTGTT'),\n",
    "    ]\n",
    "\n",
    "# test data consists of first 9 sequences of training data\n",
    "test = train[:9]"
   ]
  },
  {
   "cell_type": "code",
   "execution_count": 14,
   "metadata": {
    "collapsed": false
   },
   "outputs": [],
   "source": [
    "from sklearn.cluster import KMeans\n",
    "km = KMeans(n_clusters=3)\n",
    "\n",
    "wl=Weblogo(color_scheme = 'classic')\n",
    "\n",
    "ew = EdenWrapper(alphabet='dna',\n",
    "                # distance=10, \n",
    "                # radius=5, \n",
    "                clustering_algorithm=km,\n",
    "                threshold=0,\n",
    "                \n",
    "                weblogo_obj=wl)\n",
    "\n",
    "ew.fit(seqs=train)"
   ]
  },
  {
   "cell_type": "code",
   "execution_count": 15,
   "metadata": {
    "collapsed": false
   },
   "outputs": [
    {
     "name": "stdout",
     "output_type": "stream",
     "text": [
      "(1, 'CTTTTTTTTC')\n",
      "(1, 'ATATTTTTA')\n",
      "(1, 'ATTTTTATAC')\n",
      "(1, 'GTTTTTGTG')\n",
      "(1, 'GTTTTTTGT')\n",
      "(1, 'GTTTTTTTG')\n",
      "\n",
      "(2, 'GTCACACTT')\n",
      "(1, 'TTTACACTTT')\n",
      "(1, 'TCACACTTTT')\n",
      "(1, 'ATTACACAAA')\n",
      "(1, 'ATTTCATAC')\n",
      "(1, 'GTCACATTAC')\n",
      "(1, 'GCATAAAAAA')\n",
      "\n",
      "(1, 'TGATGTTGC')\n",
      "(1, 'AGTACAGTTG')\n",
      "(1, 'ATTGTTGTGA')\n",
      "(1, 'GTGTGTTGC')\n",
      "(1, 'GGATTTGTT')\n",
      "\n"
     ]
    }
   ],
   "source": [
    "for i in ew.original_motives_list:\n",
    "    for j in i:\n",
    "        print j\n",
    "    print"
   ]
  },
  {
   "cell_type": "code",
   "execution_count": 16,
   "metadata": {
    "collapsed": false
   },
   "outputs": [
    {
     "name": "stdout",
     "output_type": "stream",
     "text": [
      "(1, 'CTTTTTTTTC')\n",
      "(1, 'ATATTTTTA-')\n",
      "(1, 'ATTTTTATAC')\n",
      "(1, 'GTTTTTGTG-')\n",
      "(1, 'GTTTTTTGT-')\n",
      "(1, 'GTTTTTTTG-')\n",
      "\n",
      "(2, '--GTCACACTT--')\n",
      "(1, '--TTTACACTTT-')\n",
      "(1, '---TCACACTTTT')\n",
      "(1, '--ATTACACAAA-')\n",
      "(1, 'ATTTCATAC----')\n",
      "(1, '--GTCACATTAC-')\n",
      "(1, '---GCATAAAAAA')\n",
      "\n",
      "(1, '--TGATGTTGC--')\n",
      "(1, 'AGTACAGTTG---')\n",
      "(1, '---ATTGTTGTGA')\n",
      "(1, '--GTGTGTTGC--')\n",
      "(1, 'GGATTTGTT----')\n",
      "\n"
     ]
    }
   ],
   "source": [
    "for i in ew.aligned_motives_list:\n",
    "    for j in i:\n",
    "        print j\n",
    "    print "
   ]
  },
  {
   "cell_type": "code",
   "execution_count": 17,
   "metadata": {
    "collapsed": false
   },
   "outputs": [
    {
     "name": "stdout",
     "output_type": "stream",
     "text": [
      "(1, 'CTTTTTTTT')\n",
      "(1, 'ATATTTTTA')\n",
      "(1, 'ATTTTTATA')\n",
      "(1, 'GTTTTTGTG')\n",
      "(1, 'GTTTTTTGT')\n",
      "(1, 'GTTTTTTTG')\n",
      "\n",
      "(2, 'TCACACTT-')\n",
      "(1, 'TTACACTTT')\n",
      "(1, 'TCACACTTT')\n",
      "(1, 'TTACACAAA')\n",
      "(1, 'TCATACAAA')\n",
      "(1, 'TCACATTAC')\n",
      "(1, 'GCATAAAAA')\n",
      "\n",
      "(1, 'TGATGTTGC')\n",
      "(1, 'TACAGTTGC')\n",
      "(1, 'GATTGTTGT')\n",
      "(1, 'GTGTGTTGC')\n",
      "(1, 'ATTTGTT-C')\n",
      "\n"
     ]
    }
   ],
   "source": [
    "for i in ew.motives_list:\n",
    "    for j in i:\n",
    "        print j\n",
    "    print"
   ]
  },
  {
   "cell_type": "code",
   "execution_count": 18,
   "metadata": {
    "collapsed": false
   },
   "outputs": [
    {
     "name": "stdout",
     "output_type": "stream",
     "text": [
      "[]\n",
      "[]\n",
      "[]\n",
      "[]\n",
      "[]\n",
      "[]\n",
      "[1]\n",
      "[]\n",
      "[]\n"
     ]
    }
   ],
   "source": [
    "predictions = ew.predict(input_seqs=test, return_list=True)\n",
    "for p in predictions: print p"
   ]
  },
  {
   "cell_type": "code",
   "execution_count": 19,
   "metadata": {
    "collapsed": false
   },
   "outputs": [
    {
     "name": "stdout",
     "output_type": "stream",
     "text": [
      "0\n",
      "0\n",
      "0\n",
      "0\n",
      "0\n",
      "0\n",
      "1\n",
      "0\n",
      "0\n"
     ]
    }
   ],
   "source": [
    "predictions = ew.predict(input_seqs=test, return_list=False)\n",
    "for p in predictions: print p"
   ]
  },
  {
   "cell_type": "code",
   "execution_count": 20,
   "metadata": {
    "collapsed": false
   },
   "outputs": [
    {
     "name": "stdout",
     "output_type": "stream",
     "text": [
      "[[], [], []]\n",
      "[[], [], []]\n",
      "[[], [], []]\n",
      "[[], [], []]\n",
      "[[], [], []]\n",
      "[[], [], []]\n",
      "[[], [(53, 66, 1.8206399183870232e-05)], []]\n",
      "[[], [], []]\n",
      "[[], [], []]\n"
     ]
    }
   ],
   "source": [
    "match = ew.transform(input_seqs=test, return_match=True)\n",
    "for m in match: print m"
   ]
  },
  {
   "cell_type": "code",
   "execution_count": 21,
   "metadata": {
    "collapsed": false
   },
   "outputs": [
    {
     "name": "stdout",
     "output_type": "stream",
     "text": [
      "[0, 0, 0]\n",
      "[0, 0, 0]\n",
      "[0, 0, 0]\n",
      "[0, 0, 0]\n",
      "[0, 0, 0]\n",
      "[0, 0, 0]\n",
      "[0, 1, 0]\n",
      "[0, 0, 0]\n",
      "[0, 0, 0]\n"
     ]
    }
   ],
   "source": [
    "match = ew.transform(input_seqs=test, return_match=False)\n",
    "for m in match: print m"
   ]
  },
  {
   "cell_type": "code",
   "execution_count": 22,
   "metadata": {
    "collapsed": false
   },
   "outputs": [
    {
     "name": "stdout",
     "output_type": "stream",
     "text": [
      "3\n",
      "0\n",
      "2\n",
      "1\n",
      "1\n",
      "0\n",
      "2\n",
      "0\n",
      "2\n",
      "0\n",
      "0\n",
      "0\n",
      "3\n",
      "3\n",
      "0\n",
      "0\n",
      "0\n",
      "3\n"
     ]
    }
   ],
   "source": [
    "ew2= EdenWrapper(alphabet='dna',\n",
    "                   # distance=10, \n",
    "                   # radius=5, \n",
    "                   clustering_algorithm=km)\n",
    "predictions = ew2.fit_predict(seqs=train)\n",
    "for p in predictions: print p"
   ]
  },
  {
   "cell_type": "code",
   "execution_count": 23,
   "metadata": {
    "collapsed": false,
    "scrolled": true
   },
   "outputs": [
    {
     "name": "stdout",
     "output_type": "stream",
     "text": [
      "[1, 0, 0]\n",
      "[1, 0, 0]\n",
      "[1, 0, 0]\n",
      "[1, 0, 0]\n",
      "[1, 0, 0]\n",
      "[1, 0, 0]\n",
      "[1, 0, 0]\n",
      "[1, 0, 0]\n",
      "[1, 0, 0]\n",
      "[1, 0, 0]\n",
      "[1, 0, 0]\n",
      "[1, 0, 0]\n",
      "[1, 0, 0]\n",
      "[1, 0, 0]\n",
      "[1, 0, 0]\n",
      "[1, 0, 0]\n",
      "[1, 0, 1]\n",
      "[1, 0, 0]\n"
     ]
    }
   ],
   "source": [
    "matches = ew2.fit_transform(seqs=train)\n",
    "for m in matches: print m"
   ]
  },
  {
   "cell_type": "code",
   "execution_count": 24,
   "metadata": {
    "collapsed": false
   },
   "outputs": [
    {
     "name": "stdout",
     "output_type": "stream",
     "text": [
      "(1, 'CTTTTTTTT')\n",
      "(1, 'ATATTTTTA')\n",
      "(1, 'ATTTTTATA')\n",
      "(1, 'GTTTTTGTG')\n",
      "(1, 'GTTTTTTGT')\n",
      "(1, 'GTTTTTTTG')\n",
      "\n",
      "(2, 'TCACACTT-')\n",
      "(1, 'TTACACTTT')\n",
      "(1, 'TCACACTTT')\n",
      "(1, 'TTACACAAA')\n",
      "(1, 'TCATACAAA')\n",
      "(1, 'TCACATTAC')\n",
      "(1, 'GCATAAAAA')\n",
      "\n",
      "(1, 'TGATGTTGC')\n",
      "(1, 'TACAGTTGC')\n",
      "(1, 'GATTGTTGT')\n",
      "(1, 'GTGTGTTGC')\n",
      "(1, 'ATTTGTT-C')\n",
      "\n"
     ]
    }
   ],
   "source": [
    "#printing motives as lists\n",
    "for motif in ew.motives_list:\n",
    "    for m in motif:\n",
    "        print m\n",
    "    print"
   ]
  },
  {
   "cell_type": "code",
   "execution_count": 25,
   "metadata": {
    "collapsed": false
   },
   "outputs": [
    {
     "data": {
      "image/png": "[encoded data removed]",
      "text/plain": [
       "<IPython.core.display.Image object>"
      ]
     },
     "metadata": {},
     "output_type": "display_data"
    },
    {
     "data": {
      "image/png": "[encoded data removed]",
      "text/plain": [
       "<IPython.core.display.Image object>"
      ]
     },
     "metadata": {},
     "output_type": "display_data"
    },
    {
     "data": {
      "image/png": "[encoded data removed]",
      "text/plain": [
       "<IPython.core.display.Image object>"
      ]
     },
     "metadata": {},
     "output_type": "display_data"
    }
   ],
   "source": [
    "ew.display_logo(do_alignment=False)"
   ]
  },
  {
   "cell_type": "code",
   "execution_count": 26,
   "metadata": {
    "collapsed": false
   },
   "outputs": [
    {
     "data": {
      "image/png": "[encoded data removed]",
      "text/plain": [
       "<IPython.core.display.Image object>"
      ]
     },
     "metadata": {},
     "output_type": "display_data"
    }
   ],
   "source": [
    "ew.display_logo(motif_num=1)"
   ]
  },
  {
   "cell_type": "code",
   "execution_count": 27,
   "metadata": {
    "collapsed": false
   },
   "outputs": [
    {
     "name": "stdout",
     "output_type": "stream",
     "text": [
      "(1, 'CTTTTTTTT')\n",
      "(1, 'ATATTTTTA')\n",
      "(1, 'ATTTTTATA')\n",
      "(1, 'GTTTTTGTG')\n",
      "(1, 'GTTTTTTGT')\n",
      "(1, 'GTTTTTTTG')\n",
      "\n",
      "(2, 'TCACACTT-')\n",
      "(1, 'TTACACTTT')\n",
      "(1, 'TCACACTTT')\n",
      "(1, 'TTACACAAA')\n",
      "(1, 'TCATACAAA')\n",
      "(1, 'TCACATTAC')\n",
      "(1, 'GCATAAAAA')\n",
      "\n",
      "(1, 'TGATGTTGC')\n",
      "(1, 'TACAGTTGC')\n",
      "(1, 'GATTGTTGT')\n",
      "(1, 'GTGTGTTGC')\n",
      "(1, 'ATTTGTTC-')\n",
      "\n"
     ]
    }
   ],
   "source": [
    "ew.align_motives()    #MSA with Muscle\n",
    "motives1=ew.aligned_motives_list\n",
    "for m in motives1:\n",
    "    for i in m:\n",
    "        print i\n",
    "    print"
   ]
  },
  {
   "cell_type": "code",
   "execution_count": 28,
   "metadata": {
    "collapsed": false
   },
   "outputs": [
    {
     "name": "stdout",
     "output_type": "stream",
     "text": [
      "        0      1      2      3      4      5      6      7      8      9\n",
      "-:   0.00   0.00   0.00   0.00   0.00   0.00   0.00   0.00   0.00   0.67\n",
      "A:   0.33   0.00   0.17   0.00   0.00   0.00   0.17   0.00   0.33   0.00\n",
      "C:   0.17   0.00   0.00   0.00   0.00   0.00   0.00   0.00   0.00   0.33\n",
      "G:   0.50   0.00   0.00   0.00   0.00   0.00   0.17   0.17   0.33   0.00\n",
      "T:   0.00   1.00   0.83   1.00   1.00   1.00   0.67   0.83   0.33   0.00\n",
      "\n",
      "        0      1      2      3      4      5      6      7      8      9     10     11     12\n",
      "-:   0.86   0.86   0.29   0.00   0.00   0.00   0.00   0.00   0.00   0.14   0.14   0.29   0.71\n",
      "A:   0.14   0.00   0.14   0.00   0.00   1.00   0.00   1.00   0.14   0.29   0.43   0.29   0.14\n",
      "C:   0.00   0.00   0.00   0.00   0.71   0.00   0.71   0.00   0.71   0.00   0.00   0.14   0.00\n",
      "G:   0.00   0.00   0.29   0.14   0.00   0.00   0.00   0.00   0.00   0.00   0.00   0.00   0.00\n",
      "T:   0.00   0.14   0.29   0.86   0.29   0.00   0.29   0.00   0.14   0.57   0.43   0.29   0.14\n",
      "\n",
      "        0      1      2      3      4      5      6      7      8      9     10     11     12\n",
      "-:   0.60   0.60   0.20   0.00   0.00   0.00   0.00   0.00   0.00   0.20   0.40   0.80   0.80\n",
      "A:   0.20   0.00   0.20   0.40   0.20   0.20   0.00   0.00   0.00   0.00   0.00   0.00   0.20\n",
      "C:   0.00   0.00   0.00   0.00   0.20   0.00   0.00   0.00   0.00   0.00   0.40   0.00   0.00\n",
      "G:   0.20   0.40   0.20   0.20   0.20   0.00   1.00   0.00   0.00   0.80   0.00   0.20   0.00\n",
      "T:   0.00   0.00   0.40   0.40   0.40   0.80   0.00   1.00   1.00   0.00   0.20   0.00   0.00\n",
      "\n"
     ]
    }
   ],
   "source": [
    "ew.display()"
   ]
  },
  {
   "cell_type": "code",
   "execution_count": 29,
   "metadata": {
    "collapsed": false
   },
   "outputs": [
    {
     "name": "stdout",
     "output_type": "stream",
     "text": [
      "        0      1      2      3      4      5      6      7      8      9     10     11     12\n",
      "-:   0.60   0.60   0.20   0.00   0.00   0.00   0.00   0.00   0.00   0.20   0.40   0.80   0.80\n",
      "A:   0.20   0.00   0.20   0.40   0.20   0.20   0.00   0.00   0.00   0.00   0.00   0.00   0.20\n",
      "C:   0.00   0.00   0.00   0.00   0.20   0.00   0.00   0.00   0.00   0.00   0.40   0.00   0.00\n",
      "G:   0.20   0.40   0.20   0.20   0.20   0.00   1.00   0.00   0.00   0.80   0.00   0.20   0.00\n",
      "T:   0.00   0.00   0.40   0.40   0.40   0.80   0.00   1.00   1.00   0.00   0.20   0.00   0.00\n",
      "\n"
     ]
    }
   ],
   "source": [
    "ew.display(motif_num=3)"
   ]
  },
  {
   "cell_type": "code",
   "execution_count": 30,
   "metadata": {
    "collapsed": false
   },
   "outputs": [
    {
     "name": "stdout",
     "output_type": "stream",
     "text": [
      "[0.0, 0.0, 0.0, 0.0, 0.0, 0.0, 0.0, 0.0, 0.0, 0.0, 0.0, 0.0, 0.0, 0.0, 0.0, 0.0, 0.0, 0.0, 0.0, 0.0, 0.0, 0.0, 0.0, 0.0, 0.0, 0.0, 0.0, 0.0, 0.0, 0.0, 0.0, 0.0, 0.0, 0.0, 0.0, 0.0, 0.0, 0.0, 0.0, 0.0, 0.0, 0.0, 0.0, 0.0, 0.0, 0.0, 0.0, 0.0, 0.0, 0.0, 0.0, 0.0, 0.0, 0.0, 0.0, 0.0, 0.0, 0.0, 0.0, 0.0, 0.0, 0.0, 0.0, 0.0, 0.0, 0.0, 0.0, 0.0, 0.0, 0.0, 0.0, 0.0, 0.0, 0.0, 0.0, 0.0, 0.0, 0.0, 0.0, 0.0, 0.0, 0.0, 0.0, 0.0, 0.0, 0.0, 0.0, 0.0, 0.0, 0.0, 0.0, 0.0, 0.0, 0.0, 0.0, 0.0, 0.0, 0.0, 0.0, 0.0, 0.0, 0.0, 0.0, 0.0, 0.0, 0.0, 0.0, 0.0, 0, 0, 0, 0, 0, 0, 0, 0, 0, 0, 0, 0]\n"
     ]
    }
   ],
   "source": [
    "# Score a test sequence using probability score\n",
    "test_seq = 'AAAAAAAAAAAA' * 10\n",
    "seq_score = ew.score(motif_num=2, seq=test_seq)\n",
    "print seq_score"
   ]
  },
  {
   "cell_type": "code",
   "execution_count": null,
   "metadata": {
    "collapsed": true
   },
   "outputs": [],
   "source": []
  },
  {
   "cell_type": "code",
   "execution_count": null,
   "metadata": {
    "collapsed": true
   },
   "outputs": [],
   "source": []
  },
  {
   "cell_type": "code",
   "execution_count": null,
   "metadata": {
    "collapsed": true
   },
   "outputs": [],
   "source": []
  },
  {
   "cell_type": "code",
   "execution_count": null,
   "metadata": {
    "collapsed": true
   },
   "outputs": [],
   "source": []
  },
  {
   "cell_type": "code",
   "execution_count": 20,
   "metadata": {
    "collapsed": false
   },
   "outputs": [
    {
     "name": "stdout",
     "output_type": "stream",
     "text": [
      "Motif instances used for scoring:\n",
      "TTTACACTTT\n",
      "ATCACACAAA\n",
      "TCACATTACC\n",
      "ATTACACAAA\n",
      "TCACACTTTT\n",
      "\n",
      "Score:\n",
      "[-36.67888427718702, -36.67888427718702, -36.67888427718702, -36.67888427718702, -36.67888427718702, -36.67888427718702, -36.67888427718702, -36.67888427718702, -36.67888427718702, -36.67888427718702, -36.67888427718702, -36.67888427718702, -36.67888427718702, -36.67888427718702, -36.67888427718702, -36.67888427718702, -36.67888427718702, -36.67888427718702, -36.67888427718702, -36.67888427718702, -36.67888427718702, -36.67888427718702, -36.67888427718702, -36.67888427718702, -36.67888427718702, -36.67888427718702, -36.67888427718702, -36.67888427718702, -36.67888427718702, -36.67888427718702, -36.67888427718702, -36.67888427718702, -36.67888427718702, -36.67888427718702, -36.67888427718702, -36.67888427718702, -36.67888427718702, -36.67888427718702, -36.67888427718702, -36.67888427718702, -36.67888427718702, -36.67888427718702, -36.67888427718702, -36.67888427718702, -36.67888427718702, -36.67888427718702, -36.67888427718702, -36.67888427718702, -36.67888427718702, -36.67888427718702, -36.67888427718702, -36.67888427718702, -36.67888427718702, -36.67888427718702, -36.67888427718702, -36.67888427718702, -36.67888427718702, -36.67888427718702, -36.67888427718702, -36.67888427718702, -36.67888427718702, -36.67888427718702, -36.67888427718702, -36.67888427718702, -36.67888427718702, -36.67888427718702, -36.67888427718702, -36.67888427718702, -36.67888427718702, -36.67888427718702, -36.67888427718702, -36.67888427718702, -36.67888427718702, -36.67888427718702, -36.67888427718702, -36.67888427718702, -36.67888427718702, -36.67888427718702, -36.67888427718702, -36.67888427718702, -36.67888427718702, -36.67888427718702, -36.67888427718702, -36.67888427718702, -36.67888427718702, -36.67888427718702, -36.67888427718702, -36.67888427718702, -36.67888427718702, -36.67888427718702, -36.67888427718702, -36.67888427718702, -36.67888427718702, -36.67888427718702, -36.67888427718702, -36.67888427718702, -36.67888427718702, -36.67888427718702, -36.67888427718702, -36.67888427718702, -36.67888427718702, -36.67888427718702, -36.67888427718702, -36.67888427718702, -36.67888427718702, -36.67888427718702, -36.67888427718702, -36.67888427718702, -36.67888427718702, -36.67888427718702, -36.67888427718702, 0, 0, 0, 0, 0, 0, 0, 0, 0]\n",
      "CPU times: user 124 ms, sys: 0 ns, total: 124 ms\n",
      "Wall time: 123 ms\n"
     ]
    }
   ],
   "source": [
    "%%time\n",
    "# Score a test sequence using Hidden Markov Model score\n",
    "mm_score = ew.score_mm(motif_num=1, seq=test_seq)\n",
    "print 'Motif instances used for scoring:'\n",
    "for m in ew.original_motives_list[0]:\n",
    "    print m[1]\n",
    "print\n",
    "print 'Score:'\n",
    "print mm_score"
   ]
  },
  {
   "cell_type": "code",
   "execution_count": null,
   "metadata": {
    "collapsed": true
   },
   "outputs": [],
   "source": []
  }
 ],
 "metadata": {
  "kernelspec": {
   "display_name": "Python 2",
   "language": "python",
   "name": "python2"
  },
  "language_info": {
   "codemirror_mode": {
    "name": "ipython",
    "version": 2
   },
   "file_extension": ".py",
   "mimetype": "text/x-python",
   "name": "python",
   "nbconvert_exporter": "python",
   "pygments_lexer": "ipython2",
   "version": "2.7.12"
  }
 },
 "nbformat": 4,
 "nbformat_minor": 0
}
