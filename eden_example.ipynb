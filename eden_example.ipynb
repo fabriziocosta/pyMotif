{
 "cells": [
  {
   "cell_type": "code",
   "execution_count": 1,
   "metadata": {
    "collapsed": true
   },
   "outputs": [],
   "source": [
    "%matplotlib inline\n",
    "from eden_wrapper import EdenWrapper\n",
    "from utilities import Weblogo"
   ]
  },
  {
   "cell_type": "code",
   "execution_count": 2,
   "metadata": {
    "collapsed": true
   },
   "outputs": [],
   "source": [
    "train = [\n",
    "    ('ce1cg', \n",
    "     'TAATGTTTGTGCTGGTTTTTGTGGCATCGGGCGAGAATAGCGCGTGGTGTGAAAGACTGTTTTTTTGATCGTTTTCACAAAAATGGAAGTCCACAGTCTTGACAG'),\n",
    "    ('ara', \n",
    "     'GACAAAAACGCGTAACAAAAGTGTCTATAATCACGGCAGAAAAGTCCACATTGATTATTTGCACGGCGTCACACTTTGCTATGCCATAGCATTTTTATCCATAAG'),\n",
    "    ('bglr1', \n",
    "     'ACAAATCCCAATAACTTAATTATTGGGATTTGTTATATATAACTTTATAAATTCCTAAAATTACACAAAGTTAATAACTGTGAGCATGGTCATATTTTTATCAAT'),\n",
    "    ('crp', \n",
    "     'CACAAAGCGAAAGCTATGCTAAAACAGTCAGGATGCTACAGTAATACATTGATGTACTGCATGTATGCAAAGGACGTCACATTACCGTGCAGTACAGTTGATAGC'),\n",
    "    ('cya', \n",
    "     'ACGGTGCTACACTTGTATGTAGCGCATCTTTCTTTACGGTCAATCAGCAAGGTGTTAAATTGATCACGTTTTAGACCATTTTTTCGTCGTGAAACTAAAAAAACC'),\n",
    "    ('deop2', \n",
    "     'AGTGAATTATTTGAACCAGATCGCATTACAGTGATGCAAACTTGTAAGTAGATTTCCTTAATTGTGATGTGTATCGAAGTGTGTTGCGGAGTAGATGTTAGAATA'),\n",
    "    ('gale', \n",
    "     'GCGCATAAAAAACGGCTAAATTCTTGTGTAAACGATTCCACTAATTTATTCCATGTCACACTTTTCGCATCTTTGTTATGCTATGGTTATTTCATACCATAAGCC'),\n",
    "    ('ilv', \n",
    "     'GCTCCGGCGGGGTTTTTTGTTATCTGCAATTCAGTACAAAACGTGATCAACCCCTCAATTTTCCCTTTGCTGAAAAATTTTCCATTGTCTCCCCTGTAAAGCTGT'),\n",
    "    ('lac', \n",
    "     'AACGCAATTAATGTGAGTTAGCTCACTCATTAGGCACCCCAGGCTTTACACTTTATGCTTCCGGCTCGTATGTTGTGTGGAATTGTGAGCGGATAACAATTTCAC'),\n",
    "    ('male', \n",
    "     'ACATTACCGCCAATTCTGTAACAGAGATCACACAAAGCGACGGTGGGGCGTAGGGGCAAGGAGGATGGAAAGAGGTTGCCGTATAAAGAAACTAGAGTCCGTTTA'),\n",
    "    ('malk', \n",
    "     'GGAGGAGGCGGGAGGATGAGAACACGGCTTCTGTGAACTAAACCGAGGTCATGTAAGGAATTTCGTGATGTTGCTTGCAAAAATCGTGGCGATTTTATGTGCGCA'),\n",
    "    ('malt', \n",
    "     'GATCAGCGTCGTTTTAGGTGAGTTGTTAATAAAGATTTGGAATTGTGACACAGTGCAAATTCAGACACATAAAAAAACGTCATCGCTTGCATTAGAAAGGTTTCT'),\n",
    "    ('ompa', \n",
    "     'GCTGACAAAAAAGATTAAACATACCTTATACAAGACTTTTTTTTCATATGCCTGACGGAGTTCACACTTGTAAGTTTTCAACTACGTTGTAGACTTTACATCGCC'),\n",
    "    ('tnaa', \n",
    "     'TTTTTTAAACATTAAAATTCTTACGTAATTTATAATCTTTAAAAAAAGCATTTAATATTGCTCCCCGAACGATTGTGATTCGATTCACATTTAAACAATTTCAGA'),\n",
    "    ('uxu1', \n",
    "     'CCCATGAGAGTGAAATTGTTGTGATGTGGTTAACCCAATTAGAATTCGGGATTGACATGTCTTACCAAAAGGTAGAACTTATACGCCATCTCATCCGATGCAAGC'),\n",
    "    ('pbr322', \n",
    "     'CTGGCTTAACTATGCGGCATCAGAGCAGATTGTACTGAGAGTGCACCATATGCGGTGTGAAATACCGCACAGATGCGTAAGGAGAAAATACCGCATCAGGCGCTC'),\n",
    "    ('trn9cat', \n",
    "     'CTGTGACGGAAGATCACTTCGCAGAATAAATAAATCCTGGTGTCCCTGTTGATACCGGGAAGCCCTGGGCCAACTTTTGGCGAAAATGAGACGTTGATCGGCACG'),\n",
    "    ('tdc', \n",
    "     'GATTTTTATACTTTAACTTGTTGATATTTAAAGGTATTTAATTGTAATAACGATACTCTGGAAAGTATTGAAAGTTAATTTGTGAGTGGTCGCACATATCCTGTT'),\n",
    "    ]\n",
    "\n",
    "# test data consists of first 9 sequences of training data\n",
    "test = train[:9]"
   ]
  },
  {
   "cell_type": "code",
   "execution_count": 3,
   "metadata": {
    "collapsed": false
   },
   "outputs": [],
   "source": [
    "from sklearn.cluster import KMeans\n",
    "km = KMeans(n_clusters=3)\n",
    "\n",
    "wl=Weblogo(color_scheme = 'classic')\n",
    "\n",
    "ew = EdenWrapper(alphabet='dna',\n",
    "                # distance=10, \n",
    "                # radius=5, \n",
    "                clustering_algorithm=km,\n",
    "                threshold=0,\n",
    "                \n",
    "                weblogo_obj=wl)\n",
    "\n",
    "ew.fit(seqs=train)"
   ]
  },
  {
   "cell_type": "code",
   "execution_count": 4,
   "metadata": {
    "collapsed": false
   },
   "outputs": [
    {
     "name": "stdout",
     "output_type": "stream",
     "text": [
      "(1, 'GCAAAAATC')\n",
      "(1, 'GACAAAAACG')\n",
      "(1, 'AAAATTACAC')\n",
      "(1, 'AAAAAAACC')\n",
      "(1, 'AAAAATTTT')\n",
      "(2, 'CATAAAAAA')\n",
      "(1, 'CATAAAAAAA')\n",
      "\n",
      "(1, 'TTTACACTTT')\n",
      "(2, 'GTCACACTTT')\n",
      "(1, 'TTTTCACAAA')\n",
      "(1, 'CACACTTTT')\n",
      "(1, 'ATCACACAAA')\n",
      "(1, 'TCACATTACC')\n",
      "(1, 'GCATTACAG')\n",
      "\n",
      "(1, 'CTTTTTTTTC')\n",
      "(1, 'TCCCTGTTGA')\n",
      "(1, 'ATTGTTGTGA')\n",
      "(1, 'GTTTTTGTG')\n",
      "(1, 'GTTTTTTGTT')\n",
      "(1, 'AGCATTTTTA')\n",
      "(1, 'GTTTTTTTG')\n",
      "\n"
     ]
    }
   ],
   "source": [
    "for i in ew.original_motives_list:\n",
    "    for j in i:\n",
    "        print j\n",
    "    print"
   ]
  },
  {
   "cell_type": "code",
   "execution_count": 5,
   "metadata": {
    "collapsed": false
   },
   "outputs": [
    {
     "name": "stdout",
     "output_type": "stream",
     "text": [
      "(1, 'GCAAAAATC----')\n",
      "(1, 'GACAAAAACG---')\n",
      "(1, '---AAAATTACAC')\n",
      "(1, 'AAAAAAACC----')\n",
      "(1, '--AAAAATTTT--')\n",
      "(2, 'CATAAAAAA----')\n",
      "(1, 'CATAAAAAAA---')\n",
      "\n",
      "(1, '--TTTACACTTT-')\n",
      "(2, '--GTCACACTTT-')\n",
      "(1, '--TTTTCACAAA-')\n",
      "(1, '----CACACTTTT')\n",
      "(1, '--ATCACACAAA-')\n",
      "(1, '---TCACATTACC')\n",
      "(1, 'GCATTACAG----')\n",
      "\n",
      "(1, 'CTTTTTTTTC')\n",
      "(1, 'TCCCTGTTGA')\n",
      "(1, 'ATTGTTGTGA')\n",
      "(1, '-GTTTTTGTG')\n",
      "(1, 'GTTTTTTGTT')\n",
      "(1, 'AGCATTTTTA')\n",
      "(1, '-GTTTTTTTG')\n",
      "\n"
     ]
    }
   ],
   "source": [
    "for i in ew.aligned_motives_list:\n",
    "    for j in i:\n",
    "        print j\n",
    "    print "
   ]
  },
  {
   "cell_type": "code",
   "execution_count": 6,
   "metadata": {
    "collapsed": false
   },
   "outputs": [
    {
     "name": "stdout",
     "output_type": "stream",
     "text": [
      "(1, 'GCAAAAATC')\n",
      "(1, 'GACAAAAAC')\n",
      "(1, 'CC-AAAATT')\n",
      "(1, 'AAAAAAACC')\n",
      "(1, 'CAAAAAATT')\n",
      "(2, 'CATAAAAAA')\n",
      "(1, 'CATAAAAAA')\n",
      "\n",
      "(1, 'TTTACACTTT')\n",
      "(2, 'GTCACACTTT')\n",
      "(1, 'TTTTCACAAA')\n",
      "(1, '-TCACACTTT')\n",
      "(1, 'ATCACACAAA')\n",
      "(1, 'ATCACATTAC')\n",
      "(1, 'ATTACAGATA')\n",
      "\n",
      "(1, 'CTTTTTTTTC')\n",
      "(1, 'TCCCTGTTGA')\n",
      "(1, 'ATTGTTGTGA')\n",
      "(1, '-GTTTTTGTG')\n",
      "(1, 'GTTTTTTGTT')\n",
      "(1, 'AGCATTTTTA')\n",
      "(1, 'CGTTTTTTTG')\n",
      "\n"
     ]
    }
   ],
   "source": [
    "for i in ew.motives_list:\n",
    "    for j in i:\n",
    "        print j\n",
    "    print"
   ]
  },
  {
   "cell_type": "code",
   "execution_count": 7,
   "metadata": {
    "collapsed": false
   },
   "outputs": [
    {
     "name": "stdout",
     "output_type": "stream",
     "text": [
      "[2, 2, 2, 2, 2, 2, 2]\n",
      "[2]\n",
      "[0, 2]\n",
      "[]\n",
      "[2]\n",
      "[2]\n",
      "[2, 2, 2, 2]\n",
      "[2, 2, 2]\n",
      "[2, 2]\n"
     ]
    }
   ],
   "source": [
    "predictions = ew.predict(input_seqs=test, return_list=True)\n",
    "for p in predictions: print p"
   ]
  },
  {
   "cell_type": "code",
   "execution_count": 8,
   "metadata": {
    "collapsed": false
   },
   "outputs": [
    {
     "name": "stdout",
     "output_type": "stream",
     "text": [
      "7\n",
      "1\n",
      "2\n",
      "0\n",
      "1\n",
      "1\n",
      "4\n",
      "3\n",
      "2\n"
     ]
    }
   ],
   "source": [
    "predictions = ew.predict(input_seqs=test, return_list=False)\n",
    "for p in predictions: print p"
   ]
  },
  {
   "cell_type": "code",
   "execution_count": 9,
   "metadata": {
    "collapsed": false
   },
   "outputs": [
    {
     "name": "stdout",
     "output_type": "stream",
     "text": [
      "[[], [], [(14, 24, 0.0010705362720115697), (15, 25, 0.00017842271200192828), (16, 26, 3.568454240038565e-05), (41, 51, 1.4868559333494024e-06), (56, 66, 0.00022302839000241036), (58, 68, 0.0026763406800289244), (59, 69, 0.0016058044080173545)]]\n",
      "[[], [], [(88, 98, 0.0008029022040086772)]]\n",
      "[[(54, 67, 1.1894847466795217e-06)], [], [(19, 29, 5.352681360057848e-05)]]\n",
      "[[], [], []]\n",
      "[[], [], [(75, 85, 8.921135600096414e-05)]]\n",
      "[[], [], [(78, 88, 4.460567800048207e-05)]]\n",
      "[[], [], [(20, 30, 4.460567800048207e-05), (21, 31, 0.00010705362720115696), (69, 79, 0.0005352681360057849), (80, 90, 9.292849583433766e-06)]]\n",
      "[[], [], [(11, 21, 0.0005352681360057849), (12, 22, 0.0005352681360057849), (13, 23, 0.0006690851700072311)]]\n",
      "[[], [], [(67, 77, 2.2302839000241034e-05), (72, 82, 2.676340680028924e-05)]]\n"
     ]
    }
   ],
   "source": [
    "match = ew.transform(input_seqs=test, return_match=True)\n",
    "for m in match: print m"
   ]
  },
  {
   "cell_type": "code",
   "execution_count": 10,
   "metadata": {
    "collapsed": false
   },
   "outputs": [
    {
     "name": "stdout",
     "output_type": "stream",
     "text": [
      "[0, 0, 1]\n",
      "[0, 0, 1]\n",
      "[1, 0, 1]\n",
      "[0, 0, 0]\n",
      "[0, 0, 1]\n",
      "[0, 0, 1]\n",
      "[0, 0, 1]\n",
      "[0, 0, 1]\n",
      "[0, 0, 1]\n"
     ]
    }
   ],
   "source": [
    "match = ew.transform(input_seqs=test, return_match=False)\n",
    "for m in match: print m"
   ]
  },
  {
   "cell_type": "code",
   "execution_count": 11,
   "metadata": {
    "collapsed": false
   },
   "outputs": [
    {
     "name": "stdout",
     "output_type": "stream",
     "text": [
      "1\n",
      "0\n",
      "0\n",
      "0\n",
      "0\n",
      "1\n",
      "1\n",
      "1\n",
      "0\n",
      "0\n",
      "0\n",
      "1\n",
      "1\n",
      "1\n",
      "1\n",
      "0\n",
      "0\n",
      "0\n"
     ]
    }
   ],
   "source": [
    "ew2= EdenWrapper(alphabet='dna',\n",
    "                   # distance=10, \n",
    "                   # radius=5, \n",
    "                   clustering_algorithm=km)\n",
    "predictions = ew2.fit_predict(seqs=train)\n",
    "for p in predictions: print p"
   ]
  },
  {
   "cell_type": "code",
   "execution_count": 12,
   "metadata": {
    "collapsed": false,
    "scrolled": true
   },
   "outputs": [
    {
     "name": "stdout",
     "output_type": "stream",
     "text": [
      "[0, 0, 0]\n",
      "[0, 0, 1]\n",
      "[0, 0, 0]\n",
      "[0, 0, 0]\n",
      "[0, 0, 0]\n",
      "[0, 0, 0]\n",
      "[0, 0, 1]\n",
      "[0, 0, 1]\n",
      "[0, 0, 1]\n",
      "[0, 0, 0]\n",
      "[0, 0, 0]\n",
      "[0, 0, 0]\n",
      "[0, 0, 0]\n",
      "[0, 0, 0]\n",
      "[0, 0, 0]\n",
      "[0, 0, 0]\n",
      "[0, 0, 0]\n",
      "[0, 0, 0]\n"
     ]
    }
   ],
   "source": [
    "matches = ew2.fit_transform(seqs=train)\n",
    "for m in matches: print m"
   ]
  },
  {
   "cell_type": "code",
   "execution_count": 13,
   "metadata": {
    "collapsed": false
   },
   "outputs": [
    {
     "name": "stdout",
     "output_type": "stream",
     "text": [
      "(1, 'GCAAAAATC')\n",
      "(1, 'GACAAAAAC')\n",
      "(1, 'CC-AAAATT')\n",
      "(1, 'AAAAAAACC')\n",
      "(1, 'CAAAAAATT')\n",
      "(2, 'CATAAAAAA')\n",
      "(1, 'CATAAAAAA')\n",
      "\n",
      "(1, 'TTTACACTTT')\n",
      "(2, 'GTCACACTTT')\n",
      "(1, 'TTTTCACAAA')\n",
      "(1, '-TCACACTTT')\n",
      "(1, 'ATCACACAAA')\n",
      "(1, 'ATCACATTAC')\n",
      "(1, 'ATTACAGATA')\n",
      "\n",
      "(1, 'CTTTTTTTTC')\n",
      "(1, 'TCCCTGTTGA')\n",
      "(1, 'ATTGTTGTGA')\n",
      "(1, '-GTTTTTGTG')\n",
      "(1, 'GTTTTTTGTT')\n",
      "(1, 'AGCATTTTTA')\n",
      "(1, 'CGTTTTTTTG')\n",
      "\n"
     ]
    }
   ],
   "source": [
    "#printing motives as lists\n",
    "for motif in ew.motives_list:\n",
    "    for m in motif:\n",
    "        print m\n",
    "    print"
   ]
  },
  {
   "cell_type": "code",
   "execution_count": 14,
   "metadata": {
    "collapsed": false
   },
   "outputs": [
    {
     "data": {
      "image/png": "[encoded data removed]",
      "text/plain": [
       "<IPython.core.display.Image object>"
      ]
     },
     "metadata": {},
     "output_type": "display_data"
    },
    {
     "data": {
      "image/png": "[encoded data removed]",
      "text/plain": [
       "<IPython.core.display.Image object>"
      ]
     },
     "metadata": {},
     "output_type": "display_data"
    },
    {
     "data": {
      "image/png": "[encoded data removed]",
      "text/plain": [
       "<IPython.core.display.Image object>"
      ]
     },
     "metadata": {},
     "output_type": "display_data"
    }
   ],
   "source": [
    "ew.display_logo(do_alignment=False)"
   ]
  },
  {
   "cell_type": "code",
   "execution_count": 15,
   "metadata": {
    "collapsed": false
   },
   "outputs": [
    {
     "data": {
      "image/png": "[encoded data removed]",
      "text/plain": [
       "<IPython.core.display.Image object>"
      ]
     },
     "metadata": {},
     "output_type": "display_data"
    }
   ],
   "source": [
    "ew.display_logo(motif_num=1)"
   ]
  },
  {
   "cell_type": "code",
   "execution_count": 16,
   "metadata": {
    "collapsed": false
   },
   "outputs": [
    {
     "name": "stdout",
     "output_type": "stream",
     "text": [
      "(1, 'GCAAAAATC')\n",
      "(1, 'GACAAAAAC')\n",
      "(1, '-CCAAAATT')\n",
      "(1, 'AAAAAAACC')\n",
      "(1, 'CAAAAAATT')\n",
      "(2, 'CATAAAAAA')\n",
      "(1, 'CATAAAAAA')\n",
      "\n",
      "(1, 'TTTACACTTT')\n",
      "(2, 'GTCACACTTT')\n",
      "(1, 'TTTTCACAAA')\n",
      "(1, '-TCACACTTT')\n",
      "(1, 'ATCACACAAA')\n",
      "(1, 'ATCACATTAC')\n",
      "(1, 'ATTACAGATA')\n",
      "\n",
      "(1, 'CTTTTTTTTC')\n",
      "(1, 'TCCCTGTTGA')\n",
      "(1, 'ATTGTTGTGA')\n",
      "(1, '-GTTTTTGTG')\n",
      "(1, 'GTTTTTTGTT')\n",
      "(1, 'AGCATTTTTA')\n",
      "(1, 'CGTTTTTTTG')\n",
      "\n"
     ]
    }
   ],
   "source": [
    "ew.align_motives()    #MSA with Muscle\n",
    "motives1=ew.aligned_motives_list\n",
    "for m in motives1:\n",
    "    for i in m:\n",
    "        print i\n",
    "    print"
   ]
  },
  {
   "cell_type": "code",
   "execution_count": 17,
   "metadata": {
    "collapsed": false
   },
   "outputs": [
    {
     "name": "stdout",
     "output_type": "stream",
     "text": [
      "        0      1      2      3      4      5      6      7      8      9     10     11     12\n",
      "-:   0.29   0.29   0.14   0.00   0.00   0.00   0.00   0.00   0.00   0.43   0.71   0.86   0.86\n",
      "A:   0.14   0.57   0.43   1.00   1.00   1.00   1.00   0.43   0.29   0.29   0.00   0.14   0.00\n",
      "C:   0.29   0.14   0.14   0.00   0.00   0.00   0.00   0.14   0.43   0.00   0.14   0.00   0.14\n",
      "G:   0.29   0.00   0.00   0.00   0.00   0.00   0.00   0.00   0.00   0.14   0.00   0.00   0.00\n",
      "T:   0.00   0.00   0.29   0.00   0.00   0.00   0.00   0.43   0.29   0.14   0.14   0.00   0.00\n",
      "\n",
      "        0      1      2      3      4      5      6      7      8      9     10     11     12\n",
      "-:   0.86   0.86   0.29   0.14   0.00   0.00   0.00   0.00   0.00   0.14   0.14   0.14   0.71\n",
      "A:   0.00   0.00   0.29   0.00   0.00   0.86   0.00   1.00   0.00   0.29   0.43   0.29   0.00\n",
      "C:   0.00   0.14   0.00   0.00   0.57   0.00   1.00   0.00   0.71   0.00   0.00   0.14   0.14\n",
      "G:   0.14   0.00   0.14   0.00   0.00   0.00   0.00   0.00   0.14   0.00   0.00   0.00   0.00\n",
      "T:   0.00   0.00   0.29   0.86   0.43   0.14   0.00   0.00   0.14   0.57   0.43   0.43   0.14\n",
      "\n",
      "        0      1      2      3      4      5      6      7      8      9\n",
      "-:   0.29   0.00   0.00   0.00   0.00   0.00   0.00   0.00   0.00   0.00\n",
      "A:   0.29   0.00   0.00   0.14   0.00   0.00   0.00   0.00   0.00   0.43\n",
      "C:   0.14   0.14   0.29   0.14   0.00   0.00   0.00   0.00   0.00   0.14\n",
      "G:   0.14   0.43   0.00   0.14   0.00   0.14   0.14   0.29   0.29   0.29\n",
      "T:   0.14   0.43   0.71   0.57   1.00   0.86   0.86   0.71   0.71   0.14\n",
      "\n"
     ]
    }
   ],
   "source": [
    "ew.display()"
   ]
  },
  {
   "cell_type": "code",
   "execution_count": 18,
   "metadata": {
    "collapsed": false
   },
   "outputs": [
    {
     "name": "stdout",
     "output_type": "stream",
     "text": [
      "        0      1      2      3      4      5      6      7      8      9\n",
      "-:   0.29   0.00   0.00   0.00   0.00   0.00   0.00   0.00   0.00   0.00\n",
      "A:   0.29   0.00   0.00   0.14   0.00   0.00   0.00   0.00   0.00   0.43\n",
      "C:   0.14   0.14   0.29   0.14   0.00   0.00   0.00   0.00   0.00   0.14\n",
      "G:   0.14   0.43   0.00   0.14   0.00   0.14   0.14   0.29   0.29   0.29\n",
      "T:   0.14   0.43   0.71   0.57   1.00   0.86   0.86   0.71   0.71   0.14\n",
      "\n"
     ]
    }
   ],
   "source": [
    "ew.display(motif_num=3)"
   ]
  },
  {
   "cell_type": "code",
   "execution_count": 19,
   "metadata": {
    "collapsed": false
   },
   "outputs": [
    {
     "name": "stdout",
     "output_type": "stream",
     "text": [
      "[0.0, 0.0, 0.0, 0.0, 0.0, 0.0, 0.0, 0.0, 0.0, 0.0, 0.0, 0.0, 0.0, 0.0, 0.0, 0.0, 0.0, 0.0, 0.0, 0.0, 0.0, 0.0, 0.0, 0.0, 0.0, 0.0, 0.0, 0.0, 0.0, 0.0, 0.0, 0.0, 0.0, 0.0, 0.0, 0.0, 0.0, 0.0, 0.0, 0.0, 0.0, 0.0, 0.0, 0.0, 0.0, 0.0, 0.0, 0.0, 0.0, 0.0, 0.0, 0.0, 0.0, 0.0, 0.0, 0.0, 0.0, 0.0, 0.0, 0.0, 0.0, 0.0, 0.0, 0.0, 0.0, 0.0, 0.0, 0.0, 0.0, 0.0, 0.0, 0.0, 0.0, 0.0, 0.0, 0.0, 0.0, 0.0, 0.0, 0.0, 0.0, 0.0, 0.0, 0.0, 0.0, 0.0, 0.0, 0.0, 0.0, 0.0, 0.0, 0.0, 0.0, 0.0, 0.0, 0.0, 0.0, 0.0, 0.0, 0.0, 0.0, 0.0, 0.0, 0.0, 0.0, 0.0, 0.0, 0.0, 0, 0, 0, 0, 0, 0, 0, 0, 0, 0, 0, 0]\n"
     ]
    }
   ],
   "source": [
    "# Score a test sequence using probability score\n",
    "test_seq = 'AAAAAAAAAAAA' * 10\n",
    "seq_score = ew.score(motif_num=2, seq=test_seq)\n",
    "print seq_score"
   ]
  },
  {
   "cell_type": "code",
   "execution_count": null,
   "metadata": {
    "collapsed": true
   },
   "outputs": [],
   "source": []
  },
  {
   "cell_type": "code",
   "execution_count": null,
   "metadata": {
    "collapsed": true
   },
   "outputs": [],
   "source": []
  },
  {
   "cell_type": "code",
   "execution_count": null,
   "metadata": {
    "collapsed": true
   },
   "outputs": [],
   "source": []
  },
  {
   "cell_type": "code",
   "execution_count": null,
   "metadata": {
    "collapsed": true
   },
   "outputs": [],
   "source": []
  },
  {
   "cell_type": "code",
   "execution_count": 20,
   "metadata": {
    "collapsed": false
   },
   "outputs": [
    {
     "name": "stdout",
     "output_type": "stream",
     "text": [
      "Motif instances used for scoring:\n",
      "TTTACACTTT\n",
      "ATCACACAAA\n",
      "TCACATTACC\n",
      "ATTACACAAA\n",
      "TCACACTTTT\n",
      "\n",
      "Score:\n",
      "[-36.67888427718702, -36.67888427718702, -36.67888427718702, -36.67888427718702, -36.67888427718702, -36.67888427718702, -36.67888427718702, -36.67888427718702, -36.67888427718702, -36.67888427718702, -36.67888427718702, -36.67888427718702, -36.67888427718702, -36.67888427718702, -36.67888427718702, -36.67888427718702, -36.67888427718702, -36.67888427718702, -36.67888427718702, -36.67888427718702, -36.67888427718702, -36.67888427718702, -36.67888427718702, -36.67888427718702, -36.67888427718702, -36.67888427718702, -36.67888427718702, -36.67888427718702, -36.67888427718702, -36.67888427718702, -36.67888427718702, -36.67888427718702, -36.67888427718702, -36.67888427718702, -36.67888427718702, -36.67888427718702, -36.67888427718702, -36.67888427718702, -36.67888427718702, -36.67888427718702, -36.67888427718702, -36.67888427718702, -36.67888427718702, -36.67888427718702, -36.67888427718702, -36.67888427718702, -36.67888427718702, -36.67888427718702, -36.67888427718702, -36.67888427718702, -36.67888427718702, -36.67888427718702, -36.67888427718702, -36.67888427718702, -36.67888427718702, -36.67888427718702, -36.67888427718702, -36.67888427718702, -36.67888427718702, -36.67888427718702, -36.67888427718702, -36.67888427718702, -36.67888427718702, -36.67888427718702, -36.67888427718702, -36.67888427718702, -36.67888427718702, -36.67888427718702, -36.67888427718702, -36.67888427718702, -36.67888427718702, -36.67888427718702, -36.67888427718702, -36.67888427718702, -36.67888427718702, -36.67888427718702, -36.67888427718702, -36.67888427718702, -36.67888427718702, -36.67888427718702, -36.67888427718702, -36.67888427718702, -36.67888427718702, -36.67888427718702, -36.67888427718702, -36.67888427718702, -36.67888427718702, -36.67888427718702, -36.67888427718702, -36.67888427718702, -36.67888427718702, -36.67888427718702, -36.67888427718702, -36.67888427718702, -36.67888427718702, -36.67888427718702, -36.67888427718702, -36.67888427718702, -36.67888427718702, -36.67888427718702, -36.67888427718702, -36.67888427718702, -36.67888427718702, -36.67888427718702, -36.67888427718702, -36.67888427718702, -36.67888427718702, -36.67888427718702, -36.67888427718702, -36.67888427718702, -36.67888427718702, 0, 0, 0, 0, 0, 0, 0, 0, 0]\n",
      "CPU times: user 124 ms, sys: 0 ns, total: 124 ms\n",
      "Wall time: 123 ms\n"
     ]
    }
   ],
   "source": [
    "%%time\n",
    "# Score a test sequence using Hidden Markov Model score\n",
    "mm_score = ew.score_mm(motif_num=1, seq=test_seq)\n",
    "print 'Motif instances used for scoring:'\n",
    "for m in ew.original_motives_list[0]:\n",
    "    print m[1]\n",
    "print\n",
    "print 'Score:'\n",
    "print mm_score"
   ]
  },
  {
   "cell_type": "code",
   "execution_count": null,
   "metadata": {
    "collapsed": true
   },
   "outputs": [],
   "source": []
  }
 ],
 "metadata": {
  "kernelspec": {
   "display_name": "Python 2",
   "language": "python",
   "name": "python2"
  },
  "language_info": {
   "codemirror_mode": {
    "name": "ipython",
    "version": 2
   },
   "file_extension": ".py",
   "mimetype": "text/x-python",
   "name": "python",
   "nbconvert_exporter": "python",
   "pygments_lexer": "ipython2",
   "version": "2.7.12"
  }
 },
 "nbformat": 4,
 "nbformat_minor": 0
}
