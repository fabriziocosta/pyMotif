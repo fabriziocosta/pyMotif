{
 "cells": [
  {
   "cell_type": "markdown",
   "metadata": {},
   "source": [
    "<h1>Usage example for SMoD wrapper</h1>"
   ]
  },
  {
   "cell_type": "code",
   "execution_count": 4,
   "metadata": {
    "collapsed": false
   },
   "outputs": [],
   "source": [
    "%matplotlib inline\n",
    "from smod_wrapper import SMoDWrapper\n",
    "from utilities import Weblogo"
   ]
  },
  {
   "cell_type": "code",
   "execution_count": 5,
   "metadata": {
    "collapsed": false
   },
   "outputs": [
    {
     "name": "stdout",
     "output_type": "stream",
     "text": [
      "The autoreload extension is already loaded. To reload it, use:\n",
      "  %reload_ext autoreload\n"
     ]
    }
   ],
   "source": [
    "%load_ext autoreload\n",
    "%autoreload 2\n",
    "\n",
    "from eden.util import configure_logging\n",
    "import logging\n",
    "logger = logging.getLogger()\n",
    "configure_logging(logger,verbosity=2)"
   ]
  },
  {
   "cell_type": "code",
   "execution_count": null,
   "metadata": {
    "collapsed": true
   },
   "outputs": [],
   "source": []
  },
  {
   "cell_type": "code",
   "execution_count": 6,
   "metadata": {
    "collapsed": true
   },
   "outputs": [],
   "source": [
    "train = [\n",
    "    ('ce1cg', \n",
    "     'TAATGTTTGTGCTGGTTTTTGTGGCATCGGGCGAGAATAGCGCGTGGTGTGAAAGACTGTTTTTTTGATCGTTTTCACAAAAATGGAAGTCCACAGTCTTGACAG'),\n",
    "    ('ara', \n",
    "     'GACAAAAACGCGTAACAAAAGTGTCTATAATCACGGCAGAAAAGTCCACATTGATTATTTGCACGGCGTCACACTTTGCTATGCCATAGCATTTTTATCCATAAG'),\n",
    "    ('bglr1', \n",
    "     'ACAAATCCCAATAACTTAATTATTGGGATTTGTTATATATAACTTTATAAATTCCTAAAATTACACAAAGTTAATAACTGTGAGCATGGTCATATTTTTATCAAT'),\n",
    "    ('crp', \n",
    "     'CACAAAGCGAAAGCTATGCTAAAACAGTCAGGATGCTACAGTAATACATTGATGTACTGCATGTATGCAAAGGACGTCACATTACCGTGCAGTACAGTTGATAGC'),\n",
    "    ('cya', \n",
    "     'ACGGTGCTACACTTGTATGTAGCGCATCTTTCTTTACGGTCAATCAGCAAGGTGTTAAATTGATCACGTTTTAGACCATTTTTTCGTCGTGAAACTAAAAAAACC'),\n",
    "    ('deop2', \n",
    "     'AGTGAATTATTTGAACCAGATCGCATTACAGTGATGCAAACTTGTAAGTAGATTTCCTTAATTGTGATGTGTATCGAAGTGTGTTGCGGAGTAGATGTTAGAATA'),\n",
    "    ('gale', \n",
    "     'GCGCATAAAAAACGGCTAAATTCTTGTGTAAACGATTCCACTAATTTATTCCATGTCACACTTTTCGCATCTTTGTTATGCTATGGTTATTTCATACCATAAGCC'),\n",
    "    ('ilv', \n",
    "     'GCTCCGGCGGGGTTTTTTGTTATCTGCAATTCAGTACAAAACGTGATCAACCCCTCAATTTTCCCTTTGCTGAAAAATTTTCCATTGTCTCCCCTGTAAAGCTGT'),\n",
    "    ('lac', \n",
    "     'AACGCAATTAATGTGAGTTAGCTCACTCATTAGGCACCCCAGGCTTTACACTTTATGCTTCCGGCTCGTATGTTGTGTGGAATTGTGAGCGGATAACAATTTCAC'),\n",
    "    ('male', \n",
    "     'ACATTACCGCCAATTCTGTAACAGAGATCACACAAAGCGACGGTGGGGCGTAGGGGCAAGGAGGATGGAAAGAGGTTGCCGTATAAAGAAACTAGAGTCCGTTTA'),\n",
    "    ('malk', \n",
    "     'GGAGGAGGCGGGAGGATGAGAACACGGCTTCTGTGAACTAAACCGAGGTCATGTAAGGAATTTCGTGATGTTGCTTGCAAAAATCGTGGCGATTTTATGTGCGCA'),\n",
    "    ('malt', \n",
    "     'GATCAGCGTCGTTTTAGGTGAGTTGTTAATAAAGATTTGGAATTGTGACACAGTGCAAATTCAGACACATAAAAAAACGTCATCGCTTGCATTAGAAAGGTTTCT'),\n",
    "    ('ompa', \n",
    "     'GCTGACAAAAAAGATTAAACATACCTTATACAAGACTTTTTTTTCATATGCCTGACGGAGTTCACACTTGTAAGTTTTCAACTACGTTGTAGACTTTACATCGCC'),\n",
    "    ('tnaa', \n",
    "     'TTTTTTAAACATTAAAATTCTTACGTAATTTATAATCTTTAAAAAAAGCATTTAATATTGCTCCCCGAACGATTGTGATTCGATTCACATTTAAACAATTTCAGA'),\n",
    "    ('uxu1', \n",
    "     'CCCATGAGAGTGAAATTGTTGTGATGTGGTTAACCCAATTAGAATTCGGGATTGACATGTCTTACCAAAAGGTAGAACTTATACGCCATCTCATCCGATGCAAGC'),\n",
    "    ('pbr322', \n",
    "     'CTGGCTTAACTATGCGGCATCAGAGCAGATTGTACTGAGAGTGCACCATATGCGGTGTGAAATACCGCACAGATGCGTAAGGAGAAAATACCGCATCAGGCGCTC'),\n",
    "    ('trn9cat', \n",
    "     'CTGTGACGGAAGATCACTTCGCAGAATAAATAAATCCTGGTGTCCCTGTTGATACCGGGAAGCCCTGGGCCAACTTTTGGCGAAAATGAGACGTTGATCGGCACG'),\n",
    "    ('tdc', \n",
    "     'GATTTTTATACTTTAACTTGTTGATATTTAAAGGTATTTAATTGTAATAACGATACTCTGGAAAGTATTGAAAGTTAATTTGTGAGTGGTCGCACATATCCTGTT'),\n",
    "    ]\n",
    "\n",
    "# test data consists of first 9 sequences of training data\n",
    "test = train[:9]"
   ]
  },
  {
   "cell_type": "code",
   "execution_count": 9,
   "metadata": {
    "collapsed": false
   },
   "outputs": [
    {
     "name": "stdout",
     "output_type": "stream",
     "text": [
      "Setup 0.05 secs\n",
      "Fitting\n",
      "0 (5, 32769) (0.15 secs) (delta: 0.15)\n",
      "1 (5, 32769) (0.17 secs) (delta: 0.01)\n",
      "2 (5, 32769) (0.18 secs) (delta: 0.00)\n",
      "3 (5, 32769) (0.18 secs) (delta: 0.00)\n",
      "4 (5, 32769) (0.18 secs) (delta: 0.00)\n",
      "5 (5, 32769) (0.18 secs) (delta: 0.00)\n",
      "6 (5, 32769) (0.19 secs) (delta: 0.00)\n",
      "7 (5, 32769) (0.19 secs) (delta: 0.00)\n",
      "8 (5, 32769) (0.19 secs) (delta: 0.00)\n",
      "9 (5, 32769) (0.19 secs) (delta: 0.00)\n",
      "10 (5, 32769) (0.20 secs) (delta: 0.00)\n",
      "11 (5, 32769) (0.20 secs) (delta: 0.00)\n",
      "12 (5, 32769) (0.20 secs) (delta: 0.00)\n",
      "13 (5, 32769) (0.20 secs) (delta: 0.00)\n",
      "Setup 0.07 secs\n",
      "Annotating\n",
      "0 (0.27 secs) (delta: 0.27)\n",
      "1 (0.27 secs) (delta: 0.00)\n",
      "2 (0.27 secs) (delta: 0.00)\n",
      "3 (0.27 secs) (delta: 0.00)\n",
      "4 (0.27 secs) (delta: 0.00)\n",
      "5 (0.29 secs) (delta: 0.02)\n",
      "6 (0.30 secs) (delta: 0.01)\n",
      "7 (0.30 secs) (delta: 0.00)\n",
      "8 (0.39 secs) (delta: 0.09)\n",
      "9 (0.39 secs) (delta: 0.00)\n",
      "10 (0.40 secs) (delta: 0.01)\n",
      "11 (0.44 secs) (delta: 0.04)\n",
      "12 (0.44 secs) (delta: 0.00)\n",
      "13 (0.46 secs) (delta: 0.02)\n",
      "ECDF fit on 141 values\n",
      "Optimal params: a:20.68  b:6.08\n",
      "Setup 0.05 secs\n",
      "Annotating\n",
      "0 (0.17 secs) (delta: 0.17)\n",
      "1 (0.17 secs) (delta: 0.00)\n",
      "2 (0.21 secs) (delta: 0.04)\n",
      "3 (0.21 secs) (delta: 0.00)\n",
      "4 (0.26 secs) (delta: 0.04)\n",
      "5 (0.26 secs) (delta: 0.00)\n",
      "6 (0.26 secs) (delta: 0.00)\n",
      "7 (0.28 secs) (delta: 0.02)\n",
      "8 (0.39 secs) (delta: 0.11)\n",
      "9 (0.39 secs) (delta: 0.00)\n",
      "10 (0.39 secs) (delta: 0.00)\n",
      "11 (0.42 secs) (delta: 0.02)\n",
      "12 (0.42 secs) (delta: 0.00)\n",
      "13 (0.43 secs) (delta: 0.01)\n",
      "Working on: 76 fragments\n",
      "Setup 0.03 secs\n",
      "Vectorizing\n",
      "0 (9, 32769) (0.01 secs) (delta: 0.01)\n",
      "1 (9, 32769) (0.01 secs) (delta: 0.00)\n",
      "2 (9, 32769) (0.01 secs) (delta: 0.00)\n",
      "3 (9, 32769) (0.02 secs) (delta: 0.00)\n",
      "4 (9, 32769) (0.02 secs) (delta: 0.00)\n",
      "5 (9, 32769) (0.02 secs) (delta: 0.00)\n",
      "6 (9, 32769) (0.02 secs) (delta: 0.00)\n",
      "7 (9, 32769) (0.02 secs) (delta: 0.00)\n",
      "Clustering\n",
      "working on 72 instances\n",
      "...done  in 0.23 secs\n",
      "After clustering, 9 motives\n",
      "Alignment\n",
      "Cluster 0 (#11) (0.02 secs)\n",
      "Cluster 1 (#22) (0.02 secs)\n",
      "Cluster 4 (#12) (0.01 secs)\n",
      "After motives computation, 3 motives\n",
      "Joining: 0 (#11), 4 (#12) score: 0.67 deleting: 4  [0 is now #23]\n",
      "After merge, 2 motives\n",
      "After quality filter, 2 motives\n"
     ]
    }
   ],
   "source": [
    "from sklearn.cluster import KMeans\n",
    "km = KMeans()\n",
    "\n",
    "wl=Weblogo(color_scheme = 'classic')\n",
    "\n",
    "smod = SMoDWrapper(alphabet='dna',\n",
    "                 complexity = 3,\n",
    "                 n_clusters = 3 * 3,\n",
    "                 clusterer = KMeans(),\n",
    "                 pos_block_size = 5,\n",
    "                 neg_block_size = 5,\n",
    "                 min_score=4,\n",
    "                 min_freq=0.5,\n",
    "                 min_cluster_size=10,\n",
    "                 similarity_th=.5,\n",
    "                 freq_th=0.03,\n",
    "                 weblogo_obj=wl)\n",
    "\n",
    "smod.fit(seqs=train)"
   ]
  },
  {
   "cell_type": "code",
   "execution_count": 10,
   "metadata": {
    "collapsed": false
   },
   "outputs": [
    {
     "name": "stdout",
     "output_type": "stream",
     "text": [
      "('cya<loc>77:85<loc>', 'ATTTTTTC')\n",
      "('ompa<loc>35:45<loc>', 'CTTTTTTTTC')\n",
      "('tnaa<loc>0:10<loc>', 'TTTTTTAAAC')\n",
      "('cya<loc>77:85<loc>', 'ATTTTTTC')\n",
      "('ompa<loc>35:45<loc>', 'CTTTTTTTTC')\n",
      "('tnaa<loc>0:10<loc>', 'TTTTTTAAAC')\n",
      "('cya<loc>77:85<loc>', 'ATTTTTTC')\n",
      "('ompa<loc>35:45<loc>', 'CTTTTTTTTC')\n",
      "('tnaa<loc>0:10<loc>', 'TTTTTTAAAC')\n",
      "('cya<loc>77:85<loc>', 'ATTTTTTC')\n",
      "('ompa<loc>35:45<loc>', 'CTTTTTTTTC')\n",
      "('ce1cg<loc>58:67<loc>', 'GTTTTTTTG')\n",
      "('ce1cg<loc>14:23<loc>', 'GTTTTTGTG')\n",
      "('ilv<loc>11:20<loc>', 'GTTTTTTGT')\n",
      "('ce1cg<loc>58:67<loc>', 'GTTTTTTTG')\n",
      "('ce1cg<loc>14:23<loc>', 'GTTTTTGTG')\n",
      "('ilv<loc>11:20<loc>', 'GTTTTTTGT')\n",
      "('ce1cg<loc>58:67<loc>', 'GTTTTTTTG')\n",
      "('ce1cg<loc>14:23<loc>', 'GTTTTTGTG')\n",
      "('ilv<loc>11:20<loc>', 'GTTTTTTGT')\n",
      "('ce1cg<loc>58:67<loc>', 'GTTTTTTTG')\n",
      "('ce1cg<loc>14:23<loc>', 'GTTTTTGTG')\n",
      "('ilv<loc>11:20<loc>', 'GTTTTTTGT')\n",
      "\n",
      "('ara<loc>2:9<loc>', 'CAAAAAC')\n",
      "('cya<loc>95:104<loc>', 'TAAAAAAAC')\n",
      "('gale<loc>5:13<loc>', 'TAAAAAAC')\n",
      "('malt<loc>69:78<loc>', 'TAAAAAAAC')\n",
      "('ompa<loc>5:13<loc>', 'CAAAAAAG')\n",
      "('tnaa<loc>39:48<loc>', 'TAAAAAAAG')\n",
      "('ara<loc>2:9<loc>', 'CAAAAAC')\n",
      "('cya<loc>95:104<loc>', 'TAAAAAAAC')\n",
      "('gale<loc>5:13<loc>', 'TAAAAAAC')\n",
      "('malt<loc>69:78<loc>', 'TAAAAAAAC')\n",
      "('ompa<loc>5:13<loc>', 'CAAAAAAG')\n",
      "('tnaa<loc>39:48<loc>', 'TAAAAAAAG')\n",
      "('ara<loc>2:9<loc>', 'CAAAAAC')\n",
      "('cya<loc>95:104<loc>', 'TAAAAAAAC')\n",
      "('gale<loc>5:13<loc>', 'TAAAAAAC')\n",
      "('malt<loc>69:78<loc>', 'TAAAAAAAC')\n",
      "('ompa<loc>5:13<loc>', 'CAAAAAAG')\n",
      "('tnaa<loc>39:48<loc>', 'TAAAAAAAG')\n",
      "('ara<loc>2:9<loc>', 'CAAAAAC')\n",
      "('cya<loc>95:104<loc>', 'TAAAAAAAC')\n",
      "('gale<loc>5:13<loc>', 'TAAAAAAC')\n",
      "('malt<loc>69:78<loc>', 'TAAAAAAAC')\n",
      "\n"
     ]
    }
   ],
   "source": [
    "for i in smod.original_motives_list:\n",
    "    for j in i:\n",
    "        print j\n",
    "    print"
   ]
  },
  {
   "cell_type": "code",
   "execution_count": 11,
   "metadata": {
    "collapsed": false
   },
   "outputs": [
    {
     "name": "stdout",
     "output_type": "stream",
     "text": [
      "('cya<loc>77:85<loc>', '--ATTTTTTC')\n",
      "('ompa<loc>35:45<loc>', 'CTTTTTTTTC')\n",
      "('tnaa<loc>0:10<loc>', 'TTTTTTAAAC')\n",
      "('cya<loc>77:85<loc>', '--ATTTTTTC')\n",
      "('ompa<loc>35:45<loc>', 'CTTTTTTTTC')\n",
      "('tnaa<loc>0:10<loc>', 'TTTTTTAAAC')\n",
      "('cya<loc>77:85<loc>', '--ATTTTTTC')\n",
      "('ompa<loc>35:45<loc>', 'CTTTTTTTTC')\n",
      "('tnaa<loc>0:10<loc>', 'TTTTTTAAAC')\n",
      "('cya<loc>77:85<loc>', '--ATTTTTTC')\n",
      "('ompa<loc>35:45<loc>', 'CTTTTTTTTC')\n",
      "('ce1cg<loc>58:67<loc>', '-GTTTTTTTG')\n",
      "('ce1cg<loc>14:23<loc>', '-GTTTTTGTG')\n",
      "('ilv<loc>11:20<loc>', '-GTTTTTTGT')\n",
      "('ce1cg<loc>58:67<loc>', '-GTTTTTTTG')\n",
      "('ce1cg<loc>14:23<loc>', '-GTTTTTGTG')\n",
      "('ilv<loc>11:20<loc>', '-GTTTTTTGT')\n",
      "('ce1cg<loc>58:67<loc>', '-GTTTTTTTG')\n",
      "('ce1cg<loc>14:23<loc>', '-GTTTTTGTG')\n",
      "('ilv<loc>11:20<loc>', '-GTTTTTTGT')\n",
      "('ce1cg<loc>58:67<loc>', '-GTTTTTTTG')\n",
      "('ce1cg<loc>14:23<loc>', '-GTTTTTGTG')\n",
      "('ilv<loc>11:20<loc>', '-GTTTTTTGT')\n",
      "\n",
      "('ara<loc>2:9<loc>', 'CAAAAAC--')\n",
      "('cya<loc>95:104<loc>', 'TAAAAAAAC')\n",
      "('gale<loc>5:13<loc>', 'TAAAAAAC-')\n",
      "('malt<loc>69:78<loc>', 'TAAAAAAAC')\n",
      "('ompa<loc>5:13<loc>', 'CAAAAAAG-')\n",
      "('tnaa<loc>39:48<loc>', 'TAAAAAAAG')\n",
      "('ara<loc>2:9<loc>', 'CAAAAAC--')\n",
      "('cya<loc>95:104<loc>', 'TAAAAAAAC')\n",
      "('gale<loc>5:13<loc>', 'TAAAAAAC-')\n",
      "('malt<loc>69:78<loc>', 'TAAAAAAAC')\n",
      "('ompa<loc>5:13<loc>', 'CAAAAAAG-')\n",
      "('tnaa<loc>39:48<loc>', 'TAAAAAAAG')\n",
      "('ara<loc>2:9<loc>', 'CAAAAAC--')\n",
      "('cya<loc>95:104<loc>', 'TAAAAAAAC')\n",
      "('gale<loc>5:13<loc>', 'TAAAAAAC-')\n",
      "('malt<loc>69:78<loc>', 'TAAAAAAAC')\n",
      "('ompa<loc>5:13<loc>', 'CAAAAAAG-')\n",
      "('tnaa<loc>39:48<loc>', 'TAAAAAAAG')\n",
      "('ara<loc>2:9<loc>', 'CAAAAAC--')\n",
      "('cya<loc>95:104<loc>', 'TAAAAAAAC')\n",
      "('gale<loc>5:13<loc>', 'TAAAAAAC-')\n",
      "('malt<loc>69:78<loc>', 'TAAAAAAAC')\n",
      "\n"
     ]
    }
   ],
   "source": [
    "for i in smod.aligned_motives_list:\n",
    "    for j in i:\n",
    "        print j\n",
    "    print "
   ]
  },
  {
   "cell_type": "code",
   "execution_count": 12,
   "metadata": {
    "collapsed": false
   },
   "outputs": [
    {
     "name": "stdout",
     "output_type": "stream",
     "text": [
      "('cya<loc>77:85<loc>', '-ATTTTTTC')\n",
      "('ompa<loc>35:45<loc>', 'TTTTTTTTC')\n",
      "('tnaa<loc>0:10<loc>', 'TTTTTAAAC')\n",
      "('cya<loc>77:85<loc>', 'TATTTTTTC')\n",
      "('ompa<loc>35:45<loc>', 'TTTTTTTTC')\n",
      "('tnaa<loc>0:10<loc>', 'TTTTTAAAC')\n",
      "('cya<loc>77:85<loc>', 'GATTTTTTC')\n",
      "('ompa<loc>35:45<loc>', 'TTTTTTTTC')\n",
      "('tnaa<loc>0:10<loc>', 'TTTTTAAAC')\n",
      "('cya<loc>77:85<loc>', 'TATTTTTTC')\n",
      "('ompa<loc>35:45<loc>', 'TTTTTTTTC')\n",
      "('ce1cg<loc>58:67<loc>', 'GTTTTTTTG')\n",
      "('ce1cg<loc>14:23<loc>', 'GTTTTTGTG')\n",
      "('ilv<loc>11:20<loc>', 'GTTTTTTGT')\n",
      "('ce1cg<loc>58:67<loc>', 'GTTTTTTTG')\n",
      "('ce1cg<loc>14:23<loc>', 'GTTTTTGTG')\n",
      "('ilv<loc>11:20<loc>', 'GTTTTTTGT')\n",
      "('ce1cg<loc>58:67<loc>', 'GTTTTTTTG')\n",
      "('ce1cg<loc>14:23<loc>', 'GTTTTTGTG')\n",
      "('ilv<loc>11:20<loc>', 'GTTTTTTGT')\n",
      "('ce1cg<loc>58:67<loc>', 'GTTTTTTTG')\n",
      "('ce1cg<loc>14:23<loc>', 'GTTTTTGTG')\n",
      "('ilv<loc>11:20<loc>', 'GTTTTTTGT')\n",
      "\n",
      "('ara<loc>2:9<loc>', 'CAAAAACC')\n",
      "('cya<loc>95:104<loc>', 'TAAAAAAA')\n",
      "('gale<loc>5:13<loc>', 'TAAAAAAC')\n",
      "('malt<loc>69:78<loc>', 'TAAAAAAA')\n",
      "('ompa<loc>5:13<loc>', 'CAAAAAAG')\n",
      "('tnaa<loc>39:48<loc>', 'TAAAAAAA')\n",
      "('ara<loc>2:9<loc>', 'CAAAAACA')\n",
      "('cya<loc>95:104<loc>', 'TAAAAAAA')\n",
      "('gale<loc>5:13<loc>', 'TAAAAAAC')\n",
      "('malt<loc>69:78<loc>', 'TAAAAAAA')\n",
      "('ompa<loc>5:13<loc>', 'CAAAAAAG')\n",
      "('tnaa<loc>39:48<loc>', 'TAAAAAAA')\n",
      "('ara<loc>2:9<loc>', 'CAAAAACA')\n",
      "('cya<loc>95:104<loc>', 'TAAAAAAA')\n",
      "('gale<loc>5:13<loc>', 'TAAAAAAC')\n",
      "('malt<loc>69:78<loc>', 'TAAAAAAA')\n",
      "('ompa<loc>5:13<loc>', 'CAAAAAAG')\n",
      "('tnaa<loc>39:48<loc>', 'TAAAAAAA')\n",
      "('ara<loc>2:9<loc>', 'CAAAAACA')\n",
      "('cya<loc>95:104<loc>', 'TAAAAAAA')\n",
      "('gale<loc>5:13<loc>', 'TAAAAAAC')\n",
      "('malt<loc>69:78<loc>', 'TAAAAAAA')\n",
      "\n"
     ]
    }
   ],
   "source": [
    "for i in smod.motives_list:\n",
    "    for j in i:\n",
    "        print j\n",
    "    print"
   ]
  },
  {
   "cell_type": "code",
   "execution_count": 13,
   "metadata": {
    "collapsed": false
   },
   "outputs": [
    {
     "name": "stdout",
     "output_type": "stream",
     "text": [
      "[0, 0]\n",
      "[1]\n",
      "[]\n",
      "[]\n",
      "[0, 1]\n",
      "[]\n",
      "[1]\n",
      "[]\n",
      "[]\n"
     ]
    }
   ],
   "source": [
    "predictions = smod.predict(input_seqs=test, return_list=True)\n",
    "for p in predictions: print p"
   ]
  },
  {
   "cell_type": "code",
   "execution_count": 14,
   "metadata": {
    "collapsed": false
   },
   "outputs": [
    {
     "name": "stdout",
     "output_type": "stream",
     "text": [
      "2\n",
      "1\n",
      "0\n",
      "0\n",
      "2\n",
      "0\n",
      "1\n",
      "0\n",
      "0\n"
     ]
    }
   ],
   "source": [
    "predictions = smod.predict(input_seqs=test, return_list=False)\n",
    "for p in predictions: print p"
   ]
  },
  {
   "cell_type": "code",
   "execution_count": 15,
   "metadata": {
    "collapsed": false
   },
   "outputs": [
    {
     "name": "stdout",
     "output_type": "stream",
     "text": [
      "[[(58, 68, 0.008228509929836647), (60, 70, 0.0001124991591969854)], []]\n",
      "[[], [(3, 12, 0.0028686565125332964)]]\n",
      "[[], []]\n",
      "[[], []]\n",
      "[[(67, 77, 0.00010607063581430051)], [(96, 105, 0.101427498121713)]]\n",
      "[[], []]\n",
      "[[], [(6, 15, 0.013831022471142682)]]\n",
      "[[], []]\n",
      "[[], []]\n"
     ]
    }
   ],
   "source": [
    "match = smod.transform(input_seqs=test, return_match=True)\n",
    "for m in match: print m"
   ]
  },
  {
   "cell_type": "code",
   "execution_count": 16,
   "metadata": {
    "collapsed": false
   },
   "outputs": [
    {
     "name": "stdout",
     "output_type": "stream",
     "text": [
      "[1, 0]\n",
      "[0, 1]\n",
      "[0, 0]\n",
      "[0, 0]\n",
      "[1, 1]\n",
      "[0, 0]\n",
      "[0, 1]\n",
      "[0, 0]\n",
      "[0, 0]\n"
     ]
    }
   ],
   "source": [
    "match = smod.transform(input_seqs=test, return_match=False)\n",
    "for m in match: print m"
   ]
  },
  {
   "cell_type": "code",
   "execution_count": 17,
   "metadata": {
    "collapsed": false
   },
   "outputs": [
    {
     "name": "stdout",
     "output_type": "stream",
     "text": [
      "Setup 0.06 secs\n",
      "Fitting\n",
      "0 (5, 32769) (0.14 secs) (delta: 0.14)\n",
      "1 (5, 32769) (0.15 secs) (delta: 0.01)\n",
      "2 (5, 32769) (0.15 secs) (delta: 0.00)\n",
      "3 (5, 32769) (0.15 secs) (delta: 0.00)\n",
      "4 (5, 32769) (0.15 secs) (delta: 0.00)\n",
      "5 (5, 32769) (0.17 secs) (delta: 0.01)\n",
      "6 (5, 32769) (0.17 secs) (delta: 0.00)\n",
      "7 (5, 32769) (0.17 secs) (delta: 0.00)\n",
      "8 (5, 32769) (0.17 secs) (delta: 0.00)\n",
      "9 (5, 32769) (0.17 secs) (delta: 0.00)\n",
      "10 (5, 32769) (0.18 secs) (delta: 0.00)\n",
      "11 (5, 32769) (0.19 secs) (delta: 0.01)\n",
      "12 (5, 32769) (0.20 secs) (delta: 0.01)\n",
      "13 (5, 32769) (0.21 secs) (delta: 0.00)\n",
      "Setup 0.06 secs\n",
      "Annotating\n",
      "0 (0.24 secs) (delta: 0.24)\n",
      "1 (0.24 secs) (delta: 0.00)\n",
      "2 (0.24 secs) (delta: 0.00)\n",
      "3 (0.28 secs) (delta: 0.04)\n",
      "4 (0.28 secs) (delta: 0.00)\n",
      "5 (0.28 secs) (delta: 0.00)\n",
      "6 (0.31 secs) (delta: 0.03)\n",
      "7 (0.31 secs) (delta: 0.00)\n",
      "8 (0.38 secs) (delta: 0.07)\n",
      "9 (0.43 secs) (delta: 0.05)\n",
      "10 (0.44 secs) (delta: 0.01)\n",
      "11 (0.44 secs) (delta: 0.00)\n",
      "12 (0.45 secs) (delta: 0.00)\n",
      "13 (0.45 secs) (delta: 0.01)\n",
      "ECDF fit on 136 values\n",
      "Optimal params: a:22.81  b:6.57\n",
      "Setup 0.07 secs\n",
      "Annotating\n",
      "0 (0.19 secs) (delta: 0.19)\n",
      "1 (0.23 secs) (delta: 0.04)\n",
      "2 (0.26 secs) (delta: 0.03)\n",
      "3 (0.26 secs) (delta: 0.00)\n",
      "4 (0.26 secs) (delta: 0.00)\n",
      "5 (0.26 secs) (delta: 0.00)\n",
      "6 (0.37 secs) (delta: 0.10)\n",
      "7 (0.37 secs) (delta: 0.00)\n",
      "8 (0.41 secs) (delta: 0.05)\n",
      "9 (0.41 secs) (delta: 0.00)\n",
      "10 (0.43 secs) (delta: 0.02)\n",
      "11 (0.45 secs) (delta: 0.02)\n",
      "12 (0.47 secs) (delta: 0.02)\n",
      "13 (0.47 secs) (delta: 0.00)\n",
      "Working on: 68 fragments\n",
      "Setup 0.04 secs\n",
      "Vectorizing\n",
      "0 (8, 32769) (0.00 secs) (delta: 0.00)\n",
      "1 (8, 32769) (0.01 secs) (delta: 0.01)\n",
      "2 (8, 32769) (0.01 secs) (delta: 0.00)\n",
      "3 (8, 32769) (0.01 secs) (delta: 0.00)\n",
      "4 (8, 32769) (0.01 secs) (delta: 0.00)\n",
      "5 (8, 32769) (0.02 secs) (delta: 0.00)\n",
      "6 (8, 32769) (0.02 secs) (delta: 0.00)\n",
      "7 (8, 32769) (0.02 secs) (delta: 0.00)\n",
      "Clustering\n",
      "working on 64 instances\n",
      "...done  in 0.25 secs\n",
      "After clustering, 9 motives\n",
      "Alignment\n",
      "Cluster 0 (#23) (0.02 secs)\n",
      "After motives computation, 1 motives\n",
      "After merge, 1 motives\n",
      "After quality filter, 1 motives\n",
      "0\n",
      "1\n",
      "0\n",
      "0\n",
      "0\n",
      "0\n",
      "0\n",
      "0\n",
      "0\n",
      "0\n",
      "0\n",
      "1\n",
      "1\n",
      "0\n",
      "0\n",
      "0\n",
      "0\n",
      "0\n",
      "0\n",
      "1\n",
      "0\n",
      "0\n",
      "0\n",
      "0\n",
      "0\n",
      "0\n",
      "0\n",
      "0\n",
      "0\n",
      "1\n",
      "1\n",
      "0\n",
      "0\n",
      "0\n",
      "0\n",
      "0\n",
      "0\n",
      "1\n",
      "0\n",
      "0\n",
      "0\n",
      "0\n",
      "0\n",
      "0\n",
      "0\n",
      "0\n",
      "0\n",
      "1\n",
      "1\n",
      "0\n",
      "0\n",
      "0\n",
      "0\n",
      "0\n",
      "0\n",
      "1\n",
      "0\n",
      "0\n",
      "0\n",
      "0\n",
      "0\n",
      "0\n",
      "0\n",
      "0\n",
      "0\n",
      "1\n",
      "1\n",
      "0\n",
      "0\n",
      "0\n",
      "0\n",
      "0\n"
     ]
    }
   ],
   "source": [
    "smod2= SMoDWrapper(alphabet='dna',\n",
    "                 complexity = 3,\n",
    "                 n_clusters = 3 * 3,\n",
    "                 clusterer = KMeans(),\n",
    "                 pos_block_size = 5,\n",
    "                 neg_block_size = 5,\n",
    "                 weblogo_obj=wl)\n",
    "predictions = smod2.fit_predict(seqs=train)\n",
    "for p in predictions: print p"
   ]
  },
  {
   "cell_type": "code",
   "execution_count": 18,
   "metadata": {
    "collapsed": false,
    "scrolled": false
   },
   "outputs": [
    {
     "name": "stdout",
     "output_type": "stream",
     "text": [
      "Setup 0.05 secs\n",
      "Fitting\n",
      "0 (5, 32769) (0.14 secs) (delta: 0.14)\n",
      "1 (5, 32769) (0.15 secs) (delta: 0.01)\n",
      "2 (5, 32769) (0.15 secs) (delta: 0.00)\n",
      "3 (5, 32769) (0.17 secs) (delta: 0.01)\n",
      "4 (5, 32769) (0.17 secs) (delta: 0.00)\n",
      "5 (5, 32769) (0.18 secs) (delta: 0.00)\n",
      "6 (5, 32769) (0.18 secs) (delta: 0.00)\n",
      "7 (5, 32769) (0.18 secs) (delta: 0.00)\n",
      "8 (5, 32769) (0.20 secs) (delta: 0.01)\n",
      "9 (5, 32769) (0.20 secs) (delta: 0.00)\n",
      "10 (5, 32769) (0.21 secs) (delta: 0.01)\n",
      "11 (5, 32769) (0.22 secs) (delta: 0.01)\n",
      "12 (5, 32769) (0.22 secs) (delta: 0.00)\n",
      "13 (5, 32769) (0.22 secs) (delta: 0.00)\n",
      "Setup 0.07 secs\n",
      "Annotating\n",
      "0 (0.26 secs) (delta: 0.26)\n",
      "1 (0.26 secs) (delta: 0.00)\n",
      "2 (0.26 secs) (delta: 0.00)\n",
      "3 (0.26 secs) (delta: 0.00)\n",
      "4 (0.26 secs) (delta: 0.00)\n",
      "5 (0.32 secs) (delta: 0.06)\n",
      "6 (0.32 secs) (delta: 0.00)\n",
      "7 (0.32 secs) (delta: 0.00)\n",
      "8 (0.35 secs) (delta: 0.02)\n",
      "9 (0.37 secs) (delta: 0.03)\n",
      "10 (0.38 secs) (delta: 0.00)\n",
      "11 (0.41 secs) (delta: 0.04)\n",
      "12 (0.42 secs) (delta: 0.00)\n",
      "13 (0.44 secs) (delta: 0.02)\n",
      "ECDF fit on 97 values\n",
      "Optimal params: a:15.37  b:4.36\n",
      "Setup 0.06 secs\n",
      "Annotating\n",
      "0 (0.20 secs) (delta: 0.20)\n",
      "1 (0.20 secs) (delta: 0.00)\n",
      "2 (0.23 secs) (delta: 0.03)\n",
      "3 (0.23 secs) (delta: 0.00)\n",
      "4 (0.23 secs) (delta: 0.00)\n",
      "5 (0.27 secs) (delta: 0.04)\n",
      "6 (0.27 secs) (delta: 0.00)\n",
      "7 (0.28 secs) (delta: 0.00)\n",
      "8 (0.37 secs) (delta: 0.09)\n",
      "9 (0.38 secs) (delta: 0.01)\n",
      "10 (0.41 secs) (delta: 0.02)\n",
      "11 (0.41 secs) (delta: 0.00)\n",
      "12 (0.43 secs) (delta: 0.02)\n",
      "13 (0.43 secs) (delta: 0.00)\n",
      "Working on: 48 fragments\n",
      "Setup 0.04 secs\n",
      "Vectorizing\n",
      "0 (6, 32769) (0.01 secs) (delta: 0.01)\n",
      "1 (6, 32769) (0.01 secs) (delta: 0.00)\n",
      "2 (6, 32769) (0.01 secs) (delta: 0.00)\n",
      "3 (6, 32769) (0.01 secs) (delta: 0.00)\n",
      "4 (6, 32769) (0.02 secs) (delta: 0.00)\n",
      "5 (6, 32769) (0.02 secs) (delta: 0.00)\n",
      "6 (6, 32769) (0.02 secs) (delta: 0.00)\n",
      "7 (6, 32769) (0.02 secs) (delta: 0.00)\n",
      "Clustering\n",
      "working on 48 instances\n",
      "...done  in 0.24 secs\n",
      "After clustering, 9 motives\n",
      "Alignment\n",
      "Cluster 6 (#12) (0.01 secs)\n",
      "After motives computation, 1 motives\n",
      "After merge, 1 motives\n",
      "After quality filter, 1 motives\n",
      "[0]\n",
      "[0]\n",
      "[0]\n",
      "[0]\n",
      "[1]\n",
      "[0]\n",
      "[0]\n",
      "[0]\n",
      "[0]\n",
      "[0]\n",
      "[0]\n",
      "[1]\n",
      "[0]\n",
      "[1]\n",
      "[0]\n",
      "[0]\n",
      "[0]\n",
      "[0]\n",
      "[0]\n",
      "[0]\n",
      "[0]\n",
      "[0]\n",
      "[1]\n",
      "[0]\n",
      "[0]\n",
      "[0]\n",
      "[0]\n",
      "[0]\n",
      "[0]\n",
      "[1]\n",
      "[0]\n",
      "[1]\n",
      "[0]\n",
      "[0]\n",
      "[0]\n",
      "[0]\n",
      "[0]\n",
      "[0]\n",
      "[0]\n",
      "[0]\n",
      "[1]\n",
      "[0]\n",
      "[0]\n",
      "[0]\n",
      "[0]\n",
      "[0]\n",
      "[0]\n",
      "[1]\n",
      "[0]\n",
      "[1]\n",
      "[0]\n",
      "[0]\n",
      "[0]\n",
      "[0]\n",
      "[0]\n",
      "[0]\n",
      "[0]\n",
      "[0]\n",
      "[1]\n",
      "[0]\n",
      "[0]\n",
      "[0]\n",
      "[0]\n",
      "[0]\n",
      "[0]\n",
      "[1]\n",
      "[0]\n",
      "[1]\n",
      "[0]\n",
      "[0]\n",
      "[0]\n",
      "[0]\n"
     ]
    }
   ],
   "source": [
    "smod2= SMoDWrapper(alphabet='dna',\n",
    "                 complexity = 3,\n",
    "                 n_clusters = 3 * 3,\n",
    "                 clusterer = KMeans(),\n",
    "                 pos_block_size = 5,\n",
    "                 neg_block_size = 5,\n",
    "                 weblogo_obj=wl)\n",
    "matches = smod2.fit_transform(seqs=train)\n",
    "for m in matches: print m"
   ]
  },
  {
   "cell_type": "code",
   "execution_count": 19,
   "metadata": {
    "collapsed": false
   },
   "outputs": [
    {
     "name": "stdout",
     "output_type": "stream",
     "text": [
      "('cya<loc>77:85<loc>', '-ATTTTTTC')\n",
      "('ompa<loc>35:45<loc>', 'TTTTTTTTC')\n",
      "('tnaa<loc>0:10<loc>', 'TTTTTAAAC')\n",
      "('cya<loc>77:85<loc>', 'TATTTTTTC')\n",
      "('ompa<loc>35:45<loc>', 'TTTTTTTTC')\n",
      "('tnaa<loc>0:10<loc>', 'TTTTTAAAC')\n",
      "('cya<loc>77:85<loc>', 'GATTTTTTC')\n",
      "('ompa<loc>35:45<loc>', 'TTTTTTTTC')\n",
      "('tnaa<loc>0:10<loc>', 'TTTTTAAAC')\n",
      "('cya<loc>77:85<loc>', 'TATTTTTTC')\n",
      "('ompa<loc>35:45<loc>', 'TTTTTTTTC')\n",
      "('ce1cg<loc>58:67<loc>', 'GTTTTTTTG')\n",
      "('ce1cg<loc>14:23<loc>', 'GTTTTTGTG')\n",
      "('ilv<loc>11:20<loc>', 'GTTTTTTGT')\n",
      "('ce1cg<loc>58:67<loc>', 'GTTTTTTTG')\n",
      "('ce1cg<loc>14:23<loc>', 'GTTTTTGTG')\n",
      "('ilv<loc>11:20<loc>', 'GTTTTTTGT')\n",
      "('ce1cg<loc>58:67<loc>', 'GTTTTTTTG')\n",
      "('ce1cg<loc>14:23<loc>', 'GTTTTTGTG')\n",
      "('ilv<loc>11:20<loc>', 'GTTTTTTGT')\n",
      "('ce1cg<loc>58:67<loc>', 'GTTTTTTTG')\n",
      "('ce1cg<loc>14:23<loc>', 'GTTTTTGTG')\n",
      "('ilv<loc>11:20<loc>', 'GTTTTTTGT')\n",
      "\n",
      "('ara<loc>2:9<loc>', 'CAAAAACC')\n",
      "('cya<loc>95:104<loc>', 'TAAAAAAA')\n",
      "('gale<loc>5:13<loc>', 'TAAAAAAC')\n",
      "('malt<loc>69:78<loc>', 'TAAAAAAA')\n",
      "('ompa<loc>5:13<loc>', 'CAAAAAAG')\n",
      "('tnaa<loc>39:48<loc>', 'TAAAAAAA')\n",
      "('ara<loc>2:9<loc>', 'CAAAAACA')\n",
      "('cya<loc>95:104<loc>', 'TAAAAAAA')\n",
      "('gale<loc>5:13<loc>', 'TAAAAAAC')\n",
      "('malt<loc>69:78<loc>', 'TAAAAAAA')\n",
      "('ompa<loc>5:13<loc>', 'CAAAAAAG')\n",
      "('tnaa<loc>39:48<loc>', 'TAAAAAAA')\n",
      "('ara<loc>2:9<loc>', 'CAAAAACA')\n",
      "('cya<loc>95:104<loc>', 'TAAAAAAA')\n",
      "('gale<loc>5:13<loc>', 'TAAAAAAC')\n",
      "('malt<loc>69:78<loc>', 'TAAAAAAA')\n",
      "('ompa<loc>5:13<loc>', 'CAAAAAAG')\n",
      "('tnaa<loc>39:48<loc>', 'TAAAAAAA')\n",
      "('ara<loc>2:9<loc>', 'CAAAAACA')\n",
      "('cya<loc>95:104<loc>', 'TAAAAAAA')\n",
      "('gale<loc>5:13<loc>', 'TAAAAAAC')\n",
      "('malt<loc>69:78<loc>', 'TAAAAAAA')\n",
      "\n"
     ]
    }
   ],
   "source": [
    "#printing motives as lists\n",
    "for motif in smod.motives_list:\n",
    "    for m in motif:\n",
    "        print m\n",
    "    print"
   ]
  },
  {
   "cell_type": "code",
   "execution_count": 20,
   "metadata": {
    "collapsed": false,
    "scrolled": false
   },
   "outputs": [
    {
     "data": {
      "image/png": "[encoded data removed]",
      "text/plain": [
       "<IPython.core.display.Image object>"
      ]
     },
     "metadata": {},
     "output_type": "display_data"
    },
    {
     "data": {
      "image/png": "[encoded data removed]",
      "text/plain": [
       "<IPython.core.display.Image object>"
      ]
     },
     "metadata": {},
     "output_type": "display_data"
    }
   ],
   "source": [
    "smod.display_logo(do_alignment=False)"
   ]
  },
  {
   "cell_type": "code",
   "execution_count": 21,
   "metadata": {
    "collapsed": false
   },
   "outputs": [
    {
     "data": {
      "image/png": "[encoded data removed]",
      "text/plain": [
       "<IPython.core.display.Image object>"
      ]
     },
     "metadata": {},
     "output_type": "display_data"
    }
   ],
   "source": [
    "smod.display_logo(motif_num=1)"
   ]
  },
  {
   "cell_type": "code",
   "execution_count": 22,
   "metadata": {
    "collapsed": false
   },
   "outputs": [
    {
     "name": "stdout",
     "output_type": "stream",
     "text": [
      "('cya<loc>77:85<loc>', 'ATTTTTTC-')\n",
      "('ompa<loc>35:45<loc>', 'TTTTTTTTC')\n",
      "('tnaa<loc>0:10<loc>', 'TTTTTAAAC')\n",
      "('cya<loc>77:85<loc>', 'TATTTTTTC')\n",
      "('ompa<loc>35:45<loc>', 'TTTTTTTTC')\n",
      "('tnaa<loc>0:10<loc>', 'TTTTTAAAC')\n",
      "('cya<loc>77:85<loc>', 'GATTTTTTC')\n",
      "('ompa<loc>35:45<loc>', 'TTTTTTTTC')\n",
      "('tnaa<loc>0:10<loc>', 'TTTTTAAAC')\n",
      "('cya<loc>77:85<loc>', 'TATTTTTTC')\n",
      "('ompa<loc>35:45<loc>', 'TTTTTTTTC')\n",
      "('ce1cg<loc>58:67<loc>', 'GTTTTTTTG')\n",
      "('ce1cg<loc>14:23<loc>', 'GTTTTTGTG')\n",
      "('ilv<loc>11:20<loc>', 'GTTTTTTGT')\n",
      "('ce1cg<loc>58:67<loc>', 'GTTTTTTTG')\n",
      "('ce1cg<loc>14:23<loc>', 'GTTTTTGTG')\n",
      "('ilv<loc>11:20<loc>', 'GTTTTTTGT')\n",
      "('ce1cg<loc>58:67<loc>', 'GTTTTTTTG')\n",
      "('ce1cg<loc>14:23<loc>', 'GTTTTTGTG')\n",
      "('ilv<loc>11:20<loc>', 'GTTTTTTGT')\n",
      "('ce1cg<loc>58:67<loc>', 'GTTTTTTTG')\n",
      "('ce1cg<loc>14:23<loc>', 'GTTTTTGTG')\n",
      "('ilv<loc>11:20<loc>', 'GTTTTTTGT')\n",
      "\n",
      "('ara<loc>2:9<loc>', 'CAAAAACC')\n",
      "('cya<loc>95:104<loc>', 'TAAAAAAA')\n",
      "('gale<loc>5:13<loc>', 'TAAAAAAC')\n",
      "('malt<loc>69:78<loc>', 'TAAAAAAA')\n",
      "('ompa<loc>5:13<loc>', 'CAAAAAAG')\n",
      "('tnaa<loc>39:48<loc>', 'TAAAAAAA')\n",
      "('ara<loc>2:9<loc>', 'CAAAAACA')\n",
      "('cya<loc>95:104<loc>', 'TAAAAAAA')\n",
      "('gale<loc>5:13<loc>', 'TAAAAAAC')\n",
      "('malt<loc>69:78<loc>', 'TAAAAAAA')\n",
      "('ompa<loc>5:13<loc>', 'CAAAAAAG')\n",
      "('tnaa<loc>39:48<loc>', 'TAAAAAAA')\n",
      "('ara<loc>2:9<loc>', 'CAAAAACA')\n",
      "('cya<loc>95:104<loc>', 'TAAAAAAA')\n",
      "('gale<loc>5:13<loc>', 'TAAAAAAC')\n",
      "('malt<loc>69:78<loc>', 'TAAAAAAA')\n",
      "('ompa<loc>5:13<loc>', 'CAAAAAAG')\n",
      "('tnaa<loc>39:48<loc>', 'TAAAAAAA')\n",
      "('ara<loc>2:9<loc>', 'CAAAAACA')\n",
      "('cya<loc>95:104<loc>', 'TAAAAAAA')\n",
      "('gale<loc>5:13<loc>', 'TAAAAAAC')\n",
      "('malt<loc>69:78<loc>', 'TAAAAAAA')\n",
      "\n"
     ]
    }
   ],
   "source": [
    "smod.align_motives()    #MSA with Muscle\n",
    "motives1=smod.aligned_motives_list\n",
    "for m in motives1:\n",
    "    for i in m:\n",
    "        print i\n",
    "    print"
   ]
  },
  {
   "cell_type": "code",
   "execution_count": 23,
   "metadata": {
    "collapsed": false
   },
   "outputs": [
    {
     "name": "stdout",
     "output_type": "stream",
     "text": [
      "        0      1      2      3      4      5      6      7      8      9\n",
      "-:   0.70   0.17   0.00   0.00   0.00   0.00   0.00   0.00   0.00   0.00\n",
      "A:   0.00   0.00   0.17   0.00   0.00   0.00   0.13   0.13   0.13   0.00\n",
      "C:   0.17   0.00   0.00   0.00   0.00   0.00   0.00   0.00   0.00   0.48\n",
      "G:   0.00   0.52   0.00   0.00   0.00   0.00   0.00   0.17   0.17   0.35\n",
      "T:   0.13   0.30   0.83   1.00   1.00   1.00   0.87   0.70   0.70   0.17\n",
      "\n",
      "        0      1      2      3      4      5      6      7      8\n",
      "-:   0.00   0.00   0.00   0.00   0.00   0.00   0.00   0.18   0.50\n",
      "A:   0.00   1.00   1.00   1.00   1.00   1.00   0.82   0.50   0.00\n",
      "C:   0.32   0.00   0.00   0.00   0.00   0.00   0.18   0.18   0.36\n",
      "G:   0.00   0.00   0.00   0.00   0.00   0.00   0.00   0.14   0.14\n",
      "T:   0.68   0.00   0.00   0.00   0.00   0.00   0.00   0.00   0.00\n",
      "\n"
     ]
    }
   ],
   "source": [
    "smod.display()"
   ]
  },
  {
   "cell_type": "code",
   "execution_count": 24,
   "metadata": {
    "collapsed": false
   },
   "outputs": [
    {
     "name": "stdout",
     "output_type": "stream",
     "text": [
      "        0      1      2      3      4      5      6      7      8\n",
      "-:   0.00   0.00   0.00   0.00   0.00   0.00   0.00   0.18   0.50\n",
      "A:   0.00   1.00   1.00   1.00   1.00   1.00   0.82   0.50   0.00\n",
      "C:   0.32   0.00   0.00   0.00   0.00   0.00   0.18   0.18   0.36\n",
      "G:   0.00   0.00   0.00   0.00   0.00   0.00   0.00   0.14   0.14\n",
      "T:   0.68   0.00   0.00   0.00   0.00   0.00   0.00   0.00   0.00\n",
      "\n"
     ]
    }
   ],
   "source": [
    "smod.display(motif_num=2)"
   ]
  },
  {
   "cell_type": "code",
   "execution_count": 25,
   "metadata": {
    "collapsed": false
   },
   "outputs": [
    {
     "name": "stdout",
     "output_type": "stream",
     "text": [
      "[0.0, 0.0, 0.0, 0.0, 0.0, 0.0, 0.0, 0.0, 0.0, 0.0, 0.0, 0.0, 0.0, 0.0, 0.0, 0.0, 0.0, 0.0, 0.0, 0.0, 0.0, 0.0, 0.0, 0.0, 0.0, 0.0, 0.0, 0.0, 0.0, 0.0, 0.0, 0.0, 0.0, 0.0, 0.0, 0.0, 0.0, 0.0, 0.0, 0.0]\n"
     ]
    }
   ],
   "source": [
    "# Score a test sequence using probability score\n",
    "test_seq = 'ACGT' * 10\n",
    "seq_score = smod.score(motif_num=1, seq=test_seq)\n",
    "print seq_score"
   ]
  },
  {
   "cell_type": "markdown",
   "metadata": {},
   "source": [
    "<h3>Example with HMM scoring criteria</h3>"
   ]
  },
  {
   "cell_type": "code",
   "execution_count": 27,
   "metadata": {
    "collapsed": false,
    "scrolled": false
   },
   "outputs": [
    {
     "name": "stdout",
     "output_type": "stream",
     "text": [
      "Setup 0.05 secs\n",
      "Fitting\n",
      "0 (5, 32769) (0.10 secs) (delta: 0.10)\n",
      "1 (5, 32769) (0.14 secs) (delta: 0.04)\n",
      "2 (5, 32769) (0.16 secs) (delta: 0.01)\n",
      "3 (5, 32769) (0.18 secs) (delta: 0.01)\n",
      "4 (5, 32769) (0.18 secs) (delta: 0.00)\n",
      "5 (5, 32769) (0.19 secs) (delta: 0.00)\n",
      "6 (5, 32769) (0.19 secs) (delta: 0.00)\n",
      "7 (5, 32769) (0.19 secs) (delta: 0.00)\n",
      "8 (5, 32769) (0.19 secs) (delta: 0.00)\n",
      "9 (5, 32769) (0.20 secs) (delta: 0.00)\n",
      "10 (5, 32769) (0.20 secs) (delta: 0.00)\n",
      "11 (5, 32769) (0.20 secs) (delta: 0.00)\n",
      "12 (5, 32769) (0.20 secs) (delta: 0.00)\n",
      "13 (5, 32769) (0.20 secs) (delta: 0.00)\n",
      "Setup 0.07 secs\n",
      "Annotating\n",
      "0 (0.15 secs) (delta: 0.15)\n",
      "1 (0.20 secs) (delta: 0.05)\n",
      "2 (0.20 secs) (delta: 0.00)\n",
      "3 (0.21 secs) (delta: 0.01)\n",
      "4 (0.23 secs) (delta: 0.02)\n",
      "5 (0.23 secs) (delta: 0.00)\n",
      "6 (0.23 secs) (delta: 0.00)\n",
      "7 (0.24 secs) (delta: 0.00)\n",
      "8 (0.33 secs) (delta: 0.09)\n",
      "9 (0.37 secs) (delta: 0.04)\n",
      "10 (0.37 secs) (delta: 0.00)\n",
      "11 (0.39 secs) (delta: 0.02)\n",
      "12 (0.40 secs) (delta: 0.01)\n",
      "13 (0.40 secs) (delta: 0.00)\n",
      "ECDF fit on 79 values\n",
      "Optimal params: a:13.14  b:4.23\n",
      "Setup 0.05 secs\n",
      "Annotating\n",
      "0 (0.16 secs) (delta: 0.16)\n",
      "1 (0.17 secs) (delta: 0.01)\n",
      "2 (0.20 secs) (delta: 0.03)\n",
      "3 (0.20 secs) (delta: 0.00)\n",
      "4 (0.20 secs) (delta: 0.00)\n",
      "5 (0.26 secs) (delta: 0.06)\n",
      "6 (0.26 secs) (delta: 0.00)\n",
      "7 (0.26 secs) (delta: 0.00)\n",
      "8 (0.35 secs) (delta: 0.09)\n",
      "9 (0.35 secs) (delta: 0.00)\n",
      "10 (0.38 secs) (delta: 0.02)\n",
      "11 (0.38 secs) (delta: 0.00)\n",
      "12 (0.38 secs) (delta: 0.00)\n",
      "13 (0.39 secs) (delta: 0.01)\n",
      "Working on: 40 fragments\n",
      "Setup 0.03 secs\n",
      "Vectorizing\n",
      "0 (5, 32769) (0.00 secs) (delta: 0.00)\n",
      "1 (5, 32769) (0.01 secs) (delta: 0.00)\n",
      "2 (5, 32769) (0.01 secs) (delta: 0.00)\n",
      "3 (5, 32769) (0.01 secs) (delta: 0.00)\n",
      "4 (5, 32769) (0.01 secs) (delta: 0.00)\n",
      "5 (5, 32769) (0.01 secs) (delta: 0.00)\n",
      "6 (5, 32769) (0.01 secs) (delta: 0.00)\n",
      "7 (5, 32769) (0.01 secs) (delta: 0.00)\n",
      "Clustering\n",
      "working on 40 instances\n",
      "...done  in 0.21 secs\n",
      "After clustering, 9 motives\n",
      "Alignment\n",
      "After motives computation, 0 motives\n",
      "After merge, 0 motives\n",
      "Quality filter is too strict. Ignoring filter.\n"
     ]
    },
    {
     "ename": "AttributeError",
     "evalue": "0 motives found.",
     "output_type": "error",
     "traceback": [
      "\u001b[1;31m---------------------------------------------------------------------------\u001b[0m",
      "\u001b[1;31mAttributeError\u001b[0m                            Traceback (most recent call last)",
      "\u001b[1;32m<ipython-input-27-63c6a5d04d0e>\u001b[0m in \u001b[0;36m<module>\u001b[1;34m()\u001b[0m\n\u001b[0;32m     13\u001b[0m                     \u001b[0msimilarity_th\u001b[0m\u001b[1;33m=\u001b[0m\u001b[1;36m.5\u001b[0m\u001b[1;33m,\u001b[0m\u001b[1;33m\u001b[0m\u001b[0m\n\u001b[0;32m     14\u001b[0m                     freq_th=0.03)\n\u001b[1;32m---> 15\u001b[1;33m \u001b[0mmatches\u001b[0m \u001b[1;33m=\u001b[0m \u001b[0mmeme2\u001b[0m\u001b[1;33m.\u001b[0m\u001b[0mfit_transform\u001b[0m\u001b[1;33m(\u001b[0m\u001b[0mseqs\u001b[0m\u001b[1;33m=\u001b[0m\u001b[0mtrain\u001b[0m\u001b[1;33m,\u001b[0m \u001b[0mreturn_match\u001b[0m\u001b[1;33m=\u001b[0m\u001b[0mTrue\u001b[0m\u001b[1;33m)\u001b[0m\u001b[1;33m\u001b[0m\u001b[0m\n\u001b[0m\u001b[0;32m     16\u001b[0m \u001b[1;32mfor\u001b[0m \u001b[0mm\u001b[0m \u001b[1;32min\u001b[0m \u001b[0mmatches\u001b[0m\u001b[1;33m:\u001b[0m \u001b[1;32mprint\u001b[0m \u001b[0mm\u001b[0m\u001b[1;33m\u001b[0m\u001b[0m\n",
      "\u001b[1;32m/home/zr/Dropbox/HiWi/pyMotif/smod_wrapper.py\u001b[0m in \u001b[0;36mfit_transform\u001b[1;34m(self, seqs, neg_seqs, return_match)\u001b[0m\n\u001b[0;32m    147\u001b[0m                       ):\n\u001b[0;32m    148\u001b[0m         \u001b[1;34m\"\"\"Find motives and return motif match list.\"\"\"\u001b[0m\u001b[1;33m\u001b[0m\u001b[0m\n\u001b[1;32m--> 149\u001b[1;33m         \u001b[0mself\u001b[0m\u001b[1;33m.\u001b[0m\u001b[0mfit\u001b[0m\u001b[1;33m(\u001b[0m\u001b[0mseqs\u001b[0m\u001b[1;33m=\u001b[0m\u001b[0mseqs\u001b[0m\u001b[1;33m,\u001b[0m \u001b[0mneg_seqs\u001b[0m\u001b[1;33m=\u001b[0m\u001b[0mneg_seqs\u001b[0m\u001b[1;33m)\u001b[0m\u001b[1;33m\u001b[0m\u001b[0m\n\u001b[0m\u001b[0;32m    150\u001b[0m         \u001b[1;32mreturn\u001b[0m \u001b[0mself\u001b[0m\u001b[1;33m.\u001b[0m\u001b[0mtransform\u001b[0m\u001b[1;33m(\u001b[0m\u001b[0minput_seqs\u001b[0m\u001b[1;33m=\u001b[0m\u001b[0mseqs\u001b[0m\u001b[1;33m,\u001b[0m \u001b[0mreturn_match\u001b[0m\u001b[1;33m=\u001b[0m\u001b[0mreturn_match\u001b[0m\u001b[1;33m)\u001b[0m\u001b[1;33m\u001b[0m\u001b[0m\n",
      "\u001b[1;32m/home/zr/Dropbox/HiWi/pyMotif/smod_wrapper.py\u001b[0m in \u001b[0;36mfit\u001b[1;34m(self, seqs, neg_seqs)\u001b[0m\n\u001b[0;32m    122\u001b[0m         \u001b[0mself\u001b[0m\u001b[1;33m.\u001b[0m\u001b[0mnmotifs\u001b[0m \u001b[1;33m=\u001b[0m \u001b[0mlen\u001b[0m\u001b[1;33m(\u001b[0m\u001b[0mmotives\u001b[0m\u001b[1;33m.\u001b[0m\u001b[0mkeys\u001b[0m\u001b[1;33m(\u001b[0m\u001b[1;33m)\u001b[0m\u001b[1;33m)\u001b[0m\u001b[1;33m\u001b[0m\u001b[0m\n\u001b[0;32m    123\u001b[0m         \u001b[1;32mif\u001b[0m \u001b[0mself\u001b[0m\u001b[1;33m.\u001b[0m\u001b[0mnmotifs\u001b[0m \u001b[1;33m==\u001b[0m \u001b[1;36m0\u001b[0m\u001b[1;33m:\u001b[0m\u001b[1;33m\u001b[0m\u001b[0m\n\u001b[1;32m--> 124\u001b[1;33m             \u001b[1;32mraise\u001b[0m \u001b[0mAttributeError\u001b[0m\u001b[1;33m(\u001b[0m\u001b[1;34m\"0 motives found.\"\u001b[0m\u001b[1;33m)\u001b[0m\u001b[1;33m\u001b[0m\u001b[0m\n\u001b[0m\u001b[0;32m    125\u001b[0m         \u001b[0mself\u001b[0m\u001b[1;33m.\u001b[0m\u001b[0moriginal_motives_list\u001b[0m \u001b[1;33m=\u001b[0m \u001b[0mself\u001b[0m\u001b[1;33m.\u001b[0m\u001b[0m_get_motives_list\u001b[0m\u001b[1;33m(\u001b[0m\u001b[0mmotives\u001b[0m\u001b[1;33m)\u001b[0m\u001b[1;33m[\u001b[0m\u001b[1;33m:\u001b[0m\u001b[1;33m]\u001b[0m\u001b[1;33m\u001b[0m\u001b[0m\n\u001b[0;32m    126\u001b[0m         self.aligned_motives_list = self._get_aligned_motives_list(\n",
      "\u001b[1;31mAttributeError\u001b[0m: 0 motives found."
     ]
    }
   ],
   "source": [
    "meme2 = SMoDWrapper(alphabet=\"dna\",\n",
    "                    scoring_criteria=\"hmm\", \n",
    "                    k=1, \n",
    "                    threshold=0.5,\n",
    "                    complexity = 3,\n",
    "                    n_clusters = 3 * 3,\n",
    "                    clusterer = KMeans(),\n",
    "                    pos_block_size = 5,\n",
    "                    neg_block_size = 5,\n",
    "                    min_score=4,\n",
    "                    min_freq=0.5,\n",
    "                    min_cluster_size=10,\n",
    "                    similarity_th=.5,\n",
    "                    freq_th=0.03)\n",
    "matches = meme2.fit_transform(seqs=train, return_match=True)\n",
    "for m in matches: print m"
   ]
  },
  {
   "cell_type": "code",
   "execution_count": 29,
   "metadata": {
    "collapsed": false
   },
   "outputs": [
    {
     "name": "stdout",
     "output_type": "stream",
     "text": [
      "[0.0, 0.0, 0.0, 0.0, 0.0, 0.0, 0.0, 0.0, 0.0, 0.0, 0.0, 0.0, 0.0, 0.0, 0.0, 0.0, 0.0, 0.0, 0.0, 0.0, 0.0, 0.0, 0.0, 0.0, 0.0, 0.0, 0.0, 0.0, 0.0, 0.0, 0.0, 0.0, 0.0, 0.0, 0.0, 0.0, 0.0, 0.0, 0.0, 0.0]\n",
      "CPU times: user 4 ms, sys: 0 ns, total: 4 ms\n",
      "Wall time: 2.22 ms\n"
     ]
    }
   ],
   "source": [
    "%%time\n",
    "# Markov Model score\n",
    "mm_score = smod.score(motif_num=2, seq=\"ACGT\"*10)\n",
    "print mm_score"
   ]
  },
  {
   "cell_type": "code",
   "execution_count": null,
   "metadata": {
    "collapsed": true
   },
   "outputs": [],
   "source": []
  }
 ],
 "metadata": {
  "kernelspec": {
   "display_name": "Python 2",
   "language": "python",
   "name": "python2"
  },
  "language_info": {
   "codemirror_mode": {
    "name": "ipython",
    "version": 2
   },
   "file_extension": ".py",
   "mimetype": "text/x-python",
   "name": "python",
   "nbconvert_exporter": "python",
   "pygments_lexer": "ipython2",
   "version": "2.7.12"
  }
 },
 "nbformat": 4,
 "nbformat_minor": 0
}
