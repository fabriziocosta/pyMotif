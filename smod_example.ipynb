{
 "cells": [
  {
   "cell_type": "code",
   "execution_count": 1,
   "metadata": {
    "collapsed": false
   },
   "outputs": [],
   "source": [
    "%matplotlib inline\n",
    "from smod_wrapper import SMoDWrapper\n",
    "from utilities import Weblogo"
   ]
  },
  {
   "cell_type": "code",
   "execution_count": 2,
   "metadata": {
    "collapsed": false
   },
   "outputs": [],
   "source": [
    "%load_ext autoreload\n",
    "%autoreload 2\n",
    "\n",
    "from eden.util import configure_logging\n",
    "import logging\n",
    "logger = logging.getLogger()\n",
    "configure_logging(logger,verbosity=2)"
   ]
  },
  {
   "cell_type": "code",
   "execution_count": 3,
   "metadata": {
    "collapsed": true
   },
   "outputs": [],
   "source": [
    "train = [\n",
    "    ('ce1cg', \n",
    "     'TAATGTTTGTGCTGGTTTTTGTGGCATCGGGCGAGAATAGCGCGTGGTGTGAAAGACTGTTTTTTTGATCGTTTTCACAAAAATGGAAGTCCACAGTCTTGACAG'),\n",
    "    ('ara', \n",
    "     'GACAAAAACGCGTAACAAAAGTGTCTATAATCACGGCAGAAAAGTCCACATTGATTATTTGCACGGCGTCACACTTTGCTATGCCATAGCATTTTTATCCATAAG'),\n",
    "    ('bglr1', \n",
    "     'ACAAATCCCAATAACTTAATTATTGGGATTTGTTATATATAACTTTATAAATTCCTAAAATTACACAAAGTTAATAACTGTGAGCATGGTCATATTTTTATCAAT'),\n",
    "    ('crp', \n",
    "     'CACAAAGCGAAAGCTATGCTAAAACAGTCAGGATGCTACAGTAATACATTGATGTACTGCATGTATGCAAAGGACGTCACATTACCGTGCAGTACAGTTGATAGC'),\n",
    "    ('cya', \n",
    "     'ACGGTGCTACACTTGTATGTAGCGCATCTTTCTTTACGGTCAATCAGCAAGGTGTTAAATTGATCACGTTTTAGACCATTTTTTCGTCGTGAAACTAAAAAAACC'),\n",
    "    ('deop2', \n",
    "     'AGTGAATTATTTGAACCAGATCGCATTACAGTGATGCAAACTTGTAAGTAGATTTCCTTAATTGTGATGTGTATCGAAGTGTGTTGCGGAGTAGATGTTAGAATA'),\n",
    "    ('gale', \n",
    "     'GCGCATAAAAAACGGCTAAATTCTTGTGTAAACGATTCCACTAATTTATTCCATGTCACACTTTTCGCATCTTTGTTATGCTATGGTTATTTCATACCATAAGCC'),\n",
    "    ('ilv', \n",
    "     'GCTCCGGCGGGGTTTTTTGTTATCTGCAATTCAGTACAAAACGTGATCAACCCCTCAATTTTCCCTTTGCTGAAAAATTTTCCATTGTCTCCCCTGTAAAGCTGT'),\n",
    "    ('lac', \n",
    "     'AACGCAATTAATGTGAGTTAGCTCACTCATTAGGCACCCCAGGCTTTACACTTTATGCTTCCGGCTCGTATGTTGTGTGGAATTGTGAGCGGATAACAATTTCAC'),\n",
    "    ('male', \n",
    "     'ACATTACCGCCAATTCTGTAACAGAGATCACACAAAGCGACGGTGGGGCGTAGGGGCAAGGAGGATGGAAAGAGGTTGCCGTATAAAGAAACTAGAGTCCGTTTA'),\n",
    "    ('malk', \n",
    "     'GGAGGAGGCGGGAGGATGAGAACACGGCTTCTGTGAACTAAACCGAGGTCATGTAAGGAATTTCGTGATGTTGCTTGCAAAAATCGTGGCGATTTTATGTGCGCA'),\n",
    "    ('malt', \n",
    "     'GATCAGCGTCGTTTTAGGTGAGTTGTTAATAAAGATTTGGAATTGTGACACAGTGCAAATTCAGACACATAAAAAAACGTCATCGCTTGCATTAGAAAGGTTTCT'),\n",
    "    ('ompa', \n",
    "     'GCTGACAAAAAAGATTAAACATACCTTATACAAGACTTTTTTTTCATATGCCTGACGGAGTTCACACTTGTAAGTTTTCAACTACGTTGTAGACTTTACATCGCC'),\n",
    "    ('tnaa', \n",
    "     'TTTTTTAAACATTAAAATTCTTACGTAATTTATAATCTTTAAAAAAAGCATTTAATATTGCTCCCCGAACGATTGTGATTCGATTCACATTTAAACAATTTCAGA'),\n",
    "    ('uxu1', \n",
    "     'CCCATGAGAGTGAAATTGTTGTGATGTGGTTAACCCAATTAGAATTCGGGATTGACATGTCTTACCAAAAGGTAGAACTTATACGCCATCTCATCCGATGCAAGC'),\n",
    "    ('pbr322', \n",
    "     'CTGGCTTAACTATGCGGCATCAGAGCAGATTGTACTGAGAGTGCACCATATGCGGTGTGAAATACCGCACAGATGCGTAAGGAGAAAATACCGCATCAGGCGCTC'),\n",
    "    ('trn9cat', \n",
    "     'CTGTGACGGAAGATCACTTCGCAGAATAAATAAATCCTGGTGTCCCTGTTGATACCGGGAAGCCCTGGGCCAACTTTTGGCGAAAATGAGACGTTGATCGGCACG'),\n",
    "    ('tdc', \n",
    "     'GATTTTTATACTTTAACTTGTTGATATTTAAAGGTATTTAATTGTAATAACGATACTCTGGAAAGTATTGAAAGTTAATTTGTGAGTGGTCGCACATATCCTGTT'),\n",
    "    ]\n",
    "\n",
    "# test data consists of first 9 sequences of training data\n",
    "test = train[:9]"
   ]
  },
  {
   "cell_type": "code",
   "execution_count": 5,
   "metadata": {
    "collapsed": false
   },
   "outputs": [
    {
     "name": "stdout",
     "output_type": "stream",
     "text": [
      "Setup 0.04 secs\n",
      "Fitting\n",
      "0 (5, 32769) (0.05 secs) (delta: 0.05)\n",
      "1 (5, 32769) (0.05 secs) (delta: 0.00)\n",
      "2 (5, 32769) (0.06 secs) (delta: 0.00)\n",
      "Setup 0.05 secs\n",
      "Annotating\n",
      "0 (0.17 secs) (delta: 0.17)\n",
      "1 (0.17 secs) (delta: 0.00)\n",
      "2 (0.17 secs) (delta: 0.00)\n",
      "Setup 0.04 secs\n",
      "Vectorizing\n",
      "0 (5, 32769) (0.00 secs) (delta: 0.00)\n",
      "1 (5, 32769) (0.00 secs) (delta: 0.00)\n",
      "2 (5, 32769) (0.01 secs) (delta: 0.00)\n",
      "3 (5, 32769) (0.01 secs) (delta: 0.00)\n",
      "Clustering\n",
      "working on 20 instances\n",
      "...done  in 0.11 secs\n"
     ]
    },
    {
     "name": "stderr",
     "output_type": "stream",
     "text": [
      "/home/zr/anaconda2/envs/hiwi2/lib/python2.7/site-packages/sklearn/cluster/k_means_.py:1279: DeprecationWarning: This function is deprecated. Please call randint(0, 19 + 1) instead\n",
      "  0, n_samples - 1, init_size)\n",
      "/home/zr/anaconda2/envs/hiwi2/lib/python2.7/site-packages/sklearn/cluster/k_means_.py:1328: DeprecationWarning: This function is deprecated. Please call randint(0, 19 + 1) instead\n",
      "  0, n_samples - 1, self.batch_size)\n",
      "/home/zr/anaconda2/envs/hiwi2/lib/python2.7/site-packages/sklearn/cluster/k_means_.py:1328: DeprecationWarning: This function is deprecated. Please call randint(0, 19 + 1) instead\n",
      "  0, n_samples - 1, self.batch_size)\n",
      "/home/zr/anaconda2/envs/hiwi2/lib/python2.7/site-packages/sklearn/cluster/k_means_.py:1328: DeprecationWarning: This function is deprecated. Please call randint(0, 19 + 1) instead\n",
      "  0, n_samples - 1, self.batch_size)\n",
      "/home/zr/anaconda2/envs/hiwi2/lib/python2.7/site-packages/sklearn/cluster/k_means_.py:1328: DeprecationWarning: This function is deprecated. Please call randint(0, 19 + 1) instead\n",
      "  0, n_samples - 1, self.batch_size)\n",
      "/home/zr/anaconda2/envs/hiwi2/lib/python2.7/site-packages/sklearn/cluster/k_means_.py:1328: DeprecationWarning: This function is deprecated. Please call randint(0, 19 + 1) instead\n",
      "  0, n_samples - 1, self.batch_size)\n",
      "/home/zr/anaconda2/envs/hiwi2/lib/python2.7/site-packages/sklearn/cluster/k_means_.py:1328: DeprecationWarning: This function is deprecated. Please call randint(0, 19 + 1) instead\n",
      "  0, n_samples - 1, self.batch_size)\n",
      "/home/zr/anaconda2/envs/hiwi2/lib/python2.7/site-packages/sklearn/cluster/k_means_.py:1328: DeprecationWarning: This function is deprecated. Please call randint(0, 19 + 1) instead\n",
      "  0, n_samples - 1, self.batch_size)\n",
      "/home/zr/anaconda2/envs/hiwi2/lib/python2.7/site-packages/sklearn/cluster/k_means_.py:1328: DeprecationWarning: This function is deprecated. Please call randint(0, 19 + 1) instead\n",
      "  0, n_samples - 1, self.batch_size)\n",
      "/home/zr/anaconda2/envs/hiwi2/lib/python2.7/site-packages/sklearn/cluster/k_means_.py:1328: DeprecationWarning: This function is deprecated. Please call randint(0, 19 + 1) instead\n",
      "  0, n_samples - 1, self.batch_size)\n",
      "/home/zr/anaconda2/envs/hiwi2/lib/python2.7/site-packages/sklearn/cluster/k_means_.py:1328: DeprecationWarning: This function is deprecated. Please call randint(0, 19 + 1) instead\n",
      "  0, n_samples - 1, self.batch_size)\n",
      "/home/zr/anaconda2/envs/hiwi2/lib/python2.7/site-packages/sklearn/cluster/k_means_.py:1328: DeprecationWarning: This function is deprecated. Please call randint(0, 19 + 1) instead\n",
      "  0, n_samples - 1, self.batch_size)\n",
      "/home/zr/anaconda2/envs/hiwi2/lib/python2.7/site-packages/sklearn/cluster/k_means_.py:1328: DeprecationWarning: This function is deprecated. Please call randint(0, 19 + 1) instead\n",
      "  0, n_samples - 1, self.batch_size)\n",
      "/home/zr/anaconda2/envs/hiwi2/lib/python2.7/site-packages/sklearn/cluster/k_means_.py:1328: DeprecationWarning: This function is deprecated. Please call randint(0, 19 + 1) instead\n",
      "  0, n_samples - 1, self.batch_size)\n",
      "/home/zr/anaconda2/envs/hiwi2/lib/python2.7/site-packages/sklearn/cluster/k_means_.py:1328: DeprecationWarning: This function is deprecated. Please call randint(0, 19 + 1) instead\n",
      "  0, n_samples - 1, self.batch_size)\n",
      "/home/zr/anaconda2/envs/hiwi2/lib/python2.7/site-packages/sklearn/cluster/k_means_.py:1328: DeprecationWarning: This function is deprecated. Please call randint(0, 19 + 1) instead\n",
      "  0, n_samples - 1, self.batch_size)\n",
      "/home/zr/anaconda2/envs/hiwi2/lib/python2.7/site-packages/sklearn/cluster/k_means_.py:1328: DeprecationWarning: This function is deprecated. Please call randint(0, 19 + 1) instead\n",
      "  0, n_samples - 1, self.batch_size)\n",
      "/home/zr/anaconda2/envs/hiwi2/lib/python2.7/site-packages/sklearn/cluster/k_means_.py:1328: DeprecationWarning: This function is deprecated. Please call randint(0, 19 + 1) instead\n",
      "  0, n_samples - 1, self.batch_size)\n",
      "/home/zr/anaconda2/envs/hiwi2/lib/python2.7/site-packages/sklearn/cluster/k_means_.py:1328: DeprecationWarning: This function is deprecated. Please call randint(0, 19 + 1) instead\n",
      "  0, n_samples - 1, self.batch_size)\n",
      "/home/zr/anaconda2/envs/hiwi2/lib/python2.7/site-packages/sklearn/cluster/k_means_.py:1328: DeprecationWarning: This function is deprecated. Please call randint(0, 19 + 1) instead\n",
      "  0, n_samples - 1, self.batch_size)\n",
      "/home/zr/anaconda2/envs/hiwi2/lib/python2.7/site-packages/sklearn/cluster/k_means_.py:1328: DeprecationWarning: This function is deprecated. Please call randint(0, 19 + 1) instead\n",
      "  0, n_samples - 1, self.batch_size)\n",
      "/home/zr/anaconda2/envs/hiwi2/lib/python2.7/site-packages/sklearn/cluster/k_means_.py:1328: DeprecationWarning: This function is deprecated. Please call randint(0, 19 + 1) instead\n",
      "  0, n_samples - 1, self.batch_size)\n"
     ]
    }
   ],
   "source": [
    "from sklearn.cluster import KMeans\n",
    "km = KMeans(n_clusters=3)\n",
    "\n",
    "wl=Weblogo(color_scheme = 'classic')\n",
    "\n",
    "ew = SMoDWrapper(alphabet='dna',\n",
    "                 complexity = 3,\n",
    "                 pos_block_size = 5,\n",
    "                 neg_block_size = 5,\n",
    "                 weblogo_obj=wl)\n",
    "\n",
    "ew.fit(seqs=train)"
   ]
  },
  {
   "cell_type": "code",
   "execution_count": 6,
   "metadata": {
    "collapsed": false
   },
   "outputs": [
    {
     "name": "stdout",
     "output_type": "stream",
     "text": [
      "('ce1cg*57:67', 'TGTTTTTTTG')\n",
      "('ce1cg*16:24', 'TTTTGTGG')\n",
      "('cya*77:85', 'ATTTTTTC')\n",
      "('ilv*11:20', 'GTTTTTTGT')\n",
      "('ompa*35:45', 'CTTTTTTTTC')\n",
      "('tnaa*0:6', 'TTTTTT')\n",
      "\n",
      "('tnaa*69:78', 'CGATTGTGA')\n",
      "\n",
      "('ompa*5:14', 'CAAAAAAGA')\n",
      "('tnaa*40:49', 'AAAAAAAGC')\n",
      "\n",
      "('deop2*62:72', 'TGTGATGTGT')\n",
      "('malk*63:72', 'CGTGATGTT')\n",
      "\n",
      "('ce1cg*42:52', 'CGTGGTGTGA')\n",
      "('bglr1*77:85', 'CTGTGAGC')\n",
      "\n",
      "('ompa*62:72', 'CACACTTGTA')\n",
      "\n",
      "('ara*87:95', 'AGCATTTT')\n",
      "\n",
      "('deop2*77:84', 'AGTGTGT')\n",
      "('gale*23:30', 'TTGTGTA')\n",
      "('lac*70:80', 'TGTTGTGTGG')\n",
      "\n",
      "('ara*15:25', 'CAAAAGTGTC')\n",
      "\n",
      "('crp*49:56', 'TGATGTA')\n",
      "\n"
     ]
    }
   ],
   "source": [
    "for i in ew.original_motives_list:\n",
    "    for j in i:\n",
    "        print j\n",
    "    print"
   ]
  },
  {
   "cell_type": "code",
   "execution_count": 7,
   "metadata": {
    "collapsed": false
   },
   "outputs": [
    {
     "name": "stdout",
     "output_type": "stream",
     "text": [
      "('ce1cg*57:67', 'TGTTTTTTTG')\n",
      "('ce1cg*16:24', '--TTTTGTGG')\n",
      "('cya*77:85', '--ATTTTTTC')\n",
      "('ilv*11:20', '-GTTTTTTGT')\n",
      "('ompa*35:45', 'CTTTTTTTTC')\n",
      "('tnaa*0:6', '--TTTTTT--')\n",
      "\n",
      "('tnaa*69:78', 'CGATTGTGA')\n",
      "\n",
      "('ompa*5:14', 'CAAAAAAGA')\n",
      "('tnaa*40:49', 'AAAAAAAGC')\n",
      "\n",
      "('deop2*62:72', 'TGTGATGTGT')\n",
      "('malk*63:72', 'CGTGATGT-T')\n",
      "\n",
      "('ce1cg*42:52', 'CGTGGTGTGA--')\n",
      "('bglr1*77:85', 'C----TGTGAGC')\n",
      "\n",
      "('ompa*62:72', 'CACACTTGTA')\n",
      "\n",
      "('ara*87:95', 'AGCATTTT')\n",
      "\n",
      "('deop2*77:84', '---AGTGTGT')\n",
      "('gale*23:30', '--TTGTGTA-')\n",
      "('lac*70:80', 'TGTTGTGTGG')\n",
      "\n",
      "('ara*15:25', 'CAAAAGTGTC')\n",
      "\n",
      "('crp*49:56', 'TGATGTA')\n",
      "\n"
     ]
    }
   ],
   "source": [
    "for i in ew.aligned_motives_list:\n",
    "    for j in i:\n",
    "        print j\n",
    "    print "
   ]
  },
  {
   "cell_type": "code",
   "execution_count": 8,
   "metadata": {
    "collapsed": false
   },
   "outputs": [
    {
     "name": "stdout",
     "output_type": "stream",
     "text": [
      "('ce1cg*57:67', 'TTTTTTTG')\n",
      "('ce1cg*16:24', 'TTTTGTGG')\n",
      "('cya*77:85', 'ATTTTTTC')\n",
      "('ilv*11:20', 'TTTTTTGT')\n",
      "('ompa*35:45', 'TTTTTTTC')\n",
      "('tnaa*0:6', 'TTTTTT-C')\n",
      "\n",
      "('tnaa*69:78', 'CGATTGTGA')\n",
      "\n",
      "('ompa*5:14', 'CAAAAAAGA')\n",
      "('tnaa*40:49', 'AAAAAAAGC')\n",
      "\n",
      "('deop2*62:72', 'TGTGATGTT')\n",
      "('malk*63:72', 'CGTGATGTT')\n",
      "\n",
      "('ce1cg*42:52', 'CTGTGAC')\n",
      "('bglr1*77:85', 'CTGTGAC')\n",
      "\n",
      "('ompa*62:72', 'CACACTTGTA')\n",
      "\n",
      "('ara*87:95', 'AGCATTTT')\n",
      "\n",
      "('deop2*77:84', '-AGTGTG')\n",
      "('gale*23:30', 'TTGTGTA')\n",
      "('lac*70:80', 'TTGTGTG')\n",
      "\n",
      "('ara*15:25', 'CAAAAGTGTC')\n",
      "\n",
      "('crp*49:56', 'TGATGTA')\n",
      "\n"
     ]
    }
   ],
   "source": [
    "for i in ew.motives_list:\n",
    "    for j in i:\n",
    "        print j\n",
    "    print"
   ]
  },
  {
   "cell_type": "code",
   "execution_count": 9,
   "metadata": {
    "collapsed": false
   },
   "outputs": [
    {
     "name": "stdout",
     "output_type": "stream",
     "text": [
      "[0]\n",
      "[6, 8]\n",
      "[]\n",
      "[9]\n",
      "[]\n",
      "[3]\n",
      "[]\n",
      "[]\n",
      "[7]\n"
     ]
    }
   ],
   "source": [
    "predictions = ew.predict(input_seqs=test, return_list=True)\n",
    "for p in predictions: print p"
   ]
  },
  {
   "cell_type": "code",
   "execution_count": 10,
   "metadata": {
    "collapsed": false
   },
   "outputs": [
    {
     "name": "stdout",
     "output_type": "stream",
     "text": [
      "1\n",
      "2\n",
      "0\n",
      "1\n",
      "0\n",
      "1\n",
      "0\n",
      "0\n",
      "1\n"
     ]
    }
   ],
   "source": [
    "predictions = ew.predict(input_seqs=test, return_list=False)\n",
    "for p in predictions: print p"
   ]
  },
  {
   "cell_type": "code",
   "execution_count": 11,
   "metadata": {
    "collapsed": false
   },
   "outputs": [
    {
     "name": "stdout",
     "output_type": "stream",
     "text": [
      "[[(58, 68, 0.006430041152263374)], [], [], [], [], [], [], [], [], []]\n",
      "[[], [], [], [], [], [], [(88, 96, 1.0)], [], [(16, 26, 1.0)], []]\n",
      "[[], [], [], [], [], [], [], [], [], []]\n",
      "[[], [], [], [], [], [], [], [], [], [(50, 57, 1.0)]]\n",
      "[[], [], [], [], [], [], [], [], [], []]\n",
      "[[], [], [], [(63, 73, 0.25)], [], [], [], [], [], []]\n",
      "[[], [], [], [], [], [], [], [], [], []]\n",
      "[[], [], [], [], [], [], [], [], [], []]\n",
      "[[], [], [], [], [], [], [], [(71, 81, 0.010973936899862823)], [], []]\n"
     ]
    }
   ],
   "source": [
    "match = ew.transform(input_seqs=test, return_match=True)\n",
    "for m in match: print m"
   ]
  },
  {
   "cell_type": "code",
   "execution_count": 12,
   "metadata": {
    "collapsed": false
   },
   "outputs": [
    {
     "name": "stdout",
     "output_type": "stream",
     "text": [
      "[1, 0, 0, 0, 0, 0, 0, 0, 0, 0]\n",
      "[0, 0, 0, 0, 0, 0, 1, 0, 1, 0]\n",
      "[0, 0, 0, 0, 0, 0, 0, 0, 0, 0]\n",
      "[0, 0, 0, 0, 0, 0, 0, 0, 0, 1]\n",
      "[0, 0, 0, 0, 0, 0, 0, 0, 0, 0]\n",
      "[0, 0, 0, 1, 0, 0, 0, 0, 0, 0]\n",
      "[0, 0, 0, 0, 0, 0, 0, 0, 0, 0]\n",
      "[0, 0, 0, 0, 0, 0, 0, 0, 0, 0]\n",
      "[0, 0, 0, 0, 0, 0, 0, 1, 0, 0]\n"
     ]
    }
   ],
   "source": [
    "match = ew.transform(input_seqs=test, return_match=False)\n",
    "for m in match: print m"
   ]
  },
  {
   "cell_type": "code",
   "execution_count": 13,
   "metadata": {
    "collapsed": false
   },
   "outputs": [
    {
     "name": "stdout",
     "output_type": "stream",
     "text": [
      "Setup 0.04 secs\n",
      "Fitting\n",
      "0 (5, 32769) (0.05 secs) (delta: 0.05)\n",
      "1 (5, 32769) (0.05 secs) (delta: 0.00)\n",
      "2 (5, 32769) (0.05 secs) (delta: 0.00)\n",
      "Setup 0.05 secs\n",
      "Annotating\n",
      "0 (0.14 secs) (delta: 0.14)\n",
      "1 (0.20 secs) (delta: 0.06)\n",
      "2 (0.20 secs) (delta: 0.00)\n",
      "Setup 0.04 secs\n",
      "Vectorizing\n",
      "0 (5, 32769) (0.00 secs) (delta: 0.00)\n",
      "1 (5, 32769) (0.00 secs) (delta: 0.00)\n",
      "2 (5, 32769) (0.01 secs) (delta: 0.00)\n",
      "3 (5, 32769) (0.01 secs) (delta: 0.00)\n",
      "4 (5, 32769) (0.01 secs) (delta: 0.00)\n",
      "Clustering\n",
      "working on 25 instances\n",
      "...done  in 0.09 secs\n"
     ]
    },
    {
     "name": "stderr",
     "output_type": "stream",
     "text": [
      "/home/zr/anaconda2/envs/hiwi2/lib/python2.7/site-packages/sklearn/cluster/k_means_.py:1279: DeprecationWarning: This function is deprecated. Please call randint(0, 24 + 1) instead\n",
      "  0, n_samples - 1, init_size)\n",
      "/home/zr/anaconda2/envs/hiwi2/lib/python2.7/site-packages/sklearn/cluster/k_means_.py:1328: DeprecationWarning: This function is deprecated. Please call randint(0, 24 + 1) instead\n",
      "  0, n_samples - 1, self.batch_size)\n",
      "/home/zr/anaconda2/envs/hiwi2/lib/python2.7/site-packages/sklearn/cluster/k_means_.py:1328: DeprecationWarning: This function is deprecated. Please call randint(0, 24 + 1) instead\n",
      "  0, n_samples - 1, self.batch_size)\n",
      "/home/zr/anaconda2/envs/hiwi2/lib/python2.7/site-packages/sklearn/cluster/k_means_.py:1328: DeprecationWarning: This function is deprecated. Please call randint(0, 24 + 1) instead\n",
      "  0, n_samples - 1, self.batch_size)\n",
      "/home/zr/anaconda2/envs/hiwi2/lib/python2.7/site-packages/sklearn/cluster/k_means_.py:1328: DeprecationWarning: This function is deprecated. Please call randint(0, 24 + 1) instead\n",
      "  0, n_samples - 1, self.batch_size)\n",
      "/home/zr/anaconda2/envs/hiwi2/lib/python2.7/site-packages/sklearn/cluster/k_means_.py:1328: DeprecationWarning: This function is deprecated. Please call randint(0, 24 + 1) instead\n",
      "  0, n_samples - 1, self.batch_size)\n",
      "/home/zr/anaconda2/envs/hiwi2/lib/python2.7/site-packages/sklearn/cluster/k_means_.py:1328: DeprecationWarning: This function is deprecated. Please call randint(0, 24 + 1) instead\n",
      "  0, n_samples - 1, self.batch_size)\n",
      "/home/zr/anaconda2/envs/hiwi2/lib/python2.7/site-packages/sklearn/cluster/k_means_.py:1328: DeprecationWarning: This function is deprecated. Please call randint(0, 24 + 1) instead\n",
      "  0, n_samples - 1, self.batch_size)\n",
      "/home/zr/anaconda2/envs/hiwi2/lib/python2.7/site-packages/sklearn/cluster/k_means_.py:1328: DeprecationWarning: This function is deprecated. Please call randint(0, 24 + 1) instead\n",
      "  0, n_samples - 1, self.batch_size)\n",
      "/home/zr/anaconda2/envs/hiwi2/lib/python2.7/site-packages/sklearn/cluster/k_means_.py:1328: DeprecationWarning: This function is deprecated. Please call randint(0, 24 + 1) instead\n",
      "  0, n_samples - 1, self.batch_size)\n",
      "/home/zr/anaconda2/envs/hiwi2/lib/python2.7/site-packages/sklearn/cluster/k_means_.py:1328: DeprecationWarning: This function is deprecated. Please call randint(0, 24 + 1) instead\n",
      "  0, n_samples - 1, self.batch_size)\n",
      "/home/zr/anaconda2/envs/hiwi2/lib/python2.7/site-packages/sklearn/cluster/k_means_.py:1328: DeprecationWarning: This function is deprecated. Please call randint(0, 24 + 1) instead\n",
      "  0, n_samples - 1, self.batch_size)\n",
      "/home/zr/anaconda2/envs/hiwi2/lib/python2.7/site-packages/sklearn/cluster/k_means_.py:1328: DeprecationWarning: This function is deprecated. Please call randint(0, 24 + 1) instead\n",
      "  0, n_samples - 1, self.batch_size)\n",
      "/home/zr/anaconda2/envs/hiwi2/lib/python2.7/site-packages/sklearn/cluster/k_means_.py:1328: DeprecationWarning: This function is deprecated. Please call randint(0, 24 + 1) instead\n",
      "  0, n_samples - 1, self.batch_size)\n",
      "/home/zr/anaconda2/envs/hiwi2/lib/python2.7/site-packages/sklearn/cluster/k_means_.py:1328: DeprecationWarning: This function is deprecated. Please call randint(0, 24 + 1) instead\n",
      "  0, n_samples - 1, self.batch_size)\n",
      "/home/zr/anaconda2/envs/hiwi2/lib/python2.7/site-packages/sklearn/cluster/k_means_.py:1328: DeprecationWarning: This function is deprecated. Please call randint(0, 24 + 1) instead\n",
      "  0, n_samples - 1, self.batch_size)\n"
     ]
    },
    {
     "name": "stdout",
     "output_type": "stream",
     "text": [
      "2\n",
      "1\n",
      "1\n",
      "1\n",
      "0\n",
      "1\n",
      "1\n",
      "2\n",
      "1\n",
      "2\n",
      "0\n",
      "0\n",
      "2\n",
      "0\n",
      "0\n",
      "1\n",
      "0\n",
      "0\n"
     ]
    }
   ],
   "source": [
    "ew2= SMoDWrapper(alphabet='dna',\n",
    "                 complexity = 3,\n",
    "                 pos_block_size = 5,\n",
    "                 neg_block_size = 5,\n",
    "                 weblogo_obj=wl)\n",
    "predictions = ew2.fit_predict(seqs=train)\n",
    "for p in predictions: print p"
   ]
  },
  {
   "cell_type": "code",
   "execution_count": 15,
   "metadata": {
    "collapsed": false,
    "scrolled": false
   },
   "outputs": [
    {
     "name": "stdout",
     "output_type": "stream",
     "text": [
      "Setup 0.04 secs\n",
      "Fitting\n",
      "0 (5, 32769) (0.03 secs) (delta: 0.03)\n",
      "1 (5, 32769) (0.05 secs) (delta: 0.02)\n",
      "2 (5, 32769) (0.05 secs) (delta: 0.00)\n",
      "Setup 0.05 secs\n",
      "Annotating\n",
      "0 (0.15 secs) (delta: 0.15)\n",
      "1 (0.20 secs) (delta: 0.05)\n",
      "2 (0.20 secs) (delta: 0.00)\n",
      "Setup 0.04 secs\n",
      "Vectorizing\n",
      "0 (5, 32769) (0.00 secs) (delta: 0.00)\n",
      "1 (5, 32769) (0.00 secs) (delta: 0.00)\n",
      "2 (5, 32769) (0.01 secs) (delta: 0.00)\n",
      "3 (5, 32769) (0.01 secs) (delta: 0.00)\n",
      "4 (5, 32769) (0.01 secs) (delta: 0.00)\n",
      "Clustering\n",
      "working on 25 instances\n",
      "...done  in 0.11 secs\n"
     ]
    },
    {
     "name": "stderr",
     "output_type": "stream",
     "text": [
      "/home/zr/anaconda2/envs/hiwi2/lib/python2.7/site-packages/sklearn/cluster/k_means_.py:1279: DeprecationWarning: This function is deprecated. Please call randint(0, 24 + 1) instead\n",
      "  0, n_samples - 1, init_size)\n",
      "/home/zr/anaconda2/envs/hiwi2/lib/python2.7/site-packages/sklearn/cluster/k_means_.py:1328: DeprecationWarning: This function is deprecated. Please call randint(0, 24 + 1) instead\n",
      "  0, n_samples - 1, self.batch_size)\n",
      "/home/zr/anaconda2/envs/hiwi2/lib/python2.7/site-packages/sklearn/cluster/k_means_.py:1328: DeprecationWarning: This function is deprecated. Please call randint(0, 24 + 1) instead\n",
      "  0, n_samples - 1, self.batch_size)\n",
      "/home/zr/anaconda2/envs/hiwi2/lib/python2.7/site-packages/sklearn/cluster/k_means_.py:1328: DeprecationWarning: This function is deprecated. Please call randint(0, 24 + 1) instead\n",
      "  0, n_samples - 1, self.batch_size)\n",
      "/home/zr/anaconda2/envs/hiwi2/lib/python2.7/site-packages/sklearn/cluster/k_means_.py:1328: DeprecationWarning: This function is deprecated. Please call randint(0, 24 + 1) instead\n",
      "  0, n_samples - 1, self.batch_size)\n",
      "/home/zr/anaconda2/envs/hiwi2/lib/python2.7/site-packages/sklearn/cluster/k_means_.py:1328: DeprecationWarning: This function is deprecated. Please call randint(0, 24 + 1) instead\n",
      "  0, n_samples - 1, self.batch_size)\n",
      "/home/zr/anaconda2/envs/hiwi2/lib/python2.7/site-packages/sklearn/cluster/k_means_.py:1328: DeprecationWarning: This function is deprecated. Please call randint(0, 24 + 1) instead\n",
      "  0, n_samples - 1, self.batch_size)\n",
      "/home/zr/anaconda2/envs/hiwi2/lib/python2.7/site-packages/sklearn/cluster/k_means_.py:1328: DeprecationWarning: This function is deprecated. Please call randint(0, 24 + 1) instead\n",
      "  0, n_samples - 1, self.batch_size)\n",
      "/home/zr/anaconda2/envs/hiwi2/lib/python2.7/site-packages/sklearn/cluster/k_means_.py:1328: DeprecationWarning: This function is deprecated. Please call randint(0, 24 + 1) instead\n",
      "  0, n_samples - 1, self.batch_size)\n",
      "/home/zr/anaconda2/envs/hiwi2/lib/python2.7/site-packages/sklearn/cluster/k_means_.py:1328: DeprecationWarning: This function is deprecated. Please call randint(0, 24 + 1) instead\n",
      "  0, n_samples - 1, self.batch_size)\n",
      "/home/zr/anaconda2/envs/hiwi2/lib/python2.7/site-packages/sklearn/cluster/k_means_.py:1328: DeprecationWarning: This function is deprecated. Please call randint(0, 24 + 1) instead\n",
      "  0, n_samples - 1, self.batch_size)\n",
      "/home/zr/anaconda2/envs/hiwi2/lib/python2.7/site-packages/sklearn/cluster/k_means_.py:1328: DeprecationWarning: This function is deprecated. Please call randint(0, 24 + 1) instead\n",
      "  0, n_samples - 1, self.batch_size)\n",
      "/home/zr/anaconda2/envs/hiwi2/lib/python2.7/site-packages/sklearn/cluster/k_means_.py:1328: DeprecationWarning: This function is deprecated. Please call randint(0, 24 + 1) instead\n",
      "  0, n_samples - 1, self.batch_size)\n",
      "/home/zr/anaconda2/envs/hiwi2/lib/python2.7/site-packages/sklearn/cluster/k_means_.py:1328: DeprecationWarning: This function is deprecated. Please call randint(0, 24 + 1) instead\n",
      "  0, n_samples - 1, self.batch_size)\n",
      "/home/zr/anaconda2/envs/hiwi2/lib/python2.7/site-packages/sklearn/cluster/k_means_.py:1328: DeprecationWarning: This function is deprecated. Please call randint(0, 24 + 1) instead\n",
      "  0, n_samples - 1, self.batch_size)\n",
      "/home/zr/anaconda2/envs/hiwi2/lib/python2.7/site-packages/sklearn/cluster/k_means_.py:1328: DeprecationWarning: This function is deprecated. Please call randint(0, 24 + 1) instead\n",
      "  0, n_samples - 1, self.batch_size)\n",
      "/home/zr/anaconda2/envs/hiwi2/lib/python2.7/site-packages/sklearn/cluster/k_means_.py:1328: DeprecationWarning: This function is deprecated. Please call randint(0, 24 + 1) instead\n",
      "  0, n_samples - 1, self.batch_size)\n",
      "/home/zr/anaconda2/envs/hiwi2/lib/python2.7/site-packages/sklearn/cluster/k_means_.py:1328: DeprecationWarning: This function is deprecated. Please call randint(0, 24 + 1) instead\n",
      "  0, n_samples - 1, self.batch_size)\n",
      "/home/zr/anaconda2/envs/hiwi2/lib/python2.7/site-packages/sklearn/cluster/k_means_.py:1328: DeprecationWarning: This function is deprecated. Please call randint(0, 24 + 1) instead\n",
      "  0, n_samples - 1, self.batch_size)\n"
     ]
    },
    {
     "name": "stdout",
     "output_type": "stream",
     "text": [
      "[0, 0, 0, 0, 0, 0, 0, 1, 0, 0]\n",
      "[0, 0, 0, 0, 1, 0, 1, 0, 0, 0]\n",
      "[0, 0, 0, 0, 0, 1, 0, 0, 0, 0]\n",
      "[0, 0, 0, 0, 0, 0, 0, 0, 0, 1]\n",
      "[0, 1, 0, 0, 0, 0, 0, 0, 0, 0]\n",
      "[0, 0, 0, 0, 0, 0, 0, 0, 1, 0]\n",
      "[0, 0, 0, 1, 0, 0, 0, 0, 0, 0]\n",
      "[0, 0, 0, 0, 0, 0, 0, 0, 0, 0]\n",
      "[1, 0, 0, 0, 0, 0, 0, 0, 0, 0]\n",
      "[0, 0, 0, 0, 0, 1, 0, 0, 0, 0]\n",
      "[0, 1, 0, 0, 0, 0, 0, 0, 0, 0]\n",
      "[0, 1, 1, 0, 0, 0, 0, 0, 0, 0]\n",
      "[0, 0, 0, 0, 0, 0, 0, 1, 0, 0]\n",
      "[0, 1, 0, 0, 0, 0, 0, 0, 0, 0]\n",
      "[0, 0, 0, 0, 0, 0, 0, 0, 0, 0]\n",
      "[0, 0, 0, 0, 0, 0, 0, 0, 0, 0]\n",
      "[0, 0, 0, 0, 0, 0, 0, 0, 0, 0]\n",
      "[0, 0, 0, 0, 0, 0, 0, 0, 0, 0]\n"
     ]
    }
   ],
   "source": [
    "ew2= SMoDWrapper(alphabet='dna',\n",
    "                 complexity = 3,\n",
    "                 pos_block_size = 5,\n",
    "                 neg_block_size = 5,\n",
    "                 weblogo_obj=wl)\n",
    "matches = ew2.fit_transform(seqs=train)\n",
    "for m in matches: print m"
   ]
  },
  {
   "cell_type": "code",
   "execution_count": 16,
   "metadata": {
    "collapsed": false
   },
   "outputs": [
    {
     "name": "stdout",
     "output_type": "stream",
     "text": [
      "('ce1cg*57:67', 'TTTTTTTG')\n",
      "('ce1cg*16:24', 'TTTTGTGG')\n",
      "('cya*77:85', 'ATTTTTTC')\n",
      "('ilv*11:20', 'TTTTTTGT')\n",
      "('ompa*35:45', 'TTTTTTTC')\n",
      "('tnaa*0:6', 'TTTTTT-C')\n",
      "\n",
      "('tnaa*69:78', 'CGATTGTGA')\n",
      "\n",
      "('ompa*5:14', 'CAAAAAAGA')\n",
      "('tnaa*40:49', 'AAAAAAAGC')\n",
      "\n",
      "('deop2*62:72', 'TGTGATGTT')\n",
      "('malk*63:72', 'CGTGATGTT')\n",
      "\n",
      "('ce1cg*42:52', 'CTGTGAC')\n",
      "('bglr1*77:85', 'CTGTGAC')\n",
      "\n",
      "('ompa*62:72', 'CACACTTGTA')\n",
      "\n",
      "('ara*87:95', 'AGCATTTT')\n",
      "\n",
      "('deop2*77:84', '-AGTGTG')\n",
      "('gale*23:30', 'TTGTGTA')\n",
      "('lac*70:80', 'TTGTGTG')\n",
      "\n",
      "('ara*15:25', 'CAAAAGTGTC')\n",
      "\n",
      "('crp*49:56', 'TGATGTA')\n",
      "\n"
     ]
    }
   ],
   "source": [
    "#printing motives as lists\n",
    "for motif in ew.motives_list:\n",
    "    for m in motif:\n",
    "        print m\n",
    "    print"
   ]
  },
  {
   "cell_type": "code",
   "execution_count": 17,
   "metadata": {
    "collapsed": false
   },
   "outputs": [
    {
     "data": {
      "image/png": "[encoded data removed]",
      "text/plain": [
       "<IPython.core.display.Image object>"
      ]
     },
     "metadata": {},
     "output_type": "display_data"
    },
    {
     "data": {
      "image/png": "[encoded data removed]",
      "text/plain": [
       "<IPython.core.display.Image object>"
      ]
     },
     "metadata": {},
     "output_type": "display_data"
    },
    {
     "data": {
      "image/png": "[encoded data removed]",
      "text/plain": [
       "<IPython.core.display.Image object>"
      ]
     },
     "metadata": {},
     "output_type": "display_data"
    },
    {
     "data": {
      "image/png": "[encoded data removed]",
      "text/plain": [
       "<IPython.core.display.Image object>"
      ]
     },
     "metadata": {},
     "output_type": "display_data"
    },
    {
     "data": {
      "image/png": "[encoded data removed]",
      "text/plain": [
       "<IPython.core.display.Image object>"
      ]
     },
     "metadata": {},
     "output_type": "display_data"
    },
    {
     "data": {
      "image/png": "[encoded data removed]",
      "text/plain": [
       "<IPython.core.display.Image object>"
      ]
     },
     "metadata": {},
     "output_type": "display_data"
    },
    {
     "data": {
      "image/png": "[encoded data removed]",
      "text/plain": [
       "<IPython.core.display.Image object>"
      ]
     },
     "metadata": {},
     "output_type": "display_data"
    },
    {
     "data": {
      "image/png": "[encoded data removed]",
      "text/plain": [
       "<IPython.core.display.Image object>"
      ]
     },
     "metadata": {},
     "output_type": "display_data"
    },
    {
     "data": {
      "image/png": "[encoded data removed]",
      "text/plain": [
       "<IPython.core.display.Image object>"
      ]
     },
     "metadata": {},
     "output_type": "display_data"
    },
    {
     "data": {
      "image/png": "[encoded data removed]",
      "text/plain": [
       "<IPython.core.display.Image object>"
      ]
     },
     "metadata": {},
     "output_type": "display_data"
    }
   ],
   "source": [
    "ew.display_logo(do_alignment=False)"
   ]
  },
  {
   "cell_type": "code",
   "execution_count": 18,
   "metadata": {
    "collapsed": false
   },
   "outputs": [
    {
     "data": {
      "image/png": "[encoded data removed]",
      "text/plain": [
       "<IPython.core.display.Image object>"
      ]
     },
     "metadata": {},
     "output_type": "display_data"
    }
   ],
   "source": [
    "ew.display_logo(motif_num=1)"
   ]
  },
  {
   "cell_type": "code",
   "execution_count": 19,
   "metadata": {
    "collapsed": false
   },
   "outputs": [
    {
     "name": "stdout",
     "output_type": "stream",
     "text": [
      "('ce1cg*57:67', 'TTTTTTTG')\n",
      "('ce1cg*16:24', 'TTTTGTGG')\n",
      "('cya*77:85', 'ATTTTTTC')\n",
      "('ilv*11:20', 'TTTTTTGT')\n",
      "('ompa*35:45', 'TTTTTTTC')\n",
      "('tnaa*0:6', 'TTTTTTC-')\n",
      "\n",
      "('tnaa*69:78', 'CGATTGTGA')\n",
      "\n",
      "('ompa*5:14', 'CAAAAAAGA')\n",
      "('tnaa*40:49', 'AAAAAAAGC')\n",
      "\n",
      "('deop2*62:72', 'TGTGATGTT')\n",
      "('malk*63:72', 'CGTGATGTT')\n",
      "\n",
      "('ce1cg*42:52', 'CTGTGAC')\n",
      "('bglr1*77:85', 'CTGTGAC')\n",
      "\n",
      "('ompa*62:72', 'CACACTTGTA')\n",
      "\n",
      "('ara*87:95', 'AGCATTTT')\n",
      "\n",
      "('deop2*77:84', '-AGTGTG')\n",
      "('gale*23:30', 'TTGTGTA')\n",
      "('lac*70:80', 'TTGTGTG')\n",
      "\n",
      "('ara*15:25', 'CAAAAGTGTC')\n",
      "\n",
      "('crp*49:56', 'TGATGTA')\n",
      "\n"
     ]
    }
   ],
   "source": [
    "ew.align_motives()    #MSA with Muscle\n",
    "motives1=ew.aligned_motives_list\n",
    "for m in motives1:\n",
    "    for i in m:\n",
    "        print i\n",
    "    print"
   ]
  },
  {
   "cell_type": "code",
   "execution_count": 20,
   "metadata": {
    "collapsed": false
   },
   "outputs": [
    {
     "name": "stdout",
     "output_type": "stream",
     "text": [
      "        0      1      2      3      4      5      6      7      8      9\n",
      "-:   0.67   0.50   0.00   0.00   0.00   0.00   0.00   0.00   0.17   0.17\n",
      "A:   0.00   0.00   0.17   0.00   0.00   0.00   0.00   0.00   0.00   0.00\n",
      "C:   0.17   0.00   0.00   0.00   0.00   0.00   0.00   0.00   0.00   0.33\n",
      "G:   0.00   0.33   0.00   0.00   0.00   0.00   0.17   0.00   0.33   0.33\n",
      "T:   0.17   0.17   0.83   1.00   1.00   1.00   0.83   1.00   0.50   0.17\n",
      "\n",
      "        0      1      2      3      4      5      6      7      8\n",
      "-:   0.00   0.00   0.00   0.00   0.00   0.00   0.00   0.00   0.00\n",
      "A:   0.00   0.00   1.00   0.00   0.00   0.00   0.00   0.00   1.00\n",
      "C:   1.00   0.00   0.00   0.00   0.00   0.00   0.00   0.00   0.00\n",
      "G:   0.00   1.00   0.00   0.00   0.00   1.00   0.00   1.00   0.00\n",
      "T:   0.00   0.00   0.00   1.00   1.00   0.00   1.00   0.00   0.00\n",
      "\n",
      "        0      1      2      3      4      5      6      7      8\n",
      "-:   0.00   0.00   0.00   0.00   0.00   0.00   0.00   0.00   0.00\n",
      "A:   0.50   1.00   1.00   1.00   1.00   1.00   1.00   0.00   0.50\n",
      "C:   0.50   0.00   0.00   0.00   0.00   0.00   0.00   0.00   0.50\n",
      "G:   0.00   0.00   0.00   0.00   0.00   0.00   0.00   1.00   0.00\n",
      "T:   0.00   0.00   0.00   0.00   0.00   0.00   0.00   0.00   0.00\n",
      "\n",
      "        0      1      2      3      4      5      6      7      8      9\n",
      "-:   0.00   0.00   0.00   0.00   0.00   0.00   0.00   0.00   0.50   0.00\n",
      "A:   0.00   0.00   0.00   0.00   1.00   0.00   0.00   0.00   0.00   0.00\n",
      "C:   0.50   0.00   0.00   0.00   0.00   0.00   0.00   0.00   0.00   0.00\n",
      "G:   0.00   1.00   0.00   1.00   0.00   0.00   1.00   0.00   0.50   0.00\n",
      "T:   0.50   0.00   1.00   0.00   0.00   1.00   0.00   1.00   0.00   1.00\n",
      "\n",
      "        0      1      2      3      4      5      6      7      8      9     10     11\n",
      "-:   0.00   0.50   0.50   0.50   0.50   0.00   0.00   0.00   0.00   0.00   0.50   0.50\n",
      "A:   0.00   0.00   0.00   0.00   0.00   0.00   0.00   0.00   0.00   1.00   0.00   0.00\n",
      "C:   1.00   0.00   0.00   0.00   0.00   0.00   0.00   0.00   0.00   0.00   0.00   0.50\n",
      "G:   0.00   0.50   0.00   0.50   0.50   0.00   1.00   0.00   1.00   0.00   0.50   0.00\n",
      "T:   0.00   0.00   0.50   0.00   0.00   1.00   0.00   1.00   0.00   0.00   0.00   0.00\n",
      "\n",
      "        0      1      2      3      4      5      6      7      8      9\n",
      "-:   0.00   0.00   0.00   0.00   0.00   0.00   0.00   0.00   0.00   0.00\n",
      "A:   0.00   1.00   0.00   1.00   0.00   0.00   0.00   0.00   0.00   1.00\n",
      "C:   1.00   0.00   1.00   0.00   1.00   0.00   0.00   0.00   0.00   0.00\n",
      "G:   0.00   0.00   0.00   0.00   0.00   0.00   0.00   1.00   0.00   0.00\n",
      "T:   0.00   0.00   0.00   0.00   0.00   1.00   1.00   0.00   1.00   0.00\n",
      "\n",
      "        0      1      2      3      4      5      6      7\n",
      "-:   0.00   0.00   0.00   0.00   0.00   0.00   0.00   0.00\n",
      "A:   1.00   0.00   0.00   1.00   0.00   0.00   0.00   0.00\n",
      "C:   0.00   0.00   1.00   0.00   0.00   0.00   0.00   0.00\n",
      "G:   0.00   1.00   0.00   0.00   0.00   0.00   0.00   0.00\n",
      "T:   0.00   0.00   0.00   0.00   1.00   1.00   1.00   1.00\n",
      "\n",
      "        0      1      2      3      4      5      6      7      8      9\n",
      "-:   0.67   0.67   0.33   0.00   0.00   0.00   0.00   0.00   0.00   0.33\n",
      "A:   0.00   0.00   0.00   0.33   0.00   0.00   0.00   0.00   0.33   0.00\n",
      "C:   0.00   0.00   0.00   0.00   0.00   0.00   0.00   0.00   0.00   0.00\n",
      "G:   0.00   0.33   0.00   0.00   1.00   0.00   1.00   0.00   0.67   0.33\n",
      "T:   0.33   0.00   0.67   0.67   0.00   1.00   0.00   1.00   0.00   0.33\n",
      "\n",
      "        0      1      2      3      4      5      6      7      8      9\n",
      "-:   0.00   0.00   0.00   0.00   0.00   0.00   0.00   0.00   0.00   0.00\n",
      "A:   0.00   1.00   1.00   1.00   1.00   0.00   0.00   0.00   0.00   0.00\n",
      "C:   1.00   0.00   0.00   0.00   0.00   0.00   0.00   0.00   0.00   1.00\n",
      "G:   0.00   0.00   0.00   0.00   0.00   1.00   0.00   1.00   0.00   0.00\n",
      "T:   0.00   0.00   0.00   0.00   0.00   0.00   1.00   0.00   1.00   0.00\n",
      "\n",
      "        0      1      2      3      4      5      6\n",
      "-:   0.00   0.00   0.00   0.00   0.00   0.00   0.00\n",
      "A:   0.00   0.00   1.00   0.00   0.00   0.00   1.00\n",
      "C:   0.00   0.00   0.00   0.00   0.00   0.00   0.00\n",
      "G:   0.00   1.00   0.00   0.00   1.00   0.00   0.00\n",
      "T:   1.00   0.00   0.00   1.00   0.00   1.00   0.00\n",
      "\n"
     ]
    }
   ],
   "source": [
    "ew.display()"
   ]
  },
  {
   "cell_type": "code",
   "execution_count": 21,
   "metadata": {
    "collapsed": false
   },
   "outputs": [
    {
     "name": "stdout",
     "output_type": "stream",
     "text": [
      "        0      1      2      3      4      5      6      7      8\n",
      "-:   0.00   0.00   0.00   0.00   0.00   0.00   0.00   0.00   0.00\n",
      "A:   0.50   1.00   1.00   1.00   1.00   1.00   1.00   0.00   0.50\n",
      "C:   0.50   0.00   0.00   0.00   0.00   0.00   0.00   0.00   0.50\n",
      "G:   0.00   0.00   0.00   0.00   0.00   0.00   0.00   1.00   0.00\n",
      "T:   0.00   0.00   0.00   0.00   0.00   0.00   0.00   0.00   0.00\n",
      "\n"
     ]
    }
   ],
   "source": [
    "ew.display(motif_num=3)"
   ]
  },
  {
   "cell_type": "code",
   "execution_count": 22,
   "metadata": {
    "collapsed": false
   },
   "outputs": [
    {
     "name": "stdout",
     "output_type": "stream",
     "text": [
      "[0.0, 0.0, 0.0, 0.0, 0.0, 0.0, 0.0, 0.0, 0.0, 0.0, 0.0, 0.0, 0.0, 0.0, 0.0, 0.0, 0.0, 0.0, 0.0, 0.0, 0.0, 0.0, 0.0, 0.0, 0.0, 0.0, 0.0, 0.0, 0.0, 0.0, 0.0, 0.0, 0.0, 0.0, 0.0, 0.0, 0.0, 0.0, 0.0, 0.0, 0.0, 0.0, 0.0, 0.0, 0.0, 0.0, 0.0, 0.0, 0.0, 0.0, 0.0, 0.0, 0.0, 0.0, 0.0, 0.0, 0.0, 0.0, 0.0, 0.0, 0.0, 0.0, 0.0, 0.0, 0.0, 0.0, 0.0, 0.0, 0.0, 0.0, 0.0, 0.0, 0.0, 0.0, 0.0, 0.0, 0.0, 0.0, 0.0, 0.0, 0.0, 0.0, 0.0, 0.0, 0.0, 0.0, 0.0, 0.0, 0.0, 0.0, 0.0, 0.0, 0.0, 0.0, 0.0, 0.0, 0.0, 0.0, 0.0, 0.0, 0.0, 0.0, 0.0, 0.0, 0.0, 0.0, 0.0, 0.0, 0.0, 0.0, 0.0, 0.0, 0, 0, 0, 0, 0, 0, 0, 0]\n"
     ]
    }
   ],
   "source": [
    "# Score a test sequence using probability score\n",
    "test_seq = 'AAAAAAAAAAAA' * 10\n",
    "seq_score = ew.score(motif_num=2, seq=test_seq)\n",
    "print seq_score"
   ]
  },
  {
   "cell_type": "code",
   "execution_count": null,
   "metadata": {
    "collapsed": true
   },
   "outputs": [],
   "source": []
  },
  {
   "cell_type": "code",
   "execution_count": null,
   "metadata": {
    "collapsed": true
   },
   "outputs": [],
   "source": []
  },
  {
   "cell_type": "code",
   "execution_count": null,
   "metadata": {
    "collapsed": true
   },
   "outputs": [],
   "source": []
  },
  {
   "cell_type": "code",
   "execution_count": null,
   "metadata": {
    "collapsed": true
   },
   "outputs": [],
   "source": []
  },
  {
   "cell_type": "code",
   "execution_count": null,
   "metadata": {
    "collapsed": true
   },
   "outputs": [],
   "source": []
  }
 ],
 "metadata": {
  "kernelspec": {
   "display_name": "Python 2",
   "language": "python",
   "name": "python2"
  },
  "language_info": {
   "codemirror_mode": {
    "name": "ipython",
    "version": 2
   },
   "file_extension": ".py",
   "mimetype": "text/x-python",
   "name": "python",
   "nbconvert_exporter": "python",
   "pygments_lexer": "ipython2",
   "version": "2.7.12"
  }
 },
 "nbformat": 4,
 "nbformat_minor": 0
}
