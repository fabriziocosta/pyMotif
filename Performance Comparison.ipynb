{
 "cells": [
  {
   "cell_type": "code",
   "execution_count": 1,
   "metadata": {
    "collapsed": true
   },
   "outputs": [],
   "source": [
    "#code for making artificial dataset\n",
    "import random\n",
    "def random_string(length,alphabet_list):\n",
    "    rand_str = ''.join(random.choice(alphabet_list) for i in range(length))\n",
    "    return rand_str\n",
    "\n",
    "def perturb(seed,alphabet_list,p=0.5):\n",
    "    seq=''\n",
    "    for c in seed:\n",
    "        if random.random() < p: c = random.choice(alphabet_list)\n",
    "        seq += c\n",
    "    return seq\n",
    "\n",
    "def make_artificial_dataset(alphabet='ACGT', motives=None, motif_length=6, \n",
    "                            sequence_length=100, n_sequences=1000, n_motives=2, p=0.2,\n",
    "                           random_state=1):\n",
    "    random.seed(random_state)\n",
    "    alphabet_list=[c for c in alphabet]\n",
    "    \n",
    "    if motives is None:\n",
    "        motives=[]\n",
    "        for i in range(n_motives):\n",
    "            motives.append(random_string(motif_length,alphabet_list))\n",
    "    else:\n",
    "        motif_length = len(motives[0])\n",
    "        n_motives = len(motives)\n",
    "    \n",
    "    sequence_length = sequence_length / len(motives)\n",
    "    flanking_length = (sequence_length - motif_length ) / 2\n",
    "    n_seq_per_motif = n_sequences\n",
    "\n",
    "    counter=0\n",
    "    seqs=[]\n",
    "    for i in range(n_seq_per_motif):\n",
    "        total_seq = ''\n",
    "        total_binary_seq=''\n",
    "        for j in range(n_motives):\n",
    "            left_flanking = random_string(flanking_length,alphabet_list)\n",
    "            right_flanking = random_string(flanking_length,alphabet_list)\n",
    "            noisy_motif = perturb(motives[j],alphabet_list,p)\n",
    "            seq = left_flanking + noisy_motif + right_flanking\n",
    "            total_seq += seq\n",
    "        seqs.append(('>ID%d'%counter,total_seq))\n",
    "        counter += 1\n",
    "    binary_skeleton = '0' * flanking_length + '1' * motif_length + '0' * flanking_length\n",
    "    binary_seq = binary_skeleton * n_motives\n",
    "    return motives, seqs, binary_seq"
   ]
  },
  {
   "cell_type": "code",
   "execution_count": 2,
   "metadata": {
    "collapsed": true
   },
   "outputs": [],
   "source": [
    "from sklearn.cluster import KMeans\n",
    "from utilities import Weblogo, MuscleAlignWrapper\n",
    "from eden_wrapper import EdenWrapper\n",
    "from meme_wrapper import Meme"
   ]
  },
  {
   "cell_type": "code",
   "execution_count": 3,
   "metadata": {
    "collapsed": true
   },
   "outputs": [],
   "source": [
    "import logging\n",
    "logger = logging.getLogger()\n",
    "logger.setLevel(logging.DEBUG)"
   ]
  },
  {
   "cell_type": "code",
   "execution_count": 4,
   "metadata": {
    "collapsed": false
   },
   "outputs": [],
   "source": [
    "def run_tool(motif_finder,seqs, n_motives, min_motif_len, max_motif_len):\n",
    "    if motif_finder=='meme':\n",
    "        with open('seqs.fa','w') as f_train:\n",
    "            for seq in seqs:\n",
    "                f_train.write('>' + seq[0] + ' \\n')\n",
    "                f_train.write(seq[1] + '\\n')\n",
    "\n",
    "        tool =  Meme(alphabet='dna',\n",
    "                     minw=min_motif_len,\n",
    "                     maxw=max_motif_len,\n",
    "                     nmotifs=n_motives)\n",
    "        tool.fit('seqs.fa')\n",
    "    else:\n",
    "        km = KMeans(n_clusters=n_motives)\n",
    "        tool = EdenWrapper(alphabet='dna', \n",
    "                           complexity=5, \n",
    "                           nbits=14, \n",
    "                           negative_ratio=3,\n",
    "                           min_subarray_size=min_motif_len, \n",
    "                           max_subarray_size=max_motif_len,\n",
    "                           clustering_algorithm=km)\n",
    "        tool.fit(seqs)\n",
    "    return tool"
   ]
  },
  {
   "cell_type": "code",
   "execution_count": 5,
   "metadata": {
    "collapsed": false
   },
   "outputs": [],
   "source": [
    "def score_seqs(seqs, n_motives, scoring_criteria, tool):\n",
    "    scores = []\n",
    "    for j in range(len(seqs)):\n",
    "        seq_scr = []\n",
    "        for k in range(n_motives):\n",
    "            if scoring_criteria=='pwm':\n",
    "                scr=tool.score_pwm(motif_num=k+1, seq=seqs[j][1], zero_padding=True)\n",
    "            else: # scoring_criteria=='hmm'\n",
    "                scr=tool.score_pwm(motif_num=k+1, seq=seqs[j][1], zero_padding=True)\n",
    "            seq_scr.append(scr)\n",
    "\n",
    "        # taking average over all motives for a sequence\n",
    "        x = np.array(seq_scr[0])\n",
    "        for k in range(1, n_motives):\n",
    "            x = np.vstack((x, seq_scr[k]))\n",
    "        seq_scr = list(np.mean(x, axis=0))\n",
    "        scores.append(seq_scr)\n",
    "    return scores"
   ]
  },
  {
   "cell_type": "code",
   "execution_count": 6,
   "metadata": {
    "collapsed": true
   },
   "outputs": [],
   "source": [
    "# size of context\n",
    "# size of motif\n",
    "# number of motifs\n",
    "# number of sequences\n",
    "# "
   ]
  },
  {
   "cell_type": "code",
   "execution_count": 7,
   "metadata": {
    "collapsed": false
   },
   "outputs": [],
   "source": [
    "import numpy as np\n",
    "from sklearn.metrics import roc_auc_score\n",
    "\n",
    "def evaluate(motif_finder='meme', # ['meme','eden']\n",
    "             scoring_criteria='pwm', # ['meme','hmm']\n",
    "             motif_length=6,\n",
    "             n_motives=4,\n",
    "             sequence_length=30,\n",
    "             n_sequences=50,\n",
    "             p=0.2,\n",
    "             random_state=8):\n",
    "\n",
    "    motives, seqs, binary_seq = make_artificial_dataset(alphabet='ACGT',\n",
    "                                                         motif_length=motif_length,\n",
    "                                                         n_motives=n_motives,\n",
    "                                                         sequence_length=sequence_length,\n",
    "                                                         n_sequences=n_sequences,\n",
    "                                                         p=p,\n",
    "                                                         random_state=random_state)\n",
    "\n",
    "    tool = run_tool(motif_finder=motif_finder,\n",
    "                    seqs=seqs,\n",
    "                    n_motives=n_motives,\n",
    "                    min_motif_len=max(2, len(motives[0])-2),\n",
    "                    max_motif_len=len(motives[0])+2)\n",
    "    \n",
    "    scores = score_seqs(seqs=seqs,\n",
    "                        n_motives=n_motives,\n",
    "                        scoring_criteria=scoring_criteria,\n",
    "                        tool=tool)\n",
    "    roc_scores = []\n",
    "    true_score = [float(int(x)) for x in binary_seq]\n",
    "    for score in scores:\n",
    "        roc_scores.append(roc_auc_score(true_score, score))\n",
    "    avg_rocr = np.average(roc_scores)\n",
    "    return avg_roc, roc_scores"
   ]
  },
  {
   "cell_type": "code",
   "execution_count": 8,
   "metadata": {
    "collapsed": false
   },
   "outputs": [
    {
     "name": "stderr",
     "output_type": "stream",
     "text": [
      "DEBUG:eden.util:Positive data: Instances: 100 ; Features: 16385 with an avg of 2434 features per instance\n",
      "DEBUG:eden.util:Negative data: Instances: 300 ; Features: 16385 with an avg of 2434 features per instance\n",
      "DEBUG:eden.util:Elapsed time: 14.1 secs\n",
      "INFO:eden.motif:model induction: 100 positive instances 14 s\n",
      "INFO:eden.motif:motives extraction: 128 motives in 6s\n",
      "INFO:eden.motif:motives clustering: 4 clusters in 0s\n",
      "INFO:eden.motif:after filtering: 110 motives 4 clusters in 0s\n",
      "INFO:eden.motif:motif model construction in 0s\n",
      "INFO:eden.motif:updated motif counts in 0s\n"
     ]
    },
    {
     "ename": "NameError",
     "evalue": "global name 'avg_roc' is not defined",
     "output_type": "error",
     "traceback": [
      "\u001b[1;31m---------------------------------------------------------------------------\u001b[0m",
      "\u001b[1;31mNameError\u001b[0m                                 Traceback (most recent call last)",
      "\u001b[1;32m<ipython-input-8-3586adfa1792>\u001b[0m in \u001b[0;36m<module>\u001b[1;34m()\u001b[0m\n\u001b[1;32m----> 1\u001b[1;33m \u001b[0mget_ipython\u001b[0m\u001b[1;33m(\u001b[0m\u001b[1;33m)\u001b[0m\u001b[1;33m.\u001b[0m\u001b[0mrun_cell_magic\u001b[0m\u001b[1;33m(\u001b[0m\u001b[1;34mu'time'\u001b[0m\u001b[1;33m,\u001b[0m \u001b[1;34mu''\u001b[0m\u001b[1;33m,\u001b[0m \u001b[1;34mu\"avg_roc, roc_scores = evaluate(motif_finder='eden', # ['meme','eden']\\n                  scoring_criteria='hmm', # ['pwm','hmm']\\n                  motif_length=10,\\n                  n_motives=4,\\n                  sequence_length=100,\\n                  n_sequences=100)\"\u001b[0m\u001b[1;33m)\u001b[0m\u001b[1;33m\u001b[0m\u001b[0m\n\u001b[0m",
      "\u001b[1;32m/home/zr/anaconda2/envs/hiwi/lib/python2.7/site-packages/IPython/core/interactiveshell.pyc\u001b[0m in \u001b[0;36mrun_cell_magic\u001b[1;34m(self, magic_name, line, cell)\u001b[0m\n\u001b[0;32m   2291\u001b[0m             \u001b[0mmagic_arg_s\u001b[0m \u001b[1;33m=\u001b[0m \u001b[0mself\u001b[0m\u001b[1;33m.\u001b[0m\u001b[0mvar_expand\u001b[0m\u001b[1;33m(\u001b[0m\u001b[0mline\u001b[0m\u001b[1;33m,\u001b[0m \u001b[0mstack_depth\u001b[0m\u001b[1;33m)\u001b[0m\u001b[1;33m\u001b[0m\u001b[0m\n\u001b[0;32m   2292\u001b[0m             \u001b[1;32mwith\u001b[0m \u001b[0mself\u001b[0m\u001b[1;33m.\u001b[0m\u001b[0mbuiltin_trap\u001b[0m\u001b[1;33m:\u001b[0m\u001b[1;33m\u001b[0m\u001b[0m\n\u001b[1;32m-> 2293\u001b[1;33m                 \u001b[0mresult\u001b[0m \u001b[1;33m=\u001b[0m \u001b[0mfn\u001b[0m\u001b[1;33m(\u001b[0m\u001b[0mmagic_arg_s\u001b[0m\u001b[1;33m,\u001b[0m \u001b[0mcell\u001b[0m\u001b[1;33m)\u001b[0m\u001b[1;33m\u001b[0m\u001b[0m\n\u001b[0m\u001b[0;32m   2294\u001b[0m             \u001b[1;32mreturn\u001b[0m \u001b[0mresult\u001b[0m\u001b[1;33m\u001b[0m\u001b[0m\n\u001b[0;32m   2295\u001b[0m \u001b[1;33m\u001b[0m\u001b[0m\n",
      "\u001b[1;32m/home/zr/anaconda2/envs/hiwi/lib/python2.7/site-packages/IPython/core/magics/execution.pyc\u001b[0m in \u001b[0;36mtime\u001b[1;34m(self, line, cell, local_ns)\u001b[0m\n",
      "\u001b[1;32m/home/zr/anaconda2/envs/hiwi/lib/python2.7/site-packages/IPython/core/magic.pyc\u001b[0m in \u001b[0;36m<lambda>\u001b[1;34m(f, *a, **k)\u001b[0m\n\u001b[0;32m    191\u001b[0m     \u001b[1;31m# but it's overkill for just that one bit of state.\u001b[0m\u001b[1;33m\u001b[0m\u001b[1;33m\u001b[0m\u001b[0m\n\u001b[0;32m    192\u001b[0m     \u001b[1;32mdef\u001b[0m \u001b[0mmagic_deco\u001b[0m\u001b[1;33m(\u001b[0m\u001b[0marg\u001b[0m\u001b[1;33m)\u001b[0m\u001b[1;33m:\u001b[0m\u001b[1;33m\u001b[0m\u001b[0m\n\u001b[1;32m--> 193\u001b[1;33m         \u001b[0mcall\u001b[0m \u001b[1;33m=\u001b[0m \u001b[1;32mlambda\u001b[0m \u001b[0mf\u001b[0m\u001b[1;33m,\u001b[0m \u001b[1;33m*\u001b[0m\u001b[0ma\u001b[0m\u001b[1;33m,\u001b[0m \u001b[1;33m**\u001b[0m\u001b[0mk\u001b[0m\u001b[1;33m:\u001b[0m \u001b[0mf\u001b[0m\u001b[1;33m(\u001b[0m\u001b[1;33m*\u001b[0m\u001b[0ma\u001b[0m\u001b[1;33m,\u001b[0m \u001b[1;33m**\u001b[0m\u001b[0mk\u001b[0m\u001b[1;33m)\u001b[0m\u001b[1;33m\u001b[0m\u001b[0m\n\u001b[0m\u001b[0;32m    194\u001b[0m \u001b[1;33m\u001b[0m\u001b[0m\n\u001b[0;32m    195\u001b[0m         \u001b[1;32mif\u001b[0m \u001b[0mcallable\u001b[0m\u001b[1;33m(\u001b[0m\u001b[0marg\u001b[0m\u001b[1;33m)\u001b[0m\u001b[1;33m:\u001b[0m\u001b[1;33m\u001b[0m\u001b[0m\n",
      "\u001b[1;32m/home/zr/anaconda2/envs/hiwi/lib/python2.7/site-packages/IPython/core/magics/execution.pyc\u001b[0m in \u001b[0;36mtime\u001b[1;34m(self, line, cell, local_ns)\u001b[0m\n\u001b[0;32m   1165\u001b[0m         \u001b[1;32melse\u001b[0m\u001b[1;33m:\u001b[0m\u001b[1;33m\u001b[0m\u001b[0m\n\u001b[0;32m   1166\u001b[0m             \u001b[0mst\u001b[0m \u001b[1;33m=\u001b[0m \u001b[0mclock2\u001b[0m\u001b[1;33m(\u001b[0m\u001b[1;33m)\u001b[0m\u001b[1;33m\u001b[0m\u001b[0m\n\u001b[1;32m-> 1167\u001b[1;33m             \u001b[1;32mexec\u001b[0m\u001b[1;33m(\u001b[0m\u001b[0mcode\u001b[0m\u001b[1;33m,\u001b[0m \u001b[0mglob\u001b[0m\u001b[1;33m,\u001b[0m \u001b[0mlocal_ns\u001b[0m\u001b[1;33m)\u001b[0m\u001b[1;33m\u001b[0m\u001b[0m\n\u001b[0m\u001b[0;32m   1168\u001b[0m             \u001b[0mend\u001b[0m \u001b[1;33m=\u001b[0m \u001b[0mclock2\u001b[0m\u001b[1;33m(\u001b[0m\u001b[1;33m)\u001b[0m\u001b[1;33m\u001b[0m\u001b[0m\n\u001b[0;32m   1169\u001b[0m             \u001b[0mout\u001b[0m \u001b[1;33m=\u001b[0m \u001b[0mNone\u001b[0m\u001b[1;33m\u001b[0m\u001b[0m\n",
      "\u001b[1;32m<timed exec>\u001b[0m in \u001b[0;36m<module>\u001b[1;34m()\u001b[0m\n",
      "\u001b[1;32m<ipython-input-7-770515462b5b>\u001b[0m in \u001b[0;36mevaluate\u001b[1;34m(motif_finder, scoring_criteria, motif_length, n_motives, sequence_length, n_sequences, p, random_state)\u001b[0m\n\u001b[0;32m     34\u001b[0m         \u001b[0mroc_scores\u001b[0m\u001b[1;33m.\u001b[0m\u001b[0mappend\u001b[0m\u001b[1;33m(\u001b[0m\u001b[0mroc_auc_score\u001b[0m\u001b[1;33m(\u001b[0m\u001b[0mtrue_score\u001b[0m\u001b[1;33m,\u001b[0m \u001b[0mscore\u001b[0m\u001b[1;33m)\u001b[0m\u001b[1;33m)\u001b[0m\u001b[1;33m\u001b[0m\u001b[0m\n\u001b[0;32m     35\u001b[0m     \u001b[0mavg_rocr\u001b[0m \u001b[1;33m=\u001b[0m \u001b[0mnp\u001b[0m\u001b[1;33m.\u001b[0m\u001b[0maverage\u001b[0m\u001b[1;33m(\u001b[0m\u001b[0mroc_scores\u001b[0m\u001b[1;33m)\u001b[0m\u001b[1;33m\u001b[0m\u001b[0m\n\u001b[1;32m---> 36\u001b[1;33m     \u001b[1;32mreturn\u001b[0m \u001b[0mavg_roc\u001b[0m\u001b[1;33m,\u001b[0m \u001b[0mroc_scores\u001b[0m\u001b[1;33m\u001b[0m\u001b[0m\n\u001b[0m",
      "\u001b[1;31mNameError\u001b[0m: global name 'avg_roc' is not defined"
     ]
    }
   ],
   "source": [
    "%%time\n",
    "avg_roc, roc_scores = evaluate(motif_finder='eden', # ['meme','eden']\n",
    "                  scoring_criteria='hmm', # ['pwm','hmm']\n",
    "                  motif_length=10,\n",
    "                  n_motives=4,\n",
    "                  sequence_length=100,\n",
    "                  n_sequences=100)\n"
   ]
  },
  {
   "cell_type": "code",
   "execution_count": null,
   "metadata": {
    "collapsed": false
   },
   "outputs": [],
   "source": [
    "print avg_roc\n",
    "print roc_scores"
   ]
  },
  {
   "cell_type": "code",
   "execution_count": 19,
   "metadata": {
    "collapsed": false
   },
   "outputs": [
    {
     "name": "stderr",
     "output_type": "stream",
     "text": [
      "DEBUG:eden.util:Positive data: Instances: 100 ; Features: 16385 with an avg of 2434 features per instance\n",
      "DEBUG:eden.util:Negative data: Instances: 300 ; Features: 16385 with an avg of 2434 features per instance\n",
      "DEBUG:eden.util:Elapsed time: 14.4 secs\n",
      "INFO:eden.motif:model induction: 100 positive instances 15 s\n",
      "INFO:eden.motif:motives extraction: 114 motives in 4s\n",
      "INFO:eden.motif:motives clustering: 4 clusters in 0s\n",
      "INFO:eden.motif:after filtering: 102 motives 4 clusters in 0s\n",
      "INFO:eden.motif:motif model construction in 0s\n",
      "INFO:eden.motif:updated motif counts in 0s\n",
      "DEBUG:eden.util:Positive data: Instances: 100 ; Features: 16385 with an avg of 2527 features per instance\n",
      "DEBUG:eden.util:Negative data: Instances: 300 ; Features: 16385 with an avg of 2527 features per instance\n",
      "DEBUG:eden.util:Elapsed time: 18.2 secs\n",
      "INFO:eden.motif:model induction: 100 positive instances 19 s\n",
      "INFO:eden.motif:motives extraction: 83 motives in 4s\n",
      "INFO:eden.motif:motives clustering: 4 clusters in 1s\n",
      "INFO:eden.motif:after filtering: 66 motives 4 clusters in 0s\n",
      "INFO:eden.motif:motif model construction in 0s\n",
      "INFO:eden.motif:updated motif counts in 0s\n",
      "DEBUG:eden.util:Positive data: Instances: 100 ; Features: 16385 with an avg of 2440 features per instance\n",
      "DEBUG:eden.util:Negative data: Instances: 300 ; Features: 16385 with an avg of 2438 features per instance\n",
      "DEBUG:eden.util:Elapsed time: 19.5 secs\n",
      "INFO:eden.motif:model induction: 100 positive instances 21 s\n",
      "INFO:eden.motif:motives extraction: 67 motives in 4s\n",
      "INFO:eden.motif:motives clustering: 4 clusters in 0s\n",
      "INFO:eden.motif:after filtering: 60 motives 4 clusters in 0s\n",
      "INFO:eden.motif:motif model construction in 0s\n",
      "INFO:eden.motif:updated motif counts in 0s\n",
      "DEBUG:eden.util:Positive data: Instances: 100 ; Features: 16385 with an avg of 2529 features per instance\n",
      "DEBUG:eden.util:Negative data: Instances: 300 ; Features: 16385 with an avg of 2529 features per instance\n",
      "DEBUG:eden.util:Elapsed time: 18.6 secs\n",
      "INFO:eden.motif:model induction: 100 positive instances 19 s\n",
      "INFO:eden.motif:motives extraction: 70 motives in 7s\n",
      "INFO:eden.motif:motives clustering: 4 clusters in 0s\n",
      "INFO:eden.motif:after filtering: 54 motives 4 clusters in 0s\n",
      "INFO:eden.motif:motif model construction in 0s\n",
      "INFO:eden.motif:updated motif counts in 0s\n",
      "DEBUG:eden.util:Positive data: Instances: 100 ; Features: 16385 with an avg of 2442 features per instance\n",
      "DEBUG:eden.util:Negative data: Instances: 300 ; Features: 16385 with an avg of 2441 features per instance\n",
      "DEBUG:eden.util:Elapsed time: 19.3 secs\n",
      "INFO:eden.motif:model induction: 100 positive instances 19 s\n",
      "INFO:eden.motif:motives extraction: 54 motives in 4s\n",
      "INFO:eden.motif:motives clustering: 4 clusters in 0s\n",
      "INFO:eden.motif:after filtering: 50 motives 4 clusters in 0s\n",
      "INFO:eden.motif:motif model construction in 0s\n",
      "INFO:eden.motif:updated motif counts in 0s\n",
      "DEBUG:eden.util:Positive data: Instances: 100 ; Features: 16385 with an avg of 2532 features per instance\n",
      "DEBUG:eden.util:Negative data: Instances: 300 ; Features: 16385 with an avg of 2528 features per instance\n",
      "DEBUG:eden.util:Elapsed time: 18.0 secs\n",
      "INFO:eden.motif:model induction: 100 positive instances 18 s\n",
      "INFO:eden.motif:motives extraction: 47 motives in 4s\n",
      "INFO:eden.motif:motives clustering: 4 clusters in 0s\n",
      "INFO:eden.motif:after filtering: 46 motives 4 clusters in 0s\n",
      "INFO:eden.motif:motif model construction in 0s\n",
      "INFO:eden.motif:updated motif counts in 0s\n",
      "DEBUG:eden.util:Positive data: Instances: 100 ; Features: 16385 with an avg of 2438 features per instance\n",
      "DEBUG:eden.util:Negative data: Instances: 300 ; Features: 16385 with an avg of 2437 features per instance\n",
      "DEBUG:eden.util:Elapsed time: 22.0 secs\n",
      "INFO:eden.motif:model induction: 100 positive instances 22 s\n",
      "INFO:eden.motif:motives extraction: 45 motives in 2s\n",
      "INFO:eden.motif:motives clustering: 4 clusters in 0s\n",
      "INFO:eden.motif:after filtering: 43 motives 4 clusters in 0s\n",
      "INFO:eden.motif:motif model construction in 0s\n",
      "INFO:eden.motif:updated motif counts in 0s\n",
      "DEBUG:eden.util:Positive data: Instances: 100 ; Features: 16385 with an avg of 2516 features per instance\n",
      "DEBUG:eden.util:Negative data: Instances: 300 ; Features: 16385 with an avg of 2525 features per instance\n",
      "DEBUG:eden.util:Elapsed time: 19.3 secs\n",
      "INFO:eden.motif:model induction: 100 positive instances 20 s\n",
      "INFO:eden.motif:motives extraction: 34 motives in 4s\n",
      "INFO:eden.motif:motives clustering: 4 clusters in 0s\n",
      "INFO:eden.motif:after filtering: 30 motives 4 clusters in 0s\n",
      "INFO:eden.motif:motif model construction in 0s\n",
      "INFO:eden.motif:updated motif counts in 0s\n",
      "DEBUG:eden.util:Positive data: Instances: 100 ; Features: 16385 with an avg of 2436 features per instance\n",
      "DEBUG:eden.util:Negative data: Instances: 300 ; Features: 16385 with an avg of 2435 features per instance\n",
      "DEBUG:eden.util:Elapsed time: 21.2 secs\n",
      "INFO:eden.motif:model induction: 100 positive instances 21 s\n",
      "INFO:eden.motif:motives extraction: 33 motives in 5s\n",
      "INFO:eden.motif:motives clustering: 4 clusters in 0s\n",
      "INFO:eden.motif:after filtering: 33 motives 4 clusters in 0s\n",
      "INFO:eden.motif:motif model construction in 0s\n",
      "INFO:eden.motif:updated motif counts in 0s\n",
      "DEBUG:eden.util:Positive data: Instances: 100 ; Features: 16385 with an avg of 2526 features per instance\n",
      "DEBUG:eden.util:Negative data: Instances: 300 ; Features: 16385 with an avg of 2525 features per instance\n",
      "DEBUG:eden.util:Elapsed time: 18.0 secs\n",
      "INFO:eden.motif:model induction: 100 positive instances 18 s\n",
      "INFO:eden.motif:motives extraction: 29 motives in 8s\n",
      "INFO:eden.motif:motives clustering: 4 clusters in 0s\n",
      "INFO:eden.motif:after filtering: 25 motives 4 clusters in 0s\n",
      "INFO:eden.motif:motif model construction in 0s\n",
      "INFO:eden.motif:updated motif counts in 0s\n",
      "DEBUG:eden.util:Positive data: Instances: 100 ; Features: 16385 with an avg of 2441 features per instance\n",
      "DEBUG:eden.util:Negative data: Instances: 300 ; Features: 16385 with an avg of 2440 features per instance\n",
      "DEBUG:eden.util:Elapsed time: 21.7 secs\n",
      "INFO:eden.motif:model induction: 100 positive instances 22 s\n",
      "INFO:eden.motif:motives extraction: 20 motives in 4s\n",
      "INFO:eden.motif:motives clustering: 4 clusters in 0s\n",
      "INFO:eden.motif:after filtering: 20 motives 4 clusters in 0s\n",
      "INFO:eden.motif:motif model construction in 0s\n",
      "INFO:eden.motif:updated motif counts in 0s\n"
     ]
    },
    {
     "name": "stdout",
     "output_type": "stream",
     "text": [
      "CPU times: user 3min 26s, sys: 41.5 s, total: 4min 7s\n",
      "Wall time: 5min 30s\n"
     ]
    }
   ],
   "source": [
    "%%time\n",
    "roc_list=[]\n",
    "roc_scores_list=[]\n",
    "\n",
    "motif_len = range(10,21)\n",
    "\n",
    "for i in motif_len:\n",
    "    avg_roc, roc_scores = evaluate(motif_finder='eden', # ['meme','eden']\n",
    "                          scoring_criteria='hmm', # ['pwm','hmm']\n",
    "                          motif_length=i,\n",
    "                          n_motives=4,\n",
    "                          sequence_length=100,\n",
    "                          n_sequences=100)\n",
    "    roc_list.append(avg_roc)\n",
    "    roc_scores_list.append(roc_scores)"
   ]
  },
  {
   "cell_type": "code",
   "execution_count": 20,
   "metadata": {
    "collapsed": false
   },
   "outputs": [
    {
     "name": "stdout",
     "output_type": "stream",
     "text": [
      "Motif Length: 10, ROC: 0.499375\n",
      "Motif Length: 11, ROC: 0.499018\n",
      "Motif Length: 12, ROC: 0.499688\n",
      "Motif Length: 13, ROC: 0.498013\n",
      "Motif Length: 14, ROC: 0.499750\n",
      "Motif Length: 15, ROC: 0.500000\n",
      "Motif Length: 16, ROC: 0.499844\n",
      "Motif Length: 17, ROC: 0.499439\n",
      "Motif Length: 18, ROC: 0.500000\n",
      "Motif Length: 19, ROC: 0.500000\n",
      "Motif Length: 20, ROC: 0.498812\n"
     ]
    }
   ],
   "source": [
    "for i,r in enumerate(roc_list):\n",
    "    print \"Motif Length: %d, ROC: %f\"%(motif_len[i],r)"
   ]
  },
  {
   "cell_type": "code",
   "execution_count": null,
   "metadata": {
    "collapsed": true
   },
   "outputs": [],
   "source": []
  },
  {
   "cell_type": "code",
   "execution_count": null,
   "metadata": {
    "collapsed": true
   },
   "outputs": [],
   "source": []
  }
 ],
 "metadata": {
  "kernelspec": {
   "display_name": "Python 2",
   "language": "python",
   "name": "python2"
  },
  "language_info": {
   "codemirror_mode": {
    "name": "ipython",
    "version": 2
   },
   "file_extension": ".py",
   "mimetype": "text/x-python",
   "name": "python",
   "nbconvert_exporter": "python",
   "pygments_lexer": "ipython2",
   "version": "2.7.11"
  }
 },
 "nbformat": 4,
 "nbformat_minor": 0
}
