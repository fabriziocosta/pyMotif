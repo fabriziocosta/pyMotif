{
 "cells": [
  {
   "cell_type": "code",
   "execution_count": 1,
   "metadata": {
    "collapsed": true
   },
   "outputs": [],
   "source": [
    "#code for making artificial dataset\n",
    "import random\n",
    "def random_string(length,alphabet_list):\n",
    "    rand_str = ''.join(random.choice(alphabet_list) for i in range(length))\n",
    "    return rand_str\n",
    "\n",
    "def perturb(seed,alphabet_list,p=0.5):\n",
    "    seq=''\n",
    "    for c in seed:\n",
    "        if random.random() < p: c = random.choice(alphabet_list)\n",
    "        seq += c\n",
    "    return seq\n",
    "\n",
    "def make_artificial_dataset(alphabet='ACGT', motives=None, motif_length=6, \n",
    "                            sequence_length=100, n_sequences=1000, n_motives=2, p=0.2,\n",
    "                           random_state=1):\n",
    "    random.seed(random_state)\n",
    "    alphabet_list=[c for c in alphabet]\n",
    "    \n",
    "    if motives is None:\n",
    "        motives=[]\n",
    "        for i in range(n_motives):\n",
    "            motives.append(random_string(motif_length,alphabet_list))\n",
    "    else:\n",
    "        motif_length = len(motives[0])\n",
    "        n_motives = len(motives)\n",
    "    \n",
    "    sequence_length = sequence_length / len(motives)\n",
    "    flanking_length = (sequence_length - motif_length ) / 2\n",
    "    n_seq_per_motif = n_sequences\n",
    "\n",
    "    counter=0\n",
    "    seqs=[]\n",
    "    for i in range(n_seq_per_motif):\n",
    "        total_seq = ''\n",
    "        total_binary_seq=''\n",
    "        for j in range(n_motives):\n",
    "            left_flanking = random_string(flanking_length,alphabet_list)\n",
    "            right_flanking = random_string(flanking_length,alphabet_list)\n",
    "            noisy_motif = perturb(motives[j],alphabet_list,p)\n",
    "            seq = left_flanking + noisy_motif + right_flanking\n",
    "            total_seq += seq\n",
    "        seqs.append(('>ID%d'%counter,total_seq))\n",
    "        counter += 1\n",
    "    binary_skeleton = '0' * flanking_length + '1' * motif_length + '0' * flanking_length\n",
    "    binary_seq = binary_skeleton * n_motives\n",
    "    return motives, seqs, binary_seq"
   ]
  },
  {
   "cell_type": "code",
   "execution_count": 2,
   "metadata": {
    "collapsed": true
   },
   "outputs": [],
   "source": [
    "from sklearn.cluster import KMeans\n",
    "from utilities import Weblogo, MuscleAlignWrapper\n",
    "from eden_wrapper import EdenWrapper\n",
    "from meme_wrapper import Meme"
   ]
  },
  {
   "cell_type": "code",
   "execution_count": 3,
   "metadata": {
    "collapsed": true
   },
   "outputs": [],
   "source": [
    "import logging\n",
    "logger = logging.getLogger()\n",
    "logger.setLevel(logging.DEBUG)"
   ]
  },
  {
   "cell_type": "code",
   "execution_count": 4,
   "metadata": {
    "collapsed": false
   },
   "outputs": [],
   "source": [
    "def run_tool(motif_finder,seqs, n_motives, min_motif_len, max_motif_len):\n",
    "    if motif_finder=='meme':\n",
    "        with open('seqs.fa','w') as f_train:\n",
    "            for seq in seqs:\n",
    "                f_train.write('>' + seq[0] + ' \\n')\n",
    "                f_train.write(seq[1] + '\\n')\n",
    "\n",
    "        tool =  Meme(alphabet='dna',\n",
    "                     minw=min_motif_len,\n",
    "                     maxw=max_motif_len,\n",
    "                     nmotifs=n_motives,\n",
    "                     maxsize=100000)\n",
    "        tool.fit('seqs.fa')\n",
    "    else:\n",
    "        km = KMeans(n_clusters=n_motives)\n",
    "        tool = EdenWrapper(alphabet='dna', \n",
    "                           complexity=5, \n",
    "                           nbits=14, \n",
    "                           negative_ratio=3,\n",
    "                           min_subarray_size=min_motif_len, \n",
    "                           max_subarray_size=max_motif_len,\n",
    "                           clustering_algorithm=km)\n",
    "        tool.fit(seqs)\n",
    "    return tool"
   ]
  },
  {
   "cell_type": "code",
   "execution_count": 5,
   "metadata": {
    "collapsed": false
   },
   "outputs": [],
   "source": [
    "def score_seqs(seqs, n_motives, scoring_criteria, tool):\n",
    "    scores = []\n",
    "    for j in range(len(seqs)):\n",
    "        seq_scr = []\n",
    "        for k in range(n_motives):\n",
    "            if scoring_criteria=='pwm':\n",
    "                scr=tool.score(motif_num=k+1, seq=seqs[j][1], zero_padding=True)\n",
    "            else: # scoring_criteria=='hmm'\n",
    "                scr=tool.score(motif_num=k+1, seq=seqs[j][1], zero_padding=True)\n",
    "            seq_scr.append(scr)\n",
    "\n",
    "        # taking average over all motives for a sequence\n",
    "        x = np.array(seq_scr[0])\n",
    "        for k in range(1, n_motives):\n",
    "            x = np.vstack((x, seq_scr[k]))\n",
    "        seq_scr = list(np.mean(x, axis=0))\n",
    "        scores.append(seq_scr)\n",
    "    return scores\n",
    "#investigate max or mean"
   ]
  },
  {
   "cell_type": "code",
   "execution_count": 6,
   "metadata": {
    "collapsed": false
   },
   "outputs": [],
   "source": [
    "import numpy as np\n",
    "from sklearn.metrics import roc_auc_score\n",
    "\n",
    "def evaluate(motif_finder='meme', # ['meme','eden']\n",
    "             scoring_criteria='pwm', # ['meme','hmm']\n",
    "             motives=None,\n",
    "             motif_length=6,\n",
    "             n_motives=4,\n",
    "             sequence_length=100,\n",
    "             n_sequences=50,\n",
    "             p=0.2,\n",
    "             random_state=8):\n",
    "\n",
    "    motives, seqs, binary_seq = make_artificial_dataset(alphabet='ACGT',\n",
    "                                                        motives=motives,\n",
    "                                                        sequence_length=sequence_length,\n",
    "                                                        n_sequences=n_sequences,\n",
    "                                                        motif_length=motif_length,\n",
    "                                                        n_motives=n_motives,\n",
    "                                                        p=p,\n",
    "                                                        random_state=random_state)\n",
    "    tool = run_tool(motif_finder=motif_finder,\n",
    "                    seqs=seqs,\n",
    "                    n_motives=n_motives,\n",
    "                    min_motif_len=max(2, len(motives[0])-2),\n",
    "                    max_motif_len=len(motives[0])+2)\n",
    "    \n",
    "    scores = score_seqs(seqs=seqs,\n",
    "                        n_motives=n_motives,\n",
    "                        scoring_criteria=scoring_criteria,\n",
    "                        tool=tool)\n",
    "    roc_scores = []\n",
    "    #true_score = [float(int(x)) for x in binary_seq]\n",
    "    true_score = np.zeros(len(binary_seq))\n",
    "    for i in range(1,len(binary_seq)):\n",
    "        if binary_seq[i-1]=='0' and binary_seq[i]=='1':\n",
    "            true_score[i]=1\n",
    "\n",
    "    for score in scores:\n",
    "        roc_scores.append(roc_auc_score(true_score, score))\n",
    "    avg_roc = np.average(roc_scores)\n",
    "    max_roc = max(roc_scores)\n",
    "    return avg_roc, max_roc, roc_scores"
   ]
  },
  {
   "cell_type": "markdown",
   "metadata": {},
   "source": [
    "<h3>Experiment 1: Varying number of motives</h3>"
   ]
  },
  {
   "cell_type": "code",
   "execution_count": 72,
   "metadata": {
    "collapsed": false
   },
   "outputs": [
    {
     "name": "stdout",
     "output_type": "stream",
     "text": [
      "DNA alphabet detected\n",
      "DNA alphabet detected\n",
      "DNA alphabet detected\n",
      "DNA alphabet detected\n",
      "DNA alphabet detected\n",
      "CPU times: user 1min 11s, sys: 544 ms, total: 1min 11s\n",
      "Wall time: 15min 47s\n"
     ]
    }
   ],
   "source": [
    "%%time\n",
    "avg_roc_list=[]\n",
    "max_roc_list=[]\n",
    "roc_scores_list=[]\n",
    "\n",
    "parameter = range(4,9)\n",
    "\n",
    "for i in parameter:\n",
    "    avg_roc, max_roc, roc_scores = evaluate(motif_finder='meme', # ['meme','eden']\n",
    "                                            scoring_criteria='pwm', # ['pwm','hmm']\n",
    "                                            motif_length=15,\n",
    "                                            n_motives=i,\n",
    "                                            sequence_length=300,\n",
    "                                            n_sequences=200,\n",
    "                                            p=0.01)\n",
    "    avg_roc_list.append(avg_roc)\n",
    "    max_roc_list.append(max_roc)\n",
    "    roc_scores_list.append(roc_scores)"
   ]
  },
  {
   "cell_type": "code",
   "execution_count": 73,
   "metadata": {
    "collapsed": false
   },
   "outputs": [
    {
     "name": "stdout",
     "output_type": "stream",
     "text": [
      "Number of Motives \t Avg-ROC \t Max-ROC\n",
      "4 \t\t 1.000000 \t 1.000000\n",
      "5 \t\t 1.000000 \t 1.000000\n",
      "6 \t\t 1.000000 \t 1.000000\n",
      "7 \t\t 1.000000 \t 1.000000\n",
      "8 \t\t 1.000000 \t 1.000000\n"
     ]
    }
   ],
   "source": [
    "print \"Number of Motives \\t Avg-ROC \\t Max-ROC\"\n",
    "for i,r in enumerate(avg_roc_list):\n",
    "    print \"%d \\t\\t %f \\t %f\"%(parameter[i],r, max_roc_list[i])"
   ]
  },
  {
   "cell_type": "markdown",
   "metadata": {
    "collapsed": true
   },
   "source": [
    "<h3>Experiment 2: Varying Motif Length</h3>"
   ]
  },
  {
   "cell_type": "code",
   "execution_count": 74,
   "metadata": {
    "collapsed": false
   },
   "outputs": [
    {
     "name": "stdout",
     "output_type": "stream",
     "text": [
      "DNA alphabet detected\n",
      "DNA alphabet detected\n",
      "DNA alphabet detected\n",
      "DNA alphabet detected\n",
      "DNA alphabet detected\n",
      "DNA alphabet detected\n",
      "CPU times: user 7.66 s, sys: 172 ms, total: 7.84 s\n",
      "Wall time: 2min 58s\n"
     ]
    }
   ],
   "source": [
    "%%time\n",
    "avg_roc_list=[]\n",
    "max_roc_list=[]\n",
    "roc_scores_list=[]\n",
    "\n",
    "parameter = range(5,11)\n",
    "\n",
    "for i in parameter:\n",
    "    avg_roc, max_roc, roc_scores = evaluate(motif_finder='meme', # ['meme','eden']\n",
    "                          scoring_criteria='hmm', # ['pwm','hmm']\n",
    "                          motif_length=i,\n",
    "                          n_motives=4,\n",
    "                          sequence_length=150,\n",
    "                          n_sequences=100,\n",
    "                          p=0.2)\n",
    "    avg_roc_list.append(avg_roc)\n",
    "    max_roc_list.append(max_roc)\n",
    "    roc_scores_list.append(roc_scores)"
   ]
  },
  {
   "cell_type": "code",
   "execution_count": 75,
   "metadata": {
    "collapsed": false
   },
   "outputs": [
    {
     "name": "stdout",
     "output_type": "stream",
     "text": [
      "Motif Length \t Avg-ROC \t Max-ROC\n",
      "5 \t\t 0.741806 \t 1.000000\n",
      "6 \t\t 0.712509 \t 1.000000\n",
      "7 \t\t 0.852135 \t 1.000000\n",
      "8 \t\t 0.930786 \t 1.000000\n",
      "9 \t\t 0.945955 \t 1.000000\n",
      "10 \t\t 0.976714 \t 1.000000\n"
     ]
    }
   ],
   "source": [
    "print \"Motif Length \\t Avg-ROC \\t Max-ROC\"\n",
    "for i,r in enumerate(avg_roc_list):\n",
    "    print \"%d \\t\\t %f \\t %f\"%(parameter[i],r,max_roc_list[i])"
   ]
  },
  {
   "cell_type": "markdown",
   "metadata": {},
   "source": [
    "<h3>Experiment 3: Fixed Motives with Varying Sequence Length</h3>"
   ]
  },
  {
   "cell_type": "code",
   "execution_count": 77,
   "metadata": {
    "collapsed": false,
    "scrolled": true
   },
   "outputs": [
    {
     "name": "stdout",
     "output_type": "stream",
     "text": [
      "DNA alphabet detected\n",
      "DNA alphabet detected\n",
      "DNA alphabet detected\n",
      "DNA alphabet detected\n",
      "CPU times: user 28.7 s, sys: 276 ms, total: 29 s\n",
      "Wall time: 18min 26s\n"
     ]
    }
   ],
   "source": [
    "%%time\n",
    "\n",
    "semi_len=5\n",
    "motives=['A'*semi_len+'C'*semi_len,\n",
    "         'C'*semi_len+'A'*semi_len,\n",
    "         'A'*semi_len+'T'*semi_len,\n",
    "         'T'*semi_len+'A'*semi_len,\n",
    "         'A'*semi_len+'G'*semi_len,\n",
    "         'G'*semi_len+'A'*semi_len,\n",
    "         'G'*semi_len+'C'*semi_len,\n",
    "         'C'*semi_len+'G'*semi_len,]\n",
    "\n",
    "avg_roc_list=[]\n",
    "max_roc_list=[]\n",
    "roc_scores_list=[]\n",
    "\n",
    "parameter = range(250,410,50)\n",
    "\n",
    "for i in parameter:\n",
    "    avg_roc, max_roc, roc_scores = evaluate(motif_finder='meme', # ['meme','eden']\n",
    "                                            scoring_criteria='pwm', # ['pwm','hmm']\n",
    "                                            motives=motives,\n",
    "                                            sequence_length=i,\n",
    "                                            n_sequences=200,\n",
    "                                            p=0.1)\n",
    "    avg_roc_list.append(avg_roc)\n",
    "    max_roc_list.append(max_roc)\n",
    "    roc_scores_list.append(roc_scores)"
   ]
  },
  {
   "cell_type": "code",
   "execution_count": 78,
   "metadata": {
    "collapsed": false
   },
   "outputs": [
    {
     "name": "stdout",
     "output_type": "stream",
     "text": [
      "Sequence Length \t Avg-ROC \t Max-ROC\n",
      "250 \t\t 0.732997 \t 0.855334\n",
      "300 \t\t 0.742863 \t 0.905357\n",
      "350 \t\t 0.739217 \t 0.904535\n",
      "400 \t\t 0.731756 \t 0.801180\n"
     ]
    }
   ],
   "source": [
    "print \"Sequence Length \\t Avg-ROC \\t Max-ROC\"\n",
    "for i,r in enumerate(avg_roc_list):\n",
    "    print \"%d \\t\\t %f \\t %f\"%(parameter[i],r,max_roc_list[i])"
   ]
  },
  {
   "cell_type": "markdown",
   "metadata": {
    "collapsed": true
   },
   "source": [
    "<h3>Experiment 4: Varying Motif Length (Fixed Motives)</h3>"
   ]
  },
  {
   "cell_type": "code",
   "execution_count": 79,
   "metadata": {
    "collapsed": false,
    "scrolled": false
   },
   "outputs": [
    {
     "name": "stdout",
     "output_type": "stream",
     "text": [
      "CPU times: user 6min 12s, sys: 48.3 s, total: 7min\n",
      "Wall time: 11min 24s\n"
     ]
    }
   ],
   "source": [
    "%%time\n",
    "\n",
    "parameter = range(10,31,5)\n",
    "\n",
    "avg_roc_list=[]\n",
    "max_roc_list=[]\n",
    "roc_scores_list=[]\n",
    "\n",
    "for i in parameter:\n",
    "    motives=['A'*i,\n",
    "             'C'*i,\n",
    "             'A'*i,\n",
    "             'C'*i]\n",
    "    \n",
    "    avg_roc, max_roc, roc_scores = evaluate(motif_finder='eden', # ['meme','eden']\n",
    "                                            scoring_criteria='hmm', # ['pwm','hmm']\n",
    "                                            motives=motives,\n",
    "                                            sequence_length=300,\n",
    "                                            n_sequences=200,\n",
    "                                            p=0.1)\n",
    "    avg_roc_list.append(avg_roc)\n",
    "    max_roc_list.append(max_roc)\n",
    "    roc_scores_list.append(roc_scores)"
   ]
  },
  {
   "cell_type": "code",
   "execution_count": 80,
   "metadata": {
    "collapsed": false
   },
   "outputs": [
    {
     "name": "stdout",
     "output_type": "stream",
     "text": [
      "Motif Length \t Avg-ROC \t Max-ROC\n",
      "10 \t\t 0.802907 \t 0.986301\n",
      "15 \t\t 0.683670 \t 0.983953\n",
      "20 \t\t 0.724465 \t 0.983733\n",
      "25 \t\t 0.699172 \t 0.982264\n",
      "30 \t\t 0.588268 \t 0.865154\n"
     ]
    }
   ],
   "source": [
    "print \"Motif Length \\t Avg-ROC \\t Max-ROC\"\n",
    "for i,r in enumerate(avg_roc_list):\n",
    "    print \"%d \\t\\t %f \\t %f\"%(parameter[i],r,max_roc_list[i])"
   ]
  },
  {
   "cell_type": "markdown",
   "metadata": {},
   "source": [
    "<h3>Experiment 5: Varying Motif Length (Fixed Motives) with MEME</h3>"
   ]
  },
  {
   "cell_type": "code",
   "execution_count": 7,
   "metadata": {
    "collapsed": false,
    "scrolled": true
   },
   "outputs": [
    {
     "name": "stdout",
     "output_type": "stream",
     "text": [
      "DNA alphabet detected\n",
      "DNA alphabet detected\n",
      "DNA alphabet detected\n",
      "DNA alphabet detected\n",
      "DNA alphabet detected\n",
      "DNA alphabet detected\n",
      "CPU times: user 6.09 s, sys: 308 ms, total: 6.4 s\n",
      "Wall time: 1min 35s\n"
     ]
    }
   ],
   "source": [
    "%%time\n",
    "\n",
    "parameter = range(5,11)\n",
    "\n",
    "avg_roc_list=[]\n",
    "max_roc_list=[]\n",
    "roc_scores_list=[]\n",
    "\n",
    "for i in parameter:\n",
    "    motives=['A'*i,\n",
    "             'C'*i,\n",
    "             'A'*i,\n",
    "             'C'*i]\n",
    "    \n",
    "    avg_roc, max_roc, roc_scores = evaluate(motif_finder='meme', # ['meme','eden']\n",
    "                                            scoring_criteria='hmm', # ['pwm','hmm']\n",
    "                                            motives=motives,\n",
    "                                            sequence_length=100,\n",
    "                                            n_sequences=100,\n",
    "                                            p=0.10)\n",
    "    avg_roc_list.append(avg_roc)\n",
    "    max_roc_list.append(max_roc)\n",
    "    roc_scores_list.append(roc_scores)"
   ]
  },
  {
   "cell_type": "code",
   "execution_count": 8,
   "metadata": {
    "collapsed": false
   },
   "outputs": [
    {
     "name": "stdout",
     "output_type": "stream",
     "text": [
      "Motif Length \t Avg-ROC \t Max-ROC\n",
      "5 \t\t 0.848880 \t 0.997396\n",
      "6 \t\t 0.664851 \t 0.861413\n",
      "7 \t\t 0.734648 \t 0.954427\n",
      "8 \t\t 0.633859 \t 0.923913\n",
      "9 \t\t 0.701966 \t 0.924479\n",
      "10 \t\t 0.802568 \t 1.000000\n"
     ]
    }
   ],
   "source": [
    "print \"Motif Length \\t Avg-ROC \\t Max-ROC\"\n",
    "for i,r in enumerate(avg_roc_list):\n",
    "    print \"%d \\t\\t %f \\t %f\"%(parameter[i],r,max_roc_list[i])"
   ]
  },
  {
   "cell_type": "code",
   "execution_count": null,
   "metadata": {
    "collapsed": true
   },
   "outputs": [],
   "source": []
  }
 ],
 "metadata": {
  "kernelspec": {
   "display_name": "Python 2",
   "language": "python",
   "name": "python2"
  },
  "language_info": {
   "codemirror_mode": {
    "name": "ipython",
    "version": 2
   },
   "file_extension": ".py",
   "mimetype": "text/x-python",
   "name": "python",
   "nbconvert_exporter": "python",
   "pygments_lexer": "ipython2",
   "version": "2.7.12"
  }
 },
 "nbformat": 4,
 "nbformat_minor": 0
}
