{
 "cells": [
  {
   "cell_type": "code",
   "execution_count": 78,
   "metadata": {
    "collapsed": true
   },
   "outputs": [],
   "source": [
    "#code for making artificial dataset\n",
    "import random\n",
    "def random_string(length,alphabet_list):\n",
    "    rand_str = ''.join(random.choice(alphabet_list) for i in range(length))\n",
    "    return rand_str\n",
    "\n",
    "def perturb(seed,alphabet_list,p=0.5):\n",
    "    seq=''\n",
    "    for c in seed:\n",
    "        if random.random() < p: c = random.choice(alphabet_list)\n",
    "        seq += c\n",
    "    return seq\n",
    "\n",
    "def make_artificial_dataset(alphabet='ACGT', motives=None, motif_length=6, \n",
    "                            sequence_length=100, n_sequences=1000, n_motives=2, p=0.2,\n",
    "                           random_state=1):\n",
    "    random.seed(random_state)\n",
    "    alphabet_list=[c for c in alphabet]\n",
    "    \n",
    "    if motives is None:\n",
    "        motives=[]\n",
    "        for i in range(n_motives):\n",
    "            motives.append(random_string(motif_length,alphabet_list))\n",
    "    else:\n",
    "        motif_length = len(motives[0])\n",
    "        n_motives = len(motives)\n",
    "    \n",
    "    sequence_length = sequence_length / len(motives)\n",
    "    flanking_length = (sequence_length - motif_length ) / 2\n",
    "    n_seq_per_motif = n_sequences\n",
    "\n",
    "    counter=0\n",
    "    seqs=[]\n",
    "    binary_seqs=[]\n",
    "    for i in range(n_seq_per_motif):\n",
    "        total_seq = ''\n",
    "        total_binary_seq=''\n",
    "        for j in range(n_motives):\n",
    "            left_flanking = random_string(flanking_length,alphabet_list)\n",
    "            right_flanking = random_string(flanking_length,alphabet_list)\n",
    "            noisy_motif = perturb(motives[j],alphabet_list,p)\n",
    "            seq = left_flanking + noisy_motif + right_flanking\n",
    "            total_seq += seq\n",
    "            binary_seq = '0' * flanking_length + '1' * motif_length + '0' * flanking_length\n",
    "            total_binary_seq += binary_seq\n",
    "        seqs.append(('>ID%d'%counter,total_seq))\n",
    "        binary_seqs.append(('>ID%d'%counter,total_binary_seq))\n",
    "        counter += 1\n",
    "    return motives, seqs, binary_seqs"
   ]
  },
  {
   "cell_type": "code",
   "execution_count": 79,
   "metadata": {
    "collapsed": true
   },
   "outputs": [],
   "source": [
    "from sklearn.cluster import KMeans\n",
    "from utilities import Weblogo, MuscleAlignWrapper\n",
    "from eden_wrapper import EdenWrapper\n",
    "from meme_wrapper import Meme"
   ]
  },
  {
   "cell_type": "code",
   "execution_count": 83,
   "metadata": {
    "collapsed": true
   },
   "outputs": [],
   "source": [
    "import logging\n",
    "logger = logging.getLogger()\n",
    "logger.setLevel(logging.DEBUG)"
   ]
  },
  {
   "cell_type": "code",
   "execution_count": 84,
   "metadata": {
    "collapsed": false
   },
   "outputs": [],
   "source": [
    "def run_tool(motif_finder, n_motives, min_motif_len, max_motif_len):\n",
    "    if motif_finder=='meme':\n",
    "        with open('seqs.fa','w') as f_train:\n",
    "            for seq in seqs:\n",
    "                f_train.write('>' + seq[0] + ' \\n')\n",
    "                f_train.write(seq[1] + '\\n')\n",
    "\n",
    "        tool =  Meme(alphabet='dna',\n",
    "                     minw=min_motif_len,\n",
    "                     maxw=max_motif_len,\n",
    "                     nmotifs=n_motives)\n",
    "        tool.fit('seqs.fa')\n",
    "    else:\n",
    "        km = KMeans(n_clusters=n_motives)\n",
    "        tool = EdenWrapper(alphabet='dna', \n",
    "                           complexity=5, \n",
    "                           nbits=14, \n",
    "                           negative_ratio=3,\n",
    "                           min_subarray_size=min_motif_len, \n",
    "                           max_subarray_size=max_motif_len,\n",
    "                           clustering_algorithm=km)\n",
    "        tool.fit(seqs)\n",
    "    return tool"
   ]
  },
  {
   "cell_type": "code",
   "execution_count": 85,
   "metadata": {
    "collapsed": true
   },
   "outputs": [],
   "source": [
    "# size of context\n",
    "# size of motif\n",
    "# number of motifs\n",
    "# number of sequences\n",
    "# "
   ]
  },
  {
   "cell_type": "code",
   "execution_count": 87,
   "metadata": {
    "collapsed": false
   },
   "outputs": [],
   "source": [
    "import numpy as np\n",
    "\n",
    "def evaluate(motif_finder='meme', # or 'eden'\n",
    "             scoring_criteria='pwm', # or 'hmm'\n",
    "             motif_length=6,\n",
    "             n_motives=4,\n",
    "             sequence_length=30,\n",
    "             n_sequences=50,\n",
    "             p=0.2,\n",
    "             random_state=8):\n",
    "\n",
    "    motives, seqs, binary_seqs = make_artificial_dataset(alphabet='ACGT',\n",
    "                                                         motif_length=motif_length,\n",
    "                                                         n_motives=n_motives,\n",
    "                                                         sequence_length=sequence_length,\n",
    "                                                         n_sequences=n_sequences,\n",
    "                                                         p=p,\n",
    "                                                         random_state=random_state)\n",
    "\n",
    "    tool = run_tool(motif_finder=motif_finder,\n",
    "                    n_motives=n_motives,\n",
    "                    min_motif_len=max(1, len(motives[0])-2),\n",
    "                    max_motif_len=len(motives[0])+2)\n",
    "    \n",
    "    scores = []\n",
    "    for j in range(len(seqs)):\n",
    "        seq_scr = []\n",
    "        for k in range(n_motives):\n",
    "            if scoring_criteria=='pwm':\n",
    "                scr=tool.score_pwm(motif_num=k+1, seq=seqs[j][1], zero_padding=True)\n",
    "            else: # scoring_criteria=='hmm'\n",
    "                scr=tool.score_pwm(motif_num=k+1, seq=seqs[j][1], zero_padding=True)\n",
    "            seq_scr.append(scr)\n",
    "\n",
    "        # taking average over all motives for a sequence\n",
    "        x = np.array(seq_scr[0])\n",
    "        for k in range(1, n_motives):\n",
    "            x = np.vstack((x, seq_scr[k]))\n",
    "        seq_scr = list(np.mean(x, axis=0))\n",
    "        scores.append(seq_scr)\n",
    "    \n",
    "    return scores"
   ]
  },
  {
   "cell_type": "code",
   "execution_count": null,
   "metadata": {
    "collapsed": false
   },
   "outputs": [
    {
     "name": "stderr",
     "output_type": "stream",
     "text": [
      "DEBUG:eden.util:Positive data: Instances: 50 ; Features: 16385 with an avg of 1522 features per instance\n",
      "DEBUG:eden.util:Negative data: Instances: 150 ; Features: 16385 with an avg of 1764 features per instance\n",
      "DEBUG:eden.util:Elapsed time: 3.6 secs\n",
      "INFO:eden.motif:model induction: 50 positive instances 4 s\n"
     ]
    }
   ],
   "source": [
    "%%time\n",
    "scores = evaluate(motif_finder='eden', # or 'eden'\n",
    "                  scoring_criteria='hmm', # or 'hmm'\n",
    "                  motif_length=3,\n",
    "                  n_motives=2,\n",
    "                  sequence_length=10,\n",
    "                  n_sequences=20)\n"
   ]
  },
  {
   "cell_type": "code",
   "execution_count": null,
   "metadata": {
    "collapsed": false
   },
   "outputs": [],
   "source": [
    "for i in scores:\n",
    "    print i\n",
    "    print"
   ]
  },
  {
   "cell_type": "code",
   "execution_count": 64,
   "metadata": {
    "collapsed": false
   },
   "outputs": [
    {
     "data": {
      "text/plain": [
       "array([[1, 2, 3],\n",
       "       [8, 9, 0]])"
      ]
     },
     "execution_count": 64,
     "metadata": {},
     "output_type": "execute_result"
    }
   ],
   "source": [
    "a = np.array([1, 2, 3])\n",
    "b = np.array([2, 3, 4])\n",
    "c=np.vstack((a,[8,9,0]))\n",
    "c"
   ]
  },
  {
   "cell_type": "code",
   "execution_count": 65,
   "metadata": {
    "collapsed": false
   },
   "outputs": [
    {
     "data": {
      "text/plain": [
       "[4.5, 5.5, 1.5]"
      ]
     },
     "execution_count": 65,
     "metadata": {},
     "output_type": "execute_result"
    }
   ],
   "source": [
    "list(np.mean(c, axis=0))"
   ]
  },
  {
   "cell_type": "code",
   "execution_count": 17,
   "metadata": {
    "collapsed": true
   },
   "outputs": [],
   "source": [
    "c=np.vstack((c,[7,8,9]))"
   ]
  },
  {
   "cell_type": "code",
   "execution_count": 18,
   "metadata": {
    "collapsed": false
   },
   "outputs": [
    {
     "data": {
      "text/plain": [
       "array([[1, 2, 3],\n",
       "       [2, 3, 4],\n",
       "       [1, 2, 3],\n",
       "       [2, 3, 4],\n",
       "       [7, 8, 9]])"
      ]
     },
     "execution_count": 18,
     "metadata": {},
     "output_type": "execute_result"
    }
   ],
   "source": [
    "c"
   ]
  },
  {
   "cell_type": "code",
   "execution_count": 77,
   "metadata": {
    "collapsed": false
   },
   "outputs": [
    {
     "data": {
      "text/plain": [
       "2"
      ]
     },
     "execution_count": 77,
     "metadata": {},
     "output_type": "execute_result"
    }
   ],
   "source": [
    "max(1, len([1,2]))"
   ]
  },
  {
   "cell_type": "code",
   "execution_count": null,
   "metadata": {
    "collapsed": true
   },
   "outputs": [],
   "source": []
  }
 ],
 "metadata": {
  "kernelspec": {
   "display_name": "Python 2",
   "language": "python",
   "name": "python2"
  },
  "language_info": {
   "codemirror_mode": {
    "name": "ipython",
    "version": 2
   },
   "file_extension": ".py",
   "mimetype": "text/x-python",
   "name": "python",
   "nbconvert_exporter": "python",
   "pygments_lexer": "ipython2",
   "version": "2.7.11"
  }
 },
 "nbformat": 4,
 "nbformat_minor": 0
}
