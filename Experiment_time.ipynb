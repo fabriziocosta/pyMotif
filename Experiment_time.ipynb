{
 "cells": [
  {
   "cell_type": "code",
   "execution_count": 22,
   "metadata": {
    "collapsed": false
   },
   "outputs": [
    {
     "name": "stdout",
     "output_type": "stream",
     "text": [
      "The autoreload extension is already loaded. To reload it, use:\n",
      "  %reload_ext autoreload\n"
     ]
    }
   ],
   "source": [
    "%load_ext autoreload\n",
    "%autoreload 2"
   ]
  },
  {
   "cell_type": "code",
   "execution_count": 23,
   "metadata": {
    "collapsed": true
   },
   "outputs": [],
   "source": [
    "import random\n",
    "def random_string(length,alphabet_list):\n",
    "    rand_str = ''.join(random.choice(alphabet_list) for i in range(length))\n",
    "    return rand_str\n",
    "\n",
    "def perturb(seed,alphabet_list,p=0.5):\n",
    "    seq=''\n",
    "    for c in seed:\n",
    "        if random.random() < p: c = random.choice(alphabet_list)\n",
    "        seq += c\n",
    "    return seq\n",
    "\n",
    "def make_artificial_dataset(alphabet='ACGT', motives=None, motif_length=6, \n",
    "                            sequence_length=100, n_sequences=1000, n_motives=2, p=0.2,\n",
    "                           random_state=1):\n",
    "    random.seed(random_state)\n",
    "    alphabet_list=[c for c in alphabet]\n",
    "    \n",
    "    if motives is None:\n",
    "        motives=[]\n",
    "        for i in range(n_motives):\n",
    "            motives.append(random_string(motif_length,alphabet_list))\n",
    "    else:\n",
    "        motif_length = len(motives[0])\n",
    "        n_motives = len(motives)\n",
    "    \n",
    "    sequence_length = sequence_length / len(motives)\n",
    "    flanking_length = (sequence_length - motif_length ) / 2\n",
    "    n_seq_per_motif = n_sequences\n",
    "\n",
    "    counter=0\n",
    "    seqs=[]\n",
    "    for i in range(n_seq_per_motif):\n",
    "        total_seq = ''\n",
    "        total_binary_seq=''\n",
    "        for j in range(n_motives):\n",
    "            left_flanking = random_string(flanking_length,alphabet_list)\n",
    "            right_flanking = random_string(flanking_length,alphabet_list)\n",
    "            noisy_motif = perturb(motives[j],alphabet_list,p)\n",
    "            seq = left_flanking + noisy_motif + right_flanking\n",
    "            total_seq += seq\n",
    "        seqs.append(('ID%d'%counter,total_seq))\n",
    "        counter += 1\n",
    "    binary_skeleton = '0' * flanking_length + '1' * motif_length + '0' * flanking_length\n",
    "    binary_seq = binary_skeleton * n_motives\n",
    "    return motives, seqs, binary_seq"
   ]
  },
  {
   "cell_type": "code",
   "execution_count": 24,
   "metadata": {
    "collapsed": true
   },
   "outputs": [],
   "source": [
    "from smod_wrapper import SMoDWrapper\n",
    "from meme_wrapper import Meme\n",
    "from sklearn.cluster import KMeans\n",
    "import time"
   ]
  },
  {
   "cell_type": "code",
   "execution_count": 49,
   "metadata": {
    "collapsed": true
   },
   "outputs": [],
   "source": [
    "def run_tool(motif_finder, scoring_criteria, pos_seqs, neg_seqs, \n",
    "             block_size, n_motives, min_motif_len, max_motif_len,\n",
    "             complexity, min_score, min_freq, min_cluster_size,\n",
    "             n_clusters, similarity_threshold, freq_threshold,p_value, \n",
    "             regex_th, sample_size, std_th):\n",
    "    if motif_finder=='meme':\n",
    "        with open('seqs.fa','w') as f_train:\n",
    "            for seq in pos_seqs:\n",
    "                f_train.write('>' + seq[0] + ' \\n')\n",
    "                f_train.write(seq[1] + '\\n')\n",
    "\n",
    "        tool =  Meme(alphabet='dna',\n",
    "                     scoring_criteria = scoring_criteria,\n",
    "                     minw=min_motif_len,\n",
    "                     maxw=max_motif_len,\n",
    "                     nmotifs=n_motives,\n",
    "                     maxsize=1000000)\n",
    "        start_time = time.time()\n",
    "        tool.fit('seqs.fa')\n",
    "    else:\n",
    "        tool = SMoDWrapper(alphabet='dna',\n",
    "                           scoring_criteria = scoring_criteria,\n",
    "                           complexity = complexity,\n",
    "                           n_clusters = n_clusters,\n",
    "                           min_subarray_size = min_motif_len,\n",
    "                           max_subarray_size = max_motif_len,\n",
    "                           pos_block_size = block_size,\n",
    "                           neg_block_size = block_size,\n",
    "                           clusterer = KMeans(),\n",
    "                           min_score = min_score,\n",
    "                           min_freq = min_freq,\n",
    "                           min_cluster_size = min_cluster_size,\n",
    "                           similarity_th = similarity_threshold,\n",
    "                           freq_th = freq_threshold,\n",
    "                           p_value=p_value,\n",
    "                           regex_th=regex_th,\n",
    "                           sample_size=sample_size,\n",
    "                           std_th=std_th)\n",
    "        try:\n",
    "            start_time = time.time()\n",
    "            tool.fit(pos_seqs, neg_seqs)\n",
    "        except:\n",
    "            print \"No motives found by SMoD.\"\n",
    "            tool = None\n",
    "    runtime = time.time() - start_time\n",
    "    return runtime"
   ]
  },
  {
   "cell_type": "code",
   "execution_count": 50,
   "metadata": {
    "collapsed": true
   },
   "outputs": [],
   "source": [
    "import numpy as np\n",
    "from sklearn.metrics import roc_auc_score\n",
    "def evaluate(scoring_criteria='pwm', # ['pwm','hmm']\n",
    "             motives=None,\n",
    "             motif_length=6,\n",
    "             n_motives=2,\n",
    "             sequence_length=20,\n",
    "             n_sequences=130,\n",
    "             perturbation_prob=0.05,\n",
    "             complexity=5,\n",
    "             min_score=4,\n",
    "             min_freq=0.25,\n",
    "             min_cluster_size=5,\n",
    "             n_clusters=15,\n",
    "             min_subarray_size=5,\n",
    "             max_subarray_size=10,\n",
    "             similarity_threshold=.9,\n",
    "             freq_threshold=None,\n",
    "             p_value=0.05,\n",
    "             regex_th=0.3,\n",
    "             sample_size=200,\n",
    "             std_th=None):\n",
    "\n",
    "    motives, pos_seqs, binary_seq = make_artificial_dataset(alphabet='ACGT',\n",
    "                                                            motives=motives,\n",
    "                                                            sequence_length=sequence_length,\n",
    "                                                            n_sequences=n_sequences,\n",
    "                                                            motif_length=motif_length,\n",
    "                                                            n_motives=n_motives,\n",
    "                                                            p=perturbation_prob)\n",
    "    \n",
    "    from eden.modifier.seq import seq_to_seq, shuffle_modifier\n",
    "    neg_seqs = seq_to_seq(pos_seqs, modifier=shuffle_modifier, times=1, order=2)\n",
    "    neg_seqs = list(neg_seqs)\n",
    "\n",
    "    block_size=n_sequences/8\n",
    "\n",
    "    pos_size = len(pos_seqs)\n",
    "    train_pos_seqs = pos_seqs[:pos_size/2]\n",
    "    test_pos_seqs = pos_seqs[pos_size/2:]\n",
    "\n",
    "    neg_size = len(neg_seqs)\n",
    "    train_neg_seqs = neg_seqs[:neg_size/2]\n",
    "    test_neg_seqs = neg_seqs[neg_size/2:]\n",
    "\n",
    "    true_score = [float(int(i)) for i in binary_seq]\n",
    "\n",
    "    tool_result = {'meme':[], 'smod':[]}\n",
    "    for i in ['smod','meme']:\n",
    "        runtime = run_tool(motif_finder=i,\n",
    "                        scoring_criteria = scoring_criteria,\n",
    "                        pos_seqs=train_pos_seqs, \n",
    "                        neg_seqs=train_neg_seqs,\n",
    "                        block_size=block_size,\n",
    "                        n_motives=n_motives, \n",
    "                        complexity = complexity,\n",
    "                        min_motif_len=min_subarray_size,\n",
    "                        max_motif_len=max_subarray_size,\n",
    "                        min_score=min_score,\n",
    "                        min_freq=min_freq,\n",
    "                        min_cluster_size=min_cluster_size,\n",
    "                        n_clusters=n_clusters,\n",
    "                        similarity_threshold=similarity_threshold,\n",
    "                        freq_threshold=freq_threshold,\n",
    "                        p_value=p_value,\n",
    "                        regex_th=regex_th,\n",
    "                        sample_size=sample_size,\n",
    "                        std_th=std_th)\n",
    "\n",
    "        tool_result[i].append(runtime)\n",
    "    return tool_result"
   ]
  },
  {
   "cell_type": "code",
   "execution_count": 51,
   "metadata": {
    "collapsed": true
   },
   "outputs": [],
   "source": [
    "% matplotlib inline\n",
    "import pylab as plt \n",
    "\n",
    "def plot_results(data, title='Experiment', xlabel='param', ylabel='values'):\n",
    "    data_x = np.array([param for param, val_m, val_s in data])\n",
    "    data_y_m = np.array([val_m for param, val_m, val_s in data])\n",
    "    data_d_m = np.array([val_m for param, val_m, val_s in data])\n",
    "    data_y_s = np.array([val_s for param, val_m, val_s in data])\n",
    "    data_d_s = np.array([val_s for param, val_m, val_s in data])\n",
    "    \n",
    "    plt.figure(figsize=(16,3))\n",
    "    line_m, = plt.plot(data_x, data_y_m, lw=4, ls='-', color='cornflowerblue')\n",
    "    plt.fill_between(data_x, data_y_m - data_d_m, data_y_m + data_d_m, alpha=0.1, color=\"b\")\n",
    "    plt.plot(data_x, data_y_m, marker='o', color='w',linestyle='None',\n",
    "                markersize=10, markeredgecolor='cornflowerblue', markeredgewidth=3.0)\n",
    "    line_s, = plt.plot(data_x, data_y_s, lw=4, ls='-', color='red')\n",
    "    plt.fill_between(data_x, data_y_s - data_d_s, data_y_s + data_d_s, alpha=0.1, color=\"r\")\n",
    "    plt.plot(data_x, data_y_s, marker='o', color='w',linestyle='None',\n",
    "                markersize=10, markeredgecolor='red', markeredgewidth=3.0)\n",
    "    \n",
    "    d=10.0\n",
    "    plt.xlim([min(data_x)-(max(data_x) - min(data_x))/d, max(data_x)+(max(data_x) - min(data_x))/d])\n",
    "    #plt.ylim([0.5, 1])\n",
    "    plt.suptitle(title, fontsize=16)\n",
    "    plt.xlabel(xlabel, fontsize=12)\n",
    "    plt.ylabel(ylabel, fontsize=12)\n",
    "    plt.legend((line_m, line_s), ('MEME', 'SMoD'), loc=0)\n",
    "    plt.grid()\n",
    "    plt.show()"
   ]
  },
  {
   "cell_type": "code",
   "execution_count": 55,
   "metadata": {
    "collapsed": false
   },
   "outputs": [
    {
     "name": "stderr",
     "output_type": "stream",
     "text": [
      "/home/zr/anaconda2/envs/hiwi/lib/python2.7/site-packages/matplotlib/axes/_base.py:2787: UserWarning: Attempting to set identical left==right results\n",
      "in singular transformations; automatically expanding.\n",
      "left=200.0, right=200.0\n",
      "  'left=%s, right=%s') % (left, right))\n"
     ]
    },
    {
     "data": {
      "image/png": "[encoded data removed]",
      "text/plain": [
       "<matplotlib.figure.Figure at 0x7f21d8ddf210>"
      ]
     },
     "metadata": {},
     "output_type": "display_data"
    },
    {
     "name": "stdout",
     "output_type": "stream",
     "text": [
      "CPU times: user 4.6 s, sys: 480 ms, total: 5.08 s\n",
      "Wall time: 1min 6s\n"
     ]
    }
   ],
   "source": [
    "%%time\n",
    "\n",
    "def make_results(n_rep=1):\n",
    "    for param in [x*200 for x in range(1,2)]:\n",
    "        results = {'meme':[], 'smod':[]}\n",
    "        for rep in range(n_rep):\n",
    "            tool_result = evaluate(scoring_criteria='pwm', # ['pwm','hmm']\n",
    "                                   complexity=5,\n",
    "                                   motif_length=10,\n",
    "                                   n_motives=4,\n",
    "                                   sequence_length=300,\n",
    "                                   n_sequences=param,\n",
    "                                   perturbation_prob=0.1,\n",
    "                                   n_clusters=10,\n",
    "                                   min_subarray_size=8,\n",
    "                                   max_subarray_size=12,\n",
    "                                   min_score=4,\n",
    "                                   min_freq=0.45,\n",
    "                                   min_cluster_size=2,\n",
    "                                   similarity_threshold=0.80,\n",
    "                                   freq_threshold=0.20,\n",
    "                                   p_value=1,\n",
    "                                   regex_th=0.5,\n",
    "                                   sample_size=200,\n",
    "                                   std_th = 1)            \n",
    "            \n",
    "            results['meme'].append(tool_result['meme'])\n",
    "            results['smod'].append(tool_result['smod'])\n",
    "        for tool in ['meme', 'smod']:\n",
    "            avg = np.mean(results[tool])\n",
    "            results[tool] = avg\n",
    "        yield param, results['meme'], results['smod']\n",
    "\n",
    "\n",
    "data = [(param, val_m, val_s) for param, val_m, val_s, in make_results()]\n",
    "plot_results(data, title='Run Time Comparison', xlabel='Num Motives', ylabel='time')"
   ]
  },
  {
   "cell_type": "code",
   "execution_count": null,
   "metadata": {
    "collapsed": true
   },
   "outputs": [],
   "source": []
  }
 ],
 "metadata": {
  "kernelspec": {
   "display_name": "Python 2",
   "language": "python",
   "name": "python2"
  },
  "language_info": {
   "codemirror_mode": {
    "name": "ipython",
    "version": 2
   },
   "file_extension": ".py",
   "mimetype": "text/x-python",
   "name": "python",
   "nbconvert_exporter": "python",
   "pygments_lexer": "ipython2",
   "version": "2.7.12"
  }
 },
 "nbformat": 4,
 "nbformat_minor": 0
}
