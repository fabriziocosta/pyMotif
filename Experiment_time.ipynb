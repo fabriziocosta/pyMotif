{
 "cells": [
  {
   "cell_type": "code",
   "execution_count": 1,
   "metadata": {
    "collapsed": false
   },
   "outputs": [],
   "source": [
    "%load_ext autoreload\n",
    "%autoreload 2"
   ]
  },
  {
   "cell_type": "code",
   "execution_count": 2,
   "metadata": {
    "collapsed": true
   },
   "outputs": [],
   "source": [
    "import random\n",
    "def random_string(length,alphabet_list):\n",
    "    rand_str = ''.join(random.choice(alphabet_list) for i in range(length))\n",
    "    return rand_str\n",
    "\n",
    "def perturb(seed,alphabet_list,p=0.5):\n",
    "    seq=''\n",
    "    for c in seed:\n",
    "        if random.random() < p: c = random.choice(alphabet_list)\n",
    "        seq += c\n",
    "    return seq\n",
    "\n",
    "def make_artificial_dataset(alphabet='ACGT', motives=None, motif_length=6, \n",
    "                            sequence_length=100, n_sequences=1000, n_motives=2, p=0.2,\n",
    "                           random_state=1):\n",
    "    random.seed(random_state)\n",
    "    alphabet_list=[c for c in alphabet]\n",
    "    \n",
    "    if motives is None:\n",
    "        motives=[]\n",
    "        for i in range(n_motives):\n",
    "            motives.append(random_string(motif_length,alphabet_list))\n",
    "    else:\n",
    "        motif_length = len(motives[0])\n",
    "        n_motives = len(motives)\n",
    "    \n",
    "    sequence_length = sequence_length / len(motives)\n",
    "    flanking_length = (sequence_length - motif_length ) / 2\n",
    "    n_seq_per_motif = n_sequences\n",
    "\n",
    "    counter=0\n",
    "    seqs=[]\n",
    "    for i in range(n_seq_per_motif):\n",
    "        total_seq = ''\n",
    "        total_binary_seq=''\n",
    "        for j in range(n_motives):\n",
    "            left_flanking = random_string(flanking_length,alphabet_list)\n",
    "            right_flanking = random_string(flanking_length,alphabet_list)\n",
    "            noisy_motif = perturb(motives[j],alphabet_list,p)\n",
    "            seq = left_flanking + noisy_motif + right_flanking\n",
    "            total_seq += seq\n",
    "        seqs.append(('ID%d'%counter,total_seq))\n",
    "        counter += 1\n",
    "    binary_skeleton = '0' * flanking_length + '1' * motif_length + '0' * flanking_length\n",
    "    binary_seq = binary_skeleton * n_motives\n",
    "    return motives, seqs, binary_seq"
   ]
  },
  {
   "cell_type": "code",
   "execution_count": 3,
   "metadata": {
    "collapsed": true
   },
   "outputs": [],
   "source": [
    "from smod_wrapper import SMoDWrapper\n",
    "from meme_wrapper import Meme\n",
    "from sklearn.cluster import KMeans\n",
    "import time"
   ]
  },
  {
   "cell_type": "code",
   "execution_count": 4,
   "metadata": {
    "collapsed": true
   },
   "outputs": [],
   "source": [
    "def run_tool(motif_finder, scoring_criteria, pos_seqs, neg_seqs, \n",
    "             block_size, n_motives, min_motif_len, max_motif_len,\n",
    "             complexity, min_score, min_freq, min_cluster_size,\n",
    "             n_clusters, similarity_threshold, freq_threshold,p_value, \n",
    "             regex_th, sample_size, std_th):\n",
    "    if motif_finder=='meme':\n",
    "        with open('seqs.fa','w') as f_train:\n",
    "            for seq in pos_seqs:\n",
    "                f_train.write('>' + seq[0] + ' \\n')\n",
    "                f_train.write(seq[1] + '\\n')\n",
    "\n",
    "        tool =  Meme(alphabet='dna',\n",
    "                     scoring_criteria = scoring_criteria,\n",
    "                     minw=min_motif_len,\n",
    "                     maxw=max_motif_len,\n",
    "                     nmotifs=n_motives,\n",
    "                     maxsize=1000000)\n",
    "        start_time = time.time()\n",
    "        tool.fit('seqs.fa')\n",
    "    else:\n",
    "        tool = SMoDWrapper(alphabet='dna',\n",
    "                           scoring_criteria = scoring_criteria,\n",
    "                           complexity = complexity,\n",
    "                           n_clusters = n_clusters,\n",
    "                           min_subarray_size = min_motif_len,\n",
    "                           max_subarray_size = max_motif_len,\n",
    "                           pos_block_size = block_size,\n",
    "                           neg_block_size = block_size,\n",
    "                           clusterer = KMeans(),\n",
    "                           min_score = min_score,\n",
    "                           min_freq = min_freq,\n",
    "                           min_cluster_size = min_cluster_size,\n",
    "                           similarity_th = similarity_threshold,\n",
    "                           freq_th = freq_threshold,\n",
    "                           p_value=p_value,\n",
    "                           regex_th=regex_th,\n",
    "                           sample_size=sample_size,\n",
    "                           std_th=std_th)\n",
    "        try:\n",
    "            start_time = time.time()\n",
    "            tool.fit(pos_seqs, neg_seqs)\n",
    "        except:\n",
    "            print \"No motives found by SMoD.\"\n",
    "            tool = None\n",
    "    runtime = time.time() - start_time\n",
    "    return runtime"
   ]
  },
  {
   "cell_type": "code",
   "execution_count": 5,
   "metadata": {
    "collapsed": true
   },
   "outputs": [],
   "source": [
    "import numpy as np\n",
    "from sklearn.metrics import roc_auc_score\n",
    "def evaluate(scoring_criteria='pwm', # ['pwm','hmm']\n",
    "             motives=None,\n",
    "             motif_length=6,\n",
    "             n_motives=2,\n",
    "             sequence_length=20,\n",
    "             n_sequences=130,\n",
    "             perturbation_prob=0.05,\n",
    "             complexity=5,\n",
    "             min_score=4,\n",
    "             min_freq=0.25,\n",
    "             min_cluster_size=5,\n",
    "             n_clusters=15,\n",
    "             min_subarray_size=5,\n",
    "             max_subarray_size=10,\n",
    "             similarity_threshold=.9,\n",
    "             freq_threshold=None,\n",
    "             p_value=0.05,\n",
    "             regex_th=0.3,\n",
    "             sample_size=200,\n",
    "             std_th=None):\n",
    "\n",
    "    motives, pos_seqs, binary_seq = make_artificial_dataset(alphabet='ACGT',\n",
    "                                                            motives=motives,\n",
    "                                                            sequence_length=sequence_length,\n",
    "                                                            n_sequences=n_sequences,\n",
    "                                                            motif_length=motif_length,\n",
    "                                                            n_motives=n_motives,\n",
    "                                                            p=perturbation_prob)\n",
    "    \n",
    "    from eden.modifier.seq import seq_to_seq, shuffle_modifier\n",
    "    neg_seqs = seq_to_seq(pos_seqs, modifier=shuffle_modifier, times=1, order=2)\n",
    "    neg_seqs = list(neg_seqs)\n",
    "\n",
    "    block_size=n_sequences/8\n",
    "\n",
    "    pos_size = len(pos_seqs)\n",
    "    train_pos_seqs = pos_seqs[:pos_size/2]\n",
    "    test_pos_seqs = pos_seqs[pos_size/2:]\n",
    "\n",
    "    neg_size = len(neg_seqs)\n",
    "    train_neg_seqs = neg_seqs[:neg_size/2]\n",
    "    test_neg_seqs = neg_seqs[neg_size/2:]\n",
    "\n",
    "    true_score = [float(int(i)) for i in binary_seq]\n",
    "\n",
    "    tool_result = {'meme':[], 'smod':[]}\n",
    "    for i in ['smod','meme']:\n",
    "        runtime = run_tool(motif_finder=i,\n",
    "                        scoring_criteria = scoring_criteria,\n",
    "                        pos_seqs=train_pos_seqs, \n",
    "                        neg_seqs=train_neg_seqs,\n",
    "                        block_size=block_size,\n",
    "                        n_motives=n_motives, \n",
    "                        complexity = complexity,\n",
    "                        min_motif_len=min_subarray_size,\n",
    "                        max_motif_len=max_subarray_size,\n",
    "                        min_score=min_score,\n",
    "                        min_freq=min_freq,\n",
    "                        min_cluster_size=min_cluster_size,\n",
    "                        n_clusters=n_clusters,\n",
    "                        similarity_threshold=similarity_threshold,\n",
    "                        freq_threshold=freq_threshold,\n",
    "                        p_value=p_value,\n",
    "                        regex_th=regex_th,\n",
    "                        sample_size=sample_size,\n",
    "                        std_th=std_th)\n",
    "\n",
    "        tool_result[i].append(runtime)\n",
    "    return tool_result"
   ]
  },
  {
   "cell_type": "code",
   "execution_count": 6,
   "metadata": {
    "collapsed": true
   },
   "outputs": [],
   "source": [
    "% matplotlib inline\n",
    "import pylab as plt \n",
    "\n",
    "def plot_results(data, title='Experiment', xlabel='param', ylabel='values'):\n",
    "    data_x = np.array([param for param, val_m, val_s in data])\n",
    "    data_y_m = np.array([val_m for param, val_m, val_s in data])\n",
    "    data_d_m = np.array([val_m for param, val_m, val_s in data])\n",
    "    data_y_s = np.array([val_s for param, val_m, val_s in data])\n",
    "    data_d_s = np.array([val_s for param, val_m, val_s in data])\n",
    "    \n",
    "    plt.figure(figsize=(16,3))\n",
    "    line_m, = plt.plot(data_x, data_y_m, lw=4, ls='-', color='cornflowerblue')\n",
    "    plt.fill_between(data_x, data_y_m - data_d_m, data_y_m + data_d_m, alpha=0.1, color=\"b\")\n",
    "    plt.plot(data_x, data_y_m, marker='o', color='w',linestyle='None',\n",
    "                markersize=10, markeredgecolor='cornflowerblue', markeredgewidth=3.0)\n",
    "    line_s, = plt.plot(data_x, data_y_s, lw=4, ls='-', color='red')\n",
    "    plt.fill_between(data_x, data_y_s - data_d_s, data_y_s + data_d_s, alpha=0.1, color=\"r\")\n",
    "    plt.plot(data_x, data_y_s, marker='o', color='w',linestyle='None',\n",
    "                markersize=10, markeredgecolor='red', markeredgewidth=3.0)\n",
    "    \n",
    "    d=10.0\n",
    "    plt.xlim([min(data_x)-(max(data_x) - min(data_x))/d, max(data_x)+(max(data_x) - min(data_x))/d])\n",
    "    #plt.ylim([0.5, 1])\n",
    "    plt.suptitle(title, fontsize=16)\n",
    "    plt.xlabel(xlabel, fontsize=12)\n",
    "    plt.ylabel(ylabel, fontsize=12)\n",
    "    plt.legend((line_m, line_s), ('MEME', 'SMoD'), loc=0)\n",
    "    plt.grid()\n",
    "    plt.show()"
   ]
  },
  {
   "cell_type": "code",
   "execution_count": 10,
   "metadata": {
    "collapsed": false
   },
   "outputs": [
    {
     "data": {
      "image/png": "[encoded data removed]",
      "text/plain": [
       "<matplotlib.figure.Figure at 0x7f9805372750>"
      ]
     },
     "metadata": {},
     "output_type": "display_data"
    },
    {
     "name": "stdout",
     "output_type": "stream",
     "text": [
      "CPU times: user 59.7 s, sys: 7.03 s, total: 1min 6s\n",
      "Wall time: 38min 29s\n"
     ]
    }
   ],
   "source": [
    "%%time\n",
    "\n",
    "def make_results(n_rep=1):\n",
    "    for param in [x*100 for x in range(1,11)]:\n",
    "        results = {'meme':[], 'smod':[]}\n",
    "        for rep in range(n_rep):\n",
    "            tool_result = evaluate(scoring_criteria='pwm', # ['pwm','hmm']\n",
    "                                   complexity=5,\n",
    "                                   motif_length=10,\n",
    "                                   n_motives=4,\n",
    "                                   sequence_length=200,\n",
    "                                   n_sequences=param,\n",
    "                                   perturbation_prob=0.1,\n",
    "                                   n_clusters=10,\n",
    "                                   min_subarray_size=8,\n",
    "                                   max_subarray_size=12,\n",
    "                                   min_score=4,\n",
    "                                   min_freq=0.45,\n",
    "                                   min_cluster_size=2,\n",
    "                                   similarity_threshold=0.80,\n",
    "                                   freq_threshold=0.20,\n",
    "                                   p_value=1,\n",
    "                                   regex_th=0.5,\n",
    "                                   sample_size=200,\n",
    "                                   std_th = 1)            \n",
    "            \n",
    "            results['meme'].append(tool_result['meme'])\n",
    "            results['smod'].append(tool_result['smod'])\n",
    "        for tool in ['meme', 'smod']:\n",
    "            avg = np.mean(results[tool])\n",
    "            results[tool] = avg\n",
    "        yield param, results['meme'], results['smod']\n",
    "\n",
    "\n",
    "data = [(param, val_m, val_s) for param, val_m, val_s, in make_results()]\n",
    "plot_results(data, title='Run Time Comparison', xlabel='Num Sequences', ylabel='time')"
   ]
  },
  {
   "cell_type": "code",
   "execution_count": 11,
   "metadata": {
    "collapsed": false
   },
   "outputs": [
    {
     "name": "stdout",
     "output_type": "stream",
     "text": [
      "No motives found by SMoD.\n"
     ]
    },
    {
     "data": {
      "image/png": "[encoded data removed]",
      "text/plain": [
       "<matplotlib.figure.Figure at 0x7f98056f3a10>"
      ]
     },
     "metadata": {},
     "output_type": "display_data"
    },
    {
     "name": "stdout",
     "output_type": "stream",
     "text": [
      "CPU times: user 17.3 s, sys: 2.49 s, total: 19.8 s\n",
      "Wall time: 5min 49s\n"
     ]
    }
   ],
   "source": [
    "%%time\n",
    "\n",
    "def make_results(n_rep=1):\n",
    "    for param in [x*100 for x in range(1,6)]:\n",
    "        results = {'meme':[], 'smod':[]}\n",
    "        for rep in range(n_rep):\n",
    "            tool_result = evaluate(scoring_criteria='pwm', # ['pwm','hmm']\n",
    "                                   complexity=5,\n",
    "                                   motif_length=10,\n",
    "                                   n_motives=4,\n",
    "                                   sequence_length=param,\n",
    "                                   n_sequences=200,\n",
    "                                   perturbation_prob=0.1,\n",
    "                                   n_clusters=10,\n",
    "                                   min_subarray_size=8,\n",
    "                                   max_subarray_size=12,\n",
    "                                   min_score=4,\n",
    "                                   min_freq=0.45,\n",
    "                                   min_cluster_size=2,\n",
    "                                   similarity_threshold=0.80,\n",
    "                                   freq_threshold=0.20,\n",
    "                                   p_value=1,\n",
    "                                   regex_th=0.5,\n",
    "                                   sample_size=200,\n",
    "                                   std_th = 1)            \n",
    "            \n",
    "            results['meme'].append(tool_result['meme'])\n",
    "            results['smod'].append(tool_result['smod'])\n",
    "        for tool in ['meme', 'smod']:\n",
    "            avg = np.mean(results[tool])\n",
    "            results[tool] = avg\n",
    "        yield param, results['meme'], results['smod']\n",
    "\n",
    "\n",
    "data = [(param, val_m, val_s) for param, val_m, val_s, in make_results()]\n",
    "plot_results(data, title='Run Time Comparison', xlabel='Sequence Length', ylabel='time')"
   ]
  },
  {
   "cell_type": "code",
   "execution_count": 7,
   "metadata": {
    "collapsed": false
   },
   "outputs": [
    {
     "name": "stdout",
     "output_type": "stream",
     "text": [
      "No motives found by SMoD.\n"
     ]
    },
    {
     "ename": "KeyboardInterrupt",
     "evalue": "",
     "output_type": "error",
     "traceback": [
      "\u001b[1;31m---------------------------------------------------------------------------\u001b[0m",
      "\u001b[1;31mKeyboardInterrupt\u001b[0m                         Traceback (most recent call last)",
      "\u001b[1;32m<ipython-input-7-9a6ee27fbc5f>\u001b[0m in \u001b[0;36m<module>\u001b[1;34m()\u001b[0m\n\u001b[1;32m----> 1\u001b[1;33m \u001b[0mget_ipython\u001b[0m\u001b[1;33m(\u001b[0m\u001b[1;33m)\u001b[0m\u001b[1;33m.\u001b[0m\u001b[0mrun_cell_magic\u001b[0m\u001b[1;33m(\u001b[0m\u001b[1;34mu'time'\u001b[0m\u001b[1;33m,\u001b[0m \u001b[1;34mu''\u001b[0m\u001b[1;33m,\u001b[0m \u001b[1;34mu\"\\ndef make_results(n_rep=1):\\n    for param in [x*100 for x in range(1,10)]:\\n        results = {'meme':[], 'smod':[]}\\n        for rep in range(n_rep):\\n            tool_result = evaluate(scoring_criteria='pwm', # ['pwm','hmm']\\n                                   complexity=5,\\n                                   motif_length=10,\\n                                   n_motives=4,\\n                                   sequence_length=param,\\n                                   n_sequences=200,\\n                                   perturbation_prob=0.1,\\n                                   n_clusters=10,\\n                                   min_subarray_size=8,\\n                                   max_subarray_size=12,\\n                                   min_score=4,\\n                                   min_freq=0.45,\\n                                   min_cluster_size=2,\\n                                   similarity_threshold=0.80,\\n                                   freq_threshold=0.20,\\n                                   p_value=1,\\n                                   regex_th=0.5,\\n                                   sample_size=200,\\n                                   std_th = 1)            \\n            \\n            results['meme'].append(tool_result['meme'])\\n            results['smod'].append(tool_result['smod'])\\n        for tool in ['meme', 'smod']:\\n            avg = np.mean(results[tool])\\n            results[tool] = avg\\n        yield param, results['meme'], results['smod']\\n\\n\\ndata = [(param, val_m, val_s) for param, val_m, val_s, in make_results()]\\nplot_results(data, title='Run Time Comparison', xlabel='Sequence Length', ylabel='time')\"\u001b[0m\u001b[1;33m)\u001b[0m\u001b[1;33m\u001b[0m\u001b[0m\n\u001b[0m",
      "\u001b[1;32m/home/zr/anaconda2/envs/hiwi/lib/python2.7/site-packages/IPython/core/interactiveshell.pyc\u001b[0m in \u001b[0;36mrun_cell_magic\u001b[1;34m(self, magic_name, line, cell)\u001b[0m\n\u001b[0;32m   2291\u001b[0m             \u001b[0mmagic_arg_s\u001b[0m \u001b[1;33m=\u001b[0m \u001b[0mself\u001b[0m\u001b[1;33m.\u001b[0m\u001b[0mvar_expand\u001b[0m\u001b[1;33m(\u001b[0m\u001b[0mline\u001b[0m\u001b[1;33m,\u001b[0m \u001b[0mstack_depth\u001b[0m\u001b[1;33m)\u001b[0m\u001b[1;33m\u001b[0m\u001b[0m\n\u001b[0;32m   2292\u001b[0m             \u001b[1;32mwith\u001b[0m \u001b[0mself\u001b[0m\u001b[1;33m.\u001b[0m\u001b[0mbuiltin_trap\u001b[0m\u001b[1;33m:\u001b[0m\u001b[1;33m\u001b[0m\u001b[0m\n\u001b[1;32m-> 2293\u001b[1;33m                 \u001b[0mresult\u001b[0m \u001b[1;33m=\u001b[0m \u001b[0mfn\u001b[0m\u001b[1;33m(\u001b[0m\u001b[0mmagic_arg_s\u001b[0m\u001b[1;33m,\u001b[0m \u001b[0mcell\u001b[0m\u001b[1;33m)\u001b[0m\u001b[1;33m\u001b[0m\u001b[0m\n\u001b[0m\u001b[0;32m   2294\u001b[0m             \u001b[1;32mreturn\u001b[0m \u001b[0mresult\u001b[0m\u001b[1;33m\u001b[0m\u001b[0m\n\u001b[0;32m   2295\u001b[0m \u001b[1;33m\u001b[0m\u001b[0m\n",
      "\u001b[1;32m/home/zr/anaconda2/envs/hiwi/lib/python2.7/site-packages/IPython/core/magics/execution.pyc\u001b[0m in \u001b[0;36mtime\u001b[1;34m(self, line, cell, local_ns)\u001b[0m\n",
      "\u001b[1;32m/home/zr/anaconda2/envs/hiwi/lib/python2.7/site-packages/IPython/core/magic.pyc\u001b[0m in \u001b[0;36m<lambda>\u001b[1;34m(f, *a, **k)\u001b[0m\n\u001b[0;32m    191\u001b[0m     \u001b[1;31m# but it's overkill for just that one bit of state.\u001b[0m\u001b[1;33m\u001b[0m\u001b[1;33m\u001b[0m\u001b[0m\n\u001b[0;32m    192\u001b[0m     \u001b[1;32mdef\u001b[0m \u001b[0mmagic_deco\u001b[0m\u001b[1;33m(\u001b[0m\u001b[0marg\u001b[0m\u001b[1;33m)\u001b[0m\u001b[1;33m:\u001b[0m\u001b[1;33m\u001b[0m\u001b[0m\n\u001b[1;32m--> 193\u001b[1;33m         \u001b[0mcall\u001b[0m \u001b[1;33m=\u001b[0m \u001b[1;32mlambda\u001b[0m \u001b[0mf\u001b[0m\u001b[1;33m,\u001b[0m \u001b[1;33m*\u001b[0m\u001b[0ma\u001b[0m\u001b[1;33m,\u001b[0m \u001b[1;33m**\u001b[0m\u001b[0mk\u001b[0m\u001b[1;33m:\u001b[0m \u001b[0mf\u001b[0m\u001b[1;33m(\u001b[0m\u001b[1;33m*\u001b[0m\u001b[0ma\u001b[0m\u001b[1;33m,\u001b[0m \u001b[1;33m**\u001b[0m\u001b[0mk\u001b[0m\u001b[1;33m)\u001b[0m\u001b[1;33m\u001b[0m\u001b[0m\n\u001b[0m\u001b[0;32m    194\u001b[0m \u001b[1;33m\u001b[0m\u001b[0m\n\u001b[0;32m    195\u001b[0m         \u001b[1;32mif\u001b[0m \u001b[0mcallable\u001b[0m\u001b[1;33m(\u001b[0m\u001b[0marg\u001b[0m\u001b[1;33m)\u001b[0m\u001b[1;33m:\u001b[0m\u001b[1;33m\u001b[0m\u001b[0m\n",
      "\u001b[1;32m/home/zr/anaconda2/envs/hiwi/lib/python2.7/site-packages/IPython/core/magics/execution.pyc\u001b[0m in \u001b[0;36mtime\u001b[1;34m(self, line, cell, local_ns)\u001b[0m\n\u001b[0;32m   1165\u001b[0m         \u001b[1;32melse\u001b[0m\u001b[1;33m:\u001b[0m\u001b[1;33m\u001b[0m\u001b[0m\n\u001b[0;32m   1166\u001b[0m             \u001b[0mst\u001b[0m \u001b[1;33m=\u001b[0m \u001b[0mclock2\u001b[0m\u001b[1;33m(\u001b[0m\u001b[1;33m)\u001b[0m\u001b[1;33m\u001b[0m\u001b[0m\n\u001b[1;32m-> 1167\u001b[1;33m             \u001b[1;32mexec\u001b[0m\u001b[1;33m(\u001b[0m\u001b[0mcode\u001b[0m\u001b[1;33m,\u001b[0m \u001b[0mglob\u001b[0m\u001b[1;33m,\u001b[0m \u001b[0mlocal_ns\u001b[0m\u001b[1;33m)\u001b[0m\u001b[1;33m\u001b[0m\u001b[0m\n\u001b[0m\u001b[0;32m   1168\u001b[0m             \u001b[0mend\u001b[0m \u001b[1;33m=\u001b[0m \u001b[0mclock2\u001b[0m\u001b[1;33m(\u001b[0m\u001b[1;33m)\u001b[0m\u001b[1;33m\u001b[0m\u001b[0m\n\u001b[0;32m   1169\u001b[0m             \u001b[0mout\u001b[0m \u001b[1;33m=\u001b[0m \u001b[0mNone\u001b[0m\u001b[1;33m\u001b[0m\u001b[0m\n",
      "\u001b[1;32m<timed exec>\u001b[0m in \u001b[0;36m<module>\u001b[1;34m()\u001b[0m\n",
      "\u001b[1;32m<timed exec>\u001b[0m in \u001b[0;36mmake_results\u001b[1;34m(n_rep)\u001b[0m\n",
      "\u001b[1;32m<ipython-input-5-5891c7996607>\u001b[0m in \u001b[0;36mevaluate\u001b[1;34m(scoring_criteria, motives, motif_length, n_motives, sequence_length, n_sequences, perturbation_prob, complexity, min_score, min_freq, min_cluster_size, n_clusters, min_subarray_size, max_subarray_size, similarity_threshold, freq_threshold, p_value, regex_th, sample_size, std_th)\u001b[0m\n\u001b[0;32m     66\u001b[0m                         \u001b[0mregex_th\u001b[0m\u001b[1;33m=\u001b[0m\u001b[0mregex_th\u001b[0m\u001b[1;33m,\u001b[0m\u001b[1;33m\u001b[0m\u001b[0m\n\u001b[0;32m     67\u001b[0m                         \u001b[0msample_size\u001b[0m\u001b[1;33m=\u001b[0m\u001b[0msample_size\u001b[0m\u001b[1;33m,\u001b[0m\u001b[1;33m\u001b[0m\u001b[0m\n\u001b[1;32m---> 68\u001b[1;33m                         std_th=std_th)\n\u001b[0m\u001b[0;32m     69\u001b[0m \u001b[1;33m\u001b[0m\u001b[0m\n\u001b[0;32m     70\u001b[0m         \u001b[0mtool_result\u001b[0m\u001b[1;33m[\u001b[0m\u001b[0mi\u001b[0m\u001b[1;33m]\u001b[0m\u001b[1;33m.\u001b[0m\u001b[0mappend\u001b[0m\u001b[1;33m(\u001b[0m\u001b[0mruntime\u001b[0m\u001b[1;33m)\u001b[0m\u001b[1;33m\u001b[0m\u001b[0m\n",
      "\u001b[1;32m<ipython-input-4-ddecbb2ec423>\u001b[0m in \u001b[0;36mrun_tool\u001b[1;34m(motif_finder, scoring_criteria, pos_seqs, neg_seqs, block_size, n_motives, min_motif_len, max_motif_len, complexity, min_score, min_freq, min_cluster_size, n_clusters, similarity_threshold, freq_threshold, p_value, regex_th, sample_size, std_th)\u001b[0m\n\u001b[0;32m     17\u001b[0m                      maxsize=1000000)\n\u001b[0;32m     18\u001b[0m         \u001b[0mstart_time\u001b[0m \u001b[1;33m=\u001b[0m \u001b[0mtime\u001b[0m\u001b[1;33m.\u001b[0m\u001b[0mtime\u001b[0m\u001b[1;33m(\u001b[0m\u001b[1;33m)\u001b[0m\u001b[1;33m\u001b[0m\u001b[0m\n\u001b[1;32m---> 19\u001b[1;33m         \u001b[0mtool\u001b[0m\u001b[1;33m.\u001b[0m\u001b[0mfit\u001b[0m\u001b[1;33m(\u001b[0m\u001b[1;34m'seqs.fa'\u001b[0m\u001b[1;33m)\u001b[0m\u001b[1;33m\u001b[0m\u001b[0m\n\u001b[0m\u001b[0;32m     20\u001b[0m     \u001b[1;32melse\u001b[0m\u001b[1;33m:\u001b[0m\u001b[1;33m\u001b[0m\u001b[0m\n\u001b[0;32m     21\u001b[0m         tool = SMoDWrapper(alphabet='dna',\n",
      "\u001b[1;32m/home/zr/Dropbox/HiWi/pyMotif/meme_wrapper.pyc\u001b[0m in \u001b[0;36mfit\u001b[1;34m(self, fasta_file)\u001b[0m\n\u001b[0;32m    328\u001b[0m \u001b[1;33m\u001b[0m\u001b[0m\n\u001b[0;32m    329\u001b[0m         \u001b[0mcmd_params\u001b[0m \u001b[1;33m=\u001b[0m \u001b[0mself\u001b[0m\u001b[1;33m.\u001b[0m\u001b[0m_make_param_string\u001b[0m\u001b[1;33m(\u001b[0m\u001b[1;33m)\u001b[0m\u001b[1;33m\u001b[0m\u001b[0m\n\u001b[1;32m--> 330\u001b[1;33m         \u001b[0mself\u001b[0m\u001b[1;33m.\u001b[0m\u001b[0m_command_exec\u001b[0m\u001b[1;33m(\u001b[0m\u001b[0mfasta_file\u001b[0m\u001b[1;33m,\u001b[0m \u001b[0mcmd_params\u001b[0m\u001b[1;33m)\u001b[0m\u001b[1;33m\u001b[0m\u001b[0m\n\u001b[0m\u001b[0;32m    331\u001b[0m \u001b[1;33m\u001b[0m\u001b[0m\n\u001b[0;32m    332\u001b[0m         \u001b[1;31m# parsing meme output file with Biopython\u001b[0m\u001b[1;33m\u001b[0m\u001b[1;33m\u001b[0m\u001b[0m\n",
      "\u001b[1;32m/home/zr/Dropbox/HiWi/pyMotif/meme_wrapper.pyc\u001b[0m in \u001b[0;36m_command_exec\u001b[1;34m(self, fasta_file, params)\u001b[0m\n\u001b[0;32m    291\u001b[0m         \u001b[0mcmd\u001b[0m \u001b[1;33m=\u001b[0m \u001b[1;34m\"meme \"\u001b[0m \u001b[1;33m+\u001b[0m \u001b[0mfasta_file\u001b[0m \u001b[1;33m+\u001b[0m \u001b[1;34m\" \"\u001b[0m \u001b[1;33m+\u001b[0m \u001b[0mparams\u001b[0m\u001b[1;33m\u001b[0m\u001b[0m\n\u001b[0;32m    292\u001b[0m         \u001b[0mio\u001b[0m \u001b[1;33m=\u001b[0m \u001b[0mPopen\u001b[0m\u001b[1;33m(\u001b[0m\u001b[0mcmd\u001b[0m\u001b[1;33m.\u001b[0m\u001b[0msplit\u001b[0m\u001b[1;33m(\u001b[0m\u001b[1;34m\" \"\u001b[0m\u001b[1;33m)\u001b[0m\u001b[1;33m,\u001b[0m \u001b[0mstdout\u001b[0m\u001b[1;33m=\u001b[0m\u001b[0mPIPE\u001b[0m\u001b[1;33m,\u001b[0m \u001b[0mstderr\u001b[0m\u001b[1;33m=\u001b[0m\u001b[0mPIPE\u001b[0m\u001b[1;33m)\u001b[0m\u001b[1;33m\u001b[0m\u001b[0m\n\u001b[1;32m--> 293\u001b[1;33m         \u001b[1;33m(\u001b[0m\u001b[0mstderr\u001b[0m\u001b[1;33m,\u001b[0m \u001b[0mstdout\u001b[0m\u001b[1;33m)\u001b[0m \u001b[1;33m=\u001b[0m \u001b[0mio\u001b[0m\u001b[1;33m.\u001b[0m\u001b[0mcommunicate\u001b[0m\u001b[1;33m(\u001b[0m\u001b[1;33m)\u001b[0m\u001b[1;33m\u001b[0m\u001b[0m\n\u001b[0m\u001b[0;32m    294\u001b[0m \u001b[1;33m\u001b[0m\u001b[0m\n\u001b[0;32m    295\u001b[0m         \u001b[1;31m# logger.info(stdout)\u001b[0m\u001b[1;33m\u001b[0m\u001b[1;33m\u001b[0m\u001b[0m\n",
      "\u001b[1;32m/home/zr/anaconda2/envs/hiwi/lib/python2.7/subprocess.pyc\u001b[0m in \u001b[0;36mcommunicate\u001b[1;34m(self, input)\u001b[0m\n\u001b[0;32m    798\u001b[0m             \u001b[1;32mreturn\u001b[0m \u001b[1;33m(\u001b[0m\u001b[0mstdout\u001b[0m\u001b[1;33m,\u001b[0m \u001b[0mstderr\u001b[0m\u001b[1;33m)\u001b[0m\u001b[1;33m\u001b[0m\u001b[0m\n\u001b[0;32m    799\u001b[0m \u001b[1;33m\u001b[0m\u001b[0m\n\u001b[1;32m--> 800\u001b[1;33m         \u001b[1;32mreturn\u001b[0m \u001b[0mself\u001b[0m\u001b[1;33m.\u001b[0m\u001b[0m_communicate\u001b[0m\u001b[1;33m(\u001b[0m\u001b[0minput\u001b[0m\u001b[1;33m)\u001b[0m\u001b[1;33m\u001b[0m\u001b[0m\n\u001b[0m\u001b[0;32m    801\u001b[0m \u001b[1;33m\u001b[0m\u001b[0m\n\u001b[0;32m    802\u001b[0m \u001b[1;33m\u001b[0m\u001b[0m\n",
      "\u001b[1;32m/home/zr/anaconda2/envs/hiwi/lib/python2.7/subprocess.pyc\u001b[0m in \u001b[0;36m_communicate\u001b[1;34m(self, input)\u001b[0m\n\u001b[0;32m   1415\u001b[0m \u001b[1;33m\u001b[0m\u001b[0m\n\u001b[0;32m   1416\u001b[0m             \u001b[1;32mif\u001b[0m \u001b[0m_has_poll\u001b[0m\u001b[1;33m:\u001b[0m\u001b[1;33m\u001b[0m\u001b[0m\n\u001b[1;32m-> 1417\u001b[1;33m                 \u001b[0mstdout\u001b[0m\u001b[1;33m,\u001b[0m \u001b[0mstderr\u001b[0m \u001b[1;33m=\u001b[0m \u001b[0mself\u001b[0m\u001b[1;33m.\u001b[0m\u001b[0m_communicate_with_poll\u001b[0m\u001b[1;33m(\u001b[0m\u001b[0minput\u001b[0m\u001b[1;33m)\u001b[0m\u001b[1;33m\u001b[0m\u001b[0m\n\u001b[0m\u001b[0;32m   1418\u001b[0m             \u001b[1;32melse\u001b[0m\u001b[1;33m:\u001b[0m\u001b[1;33m\u001b[0m\u001b[0m\n\u001b[0;32m   1419\u001b[0m                 \u001b[0mstdout\u001b[0m\u001b[1;33m,\u001b[0m \u001b[0mstderr\u001b[0m \u001b[1;33m=\u001b[0m \u001b[0mself\u001b[0m\u001b[1;33m.\u001b[0m\u001b[0m_communicate_with_select\u001b[0m\u001b[1;33m(\u001b[0m\u001b[0minput\u001b[0m\u001b[1;33m)\u001b[0m\u001b[1;33m\u001b[0m\u001b[0m\n",
      "\u001b[1;32m/home/zr/anaconda2/envs/hiwi/lib/python2.7/subprocess.pyc\u001b[0m in \u001b[0;36m_communicate_with_poll\u001b[1;34m(self, input)\u001b[0m\n\u001b[0;32m   1469\u001b[0m             \u001b[1;32mwhile\u001b[0m \u001b[0mfd2file\u001b[0m\u001b[1;33m:\u001b[0m\u001b[1;33m\u001b[0m\u001b[0m\n\u001b[0;32m   1470\u001b[0m                 \u001b[1;32mtry\u001b[0m\u001b[1;33m:\u001b[0m\u001b[1;33m\u001b[0m\u001b[0m\n\u001b[1;32m-> 1471\u001b[1;33m                     \u001b[0mready\u001b[0m \u001b[1;33m=\u001b[0m \u001b[0mpoller\u001b[0m\u001b[1;33m.\u001b[0m\u001b[0mpoll\u001b[0m\u001b[1;33m(\u001b[0m\u001b[1;33m)\u001b[0m\u001b[1;33m\u001b[0m\u001b[0m\n\u001b[0m\u001b[0;32m   1472\u001b[0m                 \u001b[1;32mexcept\u001b[0m \u001b[0mselect\u001b[0m\u001b[1;33m.\u001b[0m\u001b[0merror\u001b[0m\u001b[1;33m,\u001b[0m \u001b[0me\u001b[0m\u001b[1;33m:\u001b[0m\u001b[1;33m\u001b[0m\u001b[0m\n\u001b[0;32m   1473\u001b[0m                     \u001b[1;32mif\u001b[0m \u001b[0me\u001b[0m\u001b[1;33m.\u001b[0m\u001b[0margs\u001b[0m\u001b[1;33m[\u001b[0m\u001b[1;36m0\u001b[0m\u001b[1;33m]\u001b[0m \u001b[1;33m==\u001b[0m \u001b[0merrno\u001b[0m\u001b[1;33m.\u001b[0m\u001b[0mEINTR\u001b[0m\u001b[1;33m:\u001b[0m\u001b[1;33m\u001b[0m\u001b[0m\n",
      "\u001b[1;31mKeyboardInterrupt\u001b[0m: "
     ]
    }
   ],
   "source": [
    "%%time\n",
    "\n",
    "def make_results(n_rep=1):\n",
    "    for param in [x*100 for x in range(1,10)]:\n",
    "        results = {'meme':[], 'smod':[]}\n",
    "        for rep in range(n_rep):\n",
    "            tool_result = evaluate(scoring_criteria='pwm', # ['pwm','hmm']\n",
    "                                   complexity=5,\n",
    "                                   motif_length=10,\n",
    "                                   n_motives=4,\n",
    "                                   sequence_length=param,\n",
    "                                   n_sequences=200,\n",
    "                                   perturbation_prob=0.1,\n",
    "                                   n_clusters=10,\n",
    "                                   min_subarray_size=8,\n",
    "                                   max_subarray_size=12,\n",
    "                                   min_score=4,\n",
    "                                   min_freq=0.45,\n",
    "                                   min_cluster_size=2,\n",
    "                                   similarity_threshold=0.80,\n",
    "                                   freq_threshold=0.20,\n",
    "                                   p_value=1,\n",
    "                                   regex_th=0.5,\n",
    "                                   sample_size=200,\n",
    "                                   std_th = 1)            \n",
    "            \n",
    "            results['meme'].append(tool_result['meme'])\n",
    "            results['smod'].append(tool_result['smod'])\n",
    "        for tool in ['meme', 'smod']:\n",
    "            avg = np.mean(results[tool])\n",
    "            results[tool] = avg\n",
    "        yield param, results['meme'], results['smod']\n",
    "\n",
    "\n",
    "data = [(param, val_m, val_s) for param, val_m, val_s, in make_results()]\n",
    "plot_results(data, title='Run Time Comparison', xlabel='Sequence Length', ylabel='time')"
   ]
  },
  {
   "cell_type": "code",
   "execution_count": null,
   "metadata": {
    "collapsed": true
   },
   "outputs": [],
   "source": []
  }
 ],
 "metadata": {
  "kernelspec": {
   "display_name": "Python 2",
   "language": "python",
   "name": "python2"
  },
  "language_info": {
   "codemirror_mode": {
    "name": "ipython",
    "version": 2
   },
   "file_extension": ".py",
   "mimetype": "text/x-python",
   "name": "python",
   "nbconvert_exporter": "python",
   "pygments_lexer": "ipython2",
   "version": "2.7.12"
  }
 },
 "nbformat": 4,
 "nbformat_minor": 0
}
