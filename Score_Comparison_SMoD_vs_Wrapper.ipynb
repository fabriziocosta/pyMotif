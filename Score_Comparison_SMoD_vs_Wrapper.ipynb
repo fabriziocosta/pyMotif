{
 "cells": [
  {
   "cell_type": "code",
   "execution_count": 1,
   "metadata": {
    "collapsed": false
   },
   "outputs": [],
   "source": [
    "%load_ext autoreload\n",
    "%autoreload 2"
   ]
  },
  {
   "cell_type": "code",
   "execution_count": 2,
   "metadata": {
    "collapsed": true
   },
   "outputs": [],
   "source": [
    "from eden.util import configure_logging\n",
    "import logging\n",
    "logger = logging.getLogger()\n",
    "configure_logging(logger,verbosity=2)"
   ]
  },
  {
   "cell_type": "code",
   "execution_count": 3,
   "metadata": {
    "collapsed": true
   },
   "outputs": [],
   "source": [
    "from smod_wrapper import SMoDWrapper\n",
    "from eden.sequence_motif_decomposer import SequenceMotifDecomposer as SMoD\n",
    "from sklearn.cluster import KMeans\n",
    "import numpy as np\n",
    "from sklearn.metrics import roc_auc_score"
   ]
  },
  {
   "cell_type": "code",
   "execution_count": 4,
   "metadata": {
    "collapsed": true
   },
   "outputs": [],
   "source": [
    "import random\n",
    "def random_string(length,alphabet_list):\n",
    "    rand_str = ''.join(random.choice(alphabet_list) for i in range(length))\n",
    "    return rand_str\n",
    "\n",
    "def perturb(seed,alphabet_list,p=0.5):\n",
    "    seq=''\n",
    "    for c in seed:\n",
    "        if random.random() < p: c = random.choice(alphabet_list)\n",
    "        seq += c\n",
    "    return seq\n",
    "\n",
    "def make_artificial_dataset(alphabet='ACGT', motives=None, motif_length=6, \n",
    "                            sequence_length=100, n_sequences=1000, n_motives=2, p=0.2,\n",
    "                           random_state=1):\n",
    "    random.seed(random_state)\n",
    "    alphabet_list=[c for c in alphabet]\n",
    "    \n",
    "    if motives is None:\n",
    "        motives=[]\n",
    "        for i in range(n_motives):\n",
    "            motives.append(random_string(motif_length,alphabet_list))\n",
    "    else:\n",
    "        motif_length = len(motives[0])\n",
    "        n_motives = len(motives)\n",
    "    \n",
    "    sequence_length = sequence_length / len(motives)\n",
    "    flanking_length = (sequence_length - motif_length ) / 2\n",
    "    n_seq_per_motif = n_sequences\n",
    "\n",
    "    counter=0\n",
    "    seqs=[]\n",
    "    for i in range(n_seq_per_motif):\n",
    "        total_seq = ''\n",
    "        total_binary_seq=''\n",
    "        for j in range(n_motives):\n",
    "            left_flanking = random_string(flanking_length,alphabet_list)\n",
    "            right_flanking = random_string(flanking_length,alphabet_list)\n",
    "            noisy_motif = perturb(motives[j],alphabet_list,p)\n",
    "            seq = left_flanking + noisy_motif + right_flanking\n",
    "            total_seq += seq\n",
    "        seqs.append(('ID%d'%counter,total_seq))\n",
    "        counter += 1\n",
    "    binary_skeleton = '0' * flanking_length + '1' * motif_length + '0' * flanking_length\n",
    "    binary_seq = binary_skeleton * n_motives\n",
    "    return motives, seqs, binary_seq"
   ]
  },
  {
   "cell_type": "code",
   "execution_count": 5,
   "metadata": {
    "collapsed": false
   },
   "outputs": [],
   "source": [
    "n_sequences = 100\n",
    "motives, pos_seqs, binary_seq = make_artificial_dataset(alphabet='ACGT',\n",
    "                                                        #motives=motives,\n",
    "                                                        sequence_length=500,\n",
    "                                                        n_sequences=n_sequences,\n",
    "                                                        motif_length=10,\n",
    "                                                        n_motives=4,\n",
    "                                                        p=0.2)\n",
    "    \n",
    "from eden.modifier.seq import seq_to_seq, shuffle_modifier\n",
    "neg_seqs = seq_to_seq(pos_seqs, modifier=shuffle_modifier, times=1, order=2)\n",
    "neg_seqs = list(neg_seqs)\n",
    "\n",
    "block_size=n_sequences/8\n",
    "\n",
    "pos_size = len(pos_seqs)\n",
    "train_pos_seqs = pos_seqs[:pos_size/2]\n",
    "test_pos_seqs = pos_seqs[pos_size/2:]\n",
    "\n",
    "neg_size = len(neg_seqs)\n",
    "train_neg_seqs = neg_seqs[:neg_size/2]\n",
    "test_neg_seqs = neg_seqs[neg_size/2:]\n",
    "\n",
    "true_score = [float(int(i)) for i in binary_seq]"
   ]
  },
  {
   "cell_type": "code",
   "execution_count": 14,
   "metadata": {
    "collapsed": false
   },
   "outputs": [],
   "source": [
    "complexity=5\n",
    "n_clusters=10\n",
    "min_subarray_size=4\n",
    "max_subarray_size=10\n",
    "#estimator=SGDClassifier(warm_start=True)\n",
    "clusterer=KMeans()\n",
    "pos_block_size=40\n",
    "neg_block_size=40\n",
    "n_jobs=-1\n",
    "p_value=0.05\n",
    "similarity_th=0.5\n",
    "min_score=4\n",
    "min_freq=0.5\n",
    "min_cluster_size=10\n",
    "regex_th=0.3\n",
    "sample_size=200\n",
    "freq_th=None\n",
    "std_th=None"
   ]
  },
  {
   "cell_type": "code",
   "execution_count": 15,
   "metadata": {
    "collapsed": false,
    "scrolled": false
   },
   "outputs": [
    {
     "name": "stdout",
     "output_type": "stream",
     "text": [
      "Setup 0.08 secs\n",
      "Fitting\n",
      "0 (40, 32769) (4.04 secs) (delta: 4.04)\n",
      "Setup 0.05 secs\n",
      "Annotating\n",
      "0 (23.02 secs) (delta: 23.02)\n",
      "ECDF fit on 149 values\n",
      "Optimal params: a:15.38  b:2.67\n",
      "Setup 0.06 secs\n",
      "Annotating\n",
      "0 (25.31 secs) (delta: 25.31)\n",
      "Working on: 35 fragments\n",
      "Setup 0.05 secs\n",
      "Vectorizing\n",
      "0 (4, 32769) (0.02 secs) (delta: 0.02)\n",
      "1 (4, 32769) (0.02 secs) (delta: 0.00)\n",
      "2 (4, 32769) (0.02 secs) (delta: 0.00)\n",
      "3 (4, 32769) (0.02 secs) (delta: 0.00)\n",
      "4 (4, 32769) (0.02 secs) (delta: 0.00)\n",
      "5 (4, 32769) (0.03 secs) (delta: 0.00)\n",
      "6 (4, 32769) (0.03 secs) (delta: 0.00)\n",
      "7 (4, 32769) (0.03 secs) (delta: 0.00)\n",
      "Clustering\n",
      "working on 32 instances\n",
      "...done  in 0.39 secs\n",
      "After clustering, 10 motives\n",
      "Alignment\n",
      "After motives computation, 0 motives\n",
      "After merge, 0 motives\n",
      "Quality filter is too strict. Ignoring filter.\n"
     ]
    }
   ],
   "source": [
    "#%%time\n",
    "smod = SMoD(complexity=complexity,\n",
    "            n_clusters=n_clusters,\n",
    "            min_subarray_size=min_subarray_size,\n",
    "            max_subarray_size=max_subarray_size,\n",
    "            #estimator=estimator,\n",
    "            clusterer=clusterer,\n",
    "            pos_block_size=pos_block_size,\n",
    "            neg_block_size=neg_block_size,\n",
    "            n_jobs=n_jobs)\n",
    "smod = smod.fit(train_pos_seqs, train_neg_seqs)\n",
    "motives = smod.select_motives(train_pos_seqs,\n",
    "                    p_value,\n",
    "                    similarity_th,\n",
    "                    min_score,\n",
    "                    min_freq,\n",
    "                    min_cluster_size,\n",
    "                    regex_th,\n",
    "                    sample_size,\n",
    "                    freq_th,\n",
    "                    std_th)\n",
    "\n"
   ]
  },
  {
   "cell_type": "code",
   "execution_count": 16,
   "metadata": {
    "collapsed": false
   },
   "outputs": [
    {
     "name": "stdout",
     "output_type": "stream",
     "text": [
      "Setup 0.07 secs\n",
      "Predicting\n",
      "0 (6.57 secs) (delta: 6.57)\n"
     ]
    }
   ],
   "source": [
    "scores = list(smod.score(test_pos_seqs))"
   ]
  },
  {
   "cell_type": "code",
   "execution_count": 17,
   "metadata": {
    "collapsed": false
   },
   "outputs": [
    {
     "name": "stdout",
     "output_type": "stream",
     "text": [
      "40\n",
      "50\n"
     ]
    }
   ],
   "source": [
    "print len(scores)\n",
    "print len(test_pos_seqs)"
   ]
  },
  {
   "cell_type": "code",
   "execution_count": 24,
   "metadata": {
    "collapsed": false
   },
   "outputs": [],
   "source": [
    "#%%time\n",
    "smod_wrapper = SMoDWrapper(alphabet='dna',\n",
    "                           scoring_criteria = 'pwm',\n",
    "                           complexity = complexity,\n",
    "                           n_clusters = n_clusters,\n",
    "                           min_subarray_size = min_subarray_size,\n",
    "                           max_subarray_size = max_subarray_size,\n",
    "                           pos_block_size = block_size,\n",
    "                           neg_block_size = block_size,\n",
    "                           clusterer = KMeans(),\n",
    "                           min_score = min_score,\n",
    "                           min_freq = min_freq,\n",
    "                           min_cluster_size = min_cluster_size,\n",
    "                           similarity_th = similarity_th,\n",
    "                           freq_th = freq_th,\n",
    "                           p_value=p_value,\n",
    "                           regex_th=regex_th,\n",
    "                           sample_size=sample_size,\n",
    "                           std_th=std_th)\n",
    "smod_wrapper.fit(pos_seqs, neg_seqs)\n"
   ]
  },
  {
   "cell_type": "code",
   "execution_count": 25,
   "metadata": {
    "collapsed": false
   },
   "outputs": [],
   "source": [
    "seq_scr = []\n",
    "for k in range(smod_wrapper.nmotifs):\n",
    "    scr = []\n",
    "    for l in range(len(test_pos_seqs)):\n",
    "        scr=smod_wrapper.score(motif_num=k+1, seq=test_pos_seqs[l][1])\n",
    "        seq_scr.append(scr)"
   ]
  },
  {
   "cell_type": "code",
   "execution_count": null,
   "metadata": {
    "collapsed": true
   },
   "outputs": [],
   "source": []
  },
  {
   "cell_type": "code",
   "execution_count": 13,
   "metadata": {
    "collapsed": false,
    "scrolled": true
   },
   "outputs": [
    {
     "name": "stdout",
     "output_type": "stream",
     "text": [
      "for SMoD scoring:  0.641611842105\n"
     ]
    },
    {
     "ename": "NameError",
     "evalue": "name 'seq_scr' is not defined",
     "output_type": "error",
     "traceback": [
      "\u001b[1;31m---------------------------------------------------------------------------\u001b[0m",
      "\u001b[1;31mNameError\u001b[0m                                 Traceback (most recent call last)",
      "\u001b[1;32m<ipython-input-13-38b958906ced>\u001b[0m in \u001b[0;36m<module>\u001b[1;34m()\u001b[0m\n\u001b[0;32m      5\u001b[0m \u001b[1;33m\u001b[0m\u001b[0m\n\u001b[0;32m      6\u001b[0m \u001b[1;33m\u001b[0m\u001b[0m\n\u001b[1;32m----> 7\u001b[1;33m \u001b[0mmean_score\u001b[0m \u001b[1;33m=\u001b[0m \u001b[0mnp\u001b[0m\u001b[1;33m.\u001b[0m\u001b[0mmean\u001b[0m\u001b[1;33m(\u001b[0m\u001b[0mseq_scr\u001b[0m\u001b[1;33m,\u001b[0m \u001b[0maxis\u001b[0m\u001b[1;33m=\u001b[0m\u001b[1;36m0\u001b[0m\u001b[1;33m)\u001b[0m\u001b[1;33m\u001b[0m\u001b[0m\n\u001b[0m\u001b[0;32m      8\u001b[0m \u001b[0mroc_score\u001b[0m \u001b[1;33m=\u001b[0m \u001b[0mroc_auc_score\u001b[0m\u001b[1;33m(\u001b[0m\u001b[0mtrue_score\u001b[0m\u001b[1;33m,\u001b[0m \u001b[0mmean_score\u001b[0m\u001b[1;33m)\u001b[0m\u001b[1;33m\u001b[0m\u001b[0m\n\u001b[0;32m      9\u001b[0m \u001b[1;32mprint\u001b[0m \u001b[1;34m\"for SMoD wrapper: \"\u001b[0m\u001b[1;33m,\u001b[0m\u001b[0mroc_score\u001b[0m\u001b[1;33m\u001b[0m\u001b[0m\n",
      "\u001b[1;31mNameError\u001b[0m: name 'seq_scr' is not defined"
     ]
    }
   ],
   "source": [
    "\n",
    "mean_score = np.mean(scores, axis=0)\n",
    "roc_score = roc_auc_score(true_score, mean_score)\n",
    "print \"for SMoD scoring: \",roc_score\n",
    "\n",
    "\n",
    "mean_score = np.mean(seq_scr, axis=0)\n",
    "roc_score = roc_auc_score(true_score, mean_score)\n",
    "print \"for SMoD wrapper: \",roc_score"
   ]
  },
  {
   "cell_type": "code",
   "execution_count": null,
   "metadata": {
    "collapsed": true
   },
   "outputs": [],
   "source": []
  }
 ],
 "metadata": {
  "kernelspec": {
   "display_name": "Python 2",
   "language": "python",
   "name": "python2"
  },
  "language_info": {
   "codemirror_mode": {
    "name": "ipython",
    "version": 2
   },
   "file_extension": ".py",
   "mimetype": "text/x-python",
   "name": "python",
   "nbconvert_exporter": "python",
   "pygments_lexer": "ipython2",
   "version": "2.7.12"
  }
 },
 "nbformat": 4,
 "nbformat_minor": 0
}
