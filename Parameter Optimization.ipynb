{
 "cells": [
  {
   "cell_type": "code",
   "execution_count": 1,
   "metadata": {
    "collapsed": true
   },
   "outputs": [],
   "source": [
    "from smod_wrapper import SMoDWrapper\n",
    "from sklearn.cluster import KMeans\n",
    "import numpy as np\n",
    "from sklearn.metrics import roc_auc_score\n",
    "import datetime\n",
    "import time"
   ]
  },
  {
   "cell_type": "code",
   "execution_count": 2,
   "metadata": {
    "collapsed": true
   },
   "outputs": [],
   "source": [
    "from eden.util import configure_logging\n",
    "import logging\n",
    "logger = logging.getLogger()\n",
    "configure_logging(logger,verbosity=1)"
   ]
  },
  {
   "cell_type": "code",
   "execution_count": 3,
   "metadata": {
    "collapsed": true
   },
   "outputs": [],
   "source": [
    "import random\n",
    "def random_string(length,alphabet_list):\n",
    "    rand_str = ''.join(random.choice(alphabet_list) for i in range(length))\n",
    "    return rand_str\n",
    "\n",
    "def perturb(seed,alphabet_list,p=0.5):\n",
    "    seq=''\n",
    "    for c in seed:\n",
    "        if random.random() < p: c = random.choice(alphabet_list)\n",
    "        seq += c\n",
    "    return seq\n",
    "\n",
    "def make_artificial_dataset(alphabet='ACGT', motives=None, motif_length=6, \n",
    "                            sequence_length=100, n_sequences=1000, n_motives=2, p=0.2,\n",
    "                           random_state=1):\n",
    "    random.seed(random_state)\n",
    "\n",
    "    alphabet_list=[c for c in alphabet]\n",
    "    \n",
    "    if motives is None:\n",
    "        motives=[]\n",
    "        for i in range(n_motives):\n",
    "            motives.append(random_string(motif_length,alphabet_list))\n",
    "    else:\n",
    "        motif_length = len(motives[0])\n",
    "        n_motives = len(motives)\n",
    "    \n",
    "    sequence_length = sequence_length / len(motives)\n",
    "    flanking_length = (sequence_length - motif_length ) / 2\n",
    "    n_seq_per_motif = n_sequences\n",
    "\n",
    "    counter=0\n",
    "    seqs=[]\n",
    "    for i in range(n_seq_per_motif):\n",
    "        total_seq = ''\n",
    "        total_binary_seq=''\n",
    "        for j in range(n_motives):\n",
    "            left_flanking = random_string(flanking_length,alphabet_list)\n",
    "            right_flanking = random_string(flanking_length,alphabet_list)\n",
    "            noisy_motif = perturb(motives[j],alphabet_list,p)\n",
    "            seq = left_flanking + noisy_motif + right_flanking\n",
    "            total_seq += seq\n",
    "        seqs.append(('ID%d'%counter,total_seq))\n",
    "        counter += 1\n",
    "    binary_skeleton = '0' * flanking_length + '1' * motif_length + '0' * flanking_length\n",
    "    binary_seq = binary_skeleton * n_motives\n",
    "    return motives, seqs, binary_seq"
   ]
  },
  {
   "cell_type": "code",
   "execution_count": 4,
   "metadata": {
    "collapsed": true
   },
   "outputs": [],
   "source": [
    "def score_seqs(seqs, n_motives, tool):\n",
    "    scores = []\n",
    "    if tool is None:\n",
    "        return scores\n",
    "    \n",
    "    for j in range(len(seqs)):\n",
    "        seq_scr = []\n",
    "        iters = tool.nmotifs\n",
    "        for k in range(iters):\n",
    "            scr=tool.score(motif_num=k+1, seq=seqs[j][1])\n",
    "            seq_scr.append(scr)\n",
    "\n",
    "        # taking average over all motives for a sequence\n",
    "        if len(seq_scr) > 1:\n",
    "            x = np.array(seq_scr[0])\n",
    "            for l in range(1, iters):\n",
    "                x = np.vstack((x, seq_scr[l]))\n",
    "            seq_scr = list(np.mean(x, axis=0))\n",
    "            scores.append(seq_scr)\n",
    "        elif len(seq_scr) == 1:\n",
    "            scores.append(np.array(seq_scr[0]))\n",
    "        else:\n",
    "            raise ValueError(\"no sequence score\")\n",
    "    return scores"
   ]
  },
  {
   "cell_type": "code",
   "execution_count": 5,
   "metadata": {
    "collapsed": true
   },
   "outputs": [],
   "source": [
    "def get_dataset(sequence_length=200,\n",
    "                n_sequences=200,\n",
    "                motif_length=10,\n",
    "                n_motives=2, \n",
    "                p=0.2):\n",
    "    \n",
    "    motives, pos_seqs, binary_seq = make_artificial_dataset(alphabet='ACGT',\n",
    "                                                            sequence_length=sequence_length,\n",
    "                                                            n_sequences=n_sequences,\n",
    "                                                            motif_length=motif_length,\n",
    "                                                            n_motives=n_motives,\n",
    "                                                            p=p)\n",
    "\n",
    "    from eden.modifier.seq import seq_to_seq, shuffle_modifier\n",
    "    neg_seqs = seq_to_seq(pos_seqs, modifier=shuffle_modifier, times=2, order=2)\n",
    "    neg_seqs = list(neg_seqs)\n",
    "\n",
    "    block_size=n_sequences/8\n",
    "\n",
    "    pos_size = len(pos_seqs)\n",
    "    train_pos_seqs = pos_seqs[:pos_size/2]\n",
    "    test_pos_seqs = pos_seqs[pos_size/2:]\n",
    "\n",
    "    neg_size = len(neg_seqs)\n",
    "    train_neg_seqs = neg_seqs[:neg_size/2]\n",
    "    test_neg_seqs = neg_seqs[neg_size/2:]\n",
    "\n",
    "    true_score = [float(int(i)) for i in binary_seq]\n",
    "    return (block_size, pos_seqs, neg_seqs, test_pos_seqs, n_motives, true_score)"
   ]
  },
  {
   "cell_type": "code",
   "execution_count": 6,
   "metadata": {
    "collapsed": false
   },
   "outputs": [],
   "source": [
    "def test_on_datasets(n_sets = 5, param_setting=None, p=0.2, max_roc=0.5, std_roc=0.01):\n",
    "    dataset_score = []\n",
    "    for k in range(n_sets):\n",
    "        # Generate data set\n",
    "        data = get_dataset(sequence_length=300, n_sequences=1000, motif_length=10, n_motives=4, p=p)\n",
    "        block_size = data[0]\n",
    "        pos_seqs = data[1]\n",
    "        neg_seqs = data[2]\n",
    "        test_pos_seqs = data[3]\n",
    "        n_motives = data[4]\n",
    "        true_score = data[5]\n",
    "\n",
    "        smod = SMoDWrapper(alphabet = 'dna',\n",
    "                           scoring_criteria = 'pwm',\n",
    "\n",
    "                           complexity = 5,\n",
    "                           n_clusters = 10,\n",
    "                           min_subarray_size = 8,\n",
    "                           max_subarray_size = 12,\n",
    "                           clusterer = KMeans(),\n",
    "                           pos_block_size = block_size,\n",
    "                           neg_block_size = block_size,\n",
    "                           sample_size = 300,\n",
    "                           p_value = param_setting['p_value'],\n",
    "                           similarity_th = param_setting['similarity_th'],\n",
    "                           min_score = param_setting['min_score'],\n",
    "                           min_freq = param_setting['min_freq'],\n",
    "                           min_cluster_size = param_setting['min_cluster_size'],\n",
    "                           regex_th = param_setting['regex_th'],\n",
    "                           freq_th = param_setting['freq_th'],\n",
    "                           std_th = param_setting['std_th']) \n",
    "\n",
    "        smod.fit(pos_seqs, neg_seqs)\n",
    "\n",
    "        try:\n",
    "            scores = score_seqs(seqs = test_pos_seqs,\n",
    "                                n_motives = n_motives,\n",
    "                                tool = smod)\n",
    "        except:\n",
    "            continue\n",
    "\n",
    "        mean_score = np.mean(scores, axis=0)\n",
    "        roc_score = roc_auc_score(true_score, mean_score)\n",
    "\n",
    "\n",
    "        # if a parameter setting performs poorly, don't test on other datasets\n",
    "        # z-score = (x - mu)/sigma\n",
    "        # if ((roc_score - max_roc)/std_roc) > 2:\n",
    "        if roc_score < 0.6:\n",
    "            break\n",
    "\n",
    "        dataset_score.append(roc_score)\n",
    "    return dataset_score"
   ]
  },
  {
   "cell_type": "code",
   "execution_count": null,
   "metadata": {
    "collapsed": false
   },
   "outputs": [],
   "source": [
    "def check_validity(key, value, noise):\n",
    "    if key == 'min_score':    # atleast greater than (motif_length)/2\n",
    "        if value >= 5:\n",
    "            return True, int(round(value))\n",
    "    elif key == 'min_cluster_size':\n",
    "        if value >= 3:\n",
    "            return True, int(round(value))\n",
    "    elif key == 'min_freq':    # atmost (1 - noise_level)\n",
    "        if value > 0 and value <= (1 - noise):\n",
    "            return True, value\n",
    "    elif key == 'p_value':\n",
    "        if value <= 1.0 and value >= 0.0:\n",
    "            return True, value\n",
    "    elif key == 'similarity_th':\n",
    "        if value <= 1.0 and value >= 0.8:\n",
    "            return True, value\n",
    "    elif key == 'regex_th':\n",
    "        if value > 0 and value <= 0.3:\n",
    "            return True, value\n",
    "    elif key == 'freq_th':\n",
    "        if value <= 1.0 and value > 0:\n",
    "            return True, value\n",
    "    elif key == 'std_th':\n",
    "        if value <= 1.0 and value > 0:\n",
    "            return True, value\n",
    "    else:\n",
    "        raise ValueError('Invalid key: ', key)\n",
    "    return False, value\n",
    "\n",
    "def random_setting(parameters=None, best_config=None, noise=None):\n",
    "    parameter_setting = {}\n",
    "    MAX_ITER = 1000\n",
    "    if not parameters['min_score']:    # use best_configuration of last run as initial setting\n",
    "        for key in parameters.keys():\n",
    "            parameters[key].append(best_config[key])\n",
    "            parameter_setting[key] = best_config[key]\n",
    "    else:\n",
    "        for key in parameters.keys():\n",
    "            success = False\n",
    "            n_iter = 0\n",
    "            mu = np.mean(parameters[key])\n",
    "            sigma = np.mean(parameters[key])\n",
    "            while not success:\n",
    "                if n_iter == 1000:    # if max_iterations exceeded, return mean as value\n",
    "                    value = mu\n",
    "                    break\n",
    "                value = np.random.normal(mu, 2 * sigma)\n",
    "                n_iter += 1\n",
    "                success, value = check_validity(key, value, noise)\n",
    "            parameter_setting[key] = value\n",
    "    return parameter_setting"
   ]
  },
  {
   "cell_type": "code",
   "execution_count": null,
   "metadata": {
    "collapsed": false
   },
   "outputs": [
    {
     "name": "stdout",
     "output_type": "stream",
     "text": [
      "03:53:22 Starting experiment...\n",
      "\n"
     ]
    },
    {
     "name": "stderr",
     "output_type": "stream",
     "text": [
      "/home/zr/anaconda2/envs/hiwi/lib/python2.7/site-packages/numpy/core/_methods.py:59: RuntimeWarning: Mean of empty slice.\n",
      "  warnings.warn(\"Mean of empty slice.\", RuntimeWarning)\n",
      "/home/zr/anaconda2/envs/hiwi/lib/python2.7/site-packages/numpy/core/_methods.py:70: RuntimeWarning: invalid value encountered in double_scalars\n",
      "  ret = ret.dtype.type(ret / rcount)\n",
      "/home/zr/anaconda2/envs/hiwi/lib/python2.7/site-packages/numpy/core/_methods.py:82: RuntimeWarning: Degrees of freedom <= 0 for slice\n",
      "  warnings.warn(\"Degrees of freedom <= 0 for slice\", RuntimeWarning)\n",
      "/home/zr/anaconda2/envs/hiwi/lib/python2.7/site-packages/numpy/core/_methods.py:94: RuntimeWarning: invalid value encountered in true_divide\n",
      "  arrmean, rcount, out=arrmean, casting='unsafe', subok=False)\n",
      "/home/zr/anaconda2/envs/hiwi/lib/python2.7/site-packages/numpy/core/_methods.py:116: RuntimeWarning: invalid value encountered in double_scalars\n",
      "  ret = ret.dtype.type(ret / rcount)\n"
     ]
    },
    {
     "name": "stdout",
     "output_type": "stream",
     "text": [
      "04:26:57 Better Configuration found at perturbation prob =  0.1\n",
      "ROC:  0.617024739583\n",
      "Parameter Configuration:  {'min_freq': 0.3059320960879016, 'min_score': 8, 'p_value': 0.17490329838604526, 'min_cluster_size': 9, 'std_th': 0.7064904436478556, 'regex_th': 0.18184664799389738, 'similarity_th': 0.9264090338117905, 'freq_th': 0.033316893358775745}\n",
      "\n",
      "05:03:34 Better Configuration found at perturbation prob =  0.1\n",
      "ROC:  0.731396484375\n",
      "Parameter Configuration:  {'min_freq': 0.13491198219434947, 'min_score': 8, 'p_value': 0.18827833005510353, 'min_cluster_size': 6, 'std_th': 0.0364096889814679, 'regex_th': 0.19931368639482405, 'similarity_th': 0.958071798742744, 'freq_th': 0.0592533725055389}\n",
      "\n"
     ]
    },
    {
     "name": "stderr",
     "output_type": "stream",
     "text": [
      "/home/zr/eden/EDeN/eden/sequence_motif_decomposer.py:48: RuntimeWarning: overflow encountered in exp\n",
      "  return 1 / (1 + np.exp(-(x - a) / b))\n"
     ]
    },
    {
     "name": "stdout",
     "output_type": "stream",
     "text": [
      "05:28:47 Better Configuration found at perturbation prob =  0.2\n",
      "ROC:  0.6171875\n",
      "Parameter Configuration:  {'min_freq': 0.4758205517708377, 'min_score': 5, 'p_value': 0.5306840914353264, 'min_cluster_size': 11, 'std_th': 0.08767247190729179, 'regex_th': 0.2940595482205163, 'similarity_th': 0.8071284382613646, 'freq_th': 0.1991306602972171}\n",
      "\n",
      "05:39:56 Better Configuration found at perturbation prob =  0.2\n",
      "ROC:  0.65625\n",
      "Parameter Configuration:  {'min_freq': 0.3654281400949445, 'min_score': 10, 'p_value': 0.3070271678217781, 'min_cluster_size': 17, 'std_th': 0.12585682273599685, 'regex_th': 0.2547811729919374, 'similarity_th': 0.8298654348309022, 'freq_th': 0.027742899467884476}\n",
      "\n",
      "05:54:25 Better Configuration found at perturbation prob =  0.2\n",
      "ROC:  0.734375\n",
      "Parameter Configuration:  {'min_freq': 0.23324874278472843, 'min_score': 9, 'p_value': 0.25782534676735647, 'min_cluster_size': 21, 'std_th': 0.08033527030754214, 'regex_th': 0.26452686269286957, 'similarity_th': 0.9454694321700534, 'freq_th': 0.21450366532299908}\n",
      "\n",
      "06:56:55 Better Configuration found at perturbation prob =  0.3\n",
      "ROC:  0.6607421875\n",
      "Parameter Configuration:  {'min_freq': 0.23324874278472843, 'min_score': 9, 'p_value': 0.25782534676735647, 'min_cluster_size': 21, 'std_th': 0.08033527030754214, 'regex_th': 0.26452686269286957, 'similarity_th': 0.9454694321700534, 'freq_th': 0.21450366532299908}\n",
      "\n"
     ]
    }
   ],
   "source": [
    "%%time\n",
    "\n",
    "print datetime.datetime.fromtimestamp(time.time()).strftime('%H:%M:%S'),\n",
    "print \"Starting experiment...\\n\"\n",
    "\n",
    "best_config = {'min_score':6, # atleast motif_length/2\n",
    "               'min_freq':0.1, # can not be more than (1- noise level)\n",
    "               'min_cluster_size':3, # atleast 3\n",
    "               'p_value':0.1, # atleast 0.1\n",
    "               'similarity_th':0.8, # 0.8 \n",
    "               'regex_th':0.3, # max 0.3 \n",
    "               'freq_th':0.05, # 0.05 \n",
    "               'std_th':0.2} # 0.2\n",
    "\n",
    "# Final results\n",
    "param = [0.1, 0.2, 0.3, 0.4, 0.5, 0.6, 0.7, 0.8, 0.9]\n",
    "results_dic = {}\n",
    "\n",
    "reps = 10    # different settings to be tried\n",
    "\n",
    "for i in param:\n",
    "    parameters = {'min_freq': [],\n",
    "                  'min_cluster_size': [],\n",
    "                  'p_value': [],\n",
    "                  'similarity_th': [],\n",
    "                  'min_score': [],\n",
    "                  'regex_th': [],\n",
    "                  'freq_th': [],\n",
    "                  'std_th': []}\n",
    "    max_roc = 0.5\n",
    "    std_roc = 0.01\n",
    "    #parameters = generate_dist(parameters, best_config)\n",
    "    for j in range(reps):\n",
    "        param_setting = random_setting(parameters, best_config, i)    # Randomize Parameter setting\n",
    "        n_sets = 5    # Different data sets\n",
    "        dataset_score = test_on_datasets(n_sets=n_sets, \n",
    "                                         param_setting=param_setting, \n",
    "                                         p=i, \n",
    "                                         max_roc=max_roc,\n",
    "                                         std_roc=std_roc)\n",
    "        mean_roc = np.mean(dataset_score)\n",
    "        std = np.std(dataset_score)\n",
    "\n",
    "        if mean_roc > max_roc:\n",
    "            max_roc = mean_roc\n",
    "            std_roc = std\n",
    "            print datetime.datetime.fromtimestamp(time.time()).strftime('%H:%M:%S'),\n",
    "            print \"Better Configuration found at perturbation prob = \", i\n",
    "            print \"ROC: \", mean_roc\n",
    "            print \"Parameter Configuration: \", param_setting\n",
    "            print\n",
    "            best_config = param_setting\n",
    "            param_setting[\"ROC\"] = mean_roc\n",
    "            results_dic[i] = param_setting"
   ]
  },
  {
   "cell_type": "code",
   "execution_count": null,
   "metadata": {
    "collapsed": true
   },
   "outputs": [],
   "source": [
    "\n",
    "for key in results_dic.keys():\n",
    "    print \"for \", key, \":\",\n",
    "    print results_dic[key]\n",
    "    print"
   ]
  },
  {
   "cell_type": "code",
   "execution_count": null,
   "metadata": {
    "collapsed": true
   },
   "outputs": [],
   "source": []
  },
  {
   "cell_type": "code",
   "execution_count": null,
   "metadata": {
    "collapsed": true
   },
   "outputs": [],
   "source": []
  },
  {
   "cell_type": "code",
   "execution_count": 8,
   "metadata": {
    "collapsed": false,
    "scrolled": true
   },
   "outputs": [
    {
     "name": "stdout",
     "output_type": "stream",
     "text": [
      "Better Configuration found at perturbation prob =  0.1\n",
      "ROC:  0.6171875\n",
      "Parameter Configuration:  {'min_freq': 0.51821188577653621, 'min_score': 8, 'p_value': 0.63897045100091576, 'min_cluster_size': 2, 'std_th': 0.10504730360744641, 'regex_th': 0.92292211819066305, 'similarity_th': 0.82576626033739109, 'freq_th': 0.25682636501899592}\n",
      "\n",
      "Better Configuration found at perturbation prob =  0.1\n",
      "ROC:  0.68896484375\n",
      "Parameter Configuration:  {'min_freq': 0.76218525653701741, 'min_score': 10, 'p_value': 0.88102678112222288, 'min_cluster_size': 1, 'std_th': 0.001834948664004625, 'regex_th': 0.96565090469244041, 'similarity_th': 0.86342375900193691, 'freq_th': 0.30616846163449296}\n",
      "\n",
      "Better Configuration found at perturbation prob =  0.1\n",
      "ROC:  0.75966796875\n",
      "Parameter Configuration:  {'min_freq': 0.62371631659660454, 'min_score': 2, 'p_value': 0.95092605018472509, 'min_cluster_size': 4, 'std_th': 0.008004953616216233, 'regex_th': 0.75142727607273829, 'similarity_th': 0.86342375900193691, 'freq_th': 0.2300998921194039}\n",
      "\n",
      "Better Configuration found at perturbation prob =  0.1\n",
      "ROC:  0.8515625\n",
      "Parameter Configuration:  {'min_freq': 0.53760514153760508, 'min_score': 3, 'p_value': 0.94069600475820814, 'min_cluster_size': 4, 'std_th': 0.37035421098550869, 'regex_th': 0.95615982152997336, 'similarity_th': 0.82576626033739109, 'freq_th': 0.40053931154764655}\n",
      "\n"
     ]
    },
    {
     "name": "stderr",
     "output_type": "stream",
     "text": [
      "/home/zr/eden/EDeN/eden/sequence_motif_decomposer.py:48: RuntimeWarning: overflow encountered in exp\n",
      "  return 1 / (1 + np.exp(-(x - a) / b))\n",
      "/home/zr/anaconda2/envs/hiwi/lib/python2.7/site-packages/numpy/core/_methods.py:59: RuntimeWarning: Mean of empty slice.\n",
      "  warnings.warn(\"Mean of empty slice.\", RuntimeWarning)\n",
      "/home/zr/anaconda2/envs/hiwi/lib/python2.7/site-packages/numpy/core/_methods.py:70: RuntimeWarning: invalid value encountered in double_scalars\n",
      "  ret = ret.dtype.type(ret / rcount)\n",
      "/home/zr/anaconda2/envs/hiwi/lib/python2.7/site-packages/numpy/core/_methods.py:82: RuntimeWarning: Degrees of freedom <= 0 for slice\n",
      "  warnings.warn(\"Degrees of freedom <= 0 for slice\", RuntimeWarning)\n",
      "/home/zr/anaconda2/envs/hiwi/lib/python2.7/site-packages/numpy/core/_methods.py:94: RuntimeWarning: invalid value encountered in true_divide\n",
      "  arrmean, rcount, out=arrmean, casting='unsafe', subok=False)\n",
      "/home/zr/anaconda2/envs/hiwi/lib/python2.7/site-packages/numpy/core/_methods.py:116: RuntimeWarning: invalid value encountered in double_scalars\n",
      "  ret = ret.dtype.type(ret / rcount)\n"
     ]
    },
    {
     "name": "stdout",
     "output_type": "stream",
     "text": [
      "Better Configuration found at perturbation prob =  0.2\n",
      "ROC:  0.619140625\n",
      "Parameter Configuration:  {'min_freq': 0.35099690573061026, 'min_score': 0, 'p_value': 0.93768617907828733, 'min_cluster_size': 2, 'std_th': 0.51603144713623494, 'regex_th': 0.91487047204111294, 'similarity_th': 0.78950762787594786, 'freq_th': 0.27044415543465528}\n",
      "\n",
      "Better Configuration found at perturbation prob =  0.2\n",
      "ROC:  0.687890625\n",
      "Parameter Configuration:  {'min_freq': 0.56433039574557819, 'min_score': 0, 'p_value': 0.91406009247335107, 'min_cluster_size': 3, 'std_th': 0.19260062997881683, 'regex_th': 0.98357323044249556, 'similarity_th': 0.83749288585135917, 'freq_th': 0.64953896733923211}\n",
      "\n",
      "Better Configuration found at perturbation prob =  0.2\n",
      "ROC:  0.7939453125\n",
      "Parameter Configuration:  {'min_freq': 0.83105927737759333, 'min_score': 3, 'p_value': 0.99025563252528825, 'min_cluster_size': 5, 'std_th': 0.62102604141443241, 'regex_th': 0.9915457217070156, 'similarity_th': 0.87457462360320271, 'freq_th': 0.66638647670320172}\n",
      "\n",
      "Better Configuration found at perturbation prob =  0.2\n",
      "ROC:  0.8544921875\n",
      "Parameter Configuration:  {'min_freq': 0.67739004064793251, 'min_score': 3, 'p_value': 0.95636243678222344, 'min_cluster_size': 3, 'std_th': 0.20814403762177766, 'regex_th': 0.98928119198057762, 'similarity_th': 0.93923602738157852, 'freq_th': 0.58537691530653591}\n",
      "\n",
      "Better Configuration found at perturbation prob =  0.3\n",
      "ROC:  0.640625\n",
      "Parameter Configuration:  {'min_freq': 0.63248925729474781, 'min_score': 3, 'p_value': 0.94915706493669849, 'min_cluster_size': 1, 'std_th': 0.13033311127035443, 'regex_th': 0.98196069610072689, 'similarity_th': 0.89313838704518156, 'freq_th': 0.65170693061118401}\n",
      "\n",
      "Better Configuration found at perturbation prob =  0.3\n",
      "ROC:  0.734375\n",
      "Parameter Configuration:  {'min_freq': 0.74100338744357863, 'min_score': 1, 'p_value': 0.92183506766458212, 'min_cluster_size': 1, 'std_th': 0.20397063408711988, 'regex_th': 0.99160061512283926, 'similarity_th': 0.90542898466528166, 'freq_th': 0.68657125128948038}\n",
      "\n",
      "CPU times: user 4h 41min 30s, sys: 4min 13s, total: 4h 45min 43s\n",
      "Wall time: 7h 8min 9s\n"
     ]
    }
   ],
   "source": []
  },
  {
   "cell_type": "code",
   "execution_count": null,
   "metadata": {
    "collapsed": true
   },
   "outputs": [],
   "source": []
  },
  {
   "cell_type": "code",
   "execution_count": null,
   "metadata": {
    "collapsed": true
   },
   "outputs": [],
   "source": []
  },
  {
   "cell_type": "code",
   "execution_count": null,
   "metadata": {
    "collapsed": true
   },
   "outputs": [],
   "source": []
  },
  {
   "cell_type": "code",
   "execution_count": null,
   "metadata": {
    "collapsed": true
   },
   "outputs": [],
   "source": []
  },
  {
   "cell_type": "code",
   "execution_count": null,
   "metadata": {
    "collapsed": true
   },
   "outputs": [],
   "source": []
  },
  {
   "cell_type": "code",
   "execution_count": 8,
   "metadata": {
    "collapsed": false,
    "scrolled": true
   },
   "outputs": [
    {
     "name": "stdout",
     "output_type": "stream",
     "text": [
      "for  0.5 : {'min_freq': 0.74, 'min_score': 8, 'std_th': 0.6, 'p_value': 0.9, 'min_cluster_size': 9, 'similarity_th': 0.78, 'regex_th': 0.5, 'freq_th': 0.4}\n",
      "\n",
      "for  0.2 : {'min_freq': 0.67, 'min_score': 6, 'p_value': 0.9, 'min_cluster_size': 2, 'ROC': 0.98928571428571421, 'std_th': 0.06, 'regex_th': 0.89, 'similarity_th': 0.98, 'freq_th': 0.15}\n",
      "\n",
      "for  0.4 : {'min_freq': 0.9, 'min_score': 4, 'p_value': 0.5, 'min_cluster_size': 6, 'ROC': 0.74285714285714288, 'std_th': 0.51, 'regex_th': 0.3, 'similarity_th': 0.4, 'freq_th': 0.04}\n",
      "\n",
      "for  0.8 : {'min_freq': 0.74, 'min_score': 8, 'std_th': 0.6, 'p_value': 0.9, 'min_cluster_size': 9, 'similarity_th': 0.78, 'regex_th': 0.5, 'freq_th': 0.4}\n",
      "\n",
      "for  0.3 : {'min_freq': 0.74, 'min_score': 8, 'std_th': 0.6, 'p_value': 0.9, 'min_cluster_size': 9, 'similarity_th': 0.78, 'regex_th': 0.5, 'freq_th': 0.4}\n",
      "\n",
      "for  0.6 : {'min_freq': 0.74, 'min_score': 8, 'std_th': 0.6, 'p_value': 0.9, 'min_cluster_size': 9, 'similarity_th': 0.78, 'regex_th': 0.5, 'freq_th': 0.4}\n",
      "\n",
      "for  0.1 : {'min_freq': 0.74, 'min_score': 8, 'std_th': 0.6, 'p_value': 0.9, 'min_cluster_size': 9, 'similarity_th': 0.78, 'regex_th': 0.5, 'freq_th': 0.4}\n",
      "\n",
      "for  0.9 : {'min_freq': 0.74, 'min_score': 8, 'std_th': 0.6, 'p_value': 0.9, 'min_cluster_size': 9, 'similarity_th': 0.78, 'regex_th': 0.5, 'freq_th': 0.4}\n",
      "\n",
      "for  0.7 : {'min_freq': 0.74, 'min_score': 8, 'std_th': 0.6, 'p_value': 0.9, 'min_cluster_size': 9, 'similarity_th': 0.78, 'regex_th': 0.5, 'freq_th': 0.4}\n",
      "\n"
     ]
    }
   ],
   "source": [
    "\n",
    "for key in results_dic.keys():\n",
    "    print \"for \", key, \":\",\n",
    "    print results_dic[key]\n",
    "    print"
   ]
  },
  {
   "cell_type": "code",
   "execution_count": null,
   "metadata": {
    "collapsed": true
   },
   "outputs": [],
   "source": []
  },
  {
   "cell_type": "code",
   "execution_count": null,
   "metadata": {
    "collapsed": true
   },
   "outputs": [],
   "source": []
  },
  {
   "cell_type": "code",
   "execution_count": null,
   "metadata": {
    "collapsed": true
   },
   "outputs": [],
   "source": []
  },
  {
   "cell_type": "code",
   "execution_count": null,
   "metadata": {
    "collapsed": true
   },
   "outputs": [],
   "source": []
  },
  {
   "cell_type": "code",
   "execution_count": null,
   "metadata": {
    "collapsed": true
   },
   "outputs": [],
   "source": []
  }
 ],
 "metadata": {
  "kernelspec": {
   "display_name": "Python 2",
   "language": "python",
   "name": "python2"
  },
  "language_info": {
   "codemirror_mode": {
    "name": "ipython",
    "version": 2
   },
   "file_extension": ".py",
   "mimetype": "text/x-python",
   "name": "python",
   "nbconvert_exporter": "python",
   "pygments_lexer": "ipython2",
   "version": "2.7.12"
  }
 },
 "nbformat": 4,
 "nbformat_minor": 0
}
