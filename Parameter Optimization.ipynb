{
 "cells": [
  {
   "cell_type": "code",
   "execution_count": 1,
   "metadata": {
    "collapsed": true
   },
   "outputs": [],
   "source": [
    "%load_ext autoreload\n",
    "%autoreload 2"
   ]
  },
  {
   "cell_type": "code",
   "execution_count": 4,
   "metadata": {
    "collapsed": true
   },
   "outputs": [],
   "source": [
    "from smod_wrapper import SMoDWrapper\n",
    "from sklearn.cluster import KMeans"
   ]
  },
  {
   "cell_type": "code",
   "execution_count": 2,
   "metadata": {
    "collapsed": true
   },
   "outputs": [],
   "source": [
    "import random\n",
    "def random_string(length,alphabet_list):\n",
    "    rand_str = ''.join(random.choice(alphabet_list) for i in range(length))\n",
    "    return rand_str\n",
    "\n",
    "def perturb(seed,alphabet_list,p=0.5):\n",
    "    seq=''\n",
    "    for c in seed:\n",
    "        if random.random() < p: c = random.choice(alphabet_list)\n",
    "        seq += c\n",
    "    return seq\n",
    "\n",
    "def make_artificial_dataset(alphabet='ACGT', motives=None, motif_length=6, \n",
    "                            sequence_length=100, n_sequences=1000, n_motives=2, p=0.2,\n",
    "                           random_state=1):\n",
    "    random.seed(random_state)\n",
    "    alphabet_list=[c for c in alphabet]\n",
    "    \n",
    "    if motives is None:\n",
    "        motives=[]\n",
    "        for i in range(n_motives):\n",
    "            motives.append(random_string(motif_length,alphabet_list))\n",
    "    else:\n",
    "        motif_length = len(motives[0])\n",
    "        n_motives = len(motives)\n",
    "    \n",
    "    sequence_length = sequence_length / len(motives)\n",
    "    flanking_length = (sequence_length - motif_length ) / 2\n",
    "    n_seq_per_motif = n_sequences\n",
    "\n",
    "    counter=0\n",
    "    seqs=[]\n",
    "    for i in range(n_seq_per_motif):\n",
    "        total_seq = ''\n",
    "        total_binary_seq=''\n",
    "        for j in range(n_motives):\n",
    "            left_flanking = random_string(flanking_length,alphabet_list)\n",
    "            right_flanking = random_string(flanking_length,alphabet_list)\n",
    "            noisy_motif = perturb(motives[j],alphabet_list,p)\n",
    "            seq = left_flanking + noisy_motif + right_flanking\n",
    "            total_seq += seq\n",
    "        seqs.append(('ID%d'%counter,total_seq))\n",
    "        counter += 1\n",
    "    binary_skeleton = '0' * flanking_length + '1' * motif_length + '0' * flanking_length\n",
    "    binary_seq = binary_skeleton * n_motives\n",
    "    return motives, seqs, binary_seq"
   ]
  },
  {
   "cell_type": "code",
   "execution_count": 10,
   "metadata": {
    "collapsed": true
   },
   "outputs": [],
   "source": [
    "def score_seqs(seqs, n_motives, tool):\n",
    "    scores = []\n",
    "    if tool is None:\n",
    "        return scores\n",
    "    \n",
    "    for j in range(len(seqs)):\n",
    "        seq_scr = []\n",
    "        iters = tool.nmotifs\n",
    "        for k in range(iters):\n",
    "            scr=tool.score(motif_num=k+1, seq=seqs[j][1])\n",
    "            seq_scr.append(scr)\n",
    "\n",
    "        # taking average over all motives for a sequence\n",
    "        if len(seq_scr) > 1:\n",
    "            x = np.array(seq_scr[0])\n",
    "            for l in range(1, iters):\n",
    "                x = np.vstack((x, seq_scr[l]))\n",
    "            seq_scr = list(np.mean(x, axis=0))\n",
    "            scores.append(seq_scr)\n",
    "        elif len(seq_scr) == 1:\n",
    "            scores.append(np.array(seq_scr[0]))\n",
    "        else:\n",
    "            raise ValueError(\"no sequence score\")\n",
    "    return scores"
   ]
  },
  {
   "cell_type": "code",
   "execution_count": 8,
   "metadata": {
    "collapsed": true
   },
   "outputs": [],
   "source": [
    "sequence_length=200\n",
    "n_sequences=300\n",
    "motif_length=10\n",
    "n_motives=2\n",
    "p=0.2\n",
    "\n",
    "motives, pos_seqs, binary_seq = make_artificial_dataset(alphabet='ACGT',\n",
    "                                                    sequence_length=sequence_length,\n",
    "                                                    n_sequences=n_sequences,\n",
    "                                                    motif_length=motif_length,\n",
    "                                                    n_motives=n_motives,\n",
    "                                                    p=p)"
   ]
  },
  {
   "cell_type": "code",
   "execution_count": 11,
   "metadata": {
    "collapsed": false
   },
   "outputs": [],
   "source": [
    "from eden.modifier.seq import seq_to_seq, shuffle_modifier\n",
    "neg_seqs = seq_to_seq(pos_seqs, modifier=shuffle_modifier, times=1, order=2)\n",
    "neg_seqs = list(neg_seqs)\n",
    "\n",
    "block_size=n_sequences/8\n",
    "\n",
    "pos_size = len(pos_seqs)\n",
    "train_pos_seqs = pos_seqs[:pos_size/2]\n",
    "test_pos_seqs = pos_seqs[pos_size/2:]\n",
    "\n",
    "neg_size = len(neg_seqs)\n",
    "train_neg_seqs = neg_seqs[:neg_size/2]\n",
    "test_neg_seqs = neg_seqs[neg_size/2:]\n",
    "\n",
    "true_score = [float(int(i)) for i in binary_seq]"
   ]
  },
  {
   "cell_type": "code",
   "execution_count": 43,
   "metadata": {
    "collapsed": false
   },
   "outputs": [],
   "source": [
    "values = [x/float(100) for x in range(1,100)]\n",
    "parameters = {\n",
    "    'p_value': values[:],\n",
    "    'similarity_th': values[:],\n",
    "    'min_score': values[:],\n",
    "    'min_freq': values[:],\n",
    "    'min_cluster_size': values[:],\n",
    "    'regex_th': values[:],\n",
    "    'freq_th': values[:],\n",
    "    'std_th': values[:]\n",
    "}"
   ]
  },
  {
   "cell_type": "code",
   "execution_count": null,
   "metadata": {
    "collapsed": true
   },
   "outputs": [],
   "source": [
    "#complexity=5\n",
    "#n_clusters=10\n",
    "#min_subarray_size=4\n",
    "#max_subarray_size=10\n",
    "#estimator=SGDClassifier(warm_start=True)\n",
    "#clusterer=MiniBatchKMeans()\n",
    "#pos_block_size=300\n",
    "#neg_block_size=300\n",
    "#n_jobs=-1\n",
    "p_value=0.05\n",
    "similarity_th=0.5\n",
    "min_score=4\n",
    "min_freq=0.5,\n",
    "min_cluster_size=10,\n",
    "regex_th=0.3,\n",
    "#sample_size=200,\n",
    "freq_th=None,\n",
    "std_th=None,"
   ]
  },
  {
   "cell_type": "code",
   "execution_count": 48,
   "metadata": {
    "collapsed": false
   },
   "outputs": [],
   "source": [
    "def param_config():\n",
    "    setting = {}\n",
    "    for i in parameters.keys():\n",
    "        x = random.choice(parameters[i])\n",
    "        setting[i] = x\n",
    "    return setting"
   ]
  },
  {
   "cell_type": "code",
   "execution_count": 50,
   "metadata": {
    "collapsed": false
   },
   "outputs": [
    {
     "data": {
      "text/plain": [
       "{'freq_th': 0.82,\n",
       " 'min_cluster_size': 0.71,\n",
       " 'min_freq': 0.74,\n",
       " 'min_score': 0.6,\n",
       " 'p_value': 0.6,\n",
       " 'regex_th': 0.13,\n",
       " 'similarity_th': 0.32,\n",
       " 'std_th': 0.99}"
      ]
     },
     "execution_count": 50,
     "metadata": {},
     "output_type": "execute_result"
    }
   ],
   "source": [
    "param_config()"
   ]
  },
  {
   "cell_type": "code",
   "execution_count": null,
   "metadata": {
    "collapsed": true
   },
   "outputs": [],
   "source": []
  }
 ],
 "metadata": {
  "kernelspec": {
   "display_name": "Python 2",
   "language": "python",
   "name": "python2"
  },
  "language_info": {
   "codemirror_mode": {
    "name": "ipython",
    "version": 2
   },
   "file_extension": ".py",
   "mimetype": "text/x-python",
   "name": "python",
   "nbconvert_exporter": "python",
   "pygments_lexer": "ipython2",
   "version": "2.7.12"
  }
 },
 "nbformat": 4,
 "nbformat_minor": 0
}
