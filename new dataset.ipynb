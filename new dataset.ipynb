{
 "cells": [
  {
   "cell_type": "code",
   "execution_count": 9,
   "metadata": {
    "collapsed": false
   },
   "outputs": [],
   "source": [
    "\"\"\"Dataset generation module.\"\"\"\n",
    "import random\n",
    "\n",
    "\n",
    "def random_string(length, alphabet_list):\n",
    "    \"\"\"Generate a random string.\"\"\"\n",
    "    rand_str = ''.join(random.choice(alphabet_list) for i in range(length))\n",
    "    return rand_str\n",
    "\n",
    "\n",
    "def perturb(seed, alphabet_list, p=0.5):\n",
    "    \"\"\"Randomize a string.\"\"\"\n",
    "    seq = ''\n",
    "    for c in seed:\n",
    "        if random.random() < p:\n",
    "            c = random.choice(alphabet_list)\n",
    "        seq += c\n",
    "    return seq\n",
    "\n",
    "import numpy as np\n",
    "\n",
    "def inflate_normalize(pwms = None, noise=0.2):\n",
    "    iters = int((noise * 4) + 1)    # lies in [1, 5]\n",
    "    print \"taking power to: \", iters\n",
    "    num = pwms.shape[0]\n",
    "    \n",
    "    for i in range(iters):\n",
    "        for j in range(num):    #inflate\n",
    "            pwms[j] = pwms[j] * pwms[j]\n",
    "            \n",
    "        for j in range(num):    # normalize\n",
    "            pwms[j] = pwms[j] / pwms[j].sum(axis=0)\n",
    "    return pwms\n",
    "\n",
    "def get_pwms(alphabet='ACGT', num=2, length=6, noise=0.2):\n",
    "    \n",
    "    letters = len(alphabet)\n",
    "    pwms = []\n",
    "    for i in range(num):\n",
    "        i_pwm = np.random.random_sample((letters, length))\n",
    "        print i, \"original random:\"\n",
    "        print i_pwm\n",
    "        i_pwm = i_pwm / i_pwm.sum(axis=0) # normalize\n",
    "        print \"\\n\", i, \"after 1st normalization:\"\n",
    "        print i_pwm\n",
    "        pwms.append(i_pwm)\n",
    "    pwms = np.array(pwms)\n",
    "    pwms = inflate_normalize(pwms = pwms, noise=noise)\n",
    "    \n",
    "    print \"\\nfinal pwms:\"\n",
    "    print pwms\n",
    "    return pwms\n",
    "\n",
    "def motif_from_pwm(alphabet_list, pwm):\n",
    "    seq = \"\"\n",
    "    length = pwm.shape[1]\n",
    "    \n",
    "    for i in range(length):\n",
    "        alphabet_dist = pwm[:, i]\n",
    "        c = np.random.choice(a=alphabet_list, p=alphabet_dist)\n",
    "        seq += c\n",
    "    return seq\n",
    "    \n",
    "\n",
    "def make_artificial_dataset(alphabet='ACGT', motives=None, motif_length=6,\n",
    "                            sequence_length=100, n_sequences=1000, n_motives=2, p=0.2,\n",
    "                            random_state=1):\n",
    "    \"\"\"Generate artificial dataset.\n",
    "\n",
    "    Returns: motives - list of motives used in sequence generation\n",
    "             seq - dataset as list of sequences\n",
    "             binary_seq - a sequence of 0's & 1's which can be used for computing ROC score.\n",
    "    \"\"\"\n",
    "    random.seed(random_state)\n",
    "    alphabet_list = [c for c in alphabet]\n",
    "\n",
    "    \"\"\"\n",
    "    if motives is None:\n",
    "        motives = []\n",
    "        for i in range(n_motives):\n",
    "            motives.append(random_string(motif_length, alphabet_list))\n",
    "    else:\n",
    "        motif_length = len(motives[0])\n",
    "        n_motives = len(motives)\n",
    "    \"\"\"\n",
    "    pwms = get_pwms(alphabet=alphabet, num=n_motives, length=motif_length, noise=p)\n",
    "\n",
    "    sequence_length = sequence_length / n_motives\n",
    "    flanking_length = (sequence_length - motif_length) / 2\n",
    "    n_seq_per_motif = n_sequences\n",
    "\n",
    "    counter = 0\n",
    "    seqs = []\n",
    "    for i in range(n_seq_per_motif):\n",
    "        total_seq = ''\n",
    "        for j in range(n_motives):\n",
    "            left_flanking = random_string(flanking_length, alphabet_list)\n",
    "            right_flanking = random_string(flanking_length, alphabet_list)\n",
    "            noisy_motif = motif_from_pwm(alphabet_list, pwms[j])\n",
    "            seq = left_flanking + noisy_motif + right_flanking\n",
    "            total_seq += seq\n",
    "        seqs.append(('ID%d' % counter, total_seq))\n",
    "        counter += 1\n",
    "    binary_skeleton = '0' * flanking_length + \\\n",
    "        '1' * motif_length + '0' * flanking_length\n",
    "    binary_seq = binary_skeleton * n_motives\n",
    "    return motives, seqs, binary_seq\n"
   ]
  },
  {
   "cell_type": "code",
   "execution_count": 11,
   "metadata": {
    "collapsed": false
   },
   "outputs": [
    {
     "name": "stdout",
     "output_type": "stream",
     "text": [
      "0 original random:\n",
      "[[ 0.9071515   0.75593842  0.41953667]\n",
      " [ 0.11727092  0.42874449  0.70510321]\n",
      " [ 0.73177672  0.07082941  0.19653261]\n",
      " [ 0.49664665  0.38965011  0.55462832]]\n",
      "\n",
      "0 after 1st normalization:\n",
      "[[ 0.40266915  0.45949166  0.22365737]\n",
      " [ 0.05205457  0.26060922  0.3758945 ]\n",
      " [ 0.32482326  0.04305314  0.10477264]\n",
      " [ 0.22045302  0.23684598  0.29567549]]\n",
      "taking power to:  2\n",
      "\n",
      "final pwms:\n",
      "[[[  6.60692866e-01   8.51682203e-01   8.27728582e-02]\n",
      "  [  1.84519219e-04   8.81304749e-02   6.60418164e-01]\n",
      "  [  2.79765830e-01   6.56427023e-05   3.98608630e-03]\n",
      "  [  5.93567853e-02   6.01216790e-02   2.52822891e-01]]]\n"
     ]
    }
   ],
   "source": [
    "pwms = get_pwms(num=1, length=3, noise=0.3)"
   ]
  },
  {
   "cell_type": "code",
   "execution_count": 10,
   "metadata": {
    "collapsed": false
   },
   "outputs": [
    {
     "name": "stdout",
     "output_type": "stream",
     "text": [
      "0 original random:\n",
      "[[ 0.29181386  0.48441822  0.6909489   0.81258829  0.52505557  0.51672961]\n",
      " [ 0.48755623  0.8636452   0.9351612   0.78200748  0.53117174  0.07857608]\n",
      " [ 0.66030207  0.51307143  0.37174135  0.71211814  0.15390129  0.57209111]\n",
      " [ 0.43745153  0.32168884  0.32558801  0.06116526  0.71043728  0.03519718]]\n",
      "\n",
      "0 after 1st normalization:\n",
      "[[ 0.15545798  0.22192274  0.29738193  0.34317135  0.27338587  0.42967919]\n",
      " [ 0.25973581  0.39565504  0.40249002  0.3302565   0.27657043  0.06533883]\n",
      " [ 0.35176268  0.23504942  0.15999614  0.30074091  0.0801333   0.47571426]\n",
      " [ 0.23304353  0.1473728   0.14013191  0.02583124  0.3699104   0.02926772]]\n",
      "taking power to:  2\n",
      "\n",
      "final pwms:\n",
      "[[[  2.49642052e-02   7.96424398e-02   2.22785088e-01   4.08561453e-01\n",
      "     1.84958238e-01   3.99515519e-01]\n",
      "  [  1.94532857e-01   8.04644633e-01   7.47563892e-01   3.50444130e-01\n",
      "     1.93728024e-01   2.13619893e-04]\n",
      "  [  6.54432323e-01   1.00224524e-01   1.86666283e-02   2.40981302e-01\n",
      "     1.36527962e-03   6.00262261e-01]\n",
      "  [  1.26070615e-01   1.54884030e-02   1.09843911e-02   1.31157879e-05\n",
      "     6.19948458e-01   8.60026530e-06]]]\n",
      "\n",
      "ATTGCCCTGCCC\n",
      "GTAGCCGTGATC\n",
      "TACGGCGAGGAT\n",
      "TAAGCCATGGTC\n",
      "ACAGCCGTAACC\n",
      "AAACCCATACCA\n",
      "TGGGACGCGATT\n",
      "ACGGCCCCGGTC\n",
      "TGCCCCCTGGTT\n",
      "GGAGCCATAATC\n",
      "\n",
      "000111111000\n"
     ]
    }
   ],
   "source": [
    "m, s, b = make_artificial_dataset(motif_length=6, n_motives=1, n_sequences=10, p=0.3, sequence_length=12)\n",
    "print \n",
    "for i in s:\n",
    "    print i[1]\n",
    "print \n",
    "print b"
   ]
  },
  {
   "cell_type": "code",
   "execution_count": null,
   "metadata": {
    "collapsed": false
   },
   "outputs": [],
   "source": []
  },
  {
   "cell_type": "code",
   "execution_count": null,
   "metadata": {
    "collapsed": true
   },
   "outputs": [],
   "source": []
  }
 ],
 "metadata": {
  "kernelspec": {
   "display_name": "Python 2",
   "language": "python",
   "name": "python2"
  },
  "language_info": {
   "codemirror_mode": {
    "name": "ipython",
    "version": 2
   },
   "file_extension": ".py",
   "mimetype": "text/x-python",
   "name": "python",
   "nbconvert_exporter": "python",
   "pygments_lexer": "ipython2",
   "version": "2.7.12"
  }
 },
 "nbformat": 4,
 "nbformat_minor": 0
}
