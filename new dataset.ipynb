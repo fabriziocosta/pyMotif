{
 "cells": [
  {
   "cell_type": "code",
   "execution_count": 59,
   "metadata": {
    "collapsed": false
   },
   "outputs": [],
   "source": [
    "-"
   ]
  },
  {
   "cell_type": "code",
   "execution_count": 60,
   "metadata": {
    "collapsed": false
   },
   "outputs": [
    {
     "name": "stdout",
     "output_type": "stream",
     "text": [
      "\n",
      "ATTTCTCGCCCC\n",
      "GTAAGTTACATC\n",
      "TACGGCGGAGAT\n",
      "TAAGCCTATGTC\n",
      "ACACCTGGCACC\n",
      "AAAGTCTACCCA\n",
      "TGGAATCACATT\n",
      "ACGGAAGCAGTC\n",
      "TGCCTTCATGTT\n",
      "GGACACGAAATC\n",
      "\n",
      "000111111000\n"
     ]
    }
   ],
   "source": [
    "m, s, b = make_artificial_dataset(motif_length=6, n_motives=1, n_sequences=10, p=1, sequence_length=12)\n",
    "print \n",
    "for i in s:\n",
    "    print i[1]\n",
    "print \n",
    "print b"
   ]
  },
  {
   "cell_type": "code",
   "execution_count": 50,
   "metadata": {
    "collapsed": false
   },
   "outputs": [
    {
     "name": "stdout",
     "output_type": "stream",
     "text": [
      "0 original random:\n",
      "[[ 0.77810038  0.35525653  0.93556243]\n",
      " [ 0.48273482  0.14647413  0.38810055]\n",
      " [ 0.42038125  0.42296065  0.4781181 ]\n",
      " [ 0.2916239   0.11239531  0.23220642]]\n",
      "\n",
      "0 after 1st normalization:\n",
      "[[ 0.39440616  0.34255242  0.45996469]\n",
      " [ 0.24469026  0.14123616  0.19080774]\n",
      " [ 0.21308427  0.40783541  0.23506442]\n",
      " [ 0.14781931  0.10837601  0.11416315]]\n",
      "\n",
      "final pwms:\n",
      "[[[ 0.40996356  0.34832756  0.48223591]\n",
      "  [ 0.24248538  0.13144032  0.18319693]\n",
      "  [ 0.20826378  0.42200881  0.23044548]\n",
      "  [ 0.13928729  0.09822331  0.10412167]]]\n"
     ]
    }
   ],
   "source": [
    "pwms = get_pwms(num=1, length=3, exp=1.1)"
   ]
  },
  {
   "cell_type": "code",
   "execution_count": 47,
   "metadata": {
    "collapsed": false
   },
   "outputs": [
    {
     "name": "stdout",
     "output_type": "stream",
     "text": [
      "[ 1.  1.  1.]\n"
     ]
    }
   ],
   "source": [
    "print pwms[0].sum(axis=0)"
   ]
  },
  {
   "cell_type": "code",
   "execution_count": 41,
   "metadata": {
    "collapsed": false
   },
   "outputs": [
    {
     "name": "stdout",
     "output_type": "stream",
     "text": [
      "[[ 0.38047791  0.35362137  0.718556  ]\n",
      " [ 0.96832642  0.96721669  0.09613211]]\n"
     ]
    }
   ],
   "source": [
    "x = np.random.random_sample((2, 3))\n",
    "print x"
   ]
  },
  {
   "cell_type": "code",
   "execution_count": null,
   "metadata": {
    "collapsed": true
   },
   "outputs": [],
   "source": []
  }
 ],
 "metadata": {
  "kernelspec": {
   "display_name": "Python 2",
   "language": "python",
   "name": "python2"
  },
  "language_info": {
   "codemirror_mode": {
    "name": "ipython",
    "version": 2
   },
   "file_extension": ".py",
   "mimetype": "text/x-python",
   "name": "python",
   "nbconvert_exporter": "python",
   "pygments_lexer": "ipython2",
   "version": "2.7.12"
  }
 },
 "nbformat": 4,
 "nbformat_minor": 0
}
