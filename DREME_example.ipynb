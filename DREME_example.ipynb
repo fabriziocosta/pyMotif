{
 "cells": [
  {
   "cell_type": "code",
   "execution_count": 51,
   "metadata": {
    "collapsed": false
   },
   "outputs": [
    {
     "name": "stdout",
     "output_type": "stream",
     "text": [
      "The autoreload extension is already loaded. To reload it, use:\n",
      "  %reload_ext autoreload\n"
     ]
    }
   ],
   "source": [
    "%load_ext autoreload\n",
    "%autoreload 2"
   ]
  },
  {
   "cell_type": "code",
   "execution_count": 84,
   "metadata": {
    "collapsed": false
   },
   "outputs": [],
   "source": [
    "from dreme_wrapper import Dreme"
   ]
  },
  {
   "cell_type": "code",
   "execution_count": 90,
   "metadata": {
    "collapsed": true
   },
   "outputs": [],
   "source": [
    "dreme = Dreme(alphabet='dna',\n",
    "              scoring_criteria='pwm',\n",
    "              mink=4,\n",
    "              maxk=8,\n",
    "              output_dir='dreme_output',\n",
    "              #t_seconds=15\n",
    "             )"
   ]
  },
  {
   "cell_type": "code",
   "execution_count": 92,
   "metadata": {
    "collapsed": false
   },
   "outputs": [
    {
     "name": "stdout",
     "output_type": "stream",
     "text": [
      "\n"
     ]
    }
   ],
   "source": [
    "dreme = dreme.fit(fasta_file='dreme-sample.fa')"
   ]
  },
  {
   "cell_type": "code",
   "execution_count": 93,
   "metadata": {
    "collapsed": false
   },
   "outputs": [
    {
     "name": "stdout",
     "output_type": "stream",
     "text": [
      "Version: 4.11.0\n"
     ]
    }
   ],
   "source": [
    "print \"Version:\", dreme.version"
   ]
  },
  {
   "cell_type": "code",
   "execution_count": 94,
   "metadata": {
    "collapsed": false
   },
   "outputs": [
    {
     "name": "stdout",
     "output_type": "stream",
     "text": [
      "sequence alphabet:  IUPACUnambiguousDNA()\n"
     ]
    }
   ],
   "source": [
    "print \"sequence alphabet: \", dreme.alphabet"
   ]
  },
  {
   "cell_type": "code",
   "execution_count": 99,
   "metadata": {
    "collapsed": false
   },
   "outputs": [
    {
     "name": "stdout",
     "output_type": "stream",
     "text": [
      "Consensus Sequences\n",
      "Motif 1:  GGGYGKGG\n",
      "Width: 8 Nsites:  230 E-Value:  1e-35\n",
      "Motif 2:  MCRCCCW\n",
      "Width: 7 Nsites:  511 E-Value:  1.2e-40\n",
      "Motif 3:  HGATAA\n",
      "Width: 6 Nsites:  378 E-Value:  1.9e-21\n",
      "Motif 4:  BTTATC\n",
      "Width: 6 Nsites:  377 E-Value:  3.5e-13\n",
      "Motif 5:  KTTTMT\n",
      "Width: 6 Nsites:  596 E-Value:  5.5e-08\n",
      "Motif 6:  AAWTAWA\n",
      "Width: 7 Nsites:  164 E-Value:  1.3e-06\n",
      "Motif 7:  GGGYGK\n",
      "Width: 6 Nsites:  449 E-Value:  1.9e-06\n",
      "Motif 8:  AGAAAM\n",
      "Width: 6 Nsites:  384 E-Value:  3.9e-05\n",
      "Motif 9:  YTTCCT\n",
      "Width: 6 Nsites:  464 E-Value:  0.00028\n",
      "Motif 10:  KCTCTG\n",
      "Width: 6 Nsites:  469 E-Value:  0.0004\n",
      "Motif 11:  TTAAWA\n",
      "Width: 6 Nsites:  234 E-Value:  0.0011\n",
      "Motif 12:  CCAGSCAC\n",
      "Width: 8 Nsites:  47 E-Value:  0.0035\n",
      "Motif 13:  TATTTVT\n",
      "Width: 7 Nsites:  99 E-Value:  0.0063\n",
      "Motif 14:  CACAGM\n",
      "Width: 6 Nsites:  396 E-Value:  0.0075\n",
      "Motif 15:  GBAGACAG\n",
      "Width: 8 Nsites:  58 E-Value:  0.006\n",
      "Motif 16:  CTGKGTG\n",
      "Width: 7 Nsites:  109 E-Value:  0.0078\n",
      "Motif 17:  GAAAGRA\n",
      "Width: 7 Nsites:  118 E-Value:  0.026\n",
      "Motif 18:  CTCCTYCC\n",
      "Width: 8 Nsites:  55 E-Value:  0.029\n"
     ]
    }
   ],
   "source": [
    "print \"Consensus Sequences\"\n",
    "for i, c in enumerate(dreme.consensus_seqs):\n",
    "    print \"Motif %d: \"%(i+1), c\n",
    "    print \"Width:\", dreme.widths[i],\n",
    "    print \"Nsites: \", dreme.nsites[i],\n",
    "    print \"E-Value: \", dreme.e_values[i],\n",
    "    print "
   ]
  },
  {
   "cell_type": "code",
   "execution_count": 101,
   "metadata": {
    "collapsed": false,
    "scrolled": false
   },
   "outputs": [
    {
     "name": "stdout",
     "output_type": "stream",
     "text": [
      "[0.0, 0.0, 1.0, 0.0]\n",
      "[0.0, 0.0, 1.0, 0.0]\n",
      "[0.0, 0.0, 1.0, 0.0]\n",
      "[0.0, 0.308696, 0.0, 0.691304]\n",
      "[0.0, 0.0, 1.0, 0.0]\n",
      "[0.0, 0.0, 0.473913, 0.526087]\n",
      "[0.0, 0.0, 1.0, 0.0]\n",
      "[0.0, 0.0, 1.0, 0.0]\n",
      "\n",
      "[0.553816, 0.446184, 0.0, 0.0]\n",
      "[0.0, 1.0, 0.0, 0.0]\n",
      "[0.720157, 0.0, 0.279843, 0.0]\n",
      "[0.0, 1.0, 0.0, 0.0]\n",
      "[0.0, 1.0, 0.0, 0.0]\n",
      "[0.0, 1.0, 0.0, 0.0]\n",
      "[0.524462, 0.0, 0.0, 0.475538]\n",
      "\n",
      "[0.55291, 0.055556, 0.0, 0.391534]\n",
      "[0.0, 0.0, 1.0, 0.0]\n",
      "[1.0, 0.0, 0.0, 0.0]\n",
      "[0.0, 0.0, 0.0, 1.0]\n",
      "[1.0, 0.0, 0.0, 0.0]\n",
      "[1.0, 0.0, 0.0, 0.0]\n",
      "\n",
      "[0.0, 0.474801, 0.212202, 0.312997]\n",
      "[0.0, 0.0, 0.0, 1.0]\n",
      "[0.0, 0.0, 0.0, 1.0]\n",
      "[1.0, 0.0, 0.0, 0.0]\n",
      "[0.0, 0.0, 0.0, 1.0]\n",
      "[0.0, 1.0, 0.0, 0.0]\n",
      "\n",
      "[0.0, 0.0, 0.38255, 0.61745]\n",
      "[0.0, 0.0, 0.0, 1.0]\n",
      "[0.0, 0.0, 0.0, 1.0]\n",
      "[0.0, 0.0, 0.0, 1.0]\n",
      "[0.310403, 0.689597, 0.0, 0.0]\n",
      "[0.0, 0.0, 0.0, 1.0]\n",
      "\n",
      "[1.0, 0.0, 0.0, 0.0]\n",
      "[1.0, 0.0, 0.0, 0.0]\n",
      "[0.628049, 0.0, 0.0, 0.371951]\n",
      "[0.0, 0.0, 0.0, 1.0]\n",
      "[1.0, 0.0, 0.0, 0.0]\n",
      "[0.652439, 0.0, 0.0, 0.347561]\n",
      "[1.0, 0.0, 0.0, 0.0]\n",
      "\n",
      "[0.0, 0.0, 1.0, 0.0]\n",
      "[0.0, 0.0, 1.0, 0.0]\n",
      "[0.0, 0.0, 1.0, 0.0]\n",
      "[0.0, 0.320713, 0.0, 0.679287]\n",
      "[0.0, 0.0, 1.0, 0.0]\n",
      "[0.0, 0.0, 0.594655, 0.405345]\n",
      "\n",
      "[1.0, 0.0, 0.0, 0.0]\n",
      "[0.0, 0.0, 1.0, 0.0]\n",
      "[1.0, 0.0, 0.0, 0.0]\n",
      "[1.0, 0.0, 0.0, 0.0]\n",
      "[1.0, 0.0, 0.0, 0.0]\n",
      "[0.619792, 0.380208, 0.0, 0.0]\n",
      "\n",
      "[0.0, 0.519397, 0.0, 0.480603]\n",
      "[0.0, 0.0, 0.0, 1.0]\n",
      "[0.0, 0.0, 0.0, 1.0]\n",
      "[0.0, 1.0, 0.0, 0.0]\n",
      "[0.0, 1.0, 0.0, 0.0]\n",
      "[0.0, 0.0, 0.0, 1.0]\n",
      "\n",
      "[0.0, 0.0, 0.471215, 0.528785]\n",
      "[0.0, 1.0, 0.0, 0.0]\n",
      "[0.0, 0.0, 0.0, 1.0]\n",
      "[0.0, 1.0, 0.0, 0.0]\n",
      "[0.0, 0.0, 0.0, 1.0]\n",
      "[0.0, 0.0, 1.0, 0.0]\n",
      "\n",
      "[0.0, 0.0, 0.0, 1.0]\n",
      "[0.0, 0.0, 0.0, 1.0]\n",
      "[1.0, 0.0, 0.0, 0.0]\n",
      "[1.0, 0.0, 0.0, 0.0]\n",
      "[0.675214, 0.0, 0.0, 0.324786]\n",
      "[1.0, 0.0, 0.0, 0.0]\n",
      "\n",
      "[0.0, 1.0, 0.0, 0.0]\n",
      "[0.0, 1.0, 0.0, 0.0]\n",
      "[1.0, 0.0, 0.0, 0.0]\n",
      "[0.0, 0.0, 1.0, 0.0]\n",
      "[0.0, 0.574468, 0.425532, 0.0]\n",
      "[0.0, 1.0, 0.0, 0.0]\n",
      "[1.0, 0.0, 0.0, 0.0]\n",
      "[0.0, 1.0, 0.0, 0.0]\n",
      "\n",
      "[0.0, 0.0, 0.0, 1.0]\n",
      "[1.0, 0.0, 0.0, 0.0]\n",
      "[0.0, 0.0, 0.0, 1.0]\n",
      "[0.0, 0.0, 0.0, 1.0]\n",
      "[0.0, 0.0, 0.0, 1.0]\n",
      "[0.222222, 0.414141, 0.363636, 0.0]\n",
      "[0.0, 0.0, 0.0, 1.0]\n",
      "\n",
      "[0.0, 1.0, 0.0, 0.0]\n",
      "[1.0, 0.0, 0.0, 0.0]\n",
      "[0.0, 1.0, 0.0, 0.0]\n",
      "[1.0, 0.0, 0.0, 0.0]\n",
      "[0.0, 0.0, 1.0, 0.0]\n",
      "[0.492424, 0.507576, 0.0, 0.0]\n",
      "\n",
      "[0.0, 0.0, 1.0, 0.0]\n",
      "[0.0, 0.362069, 0.448276, 0.189655]\n",
      "[1.0, 0.0, 0.0, 0.0]\n",
      "[0.0, 0.0, 1.0, 0.0]\n",
      "[1.0, 0.0, 0.0, 0.0]\n",
      "[0.0, 1.0, 0.0, 0.0]\n",
      "[1.0, 0.0, 0.0, 0.0]\n",
      "[0.0, 0.0, 1.0, 0.0]\n",
      "\n",
      "[0.0, 1.0, 0.0, 0.0]\n",
      "[0.0, 0.0, 0.0, 1.0]\n",
      "[0.0, 0.0, 1.0, 0.0]\n",
      "[0.0, 0.0, 0.266055, 0.733945]\n",
      "[0.0, 0.0, 1.0, 0.0]\n",
      "[0.0, 0.0, 0.0, 1.0]\n",
      "[0.0, 0.0, 1.0, 0.0]\n",
      "\n",
      "[0.0, 0.0, 1.0, 0.0]\n",
      "[1.0, 0.0, 0.0, 0.0]\n",
      "[1.0, 0.0, 0.0, 0.0]\n",
      "[1.0, 0.0, 0.0, 0.0]\n",
      "[0.0, 0.0, 1.0, 0.0]\n",
      "[0.415254, 0.0, 0.584746, 0.0]\n",
      "[1.0, 0.0, 0.0, 0.0]\n",
      "\n",
      "[0.0, 1.0, 0.0, 0.0]\n",
      "[0.0, 0.0, 0.0, 1.0]\n",
      "[0.0, 1.0, 0.0, 0.0]\n",
      "[0.0, 1.0, 0.0, 0.0]\n",
      "[0.0, 0.0, 0.0, 1.0]\n",
      "[0.0, 0.690909, 0.0, 0.309091]\n",
      "[0.0, 1.0, 0.0, 0.0]\n",
      "[0.0, 1.0, 0.0, 0.0]\n",
      "\n"
     ]
    }
   ],
   "source": [
    "\n",
    "for i, mat in enumerate(dreme.prob_matrices):\n",
    "    for m in mat:\n",
    "        print m\n",
    "    print"
   ]
  },
  {
   "cell_type": "code",
   "execution_count": null,
   "metadata": {
    "collapsed": true
   },
   "outputs": [],
   "source": []
  },
  {
   "cell_type": "code",
   "execution_count": null,
   "metadata": {
    "collapsed": true
   },
   "outputs": [],
   "source": []
  }
 ],
 "metadata": {
  "kernelspec": {
   "display_name": "Python 2",
   "language": "python",
   "name": "python2"
  },
  "language_info": {
   "codemirror_mode": {
    "name": "ipython",
    "version": 2
   },
   "file_extension": ".py",
   "mimetype": "text/x-python",
   "name": "python",
   "nbconvert_exporter": "python",
   "pygments_lexer": "ipython2",
   "version": "2.7.12"
  }
 },
 "nbformat": 4,
 "nbformat_minor": 0
}
